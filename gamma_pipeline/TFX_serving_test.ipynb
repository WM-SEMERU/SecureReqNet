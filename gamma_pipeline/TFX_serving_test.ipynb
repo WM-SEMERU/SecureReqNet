{
 "cells": [
  {
   "cell_type": "code",
   "execution_count": 1,
   "metadata": {},
   "outputs": [],
   "source": [
    "import requests\n",
    "import tensorflow as tf\n",
    "import base64"
   ]
  },
  {
   "cell_type": "code",
   "execution_count": 2,
   "metadata": {},
   "outputs": [],
   "source": [
    "def _bytes_feature(value):\n",
    "    return tf.train.Feature(bytes_list=tf.train.BytesList(value=[value]))\n",
    "\n",
    "def serialize_text(text):\n",
    "    example = tf.train.Example(features=tf.train.Features(feature={\n",
    "        'text': _bytes_feature(text)\n",
    "        }))\n",
    "    serialized_example = example.SerializeToString()\n",
    "    return serialized_example"
   ]
  },
  {
   "cell_type": "code",
   "execution_count": 3,
   "metadata": {},
   "outputs": [],
   "source": [
    "model_server_url = 'http://localhost:8501/v1/models/gamma:predict'\n",
    "\n",
    "def predict(text):\n",
    "    example = serialize_text(text)\n",
    "    json_data = {\n",
    "      \"signature_name\":\"serving_default\",\n",
    "      \"instances\":[\n",
    "        {\n",
    "          \"examples\":{\"b64\": base64.b64encode(example).decode('utf-8')}\n",
    "        }\n",
    "      ]\n",
    "    }\n",
    "    resp = requests.post(model_server_url, json=json_data)\n",
    "    return resp.json()"
   ]
  },
  {
   "cell_type": "code",
   "execution_count": 4,
   "metadata": {},
   "outputs": [
    {
     "data": {
      "text/plain": [
       "{'predictions': [{'predictions': [1.0], 'probabilities': [0.598722696]}]}"
      ]
     },
     "execution_count": 4,
     "metadata": {},
     "output_type": "execute_result"
    }
   ],
   "source": [
    "predict(b\"ATTACK VULNERABLE SECURITY MALWARE\")"
   ]
  }
 ],
 "metadata": {
  "kernelspec": {
   "display_name": "Python 3",
   "language": "python",
   "name": "python3"
  },
  "language_info": {
   "codemirror_mode": {
    "name": "ipython",
    "version": 3
   },
   "file_extension": ".py",
   "mimetype": "text/x-python",
   "name": "python",
   "nbconvert_exporter": "python",
   "pygments_lexer": "ipython3",
   "version": "3.8.5"
  }
 },
 "nbformat": 4,
 "nbformat_minor": 4
}
