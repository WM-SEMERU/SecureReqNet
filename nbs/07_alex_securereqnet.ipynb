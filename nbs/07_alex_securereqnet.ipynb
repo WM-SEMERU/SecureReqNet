{
  "nbformat": 4,
  "nbformat_minor": 0,
  "metadata": {
    "kernelspec": {
      "display_name": "Python 3",
      "language": "python",
      "name": "python3"
    },
    "language_info": {
      "codemirror_mode": {
        "name": "ipython",
        "version": 3
      },
      "file_extension": ".py",
      "mimetype": "text/x-python",
      "name": "python",
      "nbconvert_exporter": "python",
      "pygments_lexer": "ipython3",
      "version": "3.6.2"
    },
    "colab": {
      "name": "req-predict-[100embeds]-deep-alex.ipynb",
      "provenance": []
    }
  },
  "cells": [
    {
      "cell_type": "code",
      "metadata": {
        "id": "_OzLIGYKOpvA",
        "colab_type": "code",
        "colab": {}
      },
      "source": [
        "#danaderp May6'19\n",
        "#Prediction For Main Issues Data Set"
      ],
      "execution_count": 0,
      "outputs": []
    },
    {
      "cell_type": "code",
      "metadata": {
        "id": "I4ezDUwOOpvI",
        "colab_type": "code",
        "colab": {},
        "outputId": "883f395f-97af-4580-d6d8-5e3502e3d8c8"
      },
      "source": [
        "import csv\n",
        "from tensorflow.keras.preprocessing import text\n",
        "from nltk.corpus import gutenberg\n",
        "from string import punctuation\n",
        "from tensorflow.keras.preprocessing.sequence import skipgrams"
      ],
      "execution_count": 0,
      "outputs": [
        {
          "output_type": "stream",
          "text": [
            "/scratch/danaderp/.conda/envs/drmccr_conda/lib/python3.6/site-packages/h5py/__init__.py:34: FutureWarning: Conversion of the second argument of issubdtype from `float` to `np.floating` is deprecated. In future, it will be treated as `np.float64 == np.dtype(float).type`.\n",
            "  from ._conv import register_converters as _register_converters\n"
          ],
          "name": "stderr"
        },
        {
          "output_type": "stream",
          "text": [
            "Limited tf.compat.v2.summary API due to missing TensorBoard installation\n",
            "Limited tf.summary API due to missing TensorBoard installation\n"
          ],
          "name": "stdout"
        }
      ]
    },
    {
      "cell_type": "code",
      "metadata": {
        "id": "G9WpYaaqOpvO",
        "colab_type": "code",
        "colab": {}
      },
      "source": [
        "import pandas as pd\n",
        "import numpy as np\n",
        "import re\n",
        "import nltk\n",
        "import matplotlib.pyplot as plt\n",
        "pd.options.display.max_colwidth = 200\n",
        "%matplotlib inline"
      ],
      "execution_count": 0,
      "outputs": []
    },
    {
      "cell_type": "code",
      "metadata": {
        "id": "L9pSiQPQOpvS",
        "colab_type": "code",
        "colab": {}
      },
      "source": [
        "from nltk.stem.snowball import SnowballStemmer\n",
        "englishStemmer=SnowballStemmer(\"english\")"
      ],
      "execution_count": 0,
      "outputs": []
    },
    {
      "cell_type": "code",
      "metadata": {
        "id": "1KSYPs1dOpvX",
        "colab_type": "code",
        "colab": {}
      },
      "source": [
        "import tensorflow as tf\n",
        "from tensorflow.keras import layers\n",
        "from tensorflow.keras.layers import Dot, Input, Dense, Reshape, LSTM, Conv2D, Flatten, MaxPooling1D, Dropout, MaxPooling2D\n",
        "from tensorflow.keras.layers import Embedding, Multiply, Subtract\n",
        "from tensorflow.keras.models import Sequential, Model\n",
        "from tensorflow.python.keras.layers import Lambda\n",
        "from tensorflow.keras.callbacks import CSVLogger, ModelCheckpoint"
      ],
      "execution_count": 0,
      "outputs": []
    },
    {
      "cell_type": "code",
      "metadata": {
        "id": "po40pv8gOpvd",
        "colab_type": "code",
        "colab": {}
      },
      "source": [
        "# visualize model structure\n",
        "#from IPython.display import SVG\n",
        "#from keras.utils.vis_utils import model_to_dot\n",
        "from sklearn.metrics.pairwise import euclidean_distances\n",
        "from sklearn.manifold import TSNE"
      ],
      "execution_count": 0,
      "outputs": []
    },
    {
      "cell_type": "code",
      "metadata": {
        "id": "WdeDFpqhOpvi",
        "colab_type": "code",
        "colab": {}
      },
      "source": [
        "from datasets.read_data import Dynamic_Dataset,Processing_Dataset\n",
        "from vectorize_sentence import Embeddings"
      ],
      "execution_count": 0,
      "outputs": []
    },
    {
      "cell_type": "code",
      "metadata": {
        "id": "PqVHs1-jOpvo",
        "colab_type": "code",
        "colab": {}
      },
      "source": [
        "path = \"datasets/combined_dataset/\"\n",
        "process_unit = Processing_Dataset(path)\n",
        "ground_truth = process_unit.get_ground_truth()"
      ],
      "execution_count": 0,
      "outputs": []
    },
    {
      "cell_type": "code",
      "metadata": {
        "id": "S4Aqf96zOpvs",
        "colab_type": "code",
        "colab": {}
      },
      "source": [
        "dataset = Dynamic_Dataset(ground_truth, path)"
      ],
      "execution_count": 0,
      "outputs": []
    },
    {
      "cell_type": "code",
      "metadata": {
        "id": "RjbYATfKOpvx",
        "colab_type": "code",
        "colab": {}
      },
      "source": [
        "test, train = process_unit.get_test_and_training(ground_truth)"
      ],
      "execution_count": 0,
      "outputs": []
    },
    {
      "cell_type": "code",
      "metadata": {
        "id": "xzyFgTHYOpv1",
        "colab_type": "code",
        "colab": {},
        "outputId": "26a9886f-3351-4f6c-d4be-d79fa6069bc3"
      },
      "source": [
        "print(len(test))\n",
        "print(len(train))\n",
        "print(test[0])\n",
        "print(train[0])"
      ],
      "execution_count": 0,
      "outputs": [
        {
          "output_type": "stream",
          "text": [
            "1030\n",
            "9308\n",
            "('(1,0)', \"[Security] Deprecated not being logged out after user change\\n\\n\\n\\n\\n\\nQ\\nA\\n\\n\\n\\n\\nBranch?\\n3.4\\n\\n\\nBug fix?\\nyes\\n\\n\\nNew feature?\\nno\\n\\n\\nBC breaks?\\nno\\n\\n\\nDeprecations?\\nyes\\n\\n\\nTests pass?\\nyes\\n\\n\\nFixed tickets\\n#17023\\n\\n\\nLicense\\nMIT\\n\\n\\nDoc PR\\n~\\n\\n\\n\\nThis PR is an alternative approach to #19033. Due to a behavioral change that could break a lot of applications and websites, I've decided to trigger a deprecation instead of actually changing the behavior as that can be done for 4.0.\\nWhenever a user object is considered changed (AbstractToken::hasUserChanged) when setting a new user object after refreshing, it will now throw a deprecation, paving the way for a behavioral change in 4.0. The idea is that in 4.0 Symfony will simply trigger a logout when this case is encountered.\")\n",
            "('(1,0)', 'The currently used Rails version, in the stable branch, is insecure\\n\\nYou should update the Gemfile.lock to hotfix this.\\n\\nhttp://weblog.rubyonrails.org/2014/2/18/Rails_3_2_17_4_0_3_and_4_1_0_beta2_have_been_released/')\n"
          ],
          "name": "stdout"
        }
      ]
    },
    {
      "cell_type": "code",
      "metadata": {
        "id": "s3ZCZsnGOpv_",
        "colab_type": "code",
        "colab": {}
      },
      "source": [
        "#Train/Test split verification\n",
        "#for elem in test:\n",
        "#    print(elem[0])"
      ],
      "execution_count": 0,
      "outputs": []
    },
    {
      "cell_type": "code",
      "metadata": {
        "id": "ZC7d7LG_OpwF",
        "colab_type": "code",
        "colab": {}
      },
      "source": [
        "#Preprocesing Corpora\n",
        "embeddings = Embeddings()\n",
        "max_words = 5000 #<------- [Parameter]\n",
        "pre_corpora_train = [doc for doc in train if len(doc[1])< max_words]\n",
        "pre_corpora_test = [doc for doc in test if len(doc[1])< max_words]"
      ],
      "execution_count": 0,
      "outputs": []
    },
    {
      "cell_type": "code",
      "metadata": {
        "id": "ZiXdBykxOpwJ",
        "colab_type": "code",
        "colab": {},
        "outputId": "70ff9039-883c-40aa-9294-b99bfc8b2ddb"
      },
      "source": [
        "print(len(pre_corpora_train))\n",
        "print(len(pre_corpora_test))"
      ],
      "execution_count": 0,
      "outputs": [
        {
          "output_type": "stream",
          "text": [
            "9052\n",
            "994\n"
          ],
          "name": "stdout"
        }
      ]
    },
    {
      "cell_type": "code",
      "metadata": {
        "id": "a26V3CzWOpwN",
        "colab_type": "code",
        "colab": {}
      },
      "source": [
        "embed_path = 'datasets/word_embeddings-embed_size_100-epochs_100.csv'\n",
        "embeddings_dict = embeddings.get_embeddings_dict(embed_path)"
      ],
      "execution_count": 0,
      "outputs": []
    },
    {
      "cell_type": "code",
      "metadata": {
        "id": "35QHoPFwOpwR",
        "colab_type": "code",
        "colab": {}
      },
      "source": [
        "corpora_train = [embeddings.vectorize(doc[1], embeddings_dict) for doc in pre_corpora_train]#vectorization Inputs\n",
        "corpora_test = [embeddings.vectorize(doc[1], embeddings_dict) for doc in pre_corpora_test]#vectorization"
      ],
      "execution_count": 0,
      "outputs": []
    },
    {
      "cell_type": "code",
      "metadata": {
        "id": "E_fyVaoIOpwY",
        "colab_type": "code",
        "colab": {}
      },
      "source": [
        "target_train = [[int(list(doc[0])[1]),int(list(doc[0])[3])] for doc in pre_corpora_train]#vectorization Output\n",
        "target_test = [[int(list(doc[0])[1]),int(list(doc[0])[3])]for doc in pre_corpora_test]#vectorization Output\n",
        "#target_train"
      ],
      "execution_count": 0,
      "outputs": []
    },
    {
      "cell_type": "code",
      "metadata": {
        "id": "NSo_qrzeOpwd",
        "colab_type": "code",
        "colab": {}
      },
      "source": [
        "max_len_sentences_train = max([len(doc) for doc in corpora_train]) #<------- [Parameter]\n",
        "max_len_sentences_test = max([len(doc) for doc in corpora_test]) #<------- [Parameter]"
      ],
      "execution_count": 0,
      "outputs": []
    },
    {
      "cell_type": "code",
      "metadata": {
        "id": "NF8S8DFhOpwh",
        "colab_type": "code",
        "colab": {},
        "outputId": "b4b2d773-f30d-46bb-ad41-2a8d07429923"
      },
      "source": [
        "max_len_sentences = max(max_len_sentences_train,max_len_sentences_test)\n",
        "print(\"Max. Sentence # words:\",max_len_sentences)"
      ],
      "execution_count": 0,
      "outputs": [
        {
          "output_type": "stream",
          "text": [
            "Max. Sentence # words: 588\n"
          ],
          "name": "stdout"
        }
      ]
    },
    {
      "cell_type": "code",
      "metadata": {
        "id": "Ggh7e1BrOpwl",
        "colab_type": "code",
        "colab": {}
      },
      "source": [
        "min_len_sentences_train = min([len(doc) for doc in corpora_train]) #<------- [Parameter]\n",
        "min_len_sentences_test = min([len(doc) for doc in corpora_test]) #<------- [Parameter]"
      ],
      "execution_count": 0,
      "outputs": []
    },
    {
      "cell_type": "code",
      "metadata": {
        "id": "8XY_OswZOpwp",
        "colab_type": "code",
        "colab": {},
        "outputId": "c9baf7da-09e2-46bd-9d3e-d3ee76b26cd6"
      },
      "source": [
        "min_len_sentences = max(min_len_sentences_train,min_len_sentences_test)\n",
        "print(\"Mix. Sentence # words:\",min_len_sentences)"
      ],
      "execution_count": 0,
      "outputs": [
        {
          "output_type": "stream",
          "text": [
            "Mix. Sentence # words: 1\n"
          ],
          "name": "stdout"
        }
      ]
    },
    {
      "cell_type": "code",
      "metadata": {
        "id": "jfGl1XrmOpws",
        "colab_type": "code",
        "colab": {}
      },
      "source": [
        "embed_size = np.size(corpora_train[0][0])"
      ],
      "execution_count": 0,
      "outputs": []
    },
    {
      "cell_type": "code",
      "metadata": {
        "id": "VAf6_HXAOpwx",
        "colab_type": "code",
        "colab": {}
      },
      "source": [
        "#BaseLine Architecture <-------\n",
        "embeddigs_cols = embed_size\n",
        "input_sh = (max_len_sentences,embeddigs_cols,1)\n",
        "#Selecting filters? \n",
        "#https://stackoverflow.com/questions/48243360/how-to-determine-the-filter-parameter-in-the-keras-conv2d-function\n",
        "#https://stats.stackexchange.com/questions/196646/what-is-the-significance-of-the-number-of-convolution-filters-in-a-convolutional\n",
        "\n",
        "N_filters = 128 # <-------- [HyperParameter] Powers of 2 Numer of Features\n",
        "K = 2 # <-------- [HyperParameter] Number of Classess"
      ],
      "execution_count": 0,
      "outputs": []
    },
    {
      "cell_type": "code",
      "metadata": {
        "id": "snzZvliPOpw3",
        "colab_type": "code",
        "colab": {},
        "outputId": "b9890281-c626-4b64-89f7-dc4e179cd96b"
      },
      "source": [
        "input_sh"
      ],
      "execution_count": 0,
      "outputs": [
        {
          "output_type": "execute_result",
          "data": {
            "text/plain": [
              "(588, 100, 1)"
            ]
          },
          "metadata": {
            "tags": []
          },
          "execution_count": 25
        }
      ]
    },
    {
      "cell_type": "code",
      "metadata": {
        "id": "ptz0Ly6wOpw9",
        "colab_type": "code",
        "colab": {}
      },
      "source": [
        "#baseline_model = Sequential()\n",
        "gram_input = Input(shape = input_sh)"
      ],
      "execution_count": 0,
      "outputs": []
    },
    {
      "cell_type": "code",
      "metadata": {
        "id": "9nea3RXTOpxA",
        "colab_type": "code",
        "colab": {}
      },
      "source": [
        "# 1st Convolutional Layer\n",
        "conv_1_layer = Conv2D(filters=64, input_shape=input_sh, activation='relu', \n",
        "                      kernel_size=(7,7), strides=(2,2), padding='valid')(gram_input)"
      ],
      "execution_count": 0,
      "outputs": []
    },
    {
      "cell_type": "code",
      "metadata": {
        "id": "ADxKDNlSOpxE",
        "colab_type": "code",
        "colab": {},
        "outputId": "901d34c3-15ee-4961-c182-81002591669d"
      },
      "source": [
        "conv_1_layer.shape"
      ],
      "execution_count": 0,
      "outputs": [
        {
          "output_type": "execute_result",
          "data": {
            "text/plain": [
              "TensorShape([None, 291, 47, 64])"
            ]
          },
          "metadata": {
            "tags": []
          },
          "execution_count": 28
        }
      ]
    },
    {
      "cell_type": "code",
      "metadata": {
        "id": "YXgWmQOoOpxI",
        "colab_type": "code",
        "colab": {}
      },
      "source": [
        "# Max Pooling\n",
        "max_1_pooling = MaxPooling2D(pool_size=(3,3), strides=None, padding='valid')(conv_1_layer)"
      ],
      "execution_count": 0,
      "outputs": []
    },
    {
      "cell_type": "code",
      "metadata": {
        "id": "dO7db-bxOpxO",
        "colab_type": "code",
        "colab": {},
        "outputId": "c8141339-d17e-40df-a974-b4a9d97264b7"
      },
      "source": [
        "max_1_pooling.shape"
      ],
      "execution_count": 0,
      "outputs": [
        {
          "output_type": "execute_result",
          "data": {
            "text/plain": [
              "TensorShape([None, 97, 15, 64])"
            ]
          },
          "metadata": {
            "tags": []
          },
          "execution_count": 30
        }
      ]
    },
    {
      "cell_type": "code",
      "metadata": {
        "id": "6vlU_hNxOpxS",
        "colab_type": "code",
        "colab": {}
      },
      "source": [
        "# 2nd Convolutional Layer\n",
        "conv_2_layer = Conv2D(filters=256, kernel_size=(5,5), activation='relu', \n",
        "                      strides=(1,1), padding='valid')(max_1_pooling)"
      ],
      "execution_count": 0,
      "outputs": []
    },
    {
      "cell_type": "code",
      "metadata": {
        "id": "Ld6qP-9eOpxX",
        "colab_type": "code",
        "colab": {},
        "outputId": "1f32a3d9-7deb-4a47-8b62-b7bfea3fcee1"
      },
      "source": [
        "conv_2_layer.shape"
      ],
      "execution_count": 0,
      "outputs": [
        {
          "output_type": "execute_result",
          "data": {
            "text/plain": [
              "TensorShape([None, 93, 11, 256])"
            ]
          },
          "metadata": {
            "tags": []
          },
          "execution_count": 32
        }
      ]
    },
    {
      "cell_type": "code",
      "metadata": {
        "id": "13F30eA3Opxb",
        "colab_type": "code",
        "colab": {}
      },
      "source": [
        "# Max Pooling\n",
        "max_2_pooling = MaxPooling2D(pool_size=(3,3), strides=None, padding='valid')(conv_2_layer)"
      ],
      "execution_count": 0,
      "outputs": []
    },
    {
      "cell_type": "code",
      "metadata": {
        "id": "JdA8Ay8OOpxe",
        "colab_type": "code",
        "colab": {},
        "outputId": "dc22519b-1cb5-490f-f6d3-5c8c27f7f89a"
      },
      "source": [
        "max_2_pooling.shape"
      ],
      "execution_count": 0,
      "outputs": [
        {
          "output_type": "execute_result",
          "data": {
            "text/plain": [
              "TensorShape([None, 31, 3, 256])"
            ]
          },
          "metadata": {
            "tags": []
          },
          "execution_count": 34
        }
      ]
    },
    {
      "cell_type": "code",
      "metadata": {
        "id": "zi6mPkAKOpxj",
        "colab_type": "code",
        "colab": {}
      },
      "source": [
        "# 3rd Convolutional Layer\n",
        "conv_3_layer =  Conv2D(filters=512, kernel_size=(3,3), activation='relu', \n",
        "                      strides=(1,1), padding='valid')(max_2_pooling)"
      ],
      "execution_count": 0,
      "outputs": []
    },
    {
      "cell_type": "code",
      "metadata": {
        "id": "CGbP1CBhOpxn",
        "colab_type": "code",
        "colab": {},
        "outputId": "b88523a4-8356-45b6-cec9-61281e16b592"
      },
      "source": [
        "conv_3_layer.shape"
      ],
      "execution_count": 0,
      "outputs": [
        {
          "output_type": "execute_result",
          "data": {
            "text/plain": [
              "TensorShape([None, 29, 1, 512])"
            ]
          },
          "metadata": {
            "tags": []
          },
          "execution_count": 36
        }
      ]
    },
    {
      "cell_type": "code",
      "metadata": {
        "id": "Empp20tpOpxr",
        "colab_type": "code",
        "colab": {}
      },
      "source": [
        "# 4th Convolutional Layer\n",
        "conv_4_layer = Conv2D(filters=512, kernel_size=(3,1), activation='relu', \n",
        "                      strides=(1,1), padding='valid')(conv_3_layer)"
      ],
      "execution_count": 0,
      "outputs": []
    },
    {
      "cell_type": "code",
      "metadata": {
        "id": "739Ij95dOpxu",
        "colab_type": "code",
        "colab": {},
        "outputId": "d3ce3d5f-65d5-46a2-e957-acf32f0abf09"
      },
      "source": [
        "conv_4_layer.shape"
      ],
      "execution_count": 0,
      "outputs": [
        {
          "output_type": "execute_result",
          "data": {
            "text/plain": [
              "TensorShape([None, 27, 1, 512])"
            ]
          },
          "metadata": {
            "tags": []
          },
          "execution_count": 38
        }
      ]
    },
    {
      "cell_type": "code",
      "metadata": {
        "id": "CYSAAr2POpxz",
        "colab_type": "code",
        "colab": {}
      },
      "source": [
        "# 5th Convolutional Layer\n",
        "conv_5_layer = Conv2D(filters=256, kernel_size=(3,1), activation='relu', \n",
        "                      strides=(1,1), padding='valid')(conv_4_layer)"
      ],
      "execution_count": 0,
      "outputs": []
    },
    {
      "cell_type": "code",
      "metadata": {
        "id": "0RNXquruOpx6",
        "colab_type": "code",
        "colab": {},
        "outputId": "051eda4d-8f95-4ef9-8dce-982425590c99"
      },
      "source": [
        "conv_5_layer.shape"
      ],
      "execution_count": 0,
      "outputs": [
        {
          "output_type": "execute_result",
          "data": {
            "text/plain": [
              "TensorShape([None, 25, 1, 256])"
            ]
          },
          "metadata": {
            "tags": []
          },
          "execution_count": 40
        }
      ]
    },
    {
      "cell_type": "code",
      "metadata": {
        "id": "Q1CV9Lc2Opx_",
        "colab_type": "code",
        "colab": {}
      },
      "source": [
        "# Max Pooling\n",
        "max_5_pooling = MaxPooling2D(pool_size=(3,1), strides=None, padding='valid')(conv_5_layer)"
      ],
      "execution_count": 0,
      "outputs": []
    },
    {
      "cell_type": "code",
      "metadata": {
        "id": "8AUh0FWHOpyC",
        "colab_type": "code",
        "colab": {},
        "outputId": "a96f4ab4-c523-46d1-e0d1-4503b21cccdc"
      },
      "source": [
        "max_5_pooling.shape"
      ],
      "execution_count": 0,
      "outputs": [
        {
          "output_type": "execute_result",
          "data": {
            "text/plain": [
              "TensorShape([None, 8, 1, 256])"
            ]
          },
          "metadata": {
            "tags": []
          },
          "execution_count": 42
        }
      ]
    },
    {
      "cell_type": "code",
      "metadata": {
        "id": "XugnB8ONOpyI",
        "colab_type": "code",
        "colab": {}
      },
      "source": [
        "# Fully Connected layer\n",
        "fully_connected = Flatten()(max_5_pooling)"
      ],
      "execution_count": 0,
      "outputs": []
    },
    {
      "cell_type": "code",
      "metadata": {
        "id": "4SUjgTnjOpyM",
        "colab_type": "code",
        "colab": {},
        "outputId": "29f31560-494b-4572-abdc-3110c641e9b5"
      },
      "source": [
        "fully_connected.shape"
      ],
      "execution_count": 0,
      "outputs": [
        {
          "output_type": "execute_result",
          "data": {
            "text/plain": [
              "TensorShape([None, 2048])"
            ]
          },
          "metadata": {
            "tags": []
          },
          "execution_count": 44
        }
      ]
    },
    {
      "cell_type": "code",
      "metadata": {
        "id": "o2xuZI9wOpyS",
        "colab_type": "code",
        "colab": {}
      },
      "source": [
        "# 1st Fully Connected Layer\n",
        "deep_dense_1_layer = Dense(1024, activation='relu')(fully_connected)\n",
        "deep_dense_1_layer = Dropout(0.4)(deep_dense_1_layer) # <-------- [HyperParameter]"
      ],
      "execution_count": 0,
      "outputs": []
    },
    {
      "cell_type": "code",
      "metadata": {
        "id": "WvqOOXy5OpyV",
        "colab_type": "code",
        "colab": {},
        "outputId": "fd11ff2a-3e81-41b1-ceae-d1aae4b3829b"
      },
      "source": [
        "deep_dense_1_layer.shape"
      ],
      "execution_count": 0,
      "outputs": [
        {
          "output_type": "execute_result",
          "data": {
            "text/plain": [
              "TensorShape([None, 1024])"
            ]
          },
          "metadata": {
            "tags": []
          },
          "execution_count": 46
        }
      ]
    },
    {
      "cell_type": "code",
      "metadata": {
        "id": "WyrMfrzPOpya",
        "colab_type": "code",
        "colab": {}
      },
      "source": [
        "# 2nd Fully Connected Layer\n",
        "deep_dense_2_layer = Dense(1024, activation='relu')(deep_dense_1_layer)\n",
        "deep_dense_2_layer = Dropout(0.4)(deep_dense_2_layer) # <-------- [HyperParameter]"
      ],
      "execution_count": 0,
      "outputs": []
    },
    {
      "cell_type": "code",
      "metadata": {
        "id": "2hPJxXn2Opyd",
        "colab_type": "code",
        "colab": {},
        "outputId": "6f6df4cd-e9a2-4c4d-c67d-74bc0627e790"
      },
      "source": [
        "deep_dense_2_layer.shape"
      ],
      "execution_count": 0,
      "outputs": [
        {
          "output_type": "execute_result",
          "data": {
            "text/plain": [
              "TensorShape([None, 1024])"
            ]
          },
          "metadata": {
            "tags": []
          },
          "execution_count": 48
        }
      ]
    },
    {
      "cell_type": "code",
      "metadata": {
        "id": "Et-VKoyZOpyg",
        "colab_type": "code",
        "colab": {}
      },
      "source": [
        "# 3rd Fully Connected Layer\n",
        "deep_dense_3_layer = Dense(128, activation='relu')(deep_dense_2_layer)\n",
        "deep_dense_3_layer = Dropout(0.4)(deep_dense_3_layer) # <-------- [HyperParameter]"
      ],
      "execution_count": 0,
      "outputs": []
    },
    {
      "cell_type": "code",
      "metadata": {
        "id": "zN9UVLgqOpyj",
        "colab_type": "code",
        "colab": {},
        "outputId": "072a50d2-07ea-4506-adb6-34855936a44f"
      },
      "source": [
        "deep_dense_3_layer.shape"
      ],
      "execution_count": 0,
      "outputs": [
        {
          "output_type": "execute_result",
          "data": {
            "text/plain": [
              "TensorShape([None, 128])"
            ]
          },
          "metadata": {
            "tags": []
          },
          "execution_count": 50
        }
      ]
    },
    {
      "cell_type": "code",
      "metadata": {
        "id": "5C2vQ58DOpyp",
        "colab_type": "code",
        "colab": {}
      },
      "source": [
        "predictions = Dense(K, activation='softmax')(deep_dense_3_layer)"
      ],
      "execution_count": 0,
      "outputs": []
    },
    {
      "cell_type": "code",
      "metadata": {
        "id": "DLUA-munOpyy",
        "colab_type": "code",
        "colab": {}
      },
      "source": [
        "#Criticality Model\n",
        "criticality_network = Model(inputs=[gram_input],outputs=[predictions]) "
      ],
      "execution_count": 0,
      "outputs": []
    },
    {
      "cell_type": "code",
      "metadata": {
        "id": "IAg_PgbmOpy2",
        "colab_type": "code",
        "colab": {},
        "outputId": "cb0584e4-1266-4807-e3d5-a1effae17784"
      },
      "source": [
        "print(criticality_network.summary())"
      ],
      "execution_count": 0,
      "outputs": [
        {
          "output_type": "stream",
          "text": [
            "Model: \"model\"\n",
            "_________________________________________________________________\n",
            "Layer (type)                 Output Shape              Param #   \n",
            "=================================================================\n",
            "input_1 (InputLayer)         [(None, 588, 100, 1)]     0         \n",
            "_________________________________________________________________\n",
            "conv2d (Conv2D)              (None, 291, 47, 64)       3200      \n",
            "_________________________________________________________________\n",
            "max_pooling2d (MaxPooling2D) (None, 97, 15, 64)        0         \n",
            "_________________________________________________________________\n",
            "conv2d_1 (Conv2D)            (None, 93, 11, 256)       409856    \n",
            "_________________________________________________________________\n",
            "max_pooling2d_1 (MaxPooling2 (None, 31, 3, 256)        0         \n",
            "_________________________________________________________________\n",
            "conv2d_2 (Conv2D)            (None, 29, 1, 512)        1180160   \n",
            "_________________________________________________________________\n",
            "conv2d_3 (Conv2D)            (None, 27, 1, 512)        786944    \n",
            "_________________________________________________________________\n",
            "conv2d_4 (Conv2D)            (None, 25, 1, 256)        393472    \n",
            "_________________________________________________________________\n",
            "max_pooling2d_2 (MaxPooling2 (None, 8, 1, 256)         0         \n",
            "_________________________________________________________________\n",
            "flatten (Flatten)            (None, 2048)              0         \n",
            "_________________________________________________________________\n",
            "dense (Dense)                (None, 1024)              2098176   \n",
            "_________________________________________________________________\n",
            "dropout (Dropout)            (None, 1024)              0         \n",
            "_________________________________________________________________\n",
            "dense_1 (Dense)              (None, 1024)              1049600   \n",
            "_________________________________________________________________\n",
            "dropout_1 (Dropout)          (None, 1024)              0         \n",
            "_________________________________________________________________\n",
            "dense_2 (Dense)              (None, 128)               131200    \n",
            "_________________________________________________________________\n",
            "dropout_2 (Dropout)          (None, 128)               0         \n",
            "_________________________________________________________________\n",
            "dense_3 (Dense)              (None, 2)                 258       \n",
            "=================================================================\n",
            "Total params: 6,052,866\n",
            "Trainable params: 6,052,866\n",
            "Non-trainable params: 0\n",
            "_________________________________________________________________\n",
            "None\n"
          ],
          "name": "stdout"
        }
      ]
    },
    {
      "cell_type": "code",
      "metadata": {
        "id": "idhcs2TlOpy5",
        "colab_type": "code",
        "colab": {}
      },
      "source": [
        "#Seting up the Model\n",
        "criticality_network.compile(optimizer='adam',loss='binary_crossentropy',\n",
        "                                  metrics=['accuracy'])"
      ],
      "execution_count": 0,
      "outputs": []
    },
    {
      "cell_type": "code",
      "metadata": {
        "id": "q9DvJNszOpzC",
        "colab_type": "code",
        "colab": {}
      },
      "source": [
        "#Data set organization\n",
        "from tempfile import mkdtemp\n",
        "import os.path as path"
      ],
      "execution_count": 0,
      "outputs": []
    },
    {
      "cell_type": "code",
      "metadata": {
        "id": "x3n5wo47OpzG",
        "colab_type": "code",
        "colab": {}
      },
      "source": [
        "#Memoization \n",
        "file_corpora_train_x = path.join(mkdtemp(), 'alex-res_temp_corpora_train_x.dat') #Update per experiment\n",
        "file_corpora_test_x = path.join(mkdtemp(), 'alex-res_temp_corpora_test_x.dat')"
      ],
      "execution_count": 0,
      "outputs": []
    },
    {
      "cell_type": "code",
      "metadata": {
        "id": "mbsXs0hDOpzL",
        "colab_type": "code",
        "colab": {}
      },
      "source": [
        "#Shaping\n",
        "shape_train_x = (len(corpora_train),max_len_sentences,embeddigs_cols,1)\n",
        "shape_test_x = (len(corpora_test),max_len_sentences,embeddigs_cols,1)"
      ],
      "execution_count": 0,
      "outputs": []
    },
    {
      "cell_type": "code",
      "metadata": {
        "id": "2ELb33hmOpzR",
        "colab_type": "code",
        "colab": {}
      },
      "source": [
        "#Data sets\n",
        "corpora_train_x = np.memmap(\n",
        "        filename = file_corpora_train_x, \n",
        "        dtype='float32', \n",
        "        mode='w+', \n",
        "        shape = shape_train_x)"
      ],
      "execution_count": 0,
      "outputs": []
    },
    {
      "cell_type": "code",
      "metadata": {
        "id": "eq8jmirSOpzV",
        "colab_type": "code",
        "colab": {}
      },
      "source": [
        "corpora_test_x = np.memmap( #Test Corpora (for future evaluation)\n",
        "        filename = file_corpora_test_x, \n",
        "        dtype='float32', \n",
        "        mode='w+', \n",
        "        shape = shape_test_x)"
      ],
      "execution_count": 0,
      "outputs": []
    },
    {
      "cell_type": "code",
      "metadata": {
        "id": "fGyvlV0-OpzZ",
        "colab_type": "code",
        "colab": {}
      },
      "source": [
        "target_train_y = np.array(target_train) #Train Target\n",
        "target_test_y = np.array(target_test) #Test Target (for future evaluation)"
      ],
      "execution_count": 0,
      "outputs": []
    },
    {
      "cell_type": "code",
      "metadata": {
        "id": "CJvI91W3Opzd",
        "colab_type": "code",
        "colab": {},
        "outputId": "57481047-49c3-4e67-eea6-01a1115854dc"
      },
      "source": [
        "corpora_train_x.shape"
      ],
      "execution_count": 0,
      "outputs": [
        {
          "output_type": "execute_result",
          "data": {
            "text/plain": [
              "(9052, 588, 100, 1)"
            ]
          },
          "metadata": {
            "tags": []
          },
          "execution_count": 61
        }
      ]
    },
    {
      "cell_type": "code",
      "metadata": {
        "id": "7K7v3KUkOpzf",
        "colab_type": "code",
        "colab": {},
        "outputId": "75edb42d-e898-4789-82be-a9de66eb2c01"
      },
      "source": [
        "target_train_y.shape"
      ],
      "execution_count": 0,
      "outputs": [
        {
          "output_type": "execute_result",
          "data": {
            "text/plain": [
              "(9052, 2)"
            ]
          },
          "metadata": {
            "tags": []
          },
          "execution_count": 62
        }
      ]
    },
    {
      "cell_type": "code",
      "metadata": {
        "id": "jK7M-v5UOpzh",
        "colab_type": "code",
        "colab": {},
        "outputId": "4cd04454-b4fb-4976-fc4c-3866e7a461a2"
      },
      "source": [
        "corpora_test_x.shape"
      ],
      "execution_count": 0,
      "outputs": [
        {
          "output_type": "execute_result",
          "data": {
            "text/plain": [
              "(994, 588, 100, 1)"
            ]
          },
          "metadata": {
            "tags": []
          },
          "execution_count": 63
        }
      ]
    },
    {
      "cell_type": "code",
      "metadata": {
        "id": "eGw4HDPrOpzk",
        "colab_type": "code",
        "colab": {},
        "outputId": "bb9b4ec8-cabf-4546-e438-d0bcaa93179e"
      },
      "source": [
        "target_test_y.shape"
      ],
      "execution_count": 0,
      "outputs": [
        {
          "output_type": "execute_result",
          "data": {
            "text/plain": [
              "(994, 2)"
            ]
          },
          "metadata": {
            "tags": []
          },
          "execution_count": 64
        }
      ]
    },
    {
      "cell_type": "code",
      "metadata": {
        "id": "Od6xRQvoOpzm",
        "colab_type": "code",
        "colab": {}
      },
      "source": [
        "#Reshaping Train Inputs\n",
        "for doc in range(len(corpora_train)):\n",
        "    #print(corpora_train[doc].shape[1])\n",
        "    for words_rows in range(corpora_train[doc].shape[0]):\n",
        "        embed_flatten = np.array(corpora_train[doc][words_rows]).flatten() #<--- Capture doc and word\n",
        "        for embedding_cols in range(embed_flatten.shape[0]):\n",
        "            corpora_train_x[doc,words_rows,embedding_cols,0] = embed_flatten[embedding_cols]"
      ],
      "execution_count": 0,
      "outputs": []
    },
    {
      "cell_type": "code",
      "metadata": {
        "id": "QbQrBxraOpzp",
        "colab_type": "code",
        "colab": {}
      },
      "source": [
        "#Reshaping Test Inputs (for future evaluation)\n",
        "for doc in range(len(corpora_test)):\n",
        "    for words_rows in range(corpora_test[doc].shape[0]):\n",
        "        embed_flatten = np.array(corpora_test[doc][words_rows]).flatten() #<--- Capture doc and word\n",
        "        for embedding_cols in range(embed_flatten.shape[0]):\n",
        "            corpora_test_x[doc,words_rows,embedding_cols,0] = embed_flatten[embedding_cols]"
      ],
      "execution_count": 0,
      "outputs": []
    },
    {
      "cell_type": "code",
      "metadata": {
        "id": "pxs74XQNOpzw",
        "colab_type": "code",
        "colab": {}
      },
      "source": [
        "#CheckPoints\n",
        "#csv_logger = CSVLogger(system+'_training.log')\n",
        "filepath = \"alex-res/embeds100-improvement-{epoch:02d}-{val_accuracy:.2f}.hdf5\"\n",
        "checkpoint = ModelCheckpoint(filepath)\n",
        "callbacks_list = [checkpoint]"
      ],
      "execution_count": 0,
      "outputs": []
    },
    {
      "cell_type": "code",
      "metadata": {
        "id": "Jl39O_64Opz0",
        "colab_type": "code",
        "colab": {},
        "outputId": "ef9a5f95-055b-4363-e331-6f5fa799df98"
      },
      "source": [
        "#Model Fitting\n",
        "history = criticality_network.fit(\n",
        "            x = corpora_train_x, \n",
        "            y = target_train_y,\n",
        "            #batch_size=64,\n",
        "            epochs=20, #5 <------ Hyperparameter\n",
        "            validation_split = 0.2\n",
        "            #callbacks=callbacks_list\n",
        ")"
      ],
      "execution_count": 0,
      "outputs": [
        {
          "output_type": "stream",
          "text": [
            "Train on 7241 samples, validate on 1811 samples\n",
            "Epoch 1/20\n",
            "7241/7241 [==============================] - 107s 15ms/sample - loss: 0.6629 - accuracy: 0.5792 - val_loss: 0.4899 - val_accuracy: 0.8504\n",
            "Epoch 2/20\n",
            "7241/7241 [==============================] - 103s 14ms/sample - loss: 0.5638 - accuracy: 0.7039 - val_loss: 0.6550 - val_accuracy: 0.4970\n",
            "Epoch 3/20\n",
            "7241/7241 [==============================] - 104s 14ms/sample - loss: 0.5212 - accuracy: 0.7433 - val_loss: 0.5116 - val_accuracy: 0.7863\n",
            "Epoch 4/20\n",
            "7241/7241 [==============================] - 103s 14ms/sample - loss: 0.4909 - accuracy: 0.7673 - val_loss: 0.6165 - val_accuracy: 0.5842\n",
            "Epoch 5/20\n",
            "7241/7241 [==============================] - 100s 14ms/sample - loss: 0.4724 - accuracy: 0.7752 - val_loss: 0.5158 - val_accuracy: 0.6615\n",
            "Epoch 6/20\n",
            "7241/7241 [==============================] - 100s 14ms/sample - loss: 0.4451 - accuracy: 0.7992 - val_loss: 0.5139 - val_accuracy: 0.7294\n",
            "Epoch 7/20\n",
            "7241/7241 [==============================] - 90s 12ms/sample - loss: 0.4145 - accuracy: 0.8141 - val_loss: 0.5920 - val_accuracy: 0.6245\n",
            "Epoch 8/20\n",
            "7241/7241 [==============================] - 87s 12ms/sample - loss: 0.3908 - accuracy: 0.8276 - val_loss: 1.4803 - val_accuracy: 0.4881\n",
            "Epoch 9/20\n",
            "7241/7241 [==============================] - 86s 12ms/sample - loss: 0.3793 - accuracy: 0.8430 - val_loss: 1.3834 - val_accuracy: 0.4942\n",
            "Epoch 10/20\n",
            "7241/7241 [==============================] - 86s 12ms/sample - loss: 0.3366 - accuracy: 0.8589 - val_loss: 1.2915 - val_accuracy: 0.5715\n",
            "Epoch 11/20\n",
            "7241/7241 [==============================] - 88s 12ms/sample - loss: 0.3223 - accuracy: 0.8696 - val_loss: 1.5502 - val_accuracy: 0.5008\n",
            "Epoch 12/20\n",
            "7241/7241 [==============================] - 87s 12ms/sample - loss: 0.2857 - accuracy: 0.8851 - val_loss: 1.4245 - val_accuracy: 0.5489\n",
            "Epoch 13/20\n",
            "7241/7241 [==============================] - 88s 12ms/sample - loss: 0.2827 - accuracy: 0.8873 - val_loss: 1.6873 - val_accuracy: 0.4721\n",
            "Epoch 14/20\n",
            "7241/7241 [==============================] - 88s 12ms/sample - loss: 0.2505 - accuracy: 0.9050 - val_loss: 1.8159 - val_accuracy: 0.5086\n",
            "Epoch 15/20\n",
            "7241/7241 [==============================] - 87s 12ms/sample - loss: 0.2446 - accuracy: 0.9075 - val_loss: 2.4524 - val_accuracy: 0.5152\n",
            "Epoch 16/20\n",
            "7241/7241 [==============================] - 86s 12ms/sample - loss: 0.2290 - accuracy: 0.9144 - val_loss: 2.0032 - val_accuracy: 0.5378\n",
            "Epoch 17/20\n",
            "7241/7241 [==============================] - 74s 10ms/sample - loss: 0.2148 - accuracy: 0.9221 - val_loss: 2.3447 - val_accuracy: 0.5312\n",
            "Epoch 18/20\n",
            "7241/7241 [==============================] - 73s 10ms/sample - loss: 0.1980 - accuracy: 0.9298 - val_loss: 2.0865 - val_accuracy: 0.5693\n",
            "Epoch 19/20\n",
            "7241/7241 [==============================] - 74s 10ms/sample - loss: 0.1861 - accuracy: 0.9362 - val_loss: 2.9366 - val_accuracy: 0.5428\n",
            "Epoch 20/20\n",
            "7241/7241 [==============================] - 73s 10ms/sample - loss: 0.1836 - accuracy: 0.9334 - val_loss: 2.9937 - val_accuracy: 0.5367\n"
          ],
          "name": "stdout"
        }
      ]
    },
    {
      "cell_type": "code",
      "metadata": {
        "id": "ihWR0xJVOpz7",
        "colab_type": "code",
        "colab": {}
      },
      "source": [
        "#Saving Training History\n",
        "df_history = pd.DataFrame.from_dict(history.history)\n",
        "df_history.to_csv('alex-res/history_training.csv', encoding='utf-8',index=False)"
      ],
      "execution_count": 0,
      "outputs": []
    },
    {
      "cell_type": "code",
      "metadata": {
        "id": "jdoDtBKoOpz_",
        "colab_type": "code",
        "colab": {},
        "outputId": "43e165cb-8f9c-4cf0-8bcf-5f7bd5aa0631"
      },
      "source": [
        "criticality_network.save(filepath)\n",
        "df_history.head()"
      ],
      "execution_count": 0,
      "outputs": [
        {
          "output_type": "execute_result",
          "data": {
            "text/html": [
              "<div>\n",
              "<style>\n",
              "    .dataframe thead tr:only-child th {\n",
              "        text-align: right;\n",
              "    }\n",
              "\n",
              "    .dataframe thead th {\n",
              "        text-align: left;\n",
              "    }\n",
              "\n",
              "    .dataframe tbody tr th {\n",
              "        vertical-align: top;\n",
              "    }\n",
              "</style>\n",
              "<table border=\"1\" class=\"dataframe\">\n",
              "  <thead>\n",
              "    <tr style=\"text-align: right;\">\n",
              "      <th></th>\n",
              "      <th>accuracy</th>\n",
              "      <th>loss</th>\n",
              "      <th>val_accuracy</th>\n",
              "      <th>val_loss</th>\n",
              "    </tr>\n",
              "  </thead>\n",
              "  <tbody>\n",
              "    <tr>\n",
              "      <th>0</th>\n",
              "      <td>0.579202</td>\n",
              "      <td>0.662911</td>\n",
              "      <td>0.850359</td>\n",
              "      <td>0.489930</td>\n",
              "    </tr>\n",
              "    <tr>\n",
              "      <th>1</th>\n",
              "      <td>0.703908</td>\n",
              "      <td>0.563793</td>\n",
              "      <td>0.496963</td>\n",
              "      <td>0.655045</td>\n",
              "    </tr>\n",
              "    <tr>\n",
              "      <th>2</th>\n",
              "      <td>0.743267</td>\n",
              "      <td>0.521162</td>\n",
              "      <td>0.786306</td>\n",
              "      <td>0.511641</td>\n",
              "    </tr>\n",
              "    <tr>\n",
              "      <th>3</th>\n",
              "      <td>0.767297</td>\n",
              "      <td>0.490945</td>\n",
              "      <td>0.584208</td>\n",
              "      <td>0.616510</td>\n",
              "    </tr>\n",
              "    <tr>\n",
              "      <th>4</th>\n",
              "      <td>0.775169</td>\n",
              "      <td>0.472416</td>\n",
              "      <td>0.661513</td>\n",
              "      <td>0.515818</td>\n",
              "    </tr>\n",
              "  </tbody>\n",
              "</table>\n",
              "</div>"
            ],
            "text/plain": [
              "   accuracy      loss  val_accuracy  val_loss\n",
              "0  0.579202  0.662911      0.850359  0.489930\n",
              "1  0.703908  0.563793      0.496963  0.655045\n",
              "2  0.743267  0.521162      0.786306  0.511641\n",
              "3  0.767297  0.490945      0.584208  0.616510\n",
              "4  0.775169  0.472416      0.661513  0.515818"
            ]
          },
          "metadata": {
            "tags": []
          },
          "execution_count": 71
        }
      ]
    },
    {
      "cell_type": "code",
      "metadata": {
        "id": "W0xsikNvOp0D",
        "colab_type": "code",
        "colab": {}
      },
      "source": [
        "#Saving Test Data\n",
        "np.save('alex-res/corpora_test_x.npy',corpora_test_x)\n",
        "np.save('alex-res/target_test_y.npy',target_test_y)"
      ],
      "execution_count": 0,
      "outputs": []
    },
    {
      "cell_type": "code",
      "metadata": {
        "id": "8HPmxKkMOp0G",
        "colab_type": "code",
        "colab": {},
        "outputId": "1090a387-9613-46d5-bcce-baa0136ef7d3"
      },
      "source": [
        "#Evaluation\n",
        "acc = history.history['accuracy']\n",
        "val_acc = history.history['val_accuracy']\n",
        "loss = history.history['loss']\n",
        "val_loss = history.history['val_loss']\n",
        " \n",
        "epochs2 = range(len(acc))\n",
        " \n",
        "plt.plot(epochs2, acc, 'b', label='Training')\n",
        "plt.plot(epochs2, val_acc, 'r', label='Validation')\n",
        "plt.title('Training and validation accuracy')\n",
        "plt.ylabel('acc')\n",
        "plt.xlabel('epoch')\n",
        "plt.legend()\n",
        " \n",
        "plt.figure()\n",
        " \n",
        "plt.plot(epochs2, loss, 'b', label='Training')\n",
        "plt.plot(epochs2, val_loss, 'r', label='Validation')\n",
        "plt.title('Training and validation loss')\n",
        "plt.ylabel('loss')\n",
        "plt.xlabel('epoch')\n",
        "plt.legend()\n",
        " \n",
        "plt.show()"
      ],
      "execution_count": 0,
      "outputs": [
        {
          "output_type": "display_data",
          "data": {
            "image/png": "[encoded data removed]",
            "text/plain": [
              "<matplotlib.figure.Figure at 0x7fa2105a59b0>"
            ]
          },
          "metadata": {
            "tags": []
          }
        },
        {
          "output_type": "display_data",
          "data": {
            "image/png": "[encoded data removed]",
            "text/plain": [
              "<matplotlib.figure.Figure at 0x7fa2105a5b00>"
            ]
          },
          "metadata": {
            "tags": []
          }
        }
      ]
    },
    {
      "cell_type": "code",
      "metadata": {
        "id": "foxHTtJ5Op0J",
        "colab_type": "code",
        "colab": {}
      },
      "source": [
        ""
      ],
      "execution_count": 0,
      "outputs": []
    }
  ]
}