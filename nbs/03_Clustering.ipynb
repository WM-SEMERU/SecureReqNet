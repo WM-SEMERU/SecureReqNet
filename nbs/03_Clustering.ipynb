{
 "cells": [
  {
   "cell_type": "code",
   "execution_count": 16,
   "metadata": {
    "collapsed": true
   },
   "outputs": [],
   "source": [
    "import pandas as pd\n",
    "from sklearn.metrics.pairwise import euclidean_distances\n",
    "import csv\n",
    "#Implementing the Skip-Gram Model\n",
    "from tensorflow.keras.preprocessing import text\n",
    "from nltk.corpus import gutenberg\n",
    "from string import punctuation\n",
    "from tensorflow.keras.preprocessing.sequence import skipgrams\n",
    "import pandas as pd\n",
    "import numpy as np\n",
    "import re\n",
    "import nltk\n",
    "import matplotlib.pyplot as plt\n",
    "pd.options.display.max_colwidth = 200\n",
    "%matplotlib inline\n",
    "from nltk.stem.snowball import SnowballStemmer\n",
    "englishStemmer=SnowballStemmer(\"english\")\n",
    "from sklearn.manifold import TSNE"
   ]
  },
  {
   "cell_type": "code",
   "execution_count": 2,
   "metadata": {
    "collapsed": true
   },
   "outputs": [],
   "source": [
    "#Preprocessing Part O\n",
    "wpt = nltk.WordPunctTokenizer()\n",
    "stop_words = nltk.corpus.stopwords.words('english')\n",
    "remove_terms = punctuation + '0123456789'\n",
    "\n",
    "def normalize_document(doc):\n",
    "    # lower case and remove special characters\\whitespaces\n",
    "    doc = re.sub(r'[^a-zA-Z\\s]', '', doc, re.I|re.A)\n",
    "    doc = doc.lower()\n",
    "    doc = doc.strip()\n",
    "    # tokenize document\n",
    "    tokens = wpt.tokenize(doc)\n",
    "    #Filter stopwords out of document\n",
    "    filtered_tokens = [token for token in tokens if token not in stop_words]\n",
    "    #Filtering Stemmings\n",
    "    filtered_tokens = [englishStemmer.stem(token) for token in filtered_tokens]\n",
    "    #Filtering remove-terms\n",
    "    filtered_tokens = [token for token in filtered_tokens if token not in remove_terms and len(token)>2]\n",
    "    # re-create document from filtered tokens\n",
    "    doc = ' '.join(filtered_tokens)\n",
    "    return doc\n",
    "\n",
    "normalize_corpus = np.vectorize(normalize_document)"
   ]
  },
  {
   "cell_type": "code",
   "execution_count": 3,
   "metadata": {
    "collapsed": true
   },
   "outputs": [],
   "source": [
    "from read_data import *"
   ]
  },
  {
   "cell_type": "code",
   "execution_count": 4,
   "metadata": {
    "collapsed": true
   },
   "outputs": [],
   "source": [
    "#Extracting Data\n",
    "filename = 'cve_dataset/cve_dataset.tsv'\n",
    "cve_data = []\n",
    "with open(filename, 'r') as tsv_file:\n",
    "    tsv_reader = csv.reader(tsv_file, delimiter='\\t')\n",
    "    for line in tsv_reader:\n",
    "        cve_data.append((line[1], line[2]))\n",
    "\n",
    "issues_data = []\n",
    "ground_truth = get_issues_ground_truth()\n",
    "dataset = Dynamic_Dataset(ground_truth)\n",
    "for d in dataset:\n",
    "    issues_data.append(d)\n",
    "\n",
    "wikipedia_data = []\n",
    "for i in range(10000):\n",
    "    with open('wiki_dataset/wikis/wiki_{}.txt'.format(i), 'r') as wiki_file:\n",
    "        wikipedia_data.append(('(0,1)', wiki_file.read()))\n",
    "        \n",
    "data = cve_data + issues_data + wikipedia_data\n"
   ]
  },
  {
   "cell_type": "code",
   "execution_count": 5,
   "metadata": {},
   "outputs": [
    {
     "data": {
      "text/plain": [
       "['get', 'creden', 'tials', 'Expir', 'ation']"
      ]
     },
     "execution_count": 5,
     "metadata": {},
     "output_type": "execute_result"
    }
   ],
   "source": [
    "def split_camel_case_token(token):\n",
    "    return re.sub('([a-z])([A-Z])', r'\\1 \\2', token).split()\n",
    "\n",
    "def clean_punctuation(token):\n",
    "    remove_terms = '!\"#$%&\\'()*+,-./:;<=>?@[\\\\]^_`{|}~0123456789'\n",
    "    cleaned = token\n",
    "    for p in remove_terms:\n",
    "        cleaned = cleaned.replace(p, ' ')\n",
    "    return cleaned.split()\n",
    "\n",
    "def clean(token):\n",
    "    to_return = clean_punctuation(token)\n",
    "    new_tokens = []\n",
    "    for t in to_return:\n",
    "        new_tokens += split_camel_case_token(t)\n",
    "    to_return = new_tokens\n",
    "    return to_return\n",
    "\n",
    "clean('get_creden-tialsExpir/ation()')"
   ]
  },
  {
   "cell_type": "code",
   "execution_count": 7,
   "metadata": {},
   "outputs": [],
   "source": [
    "#Normalization\n",
    "#Create a Method\n",
    "corpora = [sentence[1] for sentence in data]\n",
    "norm_corpora = [sentence.split(' ') for sentence in corpora]\n",
    "\n",
    "new_norm_corpora = []\n",
    "for sentence in norm_corpora:\n",
    "    new_sentence = []\n",
    "    for word in sentence:\n",
    "        new_token = clean(word)\n",
    "        new_sentence += new_token\n",
    "    new_norm_corpora.append(new_sentence)\n",
    "norm_corpora = new_norm_corpora\n",
    "\n",
    "norm_corpora = [[word.lower() for word in sent if word not in remove_terms] \n",
    "                for sent in norm_corpora]\n",
    "norm_corpora = [' '.join(tok_sent) for tok_sent in norm_corpora]\n",
    "norm_corpora = filter(None, normalize_corpus(norm_corpora))\n",
    "norm_corpora = [tok_sent for tok_sent in norm_corpora if len(tok_sent.split()) > 2] #Len of the sentence\n",
    "\n",
    "n_filter = 5\n",
    "freqs = dict()\n",
    "for sentence in norm_corpora:\n",
    "    for word in sentence.split():\n",
    "        freqs[word] = freqs.get(word, 0) + 1\n",
    "\n",
    "norm_corpora = [' '.join([word for word in sentence.split() if freqs[word] >= n_filter]) for sentence in norm_corpora]\n"
   ]
  },
  {
   "cell_type": "code",
   "execution_count": 8,
   "metadata": {
    "collapsed": true
   },
   "outputs": [],
   "source": [
    "#1-Building the corpus vocabulary\n",
    "tokenizer_corpora = text.Tokenizer()\n",
    "tokenizer_corpora.fit_on_texts(norm_corpora)"
   ]
  },
  {
   "cell_type": "code",
   "execution_count": 9,
   "metadata": {
    "collapsed": true
   },
   "outputs": [],
   "source": [
    "word2id = tokenizer_corpora.word_index\n",
    "id2word = {v:k for k, v in word2id.items()}"
   ]
  },
  {
   "cell_type": "code",
   "execution_count": 10,
   "metadata": {
    "collapsed": true
   },
   "outputs": [],
   "source": [
    "def get_weights(embeddings_filename):\n",
    "    embeddings_df = pd.read_csv(embeddings_filename)\n",
    "    weights = []\n",
    "    for col in list(embeddings_df)[1:]:\n",
    "        weights.append(list(embeddings_df[col]))\n",
    "    return weights"
   ]
  },
  {
   "cell_type": "code",
   "execution_count": 19,
   "metadata": {},
   "outputs": [],
   "source": [
    "weights = get_weights('word_embeddings-embed_size_100-epochs_100.csv')"
   ]
  },
  {
   "cell_type": "code",
   "execution_count": 20,
   "metadata": {},
   "outputs": [
    {
     "name": "stdout",
     "output_type": "stream",
     "text": [
      "(17227, 17227)\n"
     ]
    }
   ],
   "source": [
    "#Verifying Closeness\n",
    "distance_matrix = euclidean_distances(weights)\n",
    "print(distance_matrix.shape)\n",
    "\n",
    "similar_words = {search_term: [id2word[idx] for idx in distance_matrix[word2id[search_term]-1].argsort()[1:4]+1] \n",
    "                   for search_term in ['vulner', 'attack', 'window', 'via', 'remot', 'code', 'user','exploit']}"
   ]
  },
  {
   "cell_type": "code",
   "execution_count": 21,
   "metadata": {
    "collapsed": true
   },
   "outputs": [],
   "source": [
    "words = sum([[k] + v for k, v in similar_words.items()], [])\n",
    "words_ids = [word2id[w] for w in words]\n",
    "word_vectors = np.array([weights[idx] for idx in words_ids])"
   ]
  },
  {
   "cell_type": "code",
   "execution_count": 22,
   "metadata": {},
   "outputs": [],
   "source": [
    "#T-SNE dimensionality Reduction\n",
    "tsne = TSNE(n_components=2, random_state=0, n_iter=10000, perplexity=3)\n",
    "np.set_printoptions(suppress=True)\n",
    "T = tsne.fit_transform(word_vectors)\n",
    "labels = words"
   ]
  },
  {
   "cell_type": "code",
   "execution_count": 23,
   "metadata": {},
   "outputs": [
    {
     "name": "stdout",
     "output_type": "stream",
     "text": [
      "Total words: 32 \tWord Embedding shapes: (32, 100)\n"
     ]
    },
    {
     "data": {
      "image/png": "[encoded data removed]",
      "text/plain": [
       "<matplotlib.figure.Figure at 0x14895b9e8>"
      ]
     },
     "metadata": {},
     "output_type": "display_data"
    }
   ],
   "source": [
    "plt.figure(figsize=(8, 8))\n",
    "plt.scatter(T[:, 0], T[:, 1], c='steelblue', edgecolors='k')\n",
    "for label, x, y in zip(labels, T[:, 0], T[:, 1]):\n",
    "    plt.annotate(label, xy=(x+1, y+1), xytext=(0, 0), textcoords='offset points')\n",
    "print('Total words:', len(words), '\\tWord Embedding shapes:', word_vectors.shape)"
   ]
  },
  {
   "cell_type": "code",
   "execution_count": null,
   "metadata": {
    "collapsed": true
   },
   "outputs": [],
   "source": []
  }
 ],
 "metadata": {
  "kernelspec": {
   "display_name": "Python 3",
   "language": "python",
   "name": "python3"
  },
  "language_info": {
   "codemirror_mode": {
    "name": "ipython",
    "version": 3
   },
   "file_extension": ".py",
   "mimetype": "text/x-python",
   "name": "python",
   "nbconvert_exporter": "python",
   "pygments_lexer": "ipython3",
   "version": "3.7.3"
  }
 },
 "nbformat": 4,
 "nbformat_minor": 2
}
