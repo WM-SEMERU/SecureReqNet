{
 "cells": [
  {
   "cell_type": "markdown",
   "metadata": {
    "colab": {},
    "colab_type": "code",
    "id": "863o769UPm7J"
   },
   "source": [
    "# Shallow SecureReqNet Training\n",
    ">\n",
    "> Developed by @danaderp May'20\n",
    ">"
   ]
  },
  {
   "cell_type": "code",
   "execution_count": 1,
   "metadata": {},
   "outputs": [],
   "source": [
    "#!pip install nltk\n",
    "#!pip install pandas\n",
    "#!pip install sklearn"
   ]
  },
  {
   "cell_type": "code",
   "execution_count": 2,
   "metadata": {
    "colab": {},
    "colab_type": "code",
    "id": "JvPNND47Pm7V",
    "outputId": "510e3a36-79e1-42dd-9247-2a45e7217d0b"
   },
   "outputs": [],
   "source": [
    "import csv\n",
    "from tensorflow.keras.preprocessing import text\n",
    "from nltk.corpus import gutenberg\n",
    "from string import punctuation\n",
    "from tensorflow.keras.preprocessing.sequence import skipgrams"
   ]
  },
  {
   "cell_type": "code",
   "execution_count": 3,
   "metadata": {
    "colab": {},
    "colab_type": "code",
    "id": "el64GldHPm7b"
   },
   "outputs": [],
   "source": [
    "import pandas as pd\n",
    "import numpy as np\n",
    "import re\n",
    "import nltk\n",
    "import matplotlib.pyplot as plt\n",
    "pd.options.display.max_colwidth = 200\n",
    "%matplotlib inline"
   ]
  },
  {
   "cell_type": "code",
   "execution_count": 4,
   "metadata": {
    "colab": {},
    "colab_type": "code",
    "id": "UJL-n6UWPm7g"
   },
   "outputs": [],
   "source": [
    "from nltk.stem.snowball import SnowballStemmer\n",
    "englishStemmer=SnowballStemmer(\"english\")"
   ]
  },
  {
   "cell_type": "code",
   "execution_count": 5,
   "metadata": {
    "colab": {},
    "colab_type": "code",
    "id": "7cKxzKWGPm7l"
   },
   "outputs": [],
   "source": [
    "import tensorflow as tf\n",
    "from tensorflow.keras import layers\n",
    "from tensorflow.keras.layers import Dot, Input, Dense, Reshape, LSTM, Conv2D, Flatten, MaxPooling1D, Dropout, MaxPooling2D\n",
    "from tensorflow.keras.layers import Embedding, Multiply, Subtract\n",
    "from tensorflow.keras.models import Sequential, Model\n",
    "from tensorflow.python.keras.layers import Lambda\n",
    "from tensorflow.keras.callbacks import CSVLogger, ModelCheckpoint\n",
    "from tensorflow.keras.callbacks import EarlyStopping"
   ]
  },
  {
   "cell_type": "code",
   "execution_count": 6,
   "metadata": {
    "colab": {},
    "colab_type": "code",
    "id": "baaCGyvePm7r"
   },
   "outputs": [],
   "source": [
    "# visualize model structure\n",
    "#from IPython.display import SVG\n",
    "#from keras.utils.vis_utils import model_to_dot\n",
    "from sklearn.metrics.pairwise import euclidean_distances\n",
    "from sklearn.manifold import TSNE"
   ]
  },
  {
   "cell_type": "code",
   "execution_count": 7,
   "metadata": {},
   "outputs": [],
   "source": [
    "import zipfile\n",
    "from pathlib import Path"
   ]
  },
  {
   "cell_type": "code",
   "execution_count": 8,
   "metadata": {},
   "outputs": [],
   "source": [
    "from utils.read_data import Dynamic_Dataset,Processing_Dataset"
   ]
  },
  {
   "cell_type": "code",
   "execution_count": 9,
   "metadata": {
    "colab": {},
    "colab_type": "code",
    "id": "cW0ZX9ERPm7w"
   },
   "outputs": [],
   "source": [
    "from utils.vectorize_sentence import Embeddings"
   ]
  },
  {
   "cell_type": "code",
   "execution_count": 10,
   "metadata": {
    "colab": {},
    "colab_type": "code",
    "id": "lb_CkYrkPm73"
   },
   "outputs": [],
   "source": [
    "path = \"../data/augmented_dataset/\"\n",
    "process_unit = Processing_Dataset(path)\n",
    "ground_truth = process_unit.get_ground_truth()"
   ]
  },
  {
   "cell_type": "code",
   "execution_count": 11,
   "metadata": {},
   "outputs": [
    {
     "data": {
      "text/plain": [
       "[<ZipInfo filename='issues/' filemode='drwxrwxr-x' external_attr=0x10>,\n",
       " <ZipInfo filename='issues/mozilla_kuma_3447.txt' compress_type=deflate filemode='-rw-rw-r--' file_size=700 compress_size=420>,\n",
       " <ZipInfo filename='issues/GoogleCloudPlatform_PerfKitBenchmarker_1674.txt' filemode='-rw-rw-r--' file_size=55>,\n",
       " <ZipInfo filename='issues/CVE-2016-5832.txt' compress_type=deflate filemode='-rw-rw-r--' file_size=134 compress_size=107>,\n",
       " <ZipInfo filename='issues/CVE-2018-1999033.txt' compress_type=deflate filemode='-rw-rw-r--' file_size=311 compress_size=211>,\n",
       " <ZipInfo filename='issues/CVE-2014-4487.txt' compress_type=deflate filemode='-rw-rw-r--' file_size=197 compress_size=148>,\n",
       " <ZipInfo filename='issues/GoogleCloudPlatform_python-docs-samples_231.txt' filemode='-rw-rw-r--' file_size=54>,\n",
       " <ZipInfo filename='issues/GoogleCloudPlatform_getting-started-python_34.txt' compress_type=deflate filemode='-rw-rw-r--' file_size=79 compress_size=73>,\n",
       " <ZipInfo filename='issues/CVE-2017-14009.txt' compress_type=deflate filemode='-rw-rw-r--' file_size=326 compress_size=213>,\n",
       " <ZipInfo filename='issues/CVE-2017-14128.txt' compress_type=deflate filemode='-rw-rw-r--' file_size=278 compress_size=204>,\n",
       " <ZipInfo filename='issues/microsoft_botbuilder-dotnet_200.txt' compress_type=deflate filemode='-rw-rw-r--' file_size=864 compress_size=384>,\n",
       " <ZipInfo filename='issues/microsoft_botbuilder-dotnet_1504.txt' compress_type=deflate filemode='-rw-rw-r--' file_size=121 compress_size=102>,\n",
       " <ZipInfo filename='issues/symfony_symfony_1907.txt' compress_type=deflate filemode='-rw-rw-r--' file_size=583 compress_size=315>,\n",
       " <ZipInfo filename='issues/mozilla_bedrock_3491.txt' compress_type=deflate filemode='-rw-rw-r--' file_size=87 compress_size=80>,\n",
       " <ZipInfo filename='issues/CVE-2015-0997.txt' compress_type=deflate filemode='-rw-rw-r--' file_size=292 compress_size=197>,\n",
       " <ZipInfo filename='issues/mozilla_fxa_275.txt' compress_type=deflate filemode='-rw-rw-r--' file_size=269 compress_size=200>,\n",
       " <ZipInfo filename='issues/CVE-2018-0380.txt' compress_type=deflate filemode='-rw-rw-r--' file_size=1146 compress_size=523>,\n",
       " <ZipInfo filename='issues/GoogleCloudPlatform_deploymentmanager-samples_246.txt' compress_type=deflate filemode='-rw-rw-r--' file_size=129 compress_size=112>,\n",
       " <ZipInfo filename='issues/CVE-2018-3233.txt' compress_type=deflate filemode='-rw-rw-r--' file_size=1153 compress_size=557>,\n",
       " <ZipInfo filename='issues/GoogleCloudPlatform_agones_181.txt' compress_type=deflate filemode='-rw-rw-r--' file_size=1035 compress_size=332>,\n",
       " <ZipInfo filename='issues/CVE-2015-6755.txt' compress_type=deflate filemode='-rw-rw-r--' file_size=330 compress_size=231>,\n",
       " <ZipInfo filename='issues/CVE-2016-1406.txt' compress_type=deflate filemode='-rw-rw-r--' file_size=308 compress_size=224>,\n",
       " <ZipInfo filename='issues/mozilla_kuma_2218.txt' compress_type=deflate filemode='-rw-rw-r--' file_size=190 compress_size=143>,\n",
       " <ZipInfo filename='issues/mozilla_bedrock_6033.txt' compress_type=deflate filemode='-rw-rw-r--' file_size=118 compress_size=107>,\n",
       " <ZipInfo filename='issues/CVE-2018-8155.txt' compress_type=deflate filemode='-rw-rw-r--' file_size=345 compress_size=202>,\n",
       " <ZipInfo filename='issues/mozilla_hubs_206.txt' compress_type=deflate filemode='-rw-rw-r--' file_size=154 compress_size=115>,\n",
       " <ZipInfo filename='issues/CVE-2015-4943.txt' compress_type=deflate filemode='-rw-rw-r--' file_size=208 compress_size=161>,\n",
       " <ZipInfo filename='issues/CVE-2017-7111.txt' compress_type=deflate filemode='-rw-rw-r--' file_size=412 compress_size=233>,\n",
       " <ZipInfo filename='issues/CVE-2018-18827.txt' compress_type=deflate filemode='-rw-rw-r--' file_size=167 compress_size=129>,\n",
       " <ZipInfo filename='issues/microsoft_botbuilder-dotnet_1312.txt' compress_type=deflate filemode='-rw-rw-r--' file_size=60 compress_size=46>,\n",
       " <ZipInfo filename='issues/CVE-2017-16011.txt' compress_type=deflate filemode='-rw-rw-r--' file_size=244 compress_size=186>,\n",
       " <ZipInfo filename='issues/symfony_symfony_30839.txt' compress_type=deflate filemode='-rw-rw-r--' file_size=435 compress_size=291>,\n",
       " <ZipInfo filename='issues/GoogleCloudPlatform_java-docs-samples_708.txt' compress_type=deflate filemode='-rw-rw-r--' file_size=142 compress_size=124>,\n",
       " <ZipInfo filename='issues/CVE-2017-10102.txt' compress_type=deflate filemode='-rw-rw-r--' file_size=901 compress_size=482>,\n",
       " <ZipInfo filename='issues/GoogleCloudPlatform_agones_524.txt' compress_type=deflate filemode='-rw-rw-r--' file_size=201 compress_size=143>,\n",
       " <ZipInfo filename='issues/CVE-2018-6639.txt' compress_type=deflate filemode='-rw-rw-r--' file_size=176 compress_size=139>,\n",
       " <ZipInfo filename='issues/CVE-2018-14037.txt' compress_type=deflate filemode='-rw-rw-r--' file_size=578 compress_size=344>,\n",
       " <ZipInfo filename='issues/CVE-2018-5865.txt' compress_type=deflate filemode='-rw-rw-r--' file_size=252 compress_size=185>,\n",
       " <ZipInfo filename='issues/CVE-2014-3716.txt' compress_type=deflate filemode='-rw-rw-r--' file_size=174 compress_size=135>,\n",
       " <ZipInfo filename='issues/CVE-2016-10693.txt' compress_type=deflate filemode='-rw-rw-r--' file_size=376 compress_size=238>,\n",
       " <ZipInfo filename='issues/gitlab_500.txt' compress_type=deflate filemode='-rw-rw-r--' file_size=1728 compress_size=778>,\n",
       " <ZipInfo filename='issues/CVE-2014-1959.txt' compress_type=deflate filemode='-rw-rw-r--' file_size=267 compress_size=184>,\n",
       " <ZipInfo filename='issues/GoogleCloudPlatform_open-match_205.txt' compress_type=deflate filemode='-rw-rw-r--' file_size=142630 compress_size=3133>,\n",
       " <ZipInfo filename='issues/google_fonts_1436.txt' compress_type=deflate filemode='-rw-rw-r--' file_size=83 compress_size=73>,\n",
       " <ZipInfo filename='issues/GoogleCloudPlatform_java-docs-samples_453.txt' compress_type=deflate filemode='-rw-rw-r--' file_size=49 compress_size=47>,\n",
       " <ZipInfo filename='issues/adobe_xdm_305.txt' compress_type=deflate filemode='-rw-rw-r--' file_size=164 compress_size=113>,\n",
       " <ZipInfo filename='issues/mozilla_bedrock_1603.txt' compress_type=deflate filemode='-rw-rw-r--' file_size=113 compress_size=103>,\n",
       " <ZipInfo filename='issues/CVE-2016-10512.txt' compress_type=deflate filemode='-rw-rw-r--' file_size=291 compress_size=198>,\n",
       " <ZipInfo filename='issues/CVE-2018-11342.txt' compress_type=deflate filemode='-rw-rw-r--' file_size=205 compress_size=155>,\n",
       " <ZipInfo filename='issues/CVE-2014-6468.txt' compress_type=deflate filemode='-rw-rw-r--' file_size=163 compress_size=127>,\n",
       " <ZipInfo filename='issues/CVE-2014-0100.txt' compress_type=deflate filemode='-rw-rw-r--' file_size=323 compress_size=221>,\n",
       " <ZipInfo filename='issues/symfony_symfony_18938.txt' compress_type=deflate filemode='-rw-rw-r--' file_size=727 compress_size=362>,\n",
       " <ZipInfo filename='issues/adobe_xdm_440.txt' compress_type=deflate filemode='-rw-rw-r--' file_size=178 compress_size=126>,\n",
       " <ZipInfo filename='issues/mozilla_bedrock_7149.txt' compress_type=deflate filemode='-rw-rw-r--' file_size=422 compress_size=259>,\n",
       " <ZipInfo filename='issues/mozilla_bedrock_4022.txt' compress_type=deflate filemode='-rw-rw-r--' file_size=334 compress_size=233>,\n",
       " <ZipInfo filename='issues/kubernetes_kubeadm_280.txt' compress_type=deflate filemode='-rw-rw-r--' file_size=1449 compress_size=704>,\n",
       " <ZipInfo filename='issues/CVE-2018-19980.txt' compress_type=deflate filemode='-rw-rw-r--' file_size=209 compress_size=162>,\n",
       " <ZipInfo filename='issues/CVE-2016-6734.txt' compress_type=deflate filemode='-rw-rw-r--' file_size=424 compress_size=284>,\n",
       " <ZipInfo filename='issues/GoogleCloudPlatform_open-match_422.txt' compress_type=deflate filemode='-rw-rw-r--' file_size=112 compress_size=91>,\n",
       " <ZipInfo filename='issues/CVE-2015-2404.txt' compress_type=deflate filemode='-rw-rw-r--' file_size=331 compress_size=204>,\n",
       " <ZipInfo filename='issues/apache_incubator-druid_4870.txt' compress_type=deflate filemode='-rw-rw-r--' file_size=354 compress_size=208>,\n",
       " <ZipInfo filename='issues/CVE-2017-7939.txt' compress_type=deflate filemode='-rw-rw-r--' file_size=198 compress_size=146>,\n",
       " <ZipInfo filename='issues/GoogleCloudPlatform_magic-modules_1016.txt' compress_type=deflate filemode='-rw-rw-r--' file_size=192 compress_size=144>,\n",
       " <ZipInfo filename='issues/CVE-2017-8974.txt' compress_type=deflate filemode='-rw-rw-r--' file_size=225 compress_size=152>,\n",
       " <ZipInfo filename='issues/CVE-2018-6192.txt' compress_type=deflate filemode='-rw-rw-r--' file_size=198 compress_size=149>,\n",
       " <ZipInfo filename='issues/CVE-2015-0970.txt' compress_type=deflate filemode='-rw-rw-r--' file_size=146 compress_size=121>,\n",
       " <ZipInfo filename='issues/GoogleCloudPlatform_python-docs-samples_1111.txt' compress_type=deflate filemode='-rw-rw-r--' file_size=62 compress_size=61>,\n",
       " <ZipInfo filename='issues/CVE-2017-15793.txt' compress_type=deflate filemode='-rw-rw-r--' file_size=307 compress_size=213>,\n",
       " <ZipInfo filename='issues/mozilla_addons-frontend_3702.txt' compress_type=deflate filemode='-rw-rw-r--' file_size=237 compress_size=157>,\n",
       " <ZipInfo filename='issues/mozilla_addons-frontend_4241.txt' compress_type=deflate filemode='-rw-rw-r--' file_size=62 compress_size=61>,\n",
       " <ZipInfo filename='issues/CVE-2018-0975.txt' compress_type=deflate filemode='-rw-rw-r--' file_size=617 compress_size=273>,\n",
       " <ZipInfo filename='issues/CVE-2017-15729.txt' compress_type=deflate filemode='-rw-rw-r--' file_size=92 compress_size=90>,\n",
       " <ZipInfo filename='issues/mapbox_mapbox-java_957.txt' compress_type=deflate filemode='-rw-rw-r--' file_size=189 compress_size=138>,\n",
       " <ZipInfo filename='issues/symfony_symfony_26774.txt' compress_type=deflate filemode='-rw-rw-r--' file_size=297 compress_size=211>,\n",
       " <ZipInfo filename='issues/GoogleCloudPlatform_deploymentmanager-samples_436.txt' compress_type=deflate filemode='-rw-rw-r--' file_size=291 compress_size=184>,\n",
       " <ZipInfo filename='issues/CVE-2014-3712.txt' compress_type=deflate filemode='-rw-rw-r--' file_size=309 compress_size=187>,\n",
       " <ZipInfo filename='issues/CVE-2018-8619.txt' compress_type=deflate filemode='-rw-rw-r--' file_size=300 compress_size=163>,\n",
       " <ZipInfo filename='issues/CVE-2018-10428.txt' compress_type=deflate filemode='-rw-rw-r--' file_size=182 compress_size=136>,\n",
       " <ZipInfo filename='issues/CVE-2017-13785.txt' compress_type=deflate filemode='-rw-rw-r--' file_size=422 compress_size=236>,\n",
       " <ZipInfo filename='issues/GoogleCloudPlatform_deploymentmanager-samples_209.txt' filemode='-rw-rw-r--' file_size=53>,\n",
       " <ZipInfo filename='issues/CVE-2017-3288.txt' compress_type=deflate filemode='-rw-rw-r--' file_size=772 compress_size=409>,\n",
       " <ZipInfo filename='issues/mozilla_fxa_377.txt' compress_type=deflate filemode='-rw-rw-r--' file_size=124 compress_size=91>,\n",
       " <ZipInfo filename='issues/CVE-2017-7515.txt' compress_type=deflate filemode='-rw-rw-r--' file_size=130 compress_size=101>,\n",
       " <ZipInfo filename='issues/GoogleCloudPlatform_django-cloud-deploy_263.txt' compress_type=deflate filemode='-rw-rw-r--' file_size=667 compress_size=427>,\n",
       " <ZipInfo filename='issues/microsoft_pxt-adafruit_575.txt' compress_type=deflate filemode='-rw-rw-r--' file_size=1467 compress_size=685>,\n",
       " <ZipInfo filename='issues/GoogleCloudPlatform_PerfKitBenchmarker_177.txt' compress_type=deflate filemode='-rw-rw-r--' file_size=3061 compress_size=584>,\n",
       " <ZipInfo filename='issues/google_caja_1654.txt' compress_type=deflate filemode='-rw-rw-r--' file_size=2422 compress_size=1153>,\n",
       " <ZipInfo filename='issues/GoogleCloudPlatform_getting-started-java_321.txt' compress_type=deflate filemode='-rw-rw-r--' file_size=268 compress_size=187>,\n",
       " <ZipInfo filename='issues/CVE-2017-8763.txt' compress_type=deflate filemode='-rw-rw-r--' file_size=242 compress_size=190>,\n",
       " <ZipInfo filename='issues/mozilla_bedrock_2672.txt' compress_type=deflate filemode='-rw-rw-r--' file_size=774 compress_size=452>,\n",
       " <ZipInfo filename='issues/brave_browser-laptop_15081.txt' compress_type=deflate filemode='-rw-rw-r--' file_size=598 compress_size=335>,\n",
       " <ZipInfo filename='issues/CVE-2018-8221.txt' compress_type=deflate filemode='-rw-rw-r--' file_size=415 compress_size=233>,\n",
       " <ZipInfo filename='issues/adobe_xdm_222.txt' compress_type=deflate filemode='-rw-rw-r--' file_size=385 compress_size=257>,\n",
       " <ZipInfo filename='issues/kubernetes_kubernetes_29589.txt' compress_type=deflate filemode='-rw-rw-r--' file_size=247 compress_size=176>,\n",
       " <ZipInfo filename='issues/microsoft_pxt-adafruit_409.txt' compress_type=deflate filemode='-rw-rw-r--' file_size=216 compress_size=159>,\n",
       " <ZipInfo filename='issues/CVE-2017-0188.txt' compress_type=deflate filemode='-rw-rw-r--' file_size=448 compress_size=251>,\n",
       " <ZipInfo filename='issues/CVE-2016-3378.txt' compress_type=deflate filemode='-rw-rw-r--' file_size=343 compress_size=190>,\n",
       " <ZipInfo filename='issues/symfony_symfony_30151.txt' compress_type=deflate filemode='-rw-rw-r--' file_size=2080 compress_size=924>,\n",
       " <ZipInfo filename='issues/brave_browser-laptop_15158.txt' compress_type=deflate filemode='-rw-rw-r--' file_size=17735 compress_size=5922>,\n",
       " <ZipInfo filename='issues/mozilla_bedrock_2449.txt' compress_type=deflate filemode='-rw-rw-r--' file_size=79 compress_size=78>,\n",
       " <ZipInfo filename='issues/CVE-2015-4152.txt' compress_type=deflate filemode='-rw-rw-r--' file_size=219 compress_size=155>,\n",
       " <ZipInfo filename='issues/GoogleCloudPlatform_grpc-gcp-node_14.txt' compress_type=deflate filemode='-rw-rw-r--' file_size=2930 compress_size=1332>,\n",
       " <ZipInfo filename='issues/CVE-2017-17577.txt' compress_type=deflate filemode='-rw-rw-r--' file_size=126 compress_size=99>,\n",
       " <ZipInfo filename='issues/mozilla_kuma_2281.txt' filemode='-rw-rw-r--' file_size=68>,\n",
       " <ZipInfo filename='issues/CVE-2014-6187.txt' compress_type=deflate filemode='-rw-rw-r--' file_size=312 compress_size=209>,\n",
       " <ZipInfo filename='issues/CVE-2017-12378.txt' compress_type=deflate filemode='-rw-rw-r--' file_size=525 compress_size=296>,\n",
       " <ZipInfo filename='issues/CVE-2018-13097.txt' compress_type=deflate filemode='-rw-rw-r--' file_size=235 compress_size=177>,\n",
       " <ZipInfo filename='issues/CVE-2014-8524.txt' compress_type=deflate filemode='-rw-rw-r--' file_size=218 compress_size=161>,\n",
       " <ZipInfo filename='issues/CVE-2017-6650.txt' compress_type=deflate filemode='-rw-rw-r--' file_size=559 compress_size=310>,\n",
       " <ZipInfo filename='issues/CVE-2015-1092.txt' compress_type=deflate filemode='-rw-rw-r--' file_size=245 compress_size=172>,\n",
       " <ZipInfo filename='issues/GoogleCloudPlatform_magic-modules_188.txt' compress_type=deflate filemode='-rw-rw-r--' file_size=458 compress_size=238>,\n",
       " <ZipInfo filename='issues/symfony_symfony_29206.txt' compress_type=deflate filemode='-rw-rw-r--' file_size=216 compress_size=164>,\n",
       " <ZipInfo filename='issues/CVE-2017-12763.txt' compress_type=deflate filemode='-rw-rw-r--' file_size=159 compress_size=127>,\n",
       " <ZipInfo filename='issues/CVE-2017-13890.txt' compress_type=deflate filemode='-rw-rw-r--' file_size=245 compress_size=166>,\n",
       " <ZipInfo filename='issues/CVE-2018-4032.txt' compress_type=deflate filemode='-rw-rw-r--' file_size=294 compress_size=178>,\n",
       " <ZipInfo filename='issues/CVE-2016-5100.txt' compress_type=deflate filemode='-rw-rw-r--' file_size=179 compress_size=135>,\n",
       " <ZipInfo filename='issues/mozilla_bedrock_1868.txt' compress_type=deflate filemode='-rw-rw-r--' file_size=176 compress_size=138>,\n",
       " <ZipInfo filename='issues/GoogleCloudPlatform_magic-modules_956.txt' compress_type=deflate filemode='-rw-rw-r--' file_size=195 compress_size=127>,\n",
       " <ZipInfo filename='issues/CVE-2016-9444.txt' compress_type=deflate filemode='-rw-rw-r--' file_size=228 compress_size=161>,\n",
       " <ZipInfo filename='issues/CVE-2016-6084.txt' compress_type=deflate filemode='-rw-rw-r--' file_size=134 compress_size=113>,\n",
       " <ZipInfo filename='issues/CVE-2018-1000123.txt' compress_type=deflate filemode='-rw-rw-r--' file_size=456 compress_size=287>,\n",
       " <ZipInfo filename='issues/CVE-2014-7468.txt' compress_type=deflate filemode='-rw-rw-r--' file_size=253 compress_size=182>,\n",
       " <ZipInfo filename='issues/GoogleCloudPlatform_terraformer_23.txt' filemode='-rw-rw-r--' file_size=68>,\n",
       " <ZipInfo filename='issues/CVE-2016-7188.txt' compress_type=deflate filemode='-rw-rw-r--' file_size=270 compress_size=187>,\n",
       " <ZipInfo filename='issues/CVE-2017-5121.txt' compress_type=deflate filemode='-rw-rw-r--' file_size=244 compress_size=184>,\n",
       " <ZipInfo filename='issues/CVE-2018-0045.txt' compress_type=deflate filemode='-rw-rw-r--' file_size=1719 compress_size=717>,\n",
       " <ZipInfo filename='issues/GoogleCloudPlatform_getting-started-java_404.txt' compress_type=deflate filemode='-rw-rw-r--' file_size=13053 compress_size=1335>,\n",
       " <ZipInfo filename='issues/CVE-2015-6986.txt' compress_type=deflate filemode='-rw-rw-r--' file_size=195 compress_size=151>,\n",
       " <ZipInfo filename='issues/CVE-2015-1079.txt' compress_type=deflate filemode='-rw-rw-r--' file_size=306 compress_size=218>,\n",
       " <ZipInfo filename='issues/mozilla_addons-frontend_1287.txt' compress_type=deflate filemode='-rw-rw-r--' file_size=72 compress_size=67>,\n",
       " <ZipInfo filename='issues/GoogleCloudPlatform_magic-modules_4.txt' compress_type=deflate filemode='-rw-rw-r--' file_size=331 compress_size=197>,\n",
       " <ZipInfo filename='issues/mozilla_blurts-server_723.txt' compress_type=deflate filemode='-rw-rw-r--' file_size=311 compress_size=218>,\n",
       " <ZipInfo filename='issues/CVE-2018-4938.txt' compress_type=deflate filemode='-rw-rw-r--' file_size=219 compress_size=145>,\n",
       " <ZipInfo filename='issues/mozilla_addons-frontend_7409.txt' compress_type=deflate filemode='-rw-rw-r--' file_size=176 compress_size=131>,\n",
       " <ZipInfo filename='issues/CVE-2016-9367.txt' compress_type=deflate filemode='-rw-rw-r--' file_size=788 compress_size=270>,\n",
       " <ZipInfo filename='issues/GoogleCloudPlatform_nodejs-docs-samples_464.txt' compress_type=deflate filemode='-rw-rw-r--' file_size=359 compress_size=216>,\n",
       " <ZipInfo filename='issues/CVE-2016-7143.txt' compress_type=deflate filemode='-rw-rw-r--' file_size=210 compress_size=162>,\n",
       " <ZipInfo filename='issues/mozilla_bedrock_4369.txt' compress_type=deflate filemode='-rw-rw-r--' file_size=124 compress_size=96>,\n",
       " <ZipInfo filename='issues/adobe_xdm_286.txt' compress_type=deflate filemode='-rw-rw-r--' file_size=376 compress_size=211>,\n",
       " <ZipInfo filename='issues/mozilla_kuma_3179.txt' compress_type=deflate filemode='-rw-rw-r--' file_size=97 compress_size=93>,\n",
       " <ZipInfo filename='issues/nodejs_node_23640.txt' compress_type=deflate filemode='-rw-rw-r--' file_size=300 compress_size=204>,\n",
       " <ZipInfo filename='issues/CVE-2017-6711.txt' compress_type=deflate filemode='-rw-rw-r--' file_size=719 compress_size=376>,\n",
       " <ZipInfo filename='issues/CVE-2016-0234.txt' compress_type=deflate filemode='-rw-rw-r--' file_size=214 compress_size=170>,\n",
       " <ZipInfo filename='issues/CVE-2017-11457.txt' compress_type=deflate filemode='-rw-rw-r--' file_size=270 compress_size=205>,\n",
       " <ZipInfo filename='issues/CVE-2018-19548.txt' compress_type=deflate filemode='-rw-rw-r--' file_size=236 compress_size=174>,\n",
       " <ZipInfo filename='issues/CVE-2016-5647.txt' compress_type=deflate filemode='-rw-rw-r--' file_size=255 compress_size=182>,\n",
       " <ZipInfo filename='issues/CVE-2017-10904.txt' compress_type=deflate filemode='-rw-rw-r--' file_size=112 compress_size=99>,\n",
       " <ZipInfo filename='issues/brave_browser-laptop_15218.txt' compress_type=deflate filemode='-rw-rw-r--' file_size=1372 compress_size=572>,\n",
       " <ZipInfo filename='issues/CVE-2015-4620.txt' compress_type=deflate filemode='-rw-rw-r--' file_size=337 compress_size=235>,\n",
       " <ZipInfo filename='issues/microsoft_botbuilder-dotnet_1769.txt' filemode='-rw-rw-r--' file_size=53>,\n",
       " <ZipInfo filename='issues/mozilla_bedrock_6207.txt' compress_type=deflate filemode='-rw-rw-r--' file_size=434 compress_size=276>,\n",
       " <ZipInfo filename='issues/mozilla_addons-frontend_4234.txt' compress_type=deflate filemode='-rw-rw-r--' file_size=480 compress_size=293>,\n",
       " <ZipInfo filename='issues/GoogleCloudPlatform_magic-modules_1732.txt' compress_type=deflate filemode='-rw-rw-r--' file_size=119 compress_size=91>,\n",
       " <ZipInfo filename='issues/CVE-2014-0558.txt' compress_type=deflate filemode='-rw-rw-r--' file_size=398 compress_size=250>,\n",
       " <ZipInfo filename='issues/CVE-2018-1000635.txt' compress_type=deflate filemode='-rw-rw-r--' file_size=311 compress_size=207>,\n",
       " <ZipInfo filename='issues/CVE-2017-2344.txt' compress_type=deflate filemode='-rw-rw-r--' file_size=1259 compress_size=593>,\n",
       " <ZipInfo filename='issues/mozilla_addons-frontend_3827.txt' compress_type=deflate filemode='-rw-rw-r--' file_size=304 compress_size=204>,\n",
       " <ZipInfo filename='issues/GoogleCloudPlatform_open-match_125.txt' compress_type=deflate filemode='-rw-rw-r--' file_size=196 compress_size=142>,\n",
       " <ZipInfo filename='issues/GoogleCloudPlatform_java-docs-samples_739.txt' compress_type=deflate filemode='-rw-rw-r--' file_size=230 compress_size=164>,\n",
       " <ZipInfo filename='issues/GoogleCloudPlatform_layer-definitions_123.txt' filemode='-rw-rw-r--' file_size=63>,\n",
       " <ZipInfo filename='issues/CVE-2015-5347.txt' compress_type=deflate filemode='-rw-rw-r--' file_size=319 compress_size=220>,\n",
       " <ZipInfo filename='issues/CVE-2016-2126.txt' compress_type=deflate filemode='-rw-rw-r--' file_size=377 compress_size=231>,\n",
       " <ZipInfo filename='issues/CVE-2014-9715.txt' compress_type=deflate filemode='-rw-rw-r--' file_size=391 compress_size=261>,\n",
       " <ZipInfo filename='issues/GoogleCloudPlatform_django-cloud-deploy_40.txt' compress_type=deflate filemode='-rw-rw-r--' file_size=5198 compress_size=1064>,\n",
       " <ZipInfo filename='issues/mozilla_bedrock_2451.txt' compress_type=deflate filemode='-rw-rw-r--' file_size=113 compress_size=97>,\n",
       " <ZipInfo filename='issues/mozilla_kuma_1509.txt' compress_type=deflate filemode='-rw-rw-r--' file_size=334 compress_size=215>,\n",
       " <ZipInfo filename='issues/CVE-2017-18079.txt' compress_type=deflate filemode='-rw-rw-r--' file_size=259 compress_size=188>,\n",
       " <ZipInfo filename='issues/GoogleCloudPlatform_magic-modules_892.txt' compress_type=deflate filemode='-rw-rw-r--' file_size=309 compress_size=174>,\n",
       " <ZipInfo filename='issues/adobe_xdm_57.txt' compress_type=deflate filemode='-rw-rw-r--' file_size=206 compress_size=131>,\n",
       " <ZipInfo filename='issues/CVE-2014-9705.txt' compress_type=deflate filemode='-rw-rw-r--' file_size=272 compress_size=186>,\n",
       " <ZipInfo filename='issues/CVE-2018-8058.txt' compress_type=deflate filemode='-rw-rw-r--' file_size=95 compress_size=87>,\n",
       " <ZipInfo filename='issues/GoogleCloudPlatform_nodejs-getting-started_137.txt' filemode='-rw-rw-r--' file_size=86>,\n",
       " <ZipInfo filename='issues/GoogleCloudPlatform_python-docs-samples_1369.txt' filemode='-rw-rw-r--' file_size=61>,\n",
       " <ZipInfo filename='issues/GoogleCloudPlatform_magic-modules_1671.txt' compress_type=deflate filemode='-rw-rw-r--' file_size=245 compress_size=163>,\n",
       " <ZipInfo filename='issues/CVE-2015-5481.txt' compress_type=deflate filemode='-rw-rw-r--' file_size=264 compress_size=189>,\n",
       " <ZipInfo filename='issues/CVE-2017-16710.txt' compress_type=deflate filemode='-rw-rw-r--' file_size=238 compress_size=165>,\n",
       " <ZipInfo filename='issues/CVE-2018-1000512.txt' compress_type=deflate filemode='-rw-rw-r--' file_size=316 compress_size=207>,\n",
       " <ZipInfo filename='issues/GoogleCloudPlatform_nodejs-docs-samples_826.txt' compress_type=deflate filemode='-rw-rw-r--' file_size=67 compress_size=64>,\n",
       " <ZipInfo filename='issues/GoogleCloudPlatform_PerfKitBenchmarker_1909.txt' filemode='-rw-rw-r--' file_size=46>,\n",
       " <ZipInfo filename='issues/CVE-2018-19192.txt' compress_type=deflate filemode='-rw-rw-r--' file_size=161 compress_size=135>,\n",
       " <ZipInfo filename='issues/CVE-2018-7187.txt' compress_type=deflate filemode='-rw-rw-r--' file_size=269 compress_size=193>,\n",
       " <ZipInfo filename='issues/CVE-2014-1642.txt' compress_type=deflate filemode='-rw-rw-r--' file_size=422 compress_size=276>,\n",
       " <ZipInfo filename='issues/mozilla_kuma_1060.txt' compress_type=deflate filemode='-rw-rw-r--' file_size=57 compress_size=53>,\n",
       " <ZipInfo filename='issues/GoogleCloudPlatform_php-docs-samples_408.txt' compress_type=deflate filemode='-rw-rw-r--' file_size=66 compress_size=64>,\n",
       " <ZipInfo filename='issues/CVE-2016-7545.txt' compress_type=deflate filemode='-rw-rw-r--' file_size=130 compress_size=108>,\n",
       " <ZipInfo filename='issues/mozilla_fxa_146.txt' filemode='-rw-rw-r--' file_size=34>,\n",
       " <ZipInfo filename='issues/CVE-2018-20327.txt' compress_type=deflate filemode='-rw-rw-r--' file_size=322 compress_size=215>,\n",
       " <ZipInfo filename='issues/google_fonts_963.txt' compress_type=deflate filemode='-rw-rw-r--' file_size=136 compress_size=108>,\n",
       " <ZipInfo filename='issues/mozilla_bedrock_5273.txt' compress_type=deflate filemode='-rw-rw-r--' file_size=110 compress_size=88>,\n",
       " <ZipInfo filename='issues/CVE-2018-8408.txt' compress_type=deflate filemode='-rw-rw-r--' file_size=368 compress_size=178>,\n",
       " <ZipInfo filename='issues/GoogleCloudPlatform_magic-modules_1047.txt' compress_type=deflate filemode='-rw-rw-r--' file_size=199 compress_size=104>,\n",
       " <ZipInfo filename='issues/mozilla_addons-frontend_7327.txt' compress_type=deflate filemode='-rw-rw-r--' file_size=1275 compress_size=517>,\n",
       " <ZipInfo filename='issues/mozilla_kuma_1217.txt' compress_type=deflate filemode='-rw-rw-r--' file_size=158 compress_size=117>,\n",
       " <ZipInfo filename='issues/GoogleCloudPlatform_python-docs-samples_901.txt' filemode='-rw-rw-r--' file_size=47>,\n",
       " <ZipInfo filename='issues/CVE-2017-9517.txt' compress_type=deflate filemode='-rw-rw-r--' file_size=89 compress_size=85>,\n",
       " <ZipInfo filename='issues/mozilla_bedrock_1586.txt' compress_type=deflate filemode='-rw-rw-r--' file_size=134 compress_size=108>,\n",
       " <ZipInfo filename='issues/mozilla_bedrock_5084.txt' compress_type=deflate filemode='-rw-rw-r--' file_size=89 compress_size=88>,\n",
       " <ZipInfo filename='issues/CVE-2017-7317.txt' compress_type=deflate filemode='-rw-rw-r--' file_size=150 compress_size=123>,\n",
       " <ZipInfo filename='issues/CVE-2014-5783.txt' compress_type=deflate filemode='-rw-rw-r--' file_size=302 compress_size=207>,\n",
       " <ZipInfo filename='issues/CVE-2014-6497.txt' compress_type=deflate filemode='-rw-rw-r--' file_size=132 compress_size=105>,\n",
       " <ZipInfo filename='issues/mozilla_bedrock_301.txt' compress_type=deflate filemode='-rw-rw-r--' file_size=53 compress_size=52>,\n",
       " <ZipInfo filename='issues/symfony_symfony_21349.txt' compress_type=deflate filemode='-rw-rw-r--' file_size=908 compress_size=480>,\n",
       " <ZipInfo filename='issues/CVE-2015-5177.txt' compress_type=deflate filemode='-rw-rw-r--' file_size=181 compress_size=143>,\n",
       " <ZipInfo filename='issues/CVE-2013-5400.txt' compress_type=deflate filemode='-rw-rw-r--' file_size=240 compress_size=185>,\n",
       " <ZipInfo filename='issues/mozilla_bedrock_3609.txt' compress_type=deflate filemode='-rw-rw-r--' file_size=126 compress_size=112>,\n",
       " <ZipInfo filename='issues/mozilla_addons-frontend_695.txt' compress_type=deflate filemode='-rw-rw-r--' file_size=2377 compress_size=1283>,\n",
       " <ZipInfo filename='issues/kubernetes_kubernetes_76266.txt' compress_type=deflate filemode='-rw-rw-r--' file_size=2024 compress_size=895>,\n",
       " <ZipInfo filename='issues/CVE-2017-5192.txt' compress_type=deflate filemode='-rw-rw-r--' file_size=228 compress_size=149>,\n",
       " <ZipInfo filename='issues/adobe_xdm_295.txt' filemode='-rw-rw-r--' file_size=80>,\n",
       " <ZipInfo filename='issues/GoogleCloudPlatform_compute-image-tools_524.txt' compress_type=deflate filemode='-rw-rw-r--' file_size=250 compress_size=167>,\n",
       " <ZipInfo filename='issues/mozilla_bedrock_5754.txt' compress_type=deflate filemode='-rw-rw-r--' file_size=81 compress_size=72>,\n",
       " <ZipInfo filename='issues/mozilla_fxa_1009.txt' compress_type=deflate filemode='-rw-rw-r--' file_size=287 compress_size=183>,\n",
       " <ZipInfo filename='issues/CVE-2014-5545.txt' compress_type=deflate filemode='-rw-rw-r--' file_size=240 compress_size=174>,\n",
       " <ZipInfo filename='issues/mozilla_bedrock_1088.txt' compress_type=deflate filemode='-rw-rw-r--' file_size=81 compress_size=80>,\n",
       " <ZipInfo filename='issues/CVE-2014-9815.txt' compress_type=deflate filemode='-rw-rw-r--' file_size=109 compress_size=92>,\n",
       " <ZipInfo filename='issues/CVE-2017-15108.txt' compress_type=deflate filemode='-rw-rw-r--' file_size=220 compress_size=154>,\n",
       " <ZipInfo filename='issues/google_caja_1958.txt' compress_type=deflate filemode='-rw-rw-r--' file_size=781 compress_size=503>,\n",
       " <ZipInfo filename='issues/CVE-2018-10723.txt' compress_type=deflate filemode='-rw-rw-r--' file_size=118 compress_size=105>,\n",
       " <ZipInfo filename='issues/symfony_symfony-docs_8958.txt' compress_type=deflate filemode='-rw-rw-r--' file_size=75 compress_size=70>,\n",
       " <ZipInfo filename='issues/GoogleCloudPlatform_python-docs-samples_725.txt' compress_type=deflate filemode='-rw-rw-r--' file_size=77 compress_size=72>,\n",
       " <ZipInfo filename='issues/plotly_dash-table_399.txt' compress_type=deflate filemode='-rw-rw-r--' file_size=17940 compress_size=6819>,\n",
       " <ZipInfo filename='issues/GoogleCloudPlatform_deploymentmanager-samples_168.txt' compress_type=deflate filemode='-rw-rw-r--' file_size=111 compress_size=84>,\n",
       " <ZipInfo filename='issues/CVE-2016-2075.txt' compress_type=deflate filemode='-rw-rw-r--' file_size=217 compress_size=171>,\n",
       " <ZipInfo filename='issues/CVE-2016-5541.txt' compress_type=deflate filemode='-rw-rw-r--' file_size=635 compress_size=357>,\n",
       " <ZipInfo filename='issues/CVE-2018-11013.txt' compress_type=deflate filemode='-rw-rw-r--' file_size=242 compress_size=186>,\n",
       " <ZipInfo filename='issues/CVE-2018-18776.txt' compress_type=deflate filemode='-rw-rw-r--' file_size=218 compress_size=170>,\n",
       " <ZipInfo filename='issues/CVE-2016-10484.txt' compress_type=deflate filemode='-rw-rw-r--' file_size=581 compress_size=324>,\n",
       " <ZipInfo filename='issues/Microsoft_service-fabric_143.txt' compress_type=deflate filemode='-rw-rw-r--' file_size=998 compress_size=517>,\n",
       " <ZipInfo filename='issues/CVE-2016-4144.txt' compress_type=deflate filemode='-rw-rw-r--' file_size=271 compress_size=190>,\n",
       " <ZipInfo filename='issues/GoogleCloudPlatform_python-docs-samples_1254.txt' compress_type=deflate filemode='-rw-rw-r--' file_size=105 compress_size=89>,\n",
       " <ZipInfo filename='issues/CVE-2016-7392.txt' compress_type=deflate filemode='-rw-rw-r--' file_size=216 compress_size=159>,\n",
       " <ZipInfo filename='issues/CVE-2016-0987.txt' compress_type=deflate filemode='-rw-rw-r--' file_size=525 compress_size=265>,\n",
       " <ZipInfo filename='issues/mozilla_Spoke_140.txt' compress_type=deflate filemode='-rw-rw-r--' file_size=278 compress_size=157>,\n",
       " <ZipInfo filename='issues/CVE-2018-13497.txt' compress_type=deflate filemode='-rw-rw-r--' file_size=207 compress_size=140>,\n",
       " <ZipInfo filename='issues/mozilla_addons-frontend_2125.txt' compress_type=deflate filemode='-rw-rw-r--' file_size=185 compress_size=146>,\n",
       " <ZipInfo filename='issues/mozilla_identity-ops_169.txt' compress_type=deflate filemode='-rw-rw-r--' file_size=1375 compress_size=674>,\n",
       " <ZipInfo filename='issues/CVE-2017-5788.txt' compress_type=deflate filemode='-rw-rw-r--' file_size=148 compress_size=125>,\n",
       " <ZipInfo filename='issues/GoogleCloudPlatform_storage-sdrs_82.txt' compress_type=deflate filemode='-rw-rw-r--' file_size=170 compress_size=128>,\n",
       " <ZipInfo filename='issues/CVE-2018-15396.txt' compress_type=deflate filemode='-rw-rw-r--' file_size=732 compress_size=388>,\n",
       " <ZipInfo filename='issues/CVE-2018-15707.txt' compress_type=deflate filemode='-rw-rw-r--' file_size=195 compress_size=142>,\n",
       " <ZipInfo filename='issues/GoogleCloudPlatform_compute-image-packages_22.txt' compress_type=deflate filemode='-rw-rw-r--' file_size=201 compress_size=143>,\n",
       " <ZipInfo filename='issues/GoogleCloudPlatform_python-docs-samples_1335.txt' compress_type=deflate filemode='-rw-rw-r--' file_size=110 compress_size=95>,\n",
       " <ZipInfo filename='issues/GoogleCloudPlatform_php-docs-samples_293.txt' compress_type=deflate filemode='-rw-rw-r--' file_size=65 compress_size=64>,\n",
       " <ZipInfo filename='issues/GoogleCloudPlatform_python-docs-samples_152.txt' compress_type=deflate filemode='-rw-rw-r--' file_size=88 compress_size=80>,\n",
       " <ZipInfo filename='issues/CVE-2017-11783.txt' compress_type=deflate filemode='-rw-rw-r--' file_size=294 compress_size=182>,\n",
       " <ZipInfo filename='issues/mozilla_bedrock_1531.txt' compress_type=deflate filemode='-rw-rw-r--' file_size=79 compress_size=78>,\n",
       " <ZipInfo filename='issues/mozilla_kuma_1319.txt' compress_type=deflate filemode='-rw-rw-r--' file_size=265 compress_size=186>,\n",
       " <ZipInfo filename='issues/CVE-2014-0522.txt' compress_type=deflate filemode='-rw-rw-r--' file_size=285 compress_size=196>,\n",
       " <ZipInfo filename='issues/CVE-2016-5424.txt' compress_type=deflate filemode='-rw-rw-r--' file_size=399 compress_size=264>,\n",
       " <ZipInfo filename='issues/GoogleCloudPlatform_training-data-analyst_395.txt' compress_type=deflate filemode='-rw-rw-r--' file_size=100 compress_size=53>,\n",
       " <ZipInfo filename='issues/mozilla_kuma_3272.txt' compress_type=deflate filemode='-rw-rw-r--' file_size=106 compress_size=96>,\n",
       " <ZipInfo filename='issues/microsoft_botbuilder-dotnet_1063.txt' compress_type=deflate filemode='-rw-rw-r--' file_size=1373 compress_size=700>,\n",
       " <ZipInfo filename='issues/GoogleCloudPlatform_PerfKitBenchmarker_991.txt' compress_type=deflate filemode='-rw-rw-r--' file_size=134 compress_size=122>,\n",
       " <ZipInfo filename='issues/GoogleCloudPlatform_container-engine-accelerators_34.txt' compress_type=deflate filemode='-rw-rw-r--' file_size=121 compress_size=99>,\n",
       " <ZipInfo filename='issues/CVE-2017-17571.txt' filemode='-rw-rw-r--' file_size=75>,\n",
       " <ZipInfo filename='issues/CVE-2016-6632.txt' compress_type=deflate filemode='-rw-rw-r--' file_size=273 compress_size=174>,\n",
       " <ZipInfo filename='issues/nodejs_node_9823.txt' compress_type=deflate filemode='-rw-rw-r--' file_size=2171 compress_size=936>,\n",
       " <ZipInfo filename='issues/google_end-to-end_397.txt' compress_type=deflate filemode='-rw-rw-r--' file_size=24 compress_size=22>,\n",
       " <ZipInfo filename='issues/mozilla_activity-stream_3013.txt' compress_type=deflate filemode='-rw-rw-r--' file_size=316 compress_size=223>,\n",
       " <ZipInfo filename='issues/CVE-2015-5287.txt' compress_type=deflate filemode='-rw-rw-r--' file_size=292 compress_size=196>,\n",
       " <ZipInfo filename='issues/CVE-2018-6061.txt' compress_type=deflate filemode='-rw-rw-r--' file_size=190 compress_size=150>,\n",
       " <ZipInfo filename='issues/google_caja_1891.txt' compress_type=deflate filemode='-rw-rw-r--' file_size=459 compress_size=294>,\n",
       " <ZipInfo filename='issues/mozilla_bedrock_5098.txt' compress_type=deflate filemode='-rw-rw-r--' file_size=709 compress_size=430>,\n",
       " <ZipInfo filename='issues/microsoft_pxt-adafruit_589.txt' compress_type=deflate filemode='-rw-rw-r--' file_size=605 compress_size=335>,\n",
       " <ZipInfo filename='issues/CVE-2015-2769.txt' compress_type=deflate filemode='-rw-rw-r--' file_size=232 compress_size=183>,\n",
       " <ZipInfo filename='issues/CVE-2014-5536.txt' compress_type=deflate filemode='-rw-rw-r--' file_size=267 compress_size=190>,\n",
       " <ZipInfo filename='issues/CVE-2017-6678.txt' compress_type=deflate filemode='-rw-rw-r--' file_size=996 compress_size=493>,\n",
       " <ZipInfo filename='issues/CVE-2008-7316.txt' compress_type=deflate filemode='-rw-rw-r--' file_size=232 compress_size=159>,\n",
       " <ZipInfo filename='issues/CVE-2018-1190.txt' compress_type=deflate filemode='-rw-rw-r--' file_size=399 compress_size=254>,\n",
       " <ZipInfo filename='issues/mozilla_kuma_4048.txt' compress_type=deflate filemode='-rw-rw-r--' file_size=180 compress_size=133>,\n",
       " <ZipInfo filename='issues/gitlab_52611.txt' compress_type=deflate filemode='-rw-rw-r--' file_size=5636 compress_size=2291>,\n",
       " <ZipInfo filename='issues/kubernetes_security_17.txt' compress_type=deflate filemode='-rw-rw-r--' file_size=682 compress_size=300>,\n",
       " <ZipInfo filename='issues/gitlab_51848.txt' compress_type=deflate filemode='-rw-rw-r--' file_size=1222 compress_size=602>,\n",
       " <ZipInfo filename='issues/CVE-2017-6340.txt' compress_type=deflate filemode='-rw-rw-r--' file_size=540 compress_size=353>,\n",
       " <ZipInfo filename='issues/GoogleCloudPlatform_golang-samples_391.txt' compress_type=deflate filemode='-rw-rw-r--' file_size=93 compress_size=80>,\n",
       " <ZipInfo filename='issues/microsoft_pxt-adafruit_789.txt' compress_type=deflate filemode='-rw-rw-r--' file_size=130 compress_size=97>,\n",
       " <ZipInfo filename='issues/docker_docker.github.io_8401.txt' compress_type=deflate filemode='-rw-rw-r--' file_size=262 compress_size=182>,\n",
       " <ZipInfo filename='issues/CVE-2019-3575.txt' compress_type=deflate filemode='-rw-rw-r--' file_size=135 compress_size=103>,\n",
       " <ZipInfo filename='issues/CVE-2018-17623.txt' compress_type=deflate filemode='-rw-rw-r--' file_size=555 compress_size=321>,\n",
       " <ZipInfo filename='issues/nodejs_node_21347.txt' compress_type=deflate filemode='-rw-rw-r--' file_size=952 compress_size=551>,\n",
       " <ZipInfo filename='issues/mozilla_addons-frontend_6577.txt' compress_type=deflate filemode='-rw-rw-r--' file_size=626 compress_size=364>,\n",
       " <ZipInfo filename='issues/CVE-2018-16163.txt' compress_type=deflate filemode='-rw-rw-r--' file_size=156 compress_size=115>,\n",
       " <ZipInfo filename='issues/mozilla_bedrock_4353.txt' compress_type=deflate filemode='-rw-rw-r--' file_size=478 compress_size=290>,\n",
       " <ZipInfo filename='issues/CVE-2015-6941.txt' compress_type=deflate filemode='-rw-rw-r--' file_size=150 compress_size=112>,\n",
       " <ZipInfo filename='issues/CVE-2016-1053.txt' compress_type=deflate filemode='-rw-rw-r--' file_size=740 compress_size=274>,\n",
       " <ZipInfo filename='issues/CVE-2014-3558.txt' compress_type=deflate filemode='-rw-rw-r--' file_size=284 compress_size=183>,\n",
       " <ZipInfo filename='issues/mozilla_kuma_1588.txt' compress_type=deflate filemode='-rw-rw-r--' file_size=95 compress_size=81>,\n",
       " <ZipInfo filename='issues/CVE-2014-2873.txt' compress_type=deflate filemode='-rw-rw-r--' file_size=234 compress_size=166>,\n",
       " <ZipInfo filename='issues/mozilla_kuma_1527.txt' compress_type=deflate filemode='-rw-rw-r--' file_size=393 compress_size=248>,\n",
       " <ZipInfo filename='issues/GoogleCloudPlatform_nodejs-docs-samples_1223.txt' compress_type=deflate filemode='-rw-rw-r--' file_size=170 compress_size=120>,\n",
       " <ZipInfo filename='issues/GoogleCloudPlatform_magic-modules_968.txt' compress_type=deflate filemode='-rw-rw-r--' file_size=214 compress_size=131>,\n",
       " <ZipInfo filename='issues/symfony_symfony-docs_11121.txt' compress_type=deflate filemode='-rw-rw-r--' file_size=58 compress_size=54>,\n",
       " <ZipInfo filename='issues/CVE-2014-0544.txt' compress_type=deflate filemode='-rw-rw-r--' file_size=519 compress_size=283>,\n",
       " <ZipInfo filename='issues/GoogleCloudPlatform_oss-test-infra_21.txt' compress_type=deflate filemode='-rw-rw-r--' file_size=80 compress_size=69>,\n",
       " <ZipInfo filename='issues/mozilla_bedrock_5238.txt' compress_type=deflate filemode='-rw-rw-r--' file_size=307 compress_size=222>,\n",
       " <ZipInfo filename='issues/mapbox_mapbox-java_374.txt' compress_type=deflate filemode='-rw-rw-r--' file_size=298 compress_size=205>,\n",
       " <ZipInfo filename='issues/CVE-2017-11663.txt' compress_type=deflate filemode='-rw-rw-r--' file_size=172 compress_size=139>,\n",
       " <ZipInfo filename='issues/CVE-2018-20154.txt' compress_type=deflate filemode='-rw-rw-r--' file_size=137 compress_size=112>,\n",
       " <ZipInfo filename='issues/CVE-2018-0430.txt' compress_type=deflate filemode='-rw-rw-r--' file_size=619 compress_size=279>,\n",
       " <ZipInfo filename='issues/gitlab_41755.txt' compress_type=deflate filemode='-rw-rw-r--' file_size=624 compress_size=372>,\n",
       " <ZipInfo filename='issues/CVE-2015-1311.txt' compress_type=deflate filemode='-rw-rw-r--' file_size=267 compress_size=198>,\n",
       " <ZipInfo filename='issues/google_fonts_1784.txt' filemode='-rw-rw-r--' file_size=37>,\n",
       " <ZipInfo filename='issues/CVE-2015-2367.txt' compress_type=deflate filemode='-rw-rw-r--' file_size=404 compress_size=225>,\n",
       " <ZipInfo filename='issues/CVE-2018-8565.txt' compress_type=deflate filemode='-rw-rw-r--' file_size=360 compress_size=172>,\n",
       " <ZipInfo filename='issues/GoogleCloudPlatform_layer-definitions_109.txt' filemode='-rw-rw-r--' file_size=63>,\n",
       " <ZipInfo filename='issues/mozilla_addons-code-manager_59.txt' compress_type=deflate filemode='-rw-rw-r--' file_size=750 compress_size=451>,\n",
       " <ZipInfo filename='issues/mozilla_bedrock_3233.txt' compress_type=deflate filemode='-rw-rw-r--' file_size=90 compress_size=80>,\n",
       " <ZipInfo filename='issues/GoogleCloudPlatform_golang-samples_121.txt' compress_type=deflate filemode='-rw-rw-r--' file_size=91 compress_size=80>,\n",
       " <ZipInfo filename='issues/CVE-2014-6571.txt' compress_type=deflate filemode='-rw-rw-r--' file_size=295 compress_size=206>,\n",
       " <ZipInfo filename='issues/mozilla_addons-frontend_1268.txt' compress_type=deflate filemode='-rw-rw-r--' file_size=202 compress_size=152>,\n",
       " <ZipInfo filename='issues/GoogleCloudPlatform_magic-modules_1054.txt' compress_type=deflate filemode='-rw-rw-r--' file_size=215 compress_size=130>,\n",
       " <ZipInfo filename='issues/CVE-2018-8374.txt' compress_type=deflate filemode='-rw-rw-r--' file_size=200 compress_size=122>,\n",
       " <ZipInfo filename='issues/CVE-2017-5508.txt' compress_type=deflate filemode='-rw-rw-r--' file_size=211 compress_size=164>,\n",
       " <ZipInfo filename='issues/microsoft_botbuilder-dotnet_1287.txt' compress_type=deflate filemode='-rw-rw-r--' file_size=2301 compress_size=957>,\n",
       " <ZipInfo filename='issues/CVE-2016-1975.txt' compress_type=deflate filemode='-rw-rw-r--' file_size=282 compress_size=203>,\n",
       " <ZipInfo filename='issues/CVE-2014-3188.txt' compress_type=deflate filemode='-rw-rw-r--' file_size=305 compress_size=208>,\n",
       " <ZipInfo filename='issues/CVE-2018-1588.txt' compress_type=deflate filemode='-rw-rw-r--' file_size=328 compress_size=227>,\n",
       " <ZipInfo filename='issues/kubernetes_kubernetes_75984.txt' compress_type=deflate filemode='-rw-rw-r--' file_size=373 compress_size=250>,\n",
       " <ZipInfo filename='issues/CVE-2017-3522.txt' compress_type=deflate filemode='-rw-rw-r--' file_size=798 compress_size=395>,\n",
       " <ZipInfo filename='issues/microsoft_pxt-adafruit_270.txt' compress_type=deflate filemode='-rw-rw-r--' file_size=89 compress_size=80>,\n",
       " <ZipInfo filename='issues/CVE-2017-8524.txt' compress_type=deflate filemode='-rw-rw-r--' file_size=500 compress_size=280>,\n",
       " <ZipInfo filename='issues/CVE-2017-8770.txt' compress_type=deflate filemode='-rw-rw-r--' file_size=171 compress_size=134>,\n",
       " <ZipInfo filename='issues/gitlab_427.txt' compress_type=deflate filemode='-rw-rw-r--' file_size=1608 compress_size=707>,\n",
       " <ZipInfo filename='issues/CVE-2015-8404.txt' compress_type=deflate filemode='-rw-rw-r--' file_size=1196 compress_size=361>,\n",
       " <ZipInfo filename='issues/CVE-2017-1346.txt' compress_type=deflate filemode='-rw-rw-r--' file_size=203 compress_size=159>,\n",
       " <ZipInfo filename='issues/CVE-2015-1755.txt' compress_type=deflate filemode='-rw-rw-r--' file_size=298 compress_size=191>,\n",
       " <ZipInfo filename='issues/CVE-2015-3180.txt' compress_type=deflate filemode='-rw-rw-r--' file_size=264 compress_size=178>,\n",
       " <ZipInfo filename='issues/mozilla_addons-frontend_369.txt' compress_type=deflate filemode='-rw-rw-r--' file_size=324 compress_size=214>,\n",
       " <ZipInfo filename='issues/mozilla_blurts-server_829.txt' filemode='-rw-rw-r--' file_size=70>,\n",
       " <ZipInfo filename='issues/GoogleCloudPlatform_compute-image-tools_194.txt' compress_type=deflate filemode='-rw-rw-r--' file_size=56 compress_size=55>,\n",
       " <ZipInfo filename='issues/CVE-2014-5464.txt' compress_type=deflate filemode='-rw-rw-r--' file_size=207 compress_size=155>,\n",
       " <ZipInfo filename='issues/mozilla_fxa_77.txt' compress_type=deflate filemode='-rw-rw-r--' file_size=266 compress_size=192>,\n",
       " <ZipInfo filename='issues/CVE-2016-2525.txt' compress_type=deflate filemode='-rw-rw-r--' file_size=252 compress_size=176>,\n",
       " <ZipInfo filename='issues/CVE-2018-9073.txt' compress_type=deflate filemode='-rw-rw-r--' file_size=236 compress_size=164>,\n",
       " <ZipInfo filename='issues/CVE-2014-1501.txt' compress_type=deflate filemode='-rw-rw-r--' file_size=193 compress_size=153>,\n",
       " <ZipInfo filename='issues/CVE-2015-4533.txt' compress_type=deflate filemode='-rw-rw-r--' file_size=380 compress_size=256>,\n",
       " <ZipInfo filename='issues/mozilla_addons-frontend_2146.txt' compress_type=deflate filemode='-rw-rw-r--' file_size=84 compress_size=82>,\n",
       " <ZipInfo filename='issues/CVE-2018-16470.txt' compress_type=deflate filemode='-rw-rw-r--' file_size=251 compress_size=168>,\n",
       " <ZipInfo filename='issues/CVE-2016-3793.txt' compress_type=deflate filemode='-rw-rw-r--' file_size=171 compress_size=139>,\n",
       " <ZipInfo filename='issues/CVE-2018-5801.txt' compress_type=deflate filemode='-rw-rw-r--' file_size=160 compress_size=133>,\n",
       " <ZipInfo filename='issues/CVE-2017-13684.txt' compress_type=deflate filemode='-rw-rw-r--' file_size=281 compress_size=210>,\n",
       " <ZipInfo filename='issues/GoogleCloudPlatform_compute-image-packages_425.txt' compress_type=deflate filemode='-rw-rw-r--' file_size=159 compress_size=130>,\n",
       " <ZipInfo filename='issues/mozilla_addons-frontend_4335.txt' compress_type=deflate filemode='-rw-rw-r--' file_size=1827 compress_size=919>,\n",
       " <ZipInfo filename='issues/adobe_ops-cli_30.txt' compress_type=deflate filemode='-rw-rw-r--' file_size=562 compress_size=335>,\n",
       " <ZipInfo filename='issues/mozilla_addons-frontend_7413.txt' filemode='-rw-rw-r--' file_size=30>,\n",
       " <ZipInfo filename='issues/symfony_symfony_30543.txt' compress_type=deflate filemode='-rw-rw-r--' file_size=510 compress_size=312>,\n",
       " <ZipInfo filename='issues/mozilla_Spoke_510.txt' compress_type=deflate filemode='-rw-rw-r--' file_size=135 compress_size=111>,\n",
       " <ZipInfo filename='issues/mozilla_fxa_926.txt' compress_type=deflate filemode='-rw-rw-r--' file_size=727 compress_size=379>,\n",
       " <ZipInfo filename='issues/mozilla_addons-frontend_1415.txt' compress_type=deflate filemode='-rw-rw-r--' file_size=583 compress_size=364>,\n",
       " <ZipInfo filename='issues/GoogleCloudPlatform_magic-modules_1784.txt' compress_type=deflate filemode='-rw-rw-r--' file_size=194 compress_size=141>,\n",
       " <ZipInfo filename='issues/CVE-2016-4142.txt' compress_type=deflate filemode='-rw-rw-r--' file_size=271 compress_size=190>,\n",
       " <ZipInfo filename='issues/microsoft_botbuilder-dotnet_1657.txt' compress_type=deflate filemode='-rw-rw-r--' file_size=194 compress_size=151>,\n",
       " <ZipInfo filename='issues/CVE-2017-11502.txt' compress_type=deflate filemode='-rw-rw-r--' file_size=141 compress_size=124>,\n",
       " <ZipInfo filename='issues/GoogleCloudPlatform_java-docs-samples_66.txt' compress_type=deflate filemode='-rw-rw-r--' file_size=227 compress_size=169>,\n",
       " <ZipInfo filename='issues/google_caja_94.txt' compress_type=deflate filemode='-rw-rw-r--' file_size=603 compress_size=355>,\n",
       " <ZipInfo filename='issues/GoogleCloudPlatform_compute-image-windows_85.txt' compress_type=deflate filemode='-rw-rw-r--' file_size=98 compress_size=87>,\n",
       " <ZipInfo filename='issues/mozilla_bedrock_4123.txt' compress_type=deflate filemode='-rw-rw-r--' file_size=686 compress_size=403>,\n",
       " <ZipInfo filename='issues/symfony_symfony_30706.txt' compress_type=deflate filemode='-rw-rw-r--' file_size=795 compress_size=412>,\n",
       " <ZipInfo filename='issues/CVE-2015-2253.txt' compress_type=deflate filemode='-rw-rw-r--' file_size=183 compress_size=144>,\n",
       " <ZipInfo filename='issues/CVE-2017-16537.txt' compress_type=deflate filemode='-rw-rw-r--' file_size=247 compress_size=182>,\n",
       " <ZipInfo filename='issues/mozilla_fxa_37.txt' compress_type=deflate filemode='-rw-rw-r--' file_size=483 compress_size=270>,\n",
       " <ZipInfo filename='issues/CVE-2018-6004.txt' compress_type=deflate filemode='-rw-rw-r--' file_size=119 compress_size=107>,\n",
       " <ZipInfo filename='issues/GoogleCloudPlatform_compute-image-packages_651.txt' compress_type=deflate filemode='-rw-rw-r--' file_size=144 compress_size=118>,\n",
       " <ZipInfo filename='issues/CVE-2018-2796.txt' compress_type=deflate filemode='-rw-rw-r--' file_size=1014 compress_size=512>,\n",
       " <ZipInfo filename='issues/symfony_symfony_30186.txt' compress_type=deflate filemode='-rw-rw-r--' file_size=2080 compress_size=923>,\n",
       " <ZipInfo filename='issues/GoogleCloudPlatform_dataproc-initialization-actions_506.txt' filemode='-rw-rw-r--' file_size=54>,\n",
       " <ZipInfo filename='issues/GoogleCloudPlatform_PerfKitBenchmarker_1884.txt' compress_type=deflate filemode='-rw-rw-r--' file_size=668 compress_size=430>,\n",
       " <ZipInfo filename='issues/GoogleCloudPlatform_osconfig_14.txt' compress_type=deflate filemode='-rw-rw-r--' file_size=70 compress_size=64>,\n",
       " <ZipInfo filename='issues/mozilla_hubs_1180.txt' compress_type=deflate filemode='-rw-rw-r--' file_size=672 compress_size=387>,\n",
       " <ZipInfo filename='issues/CVE-2018-3282.txt' compress_type=deflate filemode='-rw-rw-r--' file_size=617 compress_size=372>,\n",
       " <ZipInfo filename='issues/CVE-2018-1351.txt' compress_type=deflate filemode='-rw-rw-r--' file_size=240 compress_size=174>,\n",
       " <ZipInfo filename='issues/CVE-2018-6643.txt' compress_type=deflate filemode='-rw-rw-r--' file_size=102 compress_size=96>,\n",
       " <ZipInfo filename='issues/CVE-2017-18259.txt' compress_type=deflate filemode='-rw-rw-r--' file_size=93 compress_size=89>,\n",
       " <ZipInfo filename='issues/CVE-2016-7113.txt' compress_type=deflate filemode='-rw-rw-r--' file_size=543 compress_size=255>,\n",
       " <ZipInfo filename='issues/GoogleCloudPlatform_deploymentmanager-samples_312.txt' compress_type=deflate filemode='-rw-rw-r--' file_size=68 compress_size=54>,\n",
       " <ZipInfo filename='issues/mozilla_blurts-server_377.txt' compress_type=deflate filemode='-rw-rw-r--' file_size=442 compress_size=280>,\n",
       " <ZipInfo filename='issues/CVE-2017-8059.txt' compress_type=deflate filemode='-rw-rw-r--' file_size=329 compress_size=228>,\n",
       " <ZipInfo filename='issues/CVE-2017-16637.txt' compress_type=deflate filemode='-rw-rw-r--' file_size=739 compress_size=389>,\n",
       " <ZipInfo filename='issues/apache_incubator-openwhisk_4429.txt' compress_type=deflate filemode='-rw-rw-r--' file_size=50 compress_size=46>,\n",
       " <ZipInfo filename='issues/gitlab_52436.txt' compress_type=deflate filemode='-rw-rw-r--' file_size=509 compress_size=288>,\n",
       " <ZipInfo filename='issues/GoogleCloudPlatform_nodejs-docs-samples_1300.txt' compress_type=deflate filemode='-rw-rw-r--' file_size=1115 compress_size=637>,\n",
       " <ZipInfo filename='issues/mozilla_addons-frontend_5379.txt' compress_type=deflate filemode='-rw-rw-r--' file_size=3122 compress_size=1337>,\n",
       " <ZipInfo filename='issues/GoogleCloudPlatform_compute-image-tools_251.txt' compress_type=deflate filemode='-rw-rw-r--' file_size=61 compress_size=59>,\n",
       " <ZipInfo filename='issues/GoogleCloudPlatform_java-docs-samples_398.txt' compress_type=deflate filemode='-rw-rw-r--' file_size=51 compress_size=50>,\n",
       " <ZipInfo filename='issues/CVE-2015-2136.txt' compress_type=deflate filemode='-rw-rw-r--' file_size=136 compress_size=115>,\n",
       " <ZipInfo filename='issues/CVE-2017-2153.txt' compress_type=deflate filemode='-rw-rw-r--' file_size=210 compress_size=138>,\n",
       " <ZipInfo filename='issues/CVE-2017-14182.txt' compress_type=deflate filemode='-rw-rw-r--' file_size=244 compress_size=178>,\n",
       " <ZipInfo filename='issues/GoogleCloudPlatform_compute-image-tools_181.txt' compress_type=deflate filemode='-rw-rw-r--' file_size=270 compress_size=188>,\n",
       " <ZipInfo filename='issues/microsoft_botbuilder-dotnet_1035.txt' compress_type=deflate filemode='-rw-rw-r--' file_size=404 compress_size=222>,\n",
       " <ZipInfo filename='issues/CVE-2019-2420.txt' compress_type=deflate filemode='-rw-rw-r--' file_size=575 compress_size=354>,\n",
       " <ZipInfo filename='issues/GoogleCloudPlatform_ruby-docs-samples_202.txt' compress_type=deflate filemode='-rw-rw-r--' file_size=135 compress_size=107>,\n",
       " <ZipInfo filename='issues/CVE-2015-1497.txt' compress_type=deflate filemode='-rw-rw-r--' file_size=182 compress_size=145>,\n",
       " <ZipInfo filename='issues/GoogleCloudPlatform_k8s-cluster-bundle_128.txt' compress_type=deflate filemode='-rw-rw-r--' file_size=291 compress_size=178>,\n",
       " <ZipInfo filename='issues/CVE-2017-5404.txt' compress_type=deflate filemode='-rw-rw-r--' file_size=297 compress_size=196>,\n",
       " <ZipInfo filename='issues/CVE-2014-6480.txt' compress_type=deflate filemode='-rw-rw-r--' file_size=232 compress_size=166>,\n",
       " <ZipInfo filename='issues/GoogleCloudPlatform_magic-modules_1669.txt' compress_type=deflate filemode='-rw-rw-r--' file_size=197 compress_size=143>,\n",
       " <ZipInfo filename='issues/GoogleCloudPlatform_php-docs-samples_276.txt' compress_type=deflate filemode='-rw-rw-r--' file_size=145 compress_size=110>,\n",
       " <ZipInfo filename='issues/CVE-2017-9041.txt' compress_type=deflate filemode='-rw-rw-r--' file_size=231 compress_size=178>,\n",
       " <ZipInfo filename='issues/CVE-2015-8655.txt' compress_type=deflate filemode='-rw-rw-r--' file_size=1256 compress_size=373>,\n",
       " <ZipInfo filename='issues/mozilla_kuma_3686.txt' compress_type=deflate filemode='-rw-rw-r--' file_size=78 compress_size=77>,\n",
       " <ZipInfo filename='issues/GoogleCloudPlatform_agones_200.txt' filemode='-rw-rw-r--' file_size=53>,\n",
       " <ZipInfo filename='issues/mozilla_addons-frontend_3139.txt' compress_type=deflate filemode='-rw-rw-r--' file_size=265 compress_size=181>,\n",
       " <ZipInfo filename='issues/CVE-2017-12527.txt' compress_type=deflate filemode='-rw-rw-r--' file_size=229 compress_size=150>,\n",
       " <ZipInfo filename='issues/microsoft_botbuilder-dotnet_1520.txt' compress_type=deflate filemode='-rw-rw-r--' file_size=219 compress_size=159>,\n",
       " <ZipInfo filename='issues/CVE-2017-11731.txt' compress_type=deflate filemode='-rw-rw-r--' file_size=219 compress_size=163>,\n",
       " <ZipInfo filename='issues/GoogleCloudPlatform_PerfKitBenchmarker_589.txt' filemode='-rw-rw-r--' file_size=53>,\n",
       " <ZipInfo filename='issues/mozilla_hubs_1148.txt' compress_type=deflate filemode='-rw-rw-r--' file_size=194 compress_size=140>,\n",
       " <ZipInfo filename='issues/brave_browser-laptop_13575.txt' compress_type=deflate filemode='-rw-rw-r--' file_size=1126 compress_size=652>,\n",
       " <ZipInfo filename='issues/GoogleCloudPlatform_PerfKitBenchmarker_784.txt' compress_type=deflate filemode='-rw-rw-r--' file_size=309 compress_size=170>,\n",
       " <ZipInfo filename='issues/CVE-2014-2350.txt' compress_type=deflate filemode='-rw-rw-r--' file_size=245 compress_size=173>,\n",
       " <ZipInfo filename='issues/CVE-2018-1000162.txt' compress_type=deflate filemode='-rw-rw-r--' file_size=376 compress_size=243>,\n",
       " <ZipInfo filename='issues/mozilla_bedrock_117.txt' filemode='-rw-rw-r--' file_size=35>,\n",
       " <ZipInfo filename='issues/kubernetes_kubernetes_31284.txt' compress_type=deflate filemode='-rw-rw-r--' file_size=1475 compress_size=776>,\n",
       " <ZipInfo filename='issues/GoogleCloudPlatform_open-match_249.txt' compress_type=deflate filemode='-rw-rw-r--' file_size=389 compress_size=244>,\n",
       " <ZipInfo filename='issues/CVE-2017-14289.txt' compress_type=deflate filemode='-rw-rw-r--' file_size=215 compress_size=167>,\n",
       " <ZipInfo filename='issues/mozilla_kuma_2600.txt' compress_type=deflate filemode='-rw-rw-r--' file_size=61 compress_size=60>,\n",
       " <ZipInfo filename='issues/CVE-2018-15877.txt' compress_type=deflate filemode='-rw-rw-r--' file_size=235 compress_size=177>,\n",
       " <ZipInfo filename='issues/CVE-2017-2193.txt' compress_type=deflate filemode='-rw-rw-r--' file_size=173 compress_size=131>,\n",
       " <ZipInfo filename='issues/CVE-2017-17904.txt' compress_type=deflate filemode='-rw-rw-r--' file_size=126 compress_size=95>,\n",
       " <ZipInfo filename='issues/CVE-2018-19982.txt' compress_type=deflate filemode='-rw-rw-r--' file_size=746 compress_size=425>,\n",
       " <ZipInfo filename='issues/mozilla_addons-frontend_1096.txt' compress_type=deflate filemode='-rw-rw-r--' file_size=706 compress_size=424>,\n",
       " <ZipInfo filename='issues/CVE-2016-10039.txt' compress_type=deflate filemode='-rw-rw-r--' file_size=227 compress_size=162>,\n",
       " <ZipInfo filename='issues/mozilla_bedrock_3058.txt' compress_type=deflate filemode='-rw-rw-r--' file_size=77 compress_size=72>,\n",
       " <ZipInfo filename='issues/mozilla_blurts-server_647.txt' compress_type=deflate filemode='-rw-rw-r--' file_size=68 compress_size=63>,\n",
       " <ZipInfo filename='issues/CVE-2014-6540.txt' compress_type=deflate filemode='-rw-rw-r--' file_size=256 compress_size=178>,\n",
       " <ZipInfo filename='issues/GoogleCloudPlatform_python-docs-samples_573.txt' compress_type=deflate filemode='-rw-rw-r--' file_size=197 compress_size=141>,\n",
       " <ZipInfo filename='issues/CVE-2015-7902.txt' compress_type=deflate filemode='-rw-rw-r--' file_size=254 compress_size=176>,\n",
       " <ZipInfo filename='issues/CVE-2018-14630.txt' compress_type=deflate filemode='-rw-rw-r--' file_size=375 compress_size=233>,\n",
       " <ZipInfo filename='issues/microsoft_onnxruntime_63.txt' filemode='-rw-rw-r--' file_size=42>,\n",
       " <ZipInfo filename='issues/GoogleCloudPlatform_PerfKitBenchmarker_818.txt' compress_type=deflate filemode='-rw-rw-r--' file_size=109 compress_size=99>,\n",
       " <ZipInfo filename='issues/CVE-2016-1450.txt' compress_type=deflate filemode='-rw-rw-r--' file_size=172 compress_size=142>,\n",
       " <ZipInfo filename='issues/brave_browser-laptop_13348.txt' compress_type=deflate filemode='-rw-rw-r--' file_size=341 compress_size=214>,\n",
       " <ZipInfo filename='issues/mozilla_addons-frontend_1223.txt' filemode='-rw-rw-r--' file_size=76>,\n",
       " <ZipInfo filename='issues/mozilla_payments-service_151.txt' compress_type=deflate filemode='-rw-rw-r--' file_size=487 compress_size=295>,\n",
       " <ZipInfo filename='issues/GoogleCloudPlatform_python-docs-samples_1663.txt' compress_type=deflate filemode='-rw-rw-r--' file_size=174 compress_size=141>,\n",
       " <ZipInfo filename='issues/CVE-2018-3257.txt' compress_type=deflate filemode='-rw-rw-r--' file_size=926 compress_size=460>,\n",
       " <ZipInfo filename='issues/CVE-2014-3369.txt' compress_type=deflate filemode='-rw-rw-r--' file_size=236 compress_size=183>,\n",
       " <ZipInfo filename='issues/CVE-2013-2827.txt' compress_type=deflate filemode='-rw-rw-r--' file_size=260 compress_size=184>,\n",
       " <ZipInfo filename='issues/mozilla_kuma_5418.txt' compress_type=deflate filemode='-rw-rw-r--' file_size=1840 compress_size=518>,\n",
       " <ZipInfo filename='issues/mozilla_bedrock_2439.txt' compress_type=deflate filemode='-rw-rw-r--' file_size=93 compress_size=92>,\n",
       " <ZipInfo filename='issues/GoogleCloudPlatform_php-docs-samples_770.txt' filemode='-rw-rw-r--' file_size=43>,\n",
       " <ZipInfo filename='issues/GoogleCloudPlatform_python-docs-samples_2092.txt' compress_type=deflate filemode='-rw-rw-r--' file_size=48 compress_size=47>,\n",
       " <ZipInfo filename='issues/CVE-2017-6537.txt' compress_type=deflate filemode='-rw-rw-r--' file_size=327 compress_size=228>,\n",
       " <ZipInfo filename='issues/CVE-2018-13342.txt' filemode='-rw-rw-r--' file_size=64>,\n",
       " <ZipInfo filename='issues/CVE-2017-10746.txt' compress_type=deflate filemode='-rw-rw-r--' file_size=242 compress_size=176>,\n",
       " <ZipInfo filename='issues/CVE-2016-3664.txt' compress_type=deflate filemode='-rw-rw-r--' file_size=252 compress_size=176>,\n",
       " <ZipInfo filename='issues/GoogleCloudPlatform_getting-started-java_66.txt' compress_type=deflate filemode='-rw-rw-r--' file_size=79 compress_size=68>,\n",
       " <ZipInfo filename='issues/mozilla_bedrock_2538.txt' compress_type=deflate filemode='-rw-rw-r--' file_size=105 compress_size=92>,\n",
       " <ZipInfo filename='issues/GoogleCloudPlatform_dataproc-initialization-actions_229.txt' compress_type=deflate filemode='-rw-rw-r--' file_size=113 compress_size=91>,\n",
       " <ZipInfo filename='issues/mozilla_kuma_3126.txt' compress_type=deflate filemode='-rw-rw-r--' file_size=177 compress_size=129>,\n",
       " <ZipInfo filename='issues/symfony_symfony-installer_228.txt' compress_type=deflate filemode='-rw-rw-r--' file_size=387 compress_size=232>,\n",
       " <ZipInfo filename='issues/mozilla_addons-code-manager_222.txt' compress_type=deflate filemode='-rw-rw-r--' file_size=673 compress_size=440>,\n",
       " <ZipInfo filename='issues/mozilla_fxa_1063.txt' compress_type=deflate filemode='-rw-rw-r--' file_size=124 compress_size=99>,\n",
       " <ZipInfo filename='issues/GoogleCloudPlatform_PerfKitBenchmarker_1439.txt' compress_type=deflate filemode='-rw-rw-r--' file_size=84 compress_size=75>,\n",
       " <ZipInfo filename='issues/CVE-2014-7295.txt' compress_type=deflate filemode='-rw-rw-r--' file_size=317 compress_size=217>,\n",
       " <ZipInfo filename='issues/GoogleCloudPlatform_ruby-docs-samples_169.txt' compress_type=deflate filemode='-rw-rw-r--' file_size=605 compress_size=349>,\n",
       " <ZipInfo filename='issues/mozilla_bedrock_2205.txt' compress_type=deflate filemode='-rw-rw-r--' file_size=102 compress_size=97>,\n",
       " <ZipInfo filename='issues/npm_npm_21209.txt' compress_type=deflate filemode='-rw-rw-r--' file_size=198 compress_size=143>,\n",
       " <ZipInfo filename='issues/GoogleCloudPlatform_agones_431.txt' compress_type=deflate filemode='-rw-rw-r--' file_size=502 compress_size=332>,\n",
       " <ZipInfo filename='issues/CVE-2015-4836.txt' compress_type=deflate filemode='-rw-rw-r--' file_size=194 compress_size=141>,\n",
       " <ZipInfo filename='issues/GoogleCloudPlatform_cloud-spanner-r2dbc_48.txt' compress_type=deflate filemode='-rw-rw-r--' file_size=65 compress_size=61>,\n",
       " <ZipInfo filename='issues/GoogleCloudPlatform_terraformer_14.txt' compress_type=deflate filemode='-rw-rw-r--' file_size=74 compress_size=72>,\n",
       " <ZipInfo filename='issues/CVE-2017-1000426.txt' compress_type=deflate filemode='-rw-rw-r--' file_size=147 compress_size=117>,\n",
       " <ZipInfo filename='issues/CVE-2016-3862.txt' compress_type=deflate filemode='-rw-rw-r--' file_size=370 compress_size=247>,\n",
       " <ZipInfo filename='issues/GoogleCloudPlatform_PerfKitBenchmarker_1072.txt' filemode='-rw-rw-r--' file_size=59>,\n",
       " <ZipInfo filename='issues/mozilla_addons-frontend_2220.txt' compress_type=deflate filemode='-rw-rw-r--' file_size=1988 compress_size=1009>,\n",
       " <ZipInfo filename='issues/mozilla_kuma_3485.txt' compress_type=deflate filemode='-rw-rw-r--' file_size=197 compress_size=142>,\n",
       " <ZipInfo filename='issues/GoogleCloudPlatform_compute-image-packages_731.txt' compress_type=deflate filemode='-rw-rw-r--' file_size=5525 compress_size=1123>,\n",
       " <ZipInfo filename='issues/GoogleCloudPlatform_nodejs-docs-samples_1013.txt' compress_type=deflate filemode='-rw-rw-r--' file_size=766 compress_size=415>,\n",
       " <ZipInfo filename='issues/docker_docker.github.io_8305.txt' compress_type=deflate filemode='-rw-rw-r--' file_size=469 compress_size=263>,\n",
       " <ZipInfo filename='issues/CVE-2018-1323.txt' compress_type=deflate filemode='-rw-rw-r--' file_size=467 compress_size=288>,\n",
       " <ZipInfo filename='issues/GoogleCloudPlatform_deploymentmanager-samples_33.txt' compress_type=deflate filemode='-rw-rw-r--' file_size=130 compress_size=93>,\n",
       " <ZipInfo filename='issues/CVE-2018-2702.txt' compress_type=deflate filemode='-rw-rw-r--' file_size=580 compress_size=342>,\n",
       " <ZipInfo filename='issues/mozilla_kuma_2041.txt' compress_type=deflate filemode='-rw-rw-r--' file_size=69 compress_size=65>,\n",
       " <ZipInfo filename='issues/OWASP_Maturity-Models_233.txt' compress_type=deflate filemode='-rw-rw-r--' file_size=124 compress_size=113>,\n",
       " <ZipInfo filename='issues/CVE-2017-11319.txt' compress_type=deflate filemode='-rw-rw-r--' file_size=245 compress_size=174>,\n",
       " <ZipInfo filename='issues/GoogleCloudPlatform_compute-image-tools_474.txt' compress_type=deflate filemode='-rw-rw-r--' file_size=748 compress_size=358>,\n",
       " <ZipInfo filename='issues/CVE-2014-4116.txt' compress_type=deflate filemode='-rw-rw-r--' file_size=234 compress_size=171>,\n",
       " <ZipInfo filename='issues/CVE-2015-4490.txt' compress_type=deflate filemode='-rw-rw-r--' file_size=402 compress_size=274>,\n",
       " <ZipInfo filename='issues/CVE-2018-1000402.txt' compress_type=deflate filemode='-rw-rw-r--' file_size=288 compress_size=196>,\n",
       " <ZipInfo filename='issues/mozilla_addons-frontend_31.txt' compress_type=deflate filemode='-rw-rw-r--' file_size=230 compress_size=156>,\n",
       " <ZipInfo filename='issues/GoogleCloudPlatform_container-engine-accelerators_64.txt' compress_type=deflate filemode='-rw-rw-r--' file_size=943 compress_size=432>,\n",
       " <ZipInfo filename='issues/mozilla_bedrock_6485.txt' compress_type=deflate filemode='-rw-rw-r--' file_size=359 compress_size=260>,\n",
       " <ZipInfo filename='issues/mozilla_bedrock_939.txt' compress_type=deflate filemode='-rw-rw-r--' file_size=75 compress_size=73>,\n",
       " <ZipInfo filename='issues/CVE-2016-5733.txt' compress_type=deflate filemode='-rw-rw-r--' file_size=610 compress_size=347>,\n",
       " <ZipInfo filename='issues/CVE-2013-6033.txt' compress_type=deflate filemode='-rw-rw-r--' file_size=474 compress_size=303>,\n",
       " <ZipInfo filename='issues/CVE-2018-17638.txt' compress_type=deflate filemode='-rw-rw-r--' file_size=566 compress_size=326>,\n",
       " <ZipInfo filename='issues/CVE-2017-13828.txt' compress_type=deflate filemode='-rw-rw-r--' file_size=200 compress_size=151>,\n",
       " <ZipInfo filename='issues/GoogleCloudPlatform_spark-on-k8s-operator_310.txt' compress_type=deflate filemode='-rw-rw-r--' file_size=204 compress_size=141>,\n",
       " <ZipInfo filename='issues/CVE-2017-11067.txt' compress_type=deflate filemode='-rw-rw-r--' file_size=254 compress_size=177>,\n",
       " <ZipInfo filename='issues/CVE-2017-0801.txt' compress_type=deflate filemode='-rw-rw-r--' file_size=166 compress_size=136>,\n",
       " <ZipInfo filename='issues/brave_brave-browser_477.txt' compress_type=deflate filemode='-rw-rw-r--' file_size=468 compress_size=287>,\n",
       " <ZipInfo filename='issues/mozilla_bedrock_3961.txt' compress_type=deflate filemode='-rw-rw-r--' file_size=61 compress_size=59>,\n",
       " <ZipInfo filename='issues/mozilla_fxa_405.txt' compress_type=deflate filemode='-rw-rw-r--' file_size=397 compress_size=255>,\n",
       " <ZipInfo filename='issues/mozilla_kuma_954.txt' compress_type=deflate filemode='-rw-rw-r--' file_size=57 compress_size=55>,\n",
       " <ZipInfo filename='issues/GoogleCloudPlatform_java-docs-samples_202.txt' compress_type=deflate filemode='-rw-rw-r--' file_size=76 compress_size=72>,\n",
       " <ZipInfo filename='issues/CVE-2015-1142.txt' compress_type=deflate filemode='-rw-rw-r--' file_size=138 compress_size=114>,\n",
       " <ZipInfo filename='issues/CVE-2016-1433.txt' compress_type=deflate filemode='-rw-rw-r--' file_size=175 compress_size=142>,\n",
       " <ZipInfo filename='issues/CVE-2018-3896.txt' compress_type=deflate filemode='-rw-rw-r--' file_size=489 compress_size=310>,\n",
       " <ZipInfo filename='issues/CVE-2016-9278.txt' compress_type=deflate filemode='-rw-rw-r--' file_size=211 compress_size=163>,\n",
       " <ZipInfo filename='issues/GoogleCloudPlatform_spark-on-k8s-operator_483.txt' compress_type=deflate filemode='-rw-rw-r--' file_size=318 compress_size=197>,\n",
       " <ZipInfo filename='issues/mozilla_addons-frontend_7913.txt' compress_type=deflate filemode='-rw-rw-r--' file_size=474 compress_size=289>,\n",
       " <ZipInfo filename='issues/mozilla_kuma_1138.txt' compress_type=deflate filemode='-rw-rw-r--' file_size=763 compress_size=412>,\n",
       " <ZipInfo filename='issues/mozilla_bedrock_5280.txt' compress_type=deflate filemode='-rw-rw-r--' file_size=141 compress_size=127>,\n",
       " <ZipInfo filename='issues/mozilla_bedrock_3959.txt' compress_type=deflate filemode='-rw-rw-r--' file_size=93 compress_size=85>,\n",
       " <ZipInfo filename='issues/CVE-2015-6945.txt' compress_type=deflate filemode='-rw-rw-r--' file_size=183 compress_size=148>,\n",
       " <ZipInfo filename='issues/CVE-2014-2297.txt' compress_type=deflate filemode='-rw-rw-r--' file_size=318 compress_size=233>,\n",
       " <ZipInfo filename='issues/docker_distribution_2887.txt' compress_type=deflate filemode='-rw-rw-r--' file_size=132 compress_size=109>,\n",
       " <ZipInfo filename='issues/CVE-2015-4934.txt' compress_type=deflate filemode='-rw-rw-r--' file_size=268 compress_size=182>,\n",
       " <ZipInfo filename='issues/CVE-2017-0529.txt' compress_type=deflate filemode='-rw-rw-r--' file_size=352 compress_size=239>,\n",
       " <ZipInfo filename='issues/mozilla_bedrock_3045.txt' compress_type=deflate filemode='-rw-rw-r--' file_size=89 compress_size=81>,\n",
       " <ZipInfo filename='issues/mozilla_addons-code-manager_316.txt' compress_type=deflate filemode='-rw-rw-r--' file_size=595 compress_size=341>,\n",
       " <ZipInfo filename='issues/CVE-2018-8827.txt' compress_type=deflate filemode='-rw-rw-r--' file_size=296 compress_size=223>,\n",
       " <ZipInfo filename='issues/GoogleCloudPlatform_php-docs-samples_233.txt' compress_type=deflate filemode='-rw-rw-r--' file_size=48 compress_size=47>,\n",
       " <ZipInfo filename='issues/mozilla_addons-frontend_7455.txt' filemode='-rw-rw-r--' file_size=80>,\n",
       " <ZipInfo filename='issues/CVE-2018-5761.txt' compress_type=deflate filemode='-rw-rw-r--' file_size=271 compress_size=183>,\n",
       " <ZipInfo filename='issues/symfony_symfony_10831.txt' compress_type=deflate filemode='-rw-rw-r--' file_size=1800 compress_size=852>,\n",
       " <ZipInfo filename='issues/CVE-2016-8292.txt' compress_type=deflate filemode='-rw-rw-r--' file_size=228 compress_size=162>,\n",
       " <ZipInfo filename='issues/CVE-2016-2097.txt' compress_type=deflate filemode='-rw-rw-r--' file_size=347 compress_size=240>,\n",
       " <ZipInfo filename='issues/mozilla_addons-frontend_6712.txt' compress_type=deflate filemode='-rw-rw-r--' file_size=241 compress_size=179>,\n",
       " <ZipInfo filename='issues/CVE-2014-5190.txt' compress_type=deflate filemode='-rw-rw-r--' file_size=216 compress_size=177>,\n",
       " <ZipInfo filename='issues/symfony_symfony_24101.txt' compress_type=deflate filemode='-rw-rw-r--' file_size=217 compress_size=153>,\n",
       " <ZipInfo filename='issues/CVE-2018-13011.txt' compress_type=deflate filemode='-rw-rw-r--' file_size=133 compress_size=109>,\n",
       " <ZipInfo filename='issues/CVE-2017-5665.txt' compress_type=deflate filemode='-rw-rw-r--' file_size=176 compress_size=137>,\n",
       " <ZipInfo filename='issues/CVE-2017-1405.txt' compress_type=deflate filemode='-rw-rw-r--' file_size=196 compress_size=157>,\n",
       " <ZipInfo filename='issues/GoogleCloudPlatform_django-cloud-deploy_181.txt' compress_type=deflate filemode='-rw-rw-r--' file_size=145 compress_size=109>,\n",
       " <ZipInfo filename='issues/mozilla_addons-frontend_4678.txt' filemode='-rw-rw-r--' file_size=68>,\n",
       " <ZipInfo filename='issues/CVE-2015-8043.txt' compress_type=deflate filemode='-rw-rw-r--' file_size=572 compress_size=262>,\n",
       " <ZipInfo filename='issues/mozilla_blurts-server_751.txt' compress_type=deflate filemode='-rw-rw-r--' file_size=114 compress_size=91>,\n",
       " <ZipInfo filename='issues/GoogleCloudPlatform_golang-samples_471.txt' compress_type=deflate filemode='-rw-rw-r--' file_size=124 compress_size=106>,\n",
       " <ZipInfo filename='issues/mozilla_bedrock_6129.txt' compress_type=deflate filemode='-rw-rw-r--' file_size=68 compress_size=61>,\n",
       " <ZipInfo filename='issues/microsoft_botbuilder-dotnet_1486.txt' compress_type=deflate filemode='-rw-rw-r--' file_size=79 compress_size=76>,\n",
       " <ZipInfo filename='issues/mozilla_addons-frontend_5383.txt' compress_type=deflate filemode='-rw-rw-r--' file_size=120 compress_size=96>,\n",
       " <ZipInfo filename='issues/CVE-2018-5489.txt' compress_type=deflate filemode='-rw-rw-r--' file_size=449 compress_size=258>,\n",
       " <ZipInfo filename='issues/GoogleCloudPlatform_cloud-sql-jdbc-socket-factory_85.txt' filemode='-rw-rw-r--' file_size=58>,\n",
       " <ZipInfo filename='issues/CVE-2018-12923.txt' compress_type=deflate filemode='-rw-rw-r--' file_size=141 compress_size=115>,\n",
       " <ZipInfo filename='issues/CVE-2015-5181.txt' compress_type=deflate filemode='-rw-rw-r--' file_size=83 compress_size=79>,\n",
       " <ZipInfo filename='issues/mozilla_addons-frontend_3405.txt' compress_type=deflate filemode='-rw-rw-r--' file_size=438 compress_size=276>,\n",
       " <ZipInfo filename='issues/CVE-2018-0199.txt' compress_type=deflate filemode='-rw-rw-r--' file_size=494 compress_size=289>,\n",
       " <ZipInfo filename='issues/symfony_symfony_8467.txt' compress_type=deflate filemode='-rw-rw-r--' file_size=1740 compress_size=654>,\n",
       " <ZipInfo filename='issues/CVE-2017-10156.txt' compress_type=deflate filemode='-rw-rw-r--' file_size=880 compress_size=468>,\n",
       " <ZipInfo filename='issues/CVE-2015-6626.txt' compress_type=deflate filemode='-rw-rw-r--' file_size=306 compress_size=217>,\n",
       " <ZipInfo filename='issues/mozilla_blurts-server_580.txt' compress_type=deflate filemode='-rw-rw-r--' file_size=280 compress_size=176>,\n",
       " <ZipInfo filename='issues/GoogleCloudPlatform_cloud-builders_374.txt' compress_type=deflate filemode='-rw-rw-r--' file_size=117 compress_size=94>,\n",
       " <ZipInfo filename='issues/CVE-2014-9494.txt' compress_type=deflate filemode='-rw-rw-r--' file_size=126 compress_size=106>,\n",
       " <ZipInfo filename='issues/CVE-2015-7054.txt' compress_type=deflate filemode='-rw-rw-r--' file_size=262 compress_size=178>,\n",
       " <ZipInfo filename='issues/symfony_symfony_10225.txt' compress_type=deflate filemode='-rw-rw-r--' file_size=480 compress_size=311>,\n",
       " <ZipInfo filename='issues/CVE-2018-1145.txt' compress_type=deflate filemode='-rw-rw-r--' file_size=156 compress_size=130>,\n",
       " <ZipInfo filename='issues/mozilla_hubs_777.txt' compress_type=deflate filemode='-rw-rw-r--' file_size=1163 compress_size=529>,\n",
       " <ZipInfo filename='issues/CVE-2014-0945.txt' compress_type=deflate filemode='-rw-rw-r--' file_size=278 compress_size=207>,\n",
       " <ZipInfo filename='issues/GoogleCloudPlatform_python-docs-samples_1193.txt' compress_type=deflate filemode='-rw-rw-r--' file_size=81 compress_size=77>,\n",
       " <ZipInfo filename='issues/CVE-2016-8856.txt' compress_type=deflate filemode='-rw-rw-r--' file_size=454 compress_size=271>,\n",
       " <ZipInfo filename='issues/GoogleCloudPlatform_compute-image-tools_782.txt' compress_type=deflate filemode='-rw-rw-r--' file_size=77 compress_size=75>,\n",
       " <ZipInfo filename='issues/CVE-2011-3178.txt' compress_type=deflate filemode='-rw-rw-r--' file_size=167 compress_size=121>,\n",
       " <ZipInfo filename='issues/docker_docker.github.io_8627.txt' compress_type=deflate filemode='-rw-rw-r--' file_size=183 compress_size=126>,\n",
       " <ZipInfo filename='issues/mozilla_bedrock_4155.txt' compress_type=deflate filemode='-rw-rw-r--' file_size=143 compress_size=122>,\n",
       " <ZipInfo filename='issues/microsoft_onnxruntime_629.txt' compress_type=deflate filemode='-rw-rw-r--' file_size=70 compress_size=56>,\n",
       " <ZipInfo filename='issues/mozilla_bedrock_3008.txt' compress_type=deflate filemode='-rw-rw-r--' file_size=69 compress_size=65>,\n",
       " <ZipInfo filename='issues/mozilla_fxa_825.txt' compress_type=deflate filemode='-rw-rw-r--' file_size=807 compress_size=445>,\n",
       " <ZipInfo filename='issues/CVE-2018-12102.txt' compress_type=deflate filemode='-rw-rw-r--' file_size=116 compress_size=104>,\n",
       " <ZipInfo filename='issues/mozilla_blurts-server_428.txt' compress_type=deflate filemode='-rw-rw-r--' file_size=136 compress_size=98>,\n",
       " <ZipInfo filename='issues/microsoft_pxt-adafruit_304.txt' compress_type=deflate filemode='-rw-rw-r--' file_size=349 compress_size=250>,\n",
       " <ZipInfo filename='issues/GoogleCloudPlatform_compute-image-packages_375.txt' compress_type=deflate filemode='-rw-rw-r--' file_size=115 compress_size=103>,\n",
       " <ZipInfo filename='issues/GoogleCloudPlatform_spark-on-k8s-operator_397.txt' compress_type=deflate filemode='-rw-rw-r--' file_size=274 compress_size=174>,\n",
       " <ZipInfo filename='issues/CVE-2017-9232.txt' compress_type=deflate filemode='-rw-rw-r--' file_size=193 compress_size=143>,\n",
       " <ZipInfo filename='issues/CVE-2016-6402.txt' compress_type=deflate filemode='-rw-rw-r--' file_size=191 compress_size=158>,\n",
       " <ZipInfo filename='issues/CVE-2016-6816.txt' compress_type=deflate filemode='-rw-rw-r--' file_size=526 compress_size=306>,\n",
       " <ZipInfo filename='issues/CVE-2018-1000181.txt' compress_type=deflate filemode='-rw-rw-r--' file_size=166 compress_size=126>,\n",
       " <ZipInfo filename='issues/mozilla_bedrock_3915.txt' compress_type=deflate filemode='-rw-rw-r--' file_size=825 compress_size=480>,\n",
       " <ZipInfo filename='issues/CVE-2017-7308.txt' compress_type=deflate filemode='-rw-rw-r--' file_size=334 compress_size=237>,\n",
       " <ZipInfo filename='issues/mozilla_bedrock_6183.txt' filemode='-rw-rw-r--' file_size=41>,\n",
       " <ZipInfo filename='issues/CVE-2017-14635.txt' compress_type=deflate filemode='-rw-rw-r--' file_size=208 compress_size=152>,\n",
       " <ZipInfo filename='issues/symfony_symfony_29897.txt' compress_type=deflate filemode='-rw-rw-r--' file_size=1019 compress_size=579>,\n",
       " <ZipInfo filename='issues/CVE-2016-9184.txt' compress_type=deflate filemode='-rw-rw-r--' file_size=327 compress_size=224>,\n",
       " <ZipInfo filename='issues/mozilla_bedrock_2078.txt' compress_type=deflate filemode='-rw-rw-r--' file_size=112 compress_size=101>,\n",
       " <ZipInfo filename='issues/GoogleCloudPlatform_php-docs-samples_179.txt' compress_type=deflate filemode='-rw-rw-r--' file_size=41 compress_size=31>,\n",
       " <ZipInfo filename='issues/CVE-2014-9807.txt' compress_type=deflate filemode='-rw-rw-r--' file_size=121 compress_size=99>,\n",
       " <ZipInfo filename='issues/CVE-2017-12783.txt' compress_type=deflate filemode='-rw-rw-r--' file_size=166 compress_size=134>,\n",
       " <ZipInfo filename='issues/nodejs_security-wg_485.txt' filemode='-rw-rw-r--' file_size=47>,\n",
       " <ZipInfo filename='issues/mozilla_bedrock_3669.txt' compress_type=deflate filemode='-rw-rw-r--' file_size=72 compress_size=65>,\n",
       " <ZipInfo filename='issues/CVE-2017-8316.txt' compress_type=deflate filemode='-rw-rw-r--' file_size=179 compress_size=135>,\n",
       " <ZipInfo filename='issues/CVE-2016-10284.txt' compress_type=deflate filemode='-rw-rw-r--' file_size=366 compress_size=252>,\n",
       " <ZipInfo filename='issues/GoogleCloudPlatform_java-docs-samples_651.txt' compress_type=deflate filemode='-rw-rw-r--' file_size=159 compress_size=107>,\n",
       " <ZipInfo filename='issues/GoogleCloudPlatform_php-docs-samples_876.txt' filemode='-rw-rw-r--' file_size=48>,\n",
       " <ZipInfo filename='issues/microsoft_botbuilder-dotnet_544.txt' compress_type=deflate filemode='-rw-rw-r--' file_size=212 compress_size=151>,\n",
       " <ZipInfo filename='issues/GoogleCloudPlatform_java-docs-samples_407.txt' compress_type=deflate filemode='-rw-rw-r--' file_size=81 compress_size=77>,\n",
       " <ZipInfo filename='issues/GoogleCloudPlatform_agones_534.txt' compress_type=deflate filemode='-rw-rw-r--' file_size=145 compress_size=109>,\n",
       " <ZipInfo filename='issues/mozilla_kuma_2622.txt' filemode='-rw-rw-r--' file_size=40>,\n",
       " <ZipInfo filename='issues/CVE-2018-6774.txt' compress_type=deflate filemode='-rw-rw-r--' file_size=224 compress_size=175>,\n",
       " <ZipInfo filename='issues/GoogleCloudPlatform_java-docs-samples_293.txt' compress_type=deflate filemode='-rw-rw-r--' file_size=95 compress_size=81>,\n",
       " <ZipInfo filename='issues/CVE-2016-1947.txt' compress_type=deflate filemode='-rw-rw-r--' file_size=214 compress_size=153>,\n",
       " <ZipInfo filename='issues/GoogleCloudPlatform_magic-modules_941.txt' compress_type=deflate filemode='-rw-rw-r--' file_size=332 compress_size=183>,\n",
       " <ZipInfo filename='issues/CVE-2017-10929.txt' compress_type=deflate filemode='-rw-rw-r--' file_size=352 compress_size=232>,\n",
       " <ZipInfo filename='issues/CVE-2015-8778.txt' compress_type=deflate filemode='-rw-rw-r--' file_size=290 compress_size=208>,\n",
       " <ZipInfo filename='issues/microsoft_botbuilder-dotnet_137.txt' compress_type=deflate filemode='-rw-rw-r--' file_size=1079 compress_size=495>,\n",
       " <ZipInfo filename='issues/mozilla_addons-frontend_4537.txt' compress_type=deflate filemode='-rw-rw-r--' file_size=401 compress_size=211>,\n",
       " <ZipInfo filename='issues/mozilla_blurts-server_281.txt' compress_type=deflate filemode='-rw-rw-r--' file_size=76 compress_size=69>,\n",
       " <ZipInfo filename='issues/CVE-2015-2811.txt' compress_type=deflate filemode='-rw-rw-r--' file_size=210 compress_size=164>,\n",
       " <ZipInfo filename='issues/CVE-2017-16183.txt' compress_type=deflate filemode='-rw-rw-r--' file_size=168 compress_size=114>,\n",
       " <ZipInfo filename='issues/CVE-2017-11403.txt' compress_type=deflate filemode='-rw-rw-r--' file_size=153 compress_size=128>,\n",
       " <ZipInfo filename='issues/GoogleCloudPlatform_nodejs-docs-samples_565.txt' compress_type=deflate filemode='-rw-rw-r--' file_size=98 compress_size=88>,\n",
       " <ZipInfo filename='issues/GoogleCloudPlatform_java-docs-samples_47.txt' compress_type=deflate filemode='-rw-rw-r--' file_size=301 compress_size=196>,\n",
       " <ZipInfo filename='issues/GoogleCloudPlatform_compute-image-tools_513.txt' compress_type=deflate filemode='-rw-rw-r--' file_size=69 compress_size=66>,\n",
       " <ZipInfo filename='issues/adobe_xdm_94.txt' compress_type=deflate filemode='-rw-rw-r--' file_size=500 compress_size=300>,\n",
       " <ZipInfo filename='issues/mozilla_addons-frontend_509.txt' compress_type=deflate filemode='-rw-rw-r--' file_size=852 compress_size=512>,\n",
       " <ZipInfo filename='issues/CVE-2015-5255.txt' compress_type=deflate filemode='-rw-rw-r--' file_size=397 compress_size=246>,\n",
       " <ZipInfo filename='issues/CVE-2017-0348.txt' compress_type=deflate filemode='-rw-rw-r--' file_size=228 compress_size=168>,\n",
       " <ZipInfo filename='issues/CVE-2016-5099.txt' compress_type=deflate filemode='-rw-rw-r--' file_size=234 compress_size=174>,\n",
       " <ZipInfo filename='issues/CVE-2014-0232.txt' compress_type=deflate filemode='-rw-rw-r--' file_size=330 compress_size=229>,\n",
       " <ZipInfo filename='issues/mozilla_addons-frontend_4269.txt' compress_type=deflate filemode='-rw-rw-r--' file_size=622 compress_size=339>,\n",
       " <ZipInfo filename='issues/CVE-2016-2299.txt' compress_type=deflate filemode='-rw-rw-r--' file_size=153 compress_size=126>,\n",
       " <ZipInfo filename='issues/docker_docker.github.io_6797.txt' compress_type=deflate filemode='-rw-rw-r--' file_size=652 compress_size=359>,\n",
       " <ZipInfo filename='issues/mozilla_bedrock_2616.txt' compress_type=deflate filemode='-rw-rw-r--' file_size=151 compress_size=121>,\n",
       " <ZipInfo filename='issues/CVE-2018-3013.txt' compress_type=deflate filemode='-rw-rw-r--' file_size=643 compress_size=351>,\n",
       " <ZipInfo filename='issues/mozilla_kuma_30.txt' filemode='-rw-rw-r--' file_size=48>,\n",
       " <ZipInfo filename='issues/CVE-2018-4242.txt' compress_type=deflate filemode='-rw-rw-r--' file_size=270 compress_size=194>,\n",
       " <ZipInfo filename='issues/GoogleCloudPlatform_nodejs-getting-started_106.txt' compress_type=deflate filemode='-rw-rw-r--' file_size=302 compress_size=212>,\n",
       " <ZipInfo filename='issues/CVE-2017-11610.txt' compress_type=deflate filemode='-rw-rw-r--' file_size=254 compress_size=166>,\n",
       " <ZipInfo filename='issues/CVE-2017-6923.txt' compress_type=deflate filemode='-rw-rw-r--' file_size=443 compress_size=261>,\n",
       " <ZipInfo filename='issues/GoogleCloudPlatform_PerfKitBenchmarker_1785.txt' compress_type=deflate filemode='-rw-rw-r--' file_size=82 compress_size=80>,\n",
       " <ZipInfo filename='issues/mozilla_bedrock_4587.txt' compress_type=deflate filemode='-rw-rw-r--' file_size=542 compress_size=330>,\n",
       " <ZipInfo filename='issues/CVE-2018-7736.txt' compress_type=deflate filemode='-rw-rw-r--' file_size=108 compress_size=99>,\n",
       " <ZipInfo filename='issues/CVE-2018-2799.txt' compress_type=deflate filemode='-rw-rw-r--' file_size=1007 compress_size=509>,\n",
       " <ZipInfo filename='issues/CVE-2017-16682.txt' compress_type=deflate filemode='-rw-rw-r--' file_size=273 compress_size=186>,\n",
       " <ZipInfo filename='issues/CVE-2017-8422.txt' compress_type=deflate filemode='-rw-rw-r--' file_size=154 compress_size=117>,\n",
       " <ZipInfo filename='issues/GoogleCloudPlatform_python-docs-samples_2152.txt' compress_type=deflate filemode='-rw-rw-r--' file_size=3327 compress_size=1389>,\n",
       " <ZipInfo filename='issues/microsoft_pxt-adafruit_624.txt' filemode='-rw-rw-r--' file_size=37>,\n",
       " <ZipInfo filename='issues/CVE-2017-13885.txt' compress_type=deflate filemode='-rw-rw-r--' file_size=422 compress_size=236>,\n",
       " <ZipInfo filename='issues/docker_docker.github.io_8778.txt' compress_type=deflate filemode='-rw-rw-r--' file_size=110 compress_size=90>,\n",
       " <ZipInfo filename='issues/CVE-2015-6464.txt' compress_type=deflate filemode='-rw-rw-r--' file_size=220 compress_size=167>,\n",
       " <ZipInfo filename='issues/CVE-2015-8924.txt' compress_type=deflate filemode='-rw-rw-r--' file_size=211 compress_size=142>,\n",
       " <ZipInfo filename='issues/CVE-2014-3225.txt' compress_type=deflate filemode='-rw-rw-r--' file_size=186 compress_size=136>,\n",
       " <ZipInfo filename='issues/GoogleCloudPlatform_golang-samples_19.txt' filemode='-rw-rw-r--' file_size=43>,\n",
       " <ZipInfo filename='issues/CVE-2017-1000058.txt' compress_type=deflate filemode='-rw-rw-r--' file_size=124 compress_size=102>,\n",
       " <ZipInfo filename='issues/GoogleCloudPlatform_PerfKitBenchmarker_218.txt' compress_type=deflate filemode='-rw-rw-r--' file_size=96 compress_size=79>,\n",
       " <ZipInfo filename='issues/google_fonts_1466.txt' compress_type=deflate filemode='-rw-rw-r--' file_size=594 compress_size=329>,\n",
       " <ZipInfo filename='issues/mozilla_bedrock_3729.txt' compress_type=deflate filemode='-rw-rw-r--' file_size=79 compress_size=75>,\n",
       " <ZipInfo filename='issues/microsoft_botbuilder-dotnet_887.txt' compress_type=deflate filemode='-rw-rw-r--' file_size=263 compress_size=178>,\n",
       " <ZipInfo filename='issues/CVE-2015-5923.txt' compress_type=deflate filemode='-rw-rw-r--' file_size=197 compress_size=145>,\n",
       " <ZipInfo filename='issues/CVE-2018-11039.txt' compress_type=deflate filemode='-rw-rw-r--' file_size=413 compress_size=265>,\n",
       " <ZipInfo filename='issues/CVE-2017-3106.txt' compress_type=deflate filemode='-rw-rw-r--' file_size=188 compress_size=142>,\n",
       " <ZipInfo filename='issues/CVE-2017-16391.txt' compress_type=deflate filemode='-rw-rw-r--' file_size=620 compress_size=312>,\n",
       " <ZipInfo filename='issues/GoogleCloudPlatform_java-docs-samples_615.txt' compress_type=deflate filemode='-rw-rw-r--' file_size=80 compress_size=75>,\n",
       " <ZipInfo filename='issues/mozilla_fxa_922.txt' compress_type=deflate filemode='-rw-rw-r--' file_size=426 compress_size=272>,\n",
       " <ZipInfo filename='issues/mozilla_kuma_2016.txt' compress_type=deflate filemode='-rw-rw-r--' file_size=146 compress_size=117>,\n",
       " <ZipInfo filename='issues/CVE-2015-2594.txt' compress_type=deflate filemode='-rw-rw-r--' file_size=255 compress_size=173>,\n",
       " <ZipInfo filename='issues/CVE-2017-9340.txt' compress_type=deflate filemode='-rw-rw-r--' file_size=128 compress_size=104>,\n",
       " <ZipInfo filename='issues/mozilla_hubs_1262.txt' filemode='-rw-rw-r--' file_size=53>,\n",
       " <ZipInfo filename='issues/CVE-2015-0884.txt' compress_type=deflate filemode='-rw-rw-r--' file_size=291 compress_size=200>,\n",
       " <ZipInfo filename='issues/mozilla_bedrock_4058.txt' compress_type=deflate filemode='-rw-rw-r--' file_size=113 compress_size=100>,\n",
       " <ZipInfo filename='issues/mozilla_kuma_4468.txt' compress_type=deflate filemode='-rw-rw-r--' file_size=144 compress_size=113>,\n",
       " <ZipInfo filename='issues/mozilla_hubs_1045.txt' compress_type=deflate filemode='-rw-rw-r--' file_size=193 compress_size=135>,\n",
       " <ZipInfo filename='issues/microsoft_botbuilder-dotnet_358.txt' compress_type=deflate filemode='-rw-rw-r--' file_size=183 compress_size=126>,\n",
       " <ZipInfo filename='issues/mozilla_addons-code-manager_249.txt' compress_type=deflate filemode='-rw-rw-r--' file_size=194 compress_size=139>,\n",
       " <ZipInfo filename='issues/CVE-2017-14594.txt' compress_type=deflate filemode='-rw-rw-r--' file_size=262 compress_size=191>,\n",
       " <ZipInfo filename='issues/CVE-2017-14418.txt' compress_type=deflate filemode='-rw-rw-r--' file_size=228 compress_size=173>,\n",
       " <ZipInfo filename='issues/CVE-2016-8826.txt' compress_type=deflate filemode='-rw-rw-r--' file_size=219 compress_size=166>,\n",
       " <ZipInfo filename='issues/CVE-2018-1000111.txt' compress_type=deflate filemode='-rw-rw-r--' file_size=245 compress_size=160>,\n",
       " <ZipInfo filename='issues/GoogleCloudPlatform_compute-image-tools_491.txt' compress_type=deflate filemode='-rw-rw-r--' file_size=63 compress_size=62>,\n",
       " <ZipInfo filename='issues/mozilla_addons-code-manager_748.txt' compress_type=deflate filemode='-rw-rw-r--' file_size=666 compress_size=437>,\n",
       " <ZipInfo filename='issues/CVE-2014-5237.txt' compress_type=deflate filemode='-rw-rw-r--' file_size=357 compress_size=235>,\n",
       " <ZipInfo filename='issues/CVE-2017-12178.txt' compress_type=deflate filemode='-rw-rw-r--' file_size=184 compress_size=142>,\n",
       " <ZipInfo filename='issues/mozilla_bedrock_79.txt' compress_type=deflate filemode='-rw-rw-r--' file_size=101 compress_size=86>,\n",
       " <ZipInfo filename='issues/CVE-2014-5669.txt' compress_type=deflate filemode='-rw-rw-r--' file_size=265 compress_size=191>,\n",
       " <ZipInfo filename='issues/microsoft_onnxruntime_706.txt' compress_type=deflate filemode='-rw-rw-r--' file_size=1150 compress_size=608>,\n",
       " <ZipInfo filename='issues/CVE-2013-6891.txt' compress_type=deflate filemode='-rw-rw-r--' file_size=214 compress_size=165>,\n",
       " <ZipInfo filename='issues/CVE-2018-3094.txt' compress_type=deflate filemode='-rw-rw-r--' file_size=1154 compress_size=550>,\n",
       " <ZipInfo filename='issues/microsoft_pxt-adafruit_443.txt' compress_type=deflate filemode='-rw-rw-r--' file_size=197 compress_size=145>,\n",
       " <ZipInfo filename='issues/CVE-2015-5924.txt' compress_type=deflate filemode='-rw-rw-r--' file_size=197 compress_size=147>,\n",
       " <ZipInfo filename='issues/CVE-2017-7045.txt' compress_type=deflate filemode='-rw-rw-r--' file_size=226 compress_size=170>,\n",
       " <ZipInfo filename='issues/CVE-2015-3987.txt' compress_type=deflate filemode='-rw-rw-r--' file_size=218 compress_size=171>,\n",
       " <ZipInfo filename='issues/adobe_xdm_312.txt' compress_type=deflate filemode='-rw-rw-r--' file_size=654 compress_size=357>,\n",
       " <ZipInfo filename='issues/CVE-2017-8302.txt' compress_type=deflate filemode='-rw-rw-r--' file_size=359 compress_size=152>,\n",
       " <ZipInfo filename='issues/mozilla_bedrock_320.txt' filemode='-rw-rw-r--' file_size=66>,\n",
       " <ZipInfo filename='issues/CVE-2015-8052.txt' compress_type=deflate filemode='-rw-rw-r--' file_size=238 compress_size=176>,\n",
       " <ZipInfo filename='issues/GoogleCloudPlatform_getting-started-java_12.txt' compress_type=deflate filemode='-rw-rw-r--' file_size=109 compress_size=94>,\n",
       " <ZipInfo filename='issues/golang_go_28427.txt' compress_type=deflate filemode='-rw-rw-r--' file_size=781 compress_size=421>,\n",
       " <ZipInfo filename='issues/mozilla_bedrock_4957.txt' compress_type=deflate filemode='-rw-rw-r--' file_size=639 compress_size=402>,\n",
       " <ZipInfo filename='issues/CVE-2014-9959.txt' compress_type=deflate filemode='-rw-rw-r--' file_size=146 compress_size=117>,\n",
       " <ZipInfo filename='issues/GoogleCloudPlatform_nodejs-getting-started_139.txt' compress_type=deflate filemode='-rw-rw-r--' file_size=164 compress_size=138>,\n",
       " <ZipInfo filename='issues/mozilla_bedrock_1861.txt' filemode='-rw-rw-r--' file_size=70>,\n",
       " <ZipInfo filename='issues/CVE-2016-4892.txt' compress_type=deflate filemode='-rw-rw-r--' file_size=150 compress_size=119>,\n",
       " <ZipInfo filename='issues/CVE-2014-5611.txt' compress_type=deflate filemode='-rw-rw-r--' file_size=265 compress_size=185>,\n",
       " <ZipInfo filename='issues/GoogleCloudPlatform_cloudml-samples_130.txt' compress_type=deflate filemode='-rw-rw-r--' file_size=89 compress_size=81>,\n",
       " <ZipInfo filename='issues/CVE-2015-7682.txt' compress_type=deflate filemode='-rw-rw-r--' file_size=320 compress_size=214>,\n",
       " <ZipInfo filename='issues/microsoft_botbuilder-dotnet_1828.txt' compress_type=deflate filemode='-rw-rw-r--' file_size=92 compress_size=73>,\n",
       " <ZipInfo filename='issues/CVE-2018-11012.txt' compress_type=deflate filemode='-rw-rw-r--' file_size=127 compress_size=106>,\n",
       " <ZipInfo filename='issues/mozilla_bedrock_4029.txt' compress_type=deflate filemode='-rw-rw-r--' file_size=78 compress_size=77>,\n",
       " <ZipInfo filename='issues/CVE-2015-0435.txt' compress_type=deflate filemode='-rw-rw-r--' file_size=270 compress_size=183>,\n",
       " <ZipInfo filename='issues/mozilla_addons-code-manager_67.txt' compress_type=deflate filemode='-rw-rw-r--' file_size=335 compress_size=191>,\n",
       " <ZipInfo filename='issues/CVE-2014-3269.txt' compress_type=deflate filemode='-rw-rw-r--' file_size=162 compress_size=138>,\n",
       " <ZipInfo filename='issues/brave_browser-laptop_15116.txt' compress_type=deflate filemode='-rw-rw-r--' file_size=17937 compress_size=6035>,\n",
       " <ZipInfo filename='issues/GoogleCloudPlatform_python-docs-samples_1505.txt' compress_type=deflate filemode='-rw-rw-r--' file_size=609 compress_size=298>,\n",
       " <ZipInfo filename='issues/gitlab_24196.txt' compress_type=deflate filemode='-rw-rw-r--' file_size=3428 compress_size=1508>,\n",
       " <ZipInfo filename='issues/CVE-2017-9681.txt' compress_type=deflate filemode='-rw-rw-r--' file_size=368 compress_size=241>,\n",
       " <ZipInfo filename='issues/mozilla_addons-code-manager_666.txt' compress_type=deflate filemode='-rw-rw-r--' file_size=279 compress_size=180>,\n",
       " <ZipInfo filename='issues/mozilla_kuma_2342.txt' compress_type=deflate filemode='-rw-rw-r--' file_size=100 compress_size=75>,\n",
       " <ZipInfo filename='issues/CVE-2018-1432.txt' compress_type=deflate filemode='-rw-rw-r--' file_size=421 compress_size=272>,\n",
       " <ZipInfo filename='issues/mozilla_bedrock_1473.txt' filemode='-rw-rw-r--' file_size=77>,\n",
       " <ZipInfo filename='issues/CVE-2014-5112.txt' compress_type=deflate filemode='-rw-rw-r--' file_size=151 compress_size=113>,\n",
       " <ZipInfo filename='issues/GoogleCloudPlatform_PerfKitBenchmarker_168.txt' compress_type=deflate filemode='-rw-rw-r--' file_size=2695 compress_size=769>,\n",
       " <ZipInfo filename='issues/CVE-2016-4210.txt' compress_type=deflate filemode='-rw-rw-r--' file_size=273 compress_size=172>,\n",
       " <ZipInfo filename='issues/GoogleCloudPlatform_python-docs-samples_18.txt' compress_type=deflate filemode='-rw-rw-r--' file_size=75 compress_size=70>,\n",
       " <ZipInfo filename='issues/mozilla_addons-frontend_7447.txt' compress_type=deflate filemode='-rw-rw-r--' file_size=188 compress_size=139>,\n",
       " <ZipInfo filename='issues/mozilla_kuma_2954.txt' compress_type=deflate filemode='-rw-rw-r--' file_size=237 compress_size=160>,\n",
       " <ZipInfo filename='issues/CVE-2017-3199.txt' compress_type=deflate filemode='-rw-rw-r--' file_size=382 compress_size=243>,\n",
       " <ZipInfo filename='issues/GoogleCloudPlatform_java-docs-samples_1095.txt' compress_type=deflate filemode='-rw-rw-r--' file_size=81 compress_size=77>,\n",
       " <ZipInfo filename='issues/mozilla_kuma_4536.txt' compress_type=deflate filemode='-rw-rw-r--' file_size=526 compress_size=319>,\n",
       " <ZipInfo filename='issues/CVE-2014-2451.txt' compress_type=deflate filemode='-rw-rw-r--' file_size=168 compress_size=129>,\n",
       " <ZipInfo filename='issues/GoogleCloudPlatform_python-docs-samples_1356.txt' compress_type=deflate filemode='-rw-rw-r--' file_size=89 compress_size=69>,\n",
       " <ZipInfo filename='issues/CVE-2018-15432.txt' compress_type=deflate filemode='-rw-rw-r--' file_size=420 compress_size=213>,\n",
       " <ZipInfo filename='issues/mozilla_addons-code-manager_606.txt' compress_type=deflate filemode='-rw-rw-r--' file_size=386 compress_size=246>,\n",
       " <ZipInfo filename='issues/apache_incubator-druid_6432.txt' compress_type=deflate filemode='-rw-rw-r--' file_size=538 compress_size=291>,\n",
       " <ZipInfo filename='issues/CVE-2017-15332.txt' compress_type=deflate filemode='-rw-rw-r--' file_size=2904 compress_size=615>,\n",
       " <ZipInfo filename='issues/kubernetes_kops_3871.txt' compress_type=deflate filemode='-rw-rw-r--' file_size=1276 compress_size=628>,\n",
       " <ZipInfo filename='issues/CVE-2015-1336.txt' compress_type=deflate filemode='-rw-rw-r--' file_size=199 compress_size=150>,\n",
       " <ZipInfo filename='issues/GoogleCloudPlatform_java-docs-samples_488.txt' compress_type=deflate filemode='-rw-rw-r--' file_size=481 compress_size=249>,\n",
       " <ZipInfo filename='issues/GoogleCloudPlatform_ruby-docs-samples_414.txt' compress_type=deflate filemode='-rw-rw-r--' file_size=215 compress_size=166>,\n",
       " <ZipInfo filename='issues/GoogleCloudPlatform_django-cloud-deploy_368.txt' compress_type=deflate filemode='-rw-rw-r--' file_size=78 compress_size=63>,\n",
       " <ZipInfo filename='issues/CVE-2015-1909.txt' compress_type=deflate filemode='-rw-rw-r--' file_size=398 compress_size=252>,\n",
       " <ZipInfo filename='issues/CVE-2018-14303.txt' compress_type=deflate filemode='-rw-rw-r--' file_size=559 compress_size=327>,\n",
       " <ZipInfo filename='issues/CVE-2018-4044.txt' compress_type=deflate filemode='-rw-rw-r--' file_size=244 compress_size=166>,\n",
       " <ZipInfo filename='issues/CVE-2014-9980.txt' compress_type=deflate filemode='-rw-rw-r--' file_size=179 compress_size=138>,\n",
       " <ZipInfo filename='issues/GoogleCloudPlatform_dataproc-initialization-actions_138.txt' compress_type=deflate filemode='-rw-rw-r--' file_size=535 compress_size=260>,\n",
       " <ZipInfo filename='issues/GoogleCloudPlatform_ruby-docs-samples_215.txt' compress_type=deflate filemode='-rw-rw-r--' file_size=137 compress_size=92>,\n",
       " <ZipInfo filename='issues/google_fonts_888.txt' compress_type=deflate filemode='-rw-rw-r--' file_size=57 compress_size=56>,\n",
       " <ZipInfo filename='issues/microsoft_pxt-adafruit_55.txt' compress_type=deflate filemode='-rw-rw-r--' file_size=273 compress_size=200>,\n",
       " <ZipInfo filename='issues/GoogleCloudPlatform_django-cloud-deploy_258.txt' compress_type=deflate filemode='-rw-rw-r--' file_size=1126 compress_size=599>,\n",
       " <ZipInfo filename='issues/mozilla_addons-frontend_4665.txt' compress_type=deflate filemode='-rw-rw-r--' file_size=5151 compress_size=2381>,\n",
       " <ZipInfo filename='issues/GoogleCloudPlatform_nodejs-docs-samples_587.txt' filemode='-rw-rw-r--' file_size=51>,\n",
       " <ZipInfo filename='issues/CVE-2016-4134.txt' compress_type=deflate filemode='-rw-rw-r--' file_size=271 compress_size=190>,\n",
       " <ZipInfo filename='issues/mozilla_kuma_2949.txt' compress_type=deflate filemode='-rw-rw-r--' file_size=507 compress_size=309>,\n",
       " <ZipInfo filename='issues/CVE-2017-0124.txt' compress_type=deflate filemode='-rw-rw-r--' file_size=554 compress_size=241>,\n",
       " <ZipInfo filename='issues/CVE-2016-8477.txt' compress_type=deflate filemode='-rw-rw-r--' file_size=360 compress_size=251>,\n",
       " <ZipInfo filename='issues/GoogleCloudPlatform_PerfKitBenchmarker_411.txt' compress_type=deflate filemode='-rw-rw-r--' file_size=991 compress_size=534>,\n",
       " <ZipInfo filename='issues/CVE-2014-4333.txt' compress_type=deflate filemode='-rw-rw-r--' file_size=282 compress_size=206>,\n",
       " <ZipInfo filename='issues/CVE-2014-2752.txt' compress_type=deflate filemode='-rw-rw-r--' file_size=169 compress_size=132>,\n",
       " <ZipInfo filename='issues/CVE-2018-0368.txt' compress_type=deflate filemode='-rw-rw-r--' file_size=511 compress_size=285>,\n",
       " <ZipInfo filename='issues/CVE-2018-6883.txt' compress_type=deflate filemode='-rw-rw-r--' file_size=188 compress_size=134>,\n",
       " <ZipInfo filename='issues/CVE-2015-4002.txt' compress_type=deflate filemode='-rw-rw-r--' file_size=372 compress_size=253>,\n",
       " <ZipInfo filename='issues/mozilla_addons-frontend_4041.txt' compress_type=deflate filemode='-rw-rw-r--' file_size=240 compress_size=153>,\n",
       " <ZipInfo filename='issues/GoogleCloudPlatform_getting-started-java_238.txt' compress_type=deflate filemode='-rw-rw-r--' file_size=162 compress_size=125>,\n",
       " <ZipInfo filename='issues/CVE-2018-18443.txt' compress_type=deflate filemode='-rw-rw-r--' file_size=119 compress_size=101>,\n",
       " <ZipInfo filename='issues/CVE-2017-8117.txt' compress_type=deflate filemode='-rw-rw-r--' file_size=264 compress_size=177>,\n",
       " <ZipInfo filename='issues/GoogleCloudPlatform_cloud-opensource-java_322.txt' compress_type=deflate filemode='-rw-rw-r--' file_size=194 compress_size=121>,\n",
       " <ZipInfo filename='issues/CVE-2015-4345.txt' compress_type=deflate filemode='-rw-rw-r--' file_size=256 compress_size=180>,\n",
       " <ZipInfo filename='issues/CVE-2017-5062.txt' compress_type=deflate filemode='-rw-rw-r--' file_size=239 compress_size=167>,\n",
       " <ZipInfo filename='issues/symfony_symfony_20071.txt' compress_type=deflate filemode='-rw-rw-r--' file_size=806 compress_size=406>,\n",
       " <ZipInfo filename='issues/GoogleCloudPlatform_python-docs-samples_97.txt' compress_type=deflate filemode='-rw-rw-r--' file_size=58 compress_size=57>,\n",
       " <ZipInfo filename='issues/brave_browser-laptop_2083.txt' filemode='-rw-rw-r--' file_size=43>,\n",
       " <ZipInfo filename='issues/CVE-2014-6697.txt' compress_type=deflate filemode='-rw-rw-r--' file_size=251 compress_size=179>,\n",
       " <ZipInfo filename='issues/CVE-2016-4658.txt' compress_type=deflate filemode='-rw-rw-r--' file_size=349 compress_size=228>,\n",
       " <ZipInfo filename='issues/mozilla_kuma_3105.txt' compress_type=deflate filemode='-rw-rw-r--' file_size=492 compress_size=322>,\n",
       " <ZipInfo filename='issues/mozilla_bedrock_1505.txt' compress_type=deflate filemode='-rw-rw-r--' file_size=168 compress_size=130>,\n",
       " <ZipInfo filename='issues/mozilla_bedrock_7160.txt' compress_type=deflate filemode='-rw-rw-r--' file_size=193 compress_size=161>,\n",
       " <ZipInfo filename='issues/CVE-2014-2710.txt' compress_type=deflate filemode='-rw-rw-r--' file_size=253 compress_size=189>,\n",
       " <ZipInfo filename='issues/mozilla_bedrock_5651.txt' filemode='-rw-rw-r--' file_size=42>,\n",
       " <ZipInfo filename='issues/CVE-2017-2381.txt' compress_type=deflate filemode='-rw-rw-r--' file_size=257 compress_size=186>,\n",
       " <ZipInfo filename='issues/symfony_symfony_30044.txt' compress_type=deflate filemode='-rw-rw-r--' file_size=245 compress_size=178>,\n",
       " <ZipInfo filename='issues/mozilla_blurts-server_311.txt' compress_type=deflate filemode='-rw-rw-r--' file_size=78 compress_size=70>,\n",
       " <ZipInfo filename='issues/CVE-2017-1237.txt' compress_type=deflate filemode='-rw-rw-r--' file_size=286 compress_size=202>,\n",
       " <ZipInfo filename='issues/CVE-2018-14689.txt' compress_type=deflate filemode='-rw-rw-r--' file_size=331 compress_size=217>,\n",
       " <ZipInfo filename='issues/CVE-2017-6840.txt' compress_type=deflate filemode='-rw-rw-r--' file_size=169 compress_size=131>,\n",
       " <ZipInfo filename='issues/GoogleCloudPlatform_cloud-opensource-java_153.txt' compress_type=deflate filemode='-rw-rw-r--' file_size=155 compress_size=113>,\n",
       " <ZipInfo filename='issues/CVE-2017-7071.txt' compress_type=deflate filemode='-rw-rw-r--' file_size=274 compress_size=191>,\n",
       " <ZipInfo filename='issues/CVE-2018-9560.txt' compress_type=deflate filemode='-rw-rw-r--' file_size=332 compress_size=221>,\n",
       " <ZipInfo filename='issues/mozilla_addons-frontend_3717.txt' compress_type=deflate filemode='-rw-rw-r--' file_size=60 compress_size=59>,\n",
       " <ZipInfo filename='issues/CVE-2015-7291.txt' compress_type=deflate filemode='-rw-rw-r--' file_size=269 compress_size=204>,\n",
       " <ZipInfo filename='issues/CVE-2016-7871.txt' compress_type=deflate filemode='-rw-rw-r--' file_size=214 compress_size=155>,\n",
       " <ZipInfo filename='issues/mozilla_kuma_3013.txt' compress_type=deflate filemode='-rw-rw-r--' file_size=113 compress_size=101>,\n",
       " <ZipInfo filename='issues/mozilla_Spoke_657.txt' compress_type=deflate filemode='-rw-rw-r--' file_size=97 compress_size=80>,\n",
       " <ZipInfo filename='issues/GoogleCloudPlatform_golang-samples_572.txt' compress_type=deflate filemode='-rw-rw-r--' file_size=245 compress_size=163>,\n",
       " <ZipInfo filename='issues/CVE-2017-8542.txt' compress_type=deflate filemode='-rw-rw-r--' file_size=573 compress_size=278>,\n",
       " <ZipInfo filename='issues/CVE-2014-7189.txt' compress_type=deflate filemode='-rw-rw-r--' file_size=152 compress_size=123>,\n",
       " <ZipInfo filename='issues/CVE-2018-18340.txt' compress_type=deflate filemode='-rw-rw-r--' file_size=173 compress_size=139>,\n",
       " <ZipInfo filename='issues/CVE-2014-5802.txt' compress_type=deflate filemode='-rw-rw-r--' file_size=255 compress_size=182>,\n",
       " <ZipInfo filename='issues/mozilla_kuma_2213.txt' compress_type=deflate filemode='-rw-rw-r--' file_size=72 compress_size=69>,\n",
       " <ZipInfo filename='issues/CVE-2017-17855.txt' compress_type=deflate filemode='-rw-rw-r--' file_size=227 compress_size=161>,\n",
       " <ZipInfo filename='issues/CVE-2017-7854.txt' compress_type=deflate filemode='-rw-rw-r--' file_size=196 compress_size=150>,\n",
       " <ZipInfo filename='issues/CVE-2014-6384.txt' compress_type=deflate filemode='-rw-rw-r--' file_size=422 compress_size=243>,\n",
       " <ZipInfo filename='issues/CVE-2018-10480.txt' compress_type=deflate filemode='-rw-rw-r--' file_size=625 compress_size=368>,\n",
       " <ZipInfo filename='issues/CVE-2016-2931.txt' compress_type=deflate filemode='-rw-rw-r--' file_size=130 compress_size=109>,\n",
       " <ZipInfo filename='issues/GoogleCloudPlatform_cloud-opensource-java_405.txt' compress_type=deflate filemode='-rw-rw-r--' file_size=100 compress_size=51>,\n",
       " <ZipInfo filename='issues/microsoft_botbuilder-dotnet_1061.txt' compress_type=deflate filemode='-rw-rw-r--' file_size=718 compress_size=372>,\n",
       " <ZipInfo filename='issues/GoogleCloudPlatform_PerfKitBenchmarker_671.txt' compress_type=deflate filemode='-rw-rw-r--' file_size=448 compress_size=236>,\n",
       " <ZipInfo filename='issues/CVE-2017-8815.txt' compress_type=deflate filemode='-rw-rw-r--' file_size=153 compress_size=117>,\n",
       " <ZipInfo filename='issues/GoogleCloudPlatform_agones_397.txt' compress_type=deflate filemode='-rw-rw-r--' file_size=604 compress_size=362>,\n",
       " <ZipInfo filename='issues/GoogleCloudPlatform_k8s-cluster-bundle_258.txt' compress_type=deflate filemode='-rw-rw-r--' file_size=262 compress_size=165>,\n",
       " <ZipInfo filename='issues/GoogleCloudPlatform_compute-image-packages_553.txt' compress_type=deflate filemode='-rw-rw-r--' file_size=61 compress_size=60>,\n",
       " <ZipInfo filename='issues/CVE-2017-3318.txt' compress_type=deflate filemode='-rw-rw-r--' file_size=644 compress_size=357>,\n",
       " <ZipInfo filename='issues/symfony_symfony_30446.txt' compress_type=deflate filemode='-rw-rw-r--' file_size=653 compress_size=379>,\n",
       " <ZipInfo filename='issues/CVE-2017-12957.txt' compress_type=deflate filemode='-rw-rw-r--' file_size=172 compress_size=130>,\n",
       " <ZipInfo filename='issues/CVE-2018-13338.txt' compress_type=deflate filemode='-rw-rw-r--' file_size=170 compress_size=125>,\n",
       " <ZipInfo filename='issues/mozilla_bedrock_5187.txt' compress_type=deflate filemode='-rw-rw-r--' file_size=1189 compress_size=644>,\n",
       " <ZipInfo filename='issues/CVE-2017-6275.txt' compress_type=deflate filemode='-rw-rw-r--' file_size=294 compress_size=217>,\n",
       " <ZipInfo filename='issues/mozilla_bedrock_3367.txt' compress_type=deflate filemode='-rw-rw-r--' file_size=68 compress_size=65>,\n",
       " <ZipInfo filename='issues/CVE-2018-19150.txt' compress_type=deflate filemode='-rw-rw-r--' file_size=272 compress_size=197>,\n",
       " <ZipInfo filename='issues/GoogleCloudPlatform_PerfKitBenchmarker_815.txt' compress_type=deflate filemode='-rw-rw-r--' file_size=1057 compress_size=485>,\n",
       " <ZipInfo filename='issues/symfony_symfony-docs_8821.txt' compress_type=deflate filemode='-rw-rw-r--' file_size=81 compress_size=79>,\n",
       " <ZipInfo filename='issues/CVE-2017-1284.txt' compress_type=deflate filemode='-rw-rw-r--' file_size=220 compress_size=168>,\n",
       " <ZipInfo filename='issues/mozilla_kuma_3964.txt' compress_type=deflate filemode='-rw-rw-r--' file_size=265 compress_size=177>,\n",
       " <ZipInfo filename='issues/GoogleCloudPlatform_nodejs-docs-samples_4.txt' compress_type=deflate filemode='-rw-rw-r--' file_size=82 compress_size=69>,\n",
       " <ZipInfo filename='issues/CVE-2015-2446.txt' compress_type=deflate filemode='-rw-rw-r--' file_size=247 compress_size=178>,\n",
       " <ZipInfo filename='issues/CVE-2015-4539.txt' compress_type=deflate filemode='-rw-rw-r--' file_size=202 compress_size=160>,\n",
       " <ZipInfo filename='issues/CVE-2017-10767.txt' compress_type=deflate filemode='-rw-rw-r--' file_size=287 compress_size=211>,\n",
       " <ZipInfo filename='issues/CVE-2013-4595.txt' compress_type=deflate filemode='-rw-rw-r--' file_size=231 compress_size=170>,\n",
       " <ZipInfo filename='issues/mozilla_kuma_4394.txt' compress_type=deflate filemode='-rw-rw-r--' file_size=172 compress_size=127>,\n",
       " <ZipInfo filename='issues/GoogleCloudPlatform_magic-modules_1336.txt' compress_type=deflate filemode='-rw-rw-r--' file_size=384 compress_size=216>,\n",
       " <ZipInfo filename='issues/CVE-2017-5240.txt' compress_type=deflate filemode='-rw-rw-r--' file_size=277 compress_size=196>,\n",
       " <ZipInfo filename='issues/GoogleCloudPlatform_reliable-task-scheduling-compute-engine-sample_9.txt' compress_type=deflate filemode='-rw-rw-r--' file_size=131 compress_size=84>,\n",
       " <ZipInfo filename='issues/CVE-2016-2058.txt' compress_type=deflate filemode='-rw-rw-r--' file_size=409 compress_size=222>,\n",
       " <ZipInfo filename='issues/CVE-2016-1000122.txt' filemode='-rw-rw-r--' file_size=55>,\n",
       " <ZipInfo filename='issues/GoogleCloudPlatform_magic-modules_1737.txt' compress_type=deflate filemode='-rw-rw-r--' file_size=146 compress_size=116>,\n",
       " <ZipInfo filename='issues/CVE-2014-3492.txt' compress_type=deflate filemode='-rw-rw-r--' file_size=242 compress_size=174>,\n",
       " <ZipInfo filename='issues/CVE-2016-4388.txt' compress_type=deflate filemode='-rw-rw-r--' file_size=205 compress_size=155>,\n",
       " <ZipInfo filename='issues/GoogleCloudPlatform_compute-image-packages_114.txt' compress_type=deflate filemode='-rw-rw-r--' file_size=76 compress_size=71>,\n",
       " <ZipInfo filename='issues/CVE-2017-6621.txt' compress_type=deflate filemode='-rw-rw-r--' file_size=754 compress_size=371>,\n",
       " <ZipInfo filename='issues/mozilla_kuma_1578.txt' compress_type=deflate filemode='-rw-rw-r--' file_size=451 compress_size=291>,\n",
       " <ZipInfo filename='issues/mozilla_addons-frontend_1905.txt' compress_type=deflate filemode='-rw-rw-r--' file_size=1092 compress_size=551>,\n",
       " <ZipInfo filename='issues/brave_browser-ios_1799.txt' compress_type=deflate filemode='-rw-rw-r--' file_size=7125 compress_size=2739>,\n",
       " <ZipInfo filename='issues/mozilla_Spoke_354.txt' compress_type=deflate filemode='-rw-rw-r--' file_size=254 compress_size=172>,\n",
       " <ZipInfo filename='issues/CVE-2018-1212.txt' compress_type=deflate filemode='-rw-rw-r--' file_size=354 compress_size=224>,\n",
       " <ZipInfo filename='issues/CVE-2016-10734.txt' compress_type=deflate filemode='-rw-rw-r--' file_size=110 compress_size=104>,\n",
       " <ZipInfo filename='issues/mozilla_addons-code-manager_308.txt' filemode='-rw-rw-r--' file_size=64>,\n",
       " <ZipInfo filename='issues/GoogleCloudPlatform_agones_675.txt' compress_type=deflate filemode='-rw-rw-r--' file_size=234 compress_size=157>,\n",
       " <ZipInfo filename='issues/GoogleCloudPlatform_iot-device-sdk-embedded-c_33.txt' compress_type=deflate filemode='-rw-rw-r--' file_size=123 compress_size=94>,\n",
       " <ZipInfo filename='issues/CVE-2017-0107.txt' compress_type=deflate filemode='-rw-rw-r--' file_size=187 compress_size=134>,\n",
       " <ZipInfo filename='issues/CVE-2016-8640.txt' compress_type=deflate filemode='-rw-rw-r--' file_size=354 compress_size=210>,\n",
       " <ZipInfo filename='issues/CVE-2015-3143.txt' compress_type=deflate filemode='-rw-rw-r--' file_size=204 compress_size=159>,\n",
       " <ZipInfo filename='issues/CVE-2019-3803.txt' compress_type=deflate filemode='-rw-rw-r--' file_size=240 compress_size=158>,\n",
       " <ZipInfo filename='issues/CVE-2013-6323.txt' compress_type=deflate filemode='-rw-rw-r--' file_size=325 compress_size=218>,\n",
       " <ZipInfo filename='issues/CVE-2015-1712.txt' compress_type=deflate filemode='-rw-rw-r--' file_size=262 compress_size=180>,\n",
       " <ZipInfo filename='issues/mozilla_kuma_5397.txt' compress_type=deflate filemode='-rw-rw-r--' file_size=98 compress_size=70>,\n",
       " <ZipInfo filename='issues/mozilla_addons-frontend_3345.txt' compress_type=deflate filemode='-rw-rw-r--' file_size=404 compress_size=257>,\n",
       " <ZipInfo filename='issues/mozilla_kuma_1415.txt' compress_type=deflate filemode='-rw-rw-r--' file_size=222 compress_size=148>,\n",
       " <ZipInfo filename='issues/GoogleCloudPlatform_storage-sdrs_70.txt' compress_type=deflate filemode='-rw-rw-r--' file_size=424 compress_size=253>,\n",
       " <ZipInfo filename='issues/CVE-2014-1544.txt' compress_type=deflate filemode='-rw-rw-r--' file_size=374 compress_size=250>,\n",
       " <ZipInfo filename='issues/mozilla_kuma_3627.txt' compress_type=deflate filemode='-rw-rw-r--' file_size=176 compress_size=124>,\n",
       " <ZipInfo filename='issues/GoogleCloudPlatform_java-docs-samples_578.txt' compress_type=deflate filemode='-rw-rw-r--' file_size=71 compress_size=66>,\n",
       " <ZipInfo filename='issues/mozilla_kuma_2032.txt' compress_type=deflate filemode='-rw-rw-r--' file_size=80 compress_size=77>,\n",
       " <ZipInfo filename='issues/microsoft_botbuilder-dotnet_625.txt' compress_type=deflate filemode='-rw-rw-r--' file_size=221 compress_size=151>,\n",
       " <ZipInfo filename='issues/CVE-2017-5419.txt' compress_type=deflate filemode='-rw-rw-r--' file_size=278 compress_size=199>,\n",
       " <ZipInfo filename='issues/mozilla_addons-frontend_5388.txt' compress_type=deflate filemode='-rw-rw-r--' file_size=660 compress_size=389>,\n",
       " <ZipInfo filename='issues/CVE-2015-3971.txt' compress_type=deflate filemode='-rw-rw-r--' file_size=226 compress_size=177>,\n",
       " <ZipInfo filename='issues/GoogleCloudPlatform_magic-modules_635.txt' compress_type=deflate filemode='-rw-rw-r--' file_size=131 compress_size=80>,\n",
       " <ZipInfo filename='issues/CVE-2018-3581.txt' compress_type=deflate filemode='-rw-rw-r--' file_size=220 compress_size=159>,\n",
       " <ZipInfo filename='issues/CVE-2018-2367.txt' compress_type=deflate filemode='-rw-rw-r--' file_size=300 compress_size=204>,\n",
       " <ZipInfo filename='issues/CVE-2018-15124.txt' compress_type=deflate filemode='-rw-rw-r--' file_size=198 compress_size=154>,\n",
       " <ZipInfo filename='issues/mozilla_bedrock_3297.txt' compress_type=deflate filemode='-rw-rw-r--' file_size=95 compress_size=89>,\n",
       " <ZipInfo filename='issues/CVE-2015-9188.txt' compress_type=deflate filemode='-rw-rw-r--' file_size=549 compress_size=322>,\n",
       " <ZipInfo filename='issues/CVE-2016-1474.txt' compress_type=deflate filemode='-rw-rw-r--' file_size=333 compress_size=244>,\n",
       " <ZipInfo filename='issues/CVE-2015-5210.txt' compress_type=deflate filemode='-rw-rw-r--' file_size=190 compress_size=140>,\n",
       " <ZipInfo filename='issues/symfony_symfony_8268.txt' compress_type=deflate filemode='-rw-rw-r--' file_size=1205 compress_size=613>,\n",
       " <ZipInfo filename='issues/GoogleCloudPlatform_PerfKitBenchmarker_1857.txt' compress_type=deflate filemode='-rw-rw-r--' file_size=944 compress_size=402>,\n",
       " <ZipInfo filename='issues/GoogleCloudPlatform_magic-modules_373.txt' compress_type=deflate filemode='-rw-rw-r--' file_size=592 compress_size=292>,\n",
       " <ZipInfo filename='issues/CVE-2016-10691.txt' compress_type=deflate filemode='-rw-rw-r--' file_size=391 compress_size=237>,\n",
       " <ZipInfo filename='issues/CVE-2014-0114.txt' compress_type=deflate filemode='-rw-rw-r--' file_size=439 compress_size=264>,\n",
       " <ZipInfo filename='issues/docker_docker.github.io_8465.txt' filemode='-rw-rw-r--' file_size=45>,\n",
       " <ZipInfo filename='issues/CVE-2017-4929.txt' compress_type=deflate filemode='-rw-rw-r--' file_size=155 compress_size=126>,\n",
       " <ZipInfo filename='issues/GoogleCloudPlatform_osconfig_9.txt' compress_type=deflate filemode='-rw-rw-r--' file_size=137 compress_size=116>,\n",
       " <ZipInfo filename='issues/CVE-2017-8077.txt' compress_type=deflate filemode='-rw-rw-r--' file_size=165 compress_size=141>,\n",
       " <ZipInfo filename='issues/CVE-2017-9644.txt' compress_type=deflate filemode='-rw-rw-r--' file_size=491 compress_size=255>,\n",
       " <ZipInfo filename='issues/CVE-2018-5472.txt' compress_type=deflate filemode='-rw-rw-r--' file_size=244 compress_size=169>,\n",
       " <ZipInfo filename='issues/mozilla_addons-frontend_2288.txt' compress_type=deflate filemode='-rw-rw-r--' file_size=99 compress_size=93>,\n",
       " <ZipInfo filename='issues/mozilla_bedrock_1421.txt' compress_type=deflate filemode='-rw-rw-r--' file_size=85 compress_size=79>,\n",
       " <ZipInfo filename='issues/CVE-2018-20675.txt' compress_type=deflate filemode='-rw-rw-r--' file_size=213 compress_size=126>,\n",
       " <ZipInfo filename='issues/GoogleCloudPlatform_postgresql-docker_30.txt' compress_type=deflate filemode='-rw-rw-r--' file_size=58 compress_size=57>,\n",
       " <ZipInfo filename='issues/CVE-2015-0160.txt' compress_type=deflate filemode='-rw-rw-r--' file_size=211 compress_size=155>,\n",
       " <ZipInfo filename='issues/CVE-2016-8532.txt' compress_type=deflate filemode='-rw-rw-r--' file_size=96 compress_size=89>,\n",
       " <ZipInfo filename='issues/CVE-2014-0446.txt' compress_type=deflate filemode='-rw-rw-r--' file_size=219 compress_size=158>,\n",
       " <ZipInfo filename='issues/CVE-2014-2968.txt' compress_type=deflate filemode='-rw-rw-r--' file_size=238 compress_size=186>,\n",
       " <ZipInfo filename='issues/GoogleCloudPlatform_ruby-docs-samples_240.txt' compress_type=deflate filemode='-rw-rw-r--' file_size=91 compress_size=84>,\n",
       " <ZipInfo filename='issues/CVE-2014-2884.txt' compress_type=deflate filemode='-rw-rw-r--' file_size=260 compress_size=198>,\n",
       " <ZipInfo filename='issues/mozilla_kuma_4193.txt' compress_type=deflate filemode='-rw-rw-r--' file_size=302 compress_size=203>,\n",
       " <ZipInfo filename='issues/mozilla_kuma_4031.txt' compress_type=deflate filemode='-rw-rw-r--' file_size=468 compress_size=305>,\n",
       " <ZipInfo filename='issues/microsoft_onnxruntime_1022.txt' compress_type=deflate filemode='-rw-rw-r--' file_size=332 compress_size=212>,\n",
       " <ZipInfo filename='issues/CVE-2017-3559.txt' compress_type=deflate filemode='-rw-rw-r--' file_size=942 compress_size=478>,\n",
       " <ZipInfo filename='issues/CVE-2014-6316.txt' compress_type=deflate filemode='-rw-rw-r--' file_size=250 compress_size=179>,\n",
       " <ZipInfo filename='issues/mozilla_bedrock_2980.txt' compress_type=deflate filemode='-rw-rw-r--' file_size=82 compress_size=80>,\n",
       " <ZipInfo filename='issues/GoogleCloudPlatform_google-cloud-iot-arduino_42.txt' compress_type=deflate filemode='-rw-rw-r--' file_size=318 compress_size=192>,\n",
       " <ZipInfo filename='issues/mozilla_kuma_3066.txt' compress_type=deflate filemode='-rw-rw-r--' file_size=100 compress_size=89>,\n",
       " <ZipInfo filename='issues/CVE-2017-15197.txt' compress_type=deflate filemode='-rw-rw-r--' file_size=133 compress_size=107>,\n",
       " <ZipInfo filename='issues/CVE-2016-4245.txt' compress_type=deflate filemode='-rw-rw-r--' file_size=762 compress_size=296>,\n",
       " <ZipInfo filename='issues/CVE-2018-8396.txt' compress_type=deflate filemode='-rw-rw-r--' file_size=309 compress_size=191>,\n",
       " <ZipInfo filename='issues/CVE-2017-18314.txt' compress_type=deflate filemode='-rw-rw-r--' file_size=440 compress_size=245>,\n",
       " <ZipInfo filename='issues/mozilla_hubs_621.txt' compress_type=deflate filemode='-rw-rw-r--' file_size=461 compress_size=271>,\n",
       " <ZipInfo filename='issues/mozilla_blurts-server_560.txt' filemode='-rw-rw-r--' file_size=60>,\n",
       " <ZipInfo filename='issues/mozilla_kuma_2078.txt' compress_type=deflate filemode='-rw-rw-r--' file_size=65 compress_size=60>,\n",
       " <ZipInfo filename='issues/CVE-2018-12448.txt' compress_type=deflate filemode='-rw-rw-r--' file_size=231 compress_size=166>,\n",
       " <ZipInfo filename='issues/CVE-2016-2883.txt' compress_type=deflate filemode='-rw-rw-r--' file_size=278 compress_size=205>,\n",
       " <ZipInfo filename='issues/mozilla_bedrock_4988.txt' compress_type=deflate filemode='-rw-rw-r--' file_size=584 compress_size=367>,\n",
       " <ZipInfo filename='issues/mozilla_addons-frontend_6727.txt' compress_type=deflate filemode='-rw-rw-r--' file_size=482 compress_size=268>,\n",
       " <ZipInfo filename='issues/mozilla_kuma_973.txt' compress_type=deflate filemode='-rw-rw-r--' file_size=72 compress_size=69>,\n",
       " <ZipInfo filename='issues/CVE-2014-3065.txt' compress_type=deflate filemode='-rw-rw-r--' file_size=301 compress_size=201>,\n",
       " <ZipInfo filename='issues/symfony_symfony_29979.txt' compress_type=deflate filemode='-rw-rw-r--' file_size=219 compress_size=167>,\n",
       " <ZipInfo filename='issues/CVE-2015-7680.txt' compress_type=deflate filemode='-rw-rw-r--' file_size=239 compress_size=177>,\n",
       " <ZipInfo filename='issues/CVE-2014-7858.txt' compress_type=deflate filemode='-rw-rw-r--' file_size=189 compress_size=147>,\n",
       " <ZipInfo filename='issues/CVE-2014-6547.txt' compress_type=deflate filemode='-rw-rw-r--' file_size=369 compress_size=209>,\n",
       " <ZipInfo filename='issues/CVE-2014-2927.txt' compress_type=deflate filemode='-rw-rw-r--' file_size=394 compress_size=238>,\n",
       " <ZipInfo filename='issues/CVE-2017-8807.txt' compress_type=deflate filemode='-rw-rw-r--' file_size=315 compress_size=220>,\n",
       " <ZipInfo filename='issues/CVE-2016-6795.txt' compress_type=deflate filemode='-rw-rw-r--' file_size=191 compress_size=146>,\n",
       " <ZipInfo filename='issues/CVE-2018-18441.txt' compress_type=deflate filemode='-rw-rw-r--' file_size=739 compress_size=401>,\n",
       " <ZipInfo filename='issues/CVE-2014-9930.txt' compress_type=deflate filemode='-rw-rw-r--' file_size=122 compress_size=105>,\n",
       " <ZipInfo filename='issues/microsoft_botbuilder-dotnet_77.txt' compress_type=deflate filemode='-rw-rw-r--' file_size=554 compress_size=329>,\n",
       " <ZipInfo filename='issues/CVE-2016-8421.txt' compress_type=deflate filemode='-rw-rw-r--' file_size=366 compress_size=254>,\n",
       " <ZipInfo filename='issues/CVE-2016-9075.txt' compress_type=deflate filemode='-rw-rw-r--' file_size=292 compress_size=189>,\n",
       " <ZipInfo filename='issues/CVE-2017-9488.txt' compress_type=deflate filemode='-rw-rw-r--' file_size=381 compress_size=260>,\n",
       " <ZipInfo filename='issues/mozilla_addons-frontend_2389.txt' compress_type=deflate filemode='-rw-rw-r--' file_size=376 compress_size=237>,\n",
       " <ZipInfo filename='issues/CVE-2017-13242.txt' compress_type=deflate filemode='-rw-rw-r--' file_size=159 compress_size=131>,\n",
       " <ZipInfo filename='issues/CVE-2017-17937.txt' compress_type=deflate filemode='-rw-rw-r--' file_size=91 compress_size=85>,\n",
       " <ZipInfo filename='issues/GoogleCloudPlatform_k8s-cluster-bundle_232.txt' compress_type=deflate filemode='-rw-rw-r--' file_size=58 compress_size=57>,\n",
       " <ZipInfo filename='issues/CVE-2017-17151.txt' compress_type=deflate filemode='-rw-rw-r--' file_size=542 compress_size=278>,\n",
       " <ZipInfo filename='issues/mozilla_kuma_1143.txt' compress_type=deflate filemode='-rw-rw-r--' file_size=103 compress_size=94>,\n",
       " <ZipInfo filename='issues/CVE-2016-8909.txt' compress_type=deflate filemode='-rw-rw-r--' file_size=256 compress_size=186>,\n",
       " <ZipInfo filename='issues/CVE-2018-20680.txt' filemode='-rw-rw-r--' file_size=62>,\n",
       " <ZipInfo filename='issues/CVE-2016-2471.txt' compress_type=deflate filemode='-rw-rw-r--' file_size=171 compress_size=142>,\n",
       " <ZipInfo filename='issues/mozilla_bedrock_2991.txt' compress_type=deflate filemode='-rw-rw-r--' file_size=95 compress_size=94>,\n",
       " <ZipInfo filename='issues/mozilla_bedrock_3908.txt' compress_type=deflate filemode='-rw-rw-r--' file_size=526 compress_size=315>,\n",
       " <ZipInfo filename='issues/mozilla_addons-frontend_1777.txt' compress_type=deflate filemode='-rw-rw-r--' file_size=305 compress_size=199>,\n",
       " <ZipInfo filename='issues/GoogleCloudPlatform_dataproc-initialization-actions_61.txt' filemode='-rw-rw-r--' file_size=38>,\n",
       " <ZipInfo filename='issues/mozilla_bedrock_1911.txt' compress_type=deflate filemode='-rw-rw-r--' file_size=97 compress_size=89>,\n",
       " <ZipInfo filename='issues/mozilla_kuma_171.txt' filemode='-rw-rw-r--' file_size=53>,\n",
       " <ZipInfo filename='issues/CVE-2013-2139.txt' compress_type=deflate filemode='-rw-rw-r--' file_size=244 compress_size=169>,\n",
       " <ZipInfo filename='issues/CVE-2015-8903.txt' compress_type=deflate filemode='-rw-rw-r--' file_size=180 compress_size=143>,\n",
       " <ZipInfo filename='issues/CVE-2016-5787.txt' compress_type=deflate filemode='-rw-rw-r--' file_size=189 compress_size=156>,\n",
       " <ZipInfo filename='issues/microsoft_botbuilder-dotnet_1332.txt' compress_type=deflate filemode='-rw-rw-r--' file_size=416 compress_size=263>,\n",
       " <ZipInfo filename='issues/CVE-2018-11692.txt' compress_type=deflate filemode='-rw-rw-r--' file_size=409 compress_size=282>,\n",
       " <ZipInfo filename='issues/CVE-2018-1000633.txt' compress_type=deflate filemode='-rw-rw-r--' file_size=395 compress_size=250>,\n",
       " <ZipInfo filename='issues/mozilla_addons-frontend_1829.txt' compress_type=deflate filemode='-rw-rw-r--' file_size=230 compress_size=160>,\n",
       " <ZipInfo filename='issues/facebook_react-native_24355.txt' compress_type=deflate filemode='-rw-rw-r--' file_size=4949 compress_size=1994>,\n",
       " <ZipInfo filename='issues/CVE-2018-9126.txt' compress_type=deflate filemode='-rw-rw-r--' file_size=200 compress_size=158>,\n",
       " <ZipInfo filename='issues/mozilla_kuma_1629.txt' compress_type=deflate filemode='-rw-rw-r--' file_size=113 compress_size=103>,\n",
       " <ZipInfo filename='issues/CVE-2016-5065.txt' compress_type=deflate filemode='-rw-rw-r--' file_size=108 compress_size=102>,\n",
       " <ZipInfo filename='issues/symfony_symfony_26173.txt' compress_type=deflate filemode='-rw-rw-r--' file_size=201 compress_size=152>,\n",
       " <ZipInfo filename='issues/microsoft_botbuilder-dotnet_1017.txt' compress_type=deflate filemode='-rw-rw-r--' file_size=375 compress_size=225>,\n",
       " <ZipInfo filename='issues/CVE-2015-3333.txt' compress_type=deflate filemode='-rw-rw-r--' file_size=210 compress_size=156>,\n",
       " <ZipInfo filename='issues/CVE-2018-17958.txt' compress_type=deflate filemode='-rw-rw-r--' file_size=117 compress_size=103>,\n",
       " <ZipInfo filename='issues/CVE-2016-6420.txt' compress_type=deflate filemode='-rw-rw-r--' file_size=220 compress_size=176>,\n",
       " <ZipInfo filename='issues/GoogleCloudPlatform_php-docs-samples_224.txt' filemode='-rw-rw-r--' file_size=56>,\n",
       " <ZipInfo filename='issues/mozilla_bedrock_6787.txt' compress_type=deflate filemode='-rw-rw-r--' file_size=239 compress_size=145>,\n",
       " <ZipInfo filename='issues/mozilla_kuma_3819.txt' compress_type=deflate filemode='-rw-rw-r--' file_size=91 compress_size=84>,\n",
       " <ZipInfo filename='issues/Microsoft_openenclave_1667.txt' filemode='-rw-rw-r--' file_size=55>,\n",
       " <ZipInfo filename='issues/GoogleCloudPlatform_java-docs-samples_1424.txt' compress_type=deflate filemode='-rw-rw-r--' file_size=78 compress_size=72>,\n",
       " <ZipInfo filename='issues/microsoft_onnxruntime_528.txt' compress_type=deflate filemode='-rw-rw-r--' file_size=1616 compress_size=683>,\n",
       " <ZipInfo filename='issues/CVE-2018-20060.txt' compress_type=deflate filemode='-rw-rw-r--' file_size=293 compress_size=195>,\n",
       " <ZipInfo filename='issues/CVE-2017-16532.txt' compress_type=deflate filemode='-rw-rw-r--' file_size=253 compress_size=185>,\n",
       " <ZipInfo filename='issues/GoogleCloudPlatform_terraform-google-conversion_6.txt' compress_type=deflate filemode='-rw-rw-r--' file_size=137 compress_size=97>,\n",
       " <ZipInfo filename='issues/GoogleCloudPlatform_training-data-analyst_330.txt' compress_type=deflate filemode='-rw-rw-r--' file_size=85 compress_size=80>,\n",
       " <ZipInfo filename='issues/frappe_erpnext_9116.txt' compress_type=deflate filemode='-rw-rw-r--' file_size=941 compress_size=470>,\n",
       " <ZipInfo filename='issues/docker_swarmkit_2833.txt' compress_type=deflate filemode='-rw-rw-r--' file_size=233 compress_size=181>,\n",
       " <ZipInfo filename='issues/CVE-2018-11632.txt' compress_type=deflate filemode='-rw-rw-r--' file_size=415 compress_size=277>,\n",
       " <ZipInfo filename='issues/CVE-2015-0803.txt' compress_type=deflate filemode='-rw-rw-r--' file_size=329 compress_size=234>,\n",
       " <ZipInfo filename='issues/mozilla_kuma_3963.txt' compress_type=deflate filemode='-rw-rw-r--' file_size=324 compress_size=217>,\n",
       " <ZipInfo filename='issues/mozilla_kuma_3907.txt' compress_type=deflate filemode='-rw-rw-r--' file_size=70 compress_size=67>,\n",
       " <ZipInfo filename='issues/symfony_symfony_17573.txt' compress_type=deflate filemode='-rw-rw-r--' file_size=597 compress_size=306>,\n",
       " <ZipInfo filename='issues/CVE-2017-9512.txt' compress_type=deflate filemode='-rw-rw-r--' file_size=235 compress_size=168>,\n",
       " <ZipInfo filename='issues/CVE-2016-7972.txt' compress_type=deflate filemode='-rw-rw-r--' file_size=184 compress_size=133>,\n",
       " <ZipInfo filename='issues/GoogleCloudPlatform_magic-modules_664.txt' compress_type=deflate filemode='-rw-rw-r--' file_size=195 compress_size=119>,\n",
       " <ZipInfo filename='issues/mozilla_addons-frontend_4303.txt' compress_type=deflate filemode='-rw-rw-r--' file_size=494 compress_size=292>,\n",
       " <ZipInfo filename='issues/CVE-2015-3221.txt' compress_type=deflate filemode='-rw-rw-r--' file_size=261 compress_size=188>,\n",
       " <ZipInfo filename='issues/mozilla_addons-frontend_7102.txt' compress_type=deflate filemode='-rw-rw-r--' file_size=502 compress_size=317>,\n",
       " <ZipInfo filename='issues/CVE-2018-3832.txt' compress_type=deflate filemode='-rw-rw-r--' file_size=457 compress_size=270>,\n",
       " <ZipInfo filename='issues/CVE-2016-10033.txt' compress_type=deflate filemode='-rw-rw-r--' file_size=251 compress_size=182>,\n",
       " <ZipInfo filename='issues/GoogleCloudPlatform_getting-started-java_119.txt' compress_type=deflate filemode='-rw-rw-r--' file_size=139 compress_size=108>,\n",
       " <ZipInfo filename='issues/mozilla_bedrock_5126.txt' compress_type=deflate filemode='-rw-rw-r--' file_size=105 compress_size=96>,\n",
       " <ZipInfo filename='issues/google_fonts_1982.txt' compress_type=deflate filemode='-rw-rw-r--' file_size=282 compress_size=188>,\n",
       " <ZipInfo filename='issues/GoogleCloudPlatform_python-docs-samples_1207.txt' compress_type=deflate filemode='-rw-rw-r--' file_size=85 compress_size=75>,\n",
       " <ZipInfo filename='issues/GoogleCloudPlatform_compute-image-tools_392.txt' compress_type=deflate filemode='-rw-rw-r--' file_size=76 compress_size=70>,\n",
       " <ZipInfo filename='issues/symfony_symfony_22483.txt' compress_type=deflate filemode='-rw-rw-r--' file_size=936 compress_size=469>,\n",
       " <ZipInfo filename='issues/mozilla_addons-frontend_2955.txt' compress_type=deflate filemode='-rw-rw-r--' file_size=143 compress_size=125>,\n",
       " <ZipInfo filename='issues/CVE-2018-14512.txt' compress_type=deflate filemode='-rw-rw-r--' file_size=333 compress_size=242>,\n",
       " <ZipInfo filename='issues/CVE-2018-1032.txt' compress_type=deflate filemode='-rw-rw-r--' file_size=374 compress_size=204>,\n",
       " <ZipInfo filename='issues/CVE-2016-0614.txt' compress_type=deflate filemode='-rw-rw-r--' file_size=211 compress_size=158>,\n",
       " <ZipInfo filename='issues/mozilla_addons-frontend_7199.txt' filemode='-rw-rw-r--' file_size=59>,\n",
       " <ZipInfo filename='issues/CVE-2016-2985.txt' compress_type=deflate filemode='-rw-rw-r--' file_size=265 compress_size=181>,\n",
       " <ZipInfo filename='issues/CVE-2017-15102.txt' compress_type=deflate filemode='-rw-rw-r--' file_size=307 compress_size=212>,\n",
       " <ZipInfo filename='issues/CVE-2014-4171.txt' compress_type=deflate filemode='-rw-rw-r--' file_size=418 compress_size=284>,\n",
       " <ZipInfo filename='issues/CVE-2014-7287.txt' compress_type=deflate filemode='-rw-rw-r--' file_size=300 compress_size=200>,\n",
       " <ZipInfo filename='issues/mozilla_bedrock_6370.txt' compress_type=deflate filemode='-rw-rw-r--' file_size=431 compress_size=271>,\n",
       " <ZipInfo filename='issues/mozilla_kuma_3046.txt' compress_type=deflate filemode='-rw-rw-r--' file_size=119 compress_size=101>,\n",
       " <ZipInfo filename='issues/mozilla_bedrock_2011.txt' compress_type=deflate filemode='-rw-rw-r--' file_size=98 compress_size=93>,\n",
       " <ZipInfo filename='issues/GoogleCloudPlatform_nodejs-docs-samples_850.txt' compress_type=deflate filemode='-rw-rw-r--' file_size=1088 compress_size=573>,\n",
       " <ZipInfo filename='issues/CVE-2017-9097.txt' compress_type=deflate filemode='-rw-rw-r--' file_size=454 compress_size=259>,\n",
       " <ZipInfo filename='issues/CVE-2017-10012.txt' compress_type=deflate filemode='-rw-rw-r--' file_size=731 compress_size=396>,\n",
       " <ZipInfo filename='issues/CVE-2018-13445.txt' compress_type=deflate filemode='-rw-rw-r--' file_size=138 compress_size=118>,\n",
       " <ZipInfo filename='issues/mozilla_bedrock_3141.txt' compress_type=deflate filemode='-rw-rw-r--' file_size=263 compress_size=173>,\n",
       " <ZipInfo filename='issues/GoogleCloudPlatform_python-docs-samples_1188.txt' compress_type=deflate filemode='-rw-rw-r--' file_size=240 compress_size=164>,\n",
       " <ZipInfo filename='issues/GoogleCloudPlatform_open-match_369.txt' filemode='-rw-rw-r--' file_size=59>,\n",
       " <ZipInfo filename='issues/CVE-2018-9242.txt' compress_type=deflate filemode='-rw-rw-r--' file_size=208 compress_size=141>,\n",
       " <ZipInfo filename='issues/CVE-2017-14973.txt' compress_type=deflate filemode='-rw-rw-r--' file_size=203 compress_size=167>,\n",
       " <ZipInfo filename='issues/symfony_symfony_31013.txt' compress_type=deflate filemode='-rw-rw-r--' file_size=523 compress_size=320>,\n",
       " <ZipInfo filename='issues/CVE-2017-12979.txt' compress_type=deflate filemode='-rw-rw-r--' file_size=219 compress_size=166>,\n",
       " <ZipInfo filename='issues/GoogleCloudPlatform_nodejs-docs-samples_715.txt' compress_type=deflate filemode='-rw-rw-r--' file_size=85 compress_size=77>,\n",
       " <ZipInfo filename='issues/mozilla_bedrock_5545.txt' compress_type=deflate filemode='-rw-rw-r--' file_size=158 compress_size=123>,\n",
       " <ZipInfo filename='issues/CVE-2014-3698.txt' compress_type=deflate filemode='-rw-rw-r--' file_size=216 compress_size=158>,\n",
       " <ZipInfo filename='issues/CVE-2016-2211.txt' compress_type=deflate filemode='-rw-rw-r--' file_size=1342 compress_size=609>,\n",
       " <ZipInfo filename='issues/CVE-2016-1352.txt' compress_type=deflate filemode='-rw-rw-r--' file_size=182 compress_size=151>,\n",
       " <ZipInfo filename='issues/CVE-2015-3897.txt' compress_type=deflate filemode='-rw-rw-r--' file_size=232 compress_size=160>,\n",
       " <ZipInfo filename='issues/CVE-2017-1000239.txt' compress_type=deflate filemode='-rw-rw-r--' file_size=241 compress_size=166>,\n",
       " <ZipInfo filename='issues/mozilla_kuma_1887.txt' compress_type=deflate filemode='-rw-rw-r--' file_size=133 compress_size=97>,\n",
       " ...]"
      ]
     },
     "execution_count": 11,
     "metadata": {},
     "output_type": "execute_result"
    }
   ],
   "source": [
    "paths = [str(x) for x in Path(path).glob(\"**/*.zip\")] #Just checking .ZIP \n",
    "archive = zipfile.ZipFile(paths[0], 'r')\n",
    "archive.infolist()"
   ]
  },
  {
   "cell_type": "code",
   "execution_count": 14,
   "metadata": {},
   "outputs": [
    {
     "data": {
      "text/plain": [
       "b\"bug 1199166 - disallow robots from comparing\\n\\n\\nToday's down-time incident was caused by Yahoo Slurp! crawling onto a bad and expensive compare transaction.\\nTo help mitigate the risk of search crawlers triggering overload transactions, we want to add a number of new Disallow directives to our robots.txt, so we can expect well-behaved robots to stay away from them.\\nI used Google Webmaster Tools to verify that this robots.txt file will not disallow regular docs urls. I couldn't find equivalent webmaster tools for Yahoo, so I emailed Kev Needham (our Yahoo liaison) and set up a Google Analytics alert to email me if our traffic from Yahoo drops below our minimum observed threshold, just in case.\\n\""
      ]
     },
     "execution_count": 14,
     "metadata": {},
     "output_type": "execute_result"
    }
   ],
   "source": [
    "issuedata = archive.read('issues/mozilla_kuma_3447.txt')\n",
    "issuedata"
   ]
  },
  {
   "cell_type": "code",
   "execution_count": 17,
   "metadata": {
    "colab": {},
    "colab_type": "code",
    "id": "ihX76G8sPm77"
   },
   "outputs": [],
   "source": [
    "dataset = Dynamic_Dataset(ground_truth, path) ## Suspicious code to be romoved"
   ]
  },
  {
   "cell_type": "code",
   "execution_count": 15,
   "metadata": {
    "colab": {},
    "colab_type": "code",
    "id": "yqeQHRAtPm7_"
   },
   "outputs": [],
   "source": [
    "test, train = process_unit.get_test_and_training(ground_truth, isZip = True)"
   ]
  },
  {
   "cell_type": "code",
   "execution_count": 23,
   "metadata": {
    "colab": {},
    "colab_type": "code",
    "id": "SBhrvDTjPm8D",
    "outputId": "a19326e9-6a4c-4375-9ee6-7ef3064c22be"
   },
   "outputs": [
    {
     "name": "stdout",
     "output_type": "stream",
     "text": [
      "11612\n",
      "104510\n"
     ]
    }
   ],
   "source": [
    "print(len(test))\n",
    "print(len(train))\n"
   ]
  },
  {
   "cell_type": "code",
   "execution_count": 25,
   "metadata": {},
   "outputs": [
    {
     "ename": "KeyboardInterrupt",
     "evalue": "",
     "output_type": "error",
     "traceback": [
      "\u001b[0;31m---------------------------------------------------------------------------\u001b[0m",
      "\u001b[0;31mKeyboardInterrupt\u001b[0m                         Traceback (most recent call last)",
      "\u001b[0;32m<ipython-input-25-805610ebecdc>\u001b[0m in \u001b[0;36m<module>\u001b[0;34m\u001b[0m\n\u001b[1;32m      1\u001b[0m \u001b[0;31m#Vectorizing in a pandas\u001b[0m\u001b[0;34m\u001b[0m\u001b[0;34m\u001b[0m\u001b[0;34m\u001b[0m\u001b[0m\n\u001b[0;32m----> 2\u001b[0;31m \u001b[0mdf_test\u001b[0m \u001b[0;34m=\u001b[0m \u001b[0mpd\u001b[0m\u001b[0;34m.\u001b[0m\u001b[0mDataFrame\u001b[0m\u001b[0;34m(\u001b[0m\u001b[0mtest\u001b[0m\u001b[0;34m,\u001b[0m \u001b[0mcolumns\u001b[0m \u001b[0;34m=\u001b[0m \u001b[0;34m[\u001b[0m\u001b[0;34m'Label'\u001b[0m\u001b[0;34m,\u001b[0m \u001b[0;34m'Text'\u001b[0m\u001b[0;34m]\u001b[0m\u001b[0;34m)\u001b[0m\u001b[0;34m\u001b[0m\u001b[0;34m\u001b[0m\u001b[0m\n\u001b[0m",
      "\u001b[0;32m/usr/local/lib/python3.6/dist-packages/pandas/core/frame.py\u001b[0m in \u001b[0;36m__init__\u001b[0;34m(self, data, index, columns, dtype, copy)\u001b[0m\n\u001b[1;32m    467\u001b[0m         \u001b[0;32melif\u001b[0m \u001b[0misinstance\u001b[0m\u001b[0;34m(\u001b[0m\u001b[0mdata\u001b[0m\u001b[0;34m,\u001b[0m \u001b[0mabc\u001b[0m\u001b[0;34m.\u001b[0m\u001b[0mIterable\u001b[0m\u001b[0;34m)\u001b[0m \u001b[0;32mand\u001b[0m \u001b[0;32mnot\u001b[0m \u001b[0misinstance\u001b[0m\u001b[0;34m(\u001b[0m\u001b[0mdata\u001b[0m\u001b[0;34m,\u001b[0m \u001b[0;34m(\u001b[0m\u001b[0mstr\u001b[0m\u001b[0;34m,\u001b[0m \u001b[0mbytes\u001b[0m\u001b[0;34m)\u001b[0m\u001b[0;34m)\u001b[0m\u001b[0;34m:\u001b[0m\u001b[0;34m\u001b[0m\u001b[0;34m\u001b[0m\u001b[0m\n\u001b[1;32m    468\u001b[0m             \u001b[0;32mif\u001b[0m \u001b[0;32mnot\u001b[0m \u001b[0misinstance\u001b[0m\u001b[0;34m(\u001b[0m\u001b[0mdata\u001b[0m\u001b[0;34m,\u001b[0m \u001b[0;34m(\u001b[0m\u001b[0mabc\u001b[0m\u001b[0;34m.\u001b[0m\u001b[0mSequence\u001b[0m\u001b[0;34m,\u001b[0m \u001b[0mExtensionArray\u001b[0m\u001b[0;34m)\u001b[0m\u001b[0;34m)\u001b[0m\u001b[0;34m:\u001b[0m\u001b[0;34m\u001b[0m\u001b[0;34m\u001b[0m\u001b[0m\n\u001b[0;32m--> 469\u001b[0;31m                 \u001b[0mdata\u001b[0m \u001b[0;34m=\u001b[0m \u001b[0mlist\u001b[0m\u001b[0;34m(\u001b[0m\u001b[0mdata\u001b[0m\u001b[0;34m)\u001b[0m\u001b[0;34m\u001b[0m\u001b[0;34m\u001b[0m\u001b[0m\n\u001b[0m\u001b[1;32m    470\u001b[0m             \u001b[0;32mif\u001b[0m \u001b[0mlen\u001b[0m\u001b[0;34m(\u001b[0m\u001b[0mdata\u001b[0m\u001b[0;34m)\u001b[0m \u001b[0;34m>\u001b[0m \u001b[0;36m0\u001b[0m\u001b[0;34m:\u001b[0m\u001b[0;34m\u001b[0m\u001b[0;34m\u001b[0m\u001b[0m\n\u001b[1;32m    471\u001b[0m                 \u001b[0;32mif\u001b[0m \u001b[0mis_list_like\u001b[0m\u001b[0;34m(\u001b[0m\u001b[0mdata\u001b[0m\u001b[0;34m[\u001b[0m\u001b[0;36m0\u001b[0m\u001b[0;34m]\u001b[0m\u001b[0;34m)\u001b[0m \u001b[0;32mand\u001b[0m \u001b[0mgetattr\u001b[0m\u001b[0;34m(\u001b[0m\u001b[0mdata\u001b[0m\u001b[0;34m[\u001b[0m\u001b[0;36m0\u001b[0m\u001b[0;34m]\u001b[0m\u001b[0;34m,\u001b[0m \u001b[0;34m\"ndim\"\u001b[0m\u001b[0;34m,\u001b[0m \u001b[0;36m1\u001b[0m\u001b[0;34m)\u001b[0m \u001b[0;34m==\u001b[0m \u001b[0;36m1\u001b[0m\u001b[0;34m:\u001b[0m\u001b[0;34m\u001b[0m\u001b[0;34m\u001b[0m\u001b[0m\n",
      "\u001b[0;32m/tf/main/nbs/utils/read_data.py\u001b[0m in \u001b[0;36m__next__\u001b[0;34m(self)\u001b[0m\n\u001b[1;32m     82\u001b[0m                 \u001b[0mself\u001b[0m\u001b[0;34m.\u001b[0m\u001b[0m__index\u001b[0m \u001b[0;34m=\u001b[0m \u001b[0;36m0\u001b[0m\u001b[0;34m\u001b[0m\u001b[0;34m\u001b[0m\u001b[0m\n\u001b[1;32m     83\u001b[0m                 \u001b[0;32mreturn\u001b[0m \u001b[0mself\u001b[0m\u001b[0;34m\u001b[0m\u001b[0;34m\u001b[0m\u001b[0m\n\u001b[0;32m---> 84\u001b[0;31m \u001b[0;34m\u001b[0m\u001b[0m\n\u001b[0m\u001b[1;32m     85\u001b[0m         \u001b[0;32mdef\u001b[0m \u001b[0m__next__\u001b[0m\u001b[0;34m(\u001b[0m\u001b[0mself\u001b[0m\u001b[0;34m)\u001b[0m\u001b[0;34m:\u001b[0m\u001b[0;34m\u001b[0m\u001b[0;34m\u001b[0m\u001b[0m\n\u001b[1;32m     86\u001b[0m                 \u001b[0;32mif\u001b[0m \u001b[0mself\u001b[0m\u001b[0;34m.\u001b[0m\u001b[0m__index\u001b[0m \u001b[0;34m<\u001b[0m \u001b[0mlen\u001b[0m\u001b[0;34m(\u001b[0m\u001b[0mself\u001b[0m\u001b[0;34m.\u001b[0m\u001b[0m__keys\u001b[0m\u001b[0;34m)\u001b[0m\u001b[0;34m:\u001b[0m\u001b[0;34m\u001b[0m\u001b[0;34m\u001b[0m\u001b[0m\n",
      "\u001b[0;32m/tf/main/nbs/utils/read_data.py\u001b[0m in \u001b[0;36m__getitem__\u001b[0;34m(self, key)\u001b[0m\n\u001b[1;32m     74\u001b[0m                         \u001b[0;32mfor\u001b[0m \u001b[0mkey\u001b[0m \u001b[0;32min\u001b[0m \u001b[0mnew_keys\u001b[0m\u001b[0;34m:\u001b[0m\u001b[0;34m\u001b[0m\u001b[0;34m\u001b[0m\u001b[0m\n\u001b[1;32m     75\u001b[0m                                 \u001b[0mnew_gt\u001b[0m\u001b[0;34m[\u001b[0m\u001b[0mkey\u001b[0m\u001b[0;34m]\u001b[0m \u001b[0;34m=\u001b[0m \u001b[0mself\u001b[0m\u001b[0;34m.\u001b[0m\u001b[0m__ground_truth\u001b[0m\u001b[0;34m[\u001b[0m\u001b[0mkey\u001b[0m\u001b[0;34m]\u001b[0m\u001b[0;34m\u001b[0m\u001b[0;34m\u001b[0m\u001b[0m\n\u001b[0;32m---> 76\u001b[0;31m                         \u001b[0;32mreturn\u001b[0m \u001b[0mDynamic_Dataset\u001b[0m\u001b[0;34m(\u001b[0m\u001b[0mnew_gt\u001b[0m\u001b[0;34m)\u001b[0m\u001b[0;34m\u001b[0m\u001b[0;34m\u001b[0m\u001b[0m\n\u001b[0m\u001b[1;32m     77\u001b[0m                 \u001b[0;32melse\u001b[0m\u001b[0;34m:\u001b[0m\u001b[0;34m\u001b[0m\u001b[0;34m\u001b[0m\u001b[0m\n\u001b[1;32m     78\u001b[0m                         \u001b[0mid\u001b[0m \u001b[0;34m=\u001b[0m \u001b[0mself\u001b[0m\u001b[0;34m.\u001b[0m\u001b[0m__keys\u001b[0m\u001b[0;34m[\u001b[0m\u001b[0mkey\u001b[0m\u001b[0;34m]\u001b[0m\u001b[0;34m\u001b[0m\u001b[0;34m\u001b[0m\u001b[0m\n",
      "\u001b[0;32m/tf/main/nbs/utils/read_data.py\u001b[0m in \u001b[0;36m__get_issue\u001b[0;34m(self, filename)\u001b[0m\n\u001b[1;32m     49\u001b[0m \u001b[0;34m\u001b[0m\u001b[0m\n\u001b[1;32m     50\u001b[0m         \u001b[0;32mdef\u001b[0m \u001b[0m__get_issue\u001b[0m\u001b[0;34m(\u001b[0m\u001b[0mself\u001b[0m\u001b[0;34m,\u001b[0m \u001b[0mfilename\u001b[0m\u001b[0;34m)\u001b[0m\u001b[0;34m:\u001b[0m\u001b[0;34m\u001b[0m\u001b[0;34m\u001b[0m\u001b[0m\n\u001b[0;32m---> 51\u001b[0;31m                 \u001b[0;32mif\u001b[0m \u001b[0mself\u001b[0m\u001b[0;34m.\u001b[0m\u001b[0m__isZip\u001b[0m\u001b[0;34m:\u001b[0m\u001b[0;34m\u001b[0m\u001b[0;34m\u001b[0m\u001b[0m\n\u001b[0m\u001b[1;32m     52\u001b[0m                         \u001b[0mpaths\u001b[0m \u001b[0;34m=\u001b[0m \u001b[0;34m[\u001b[0m\u001b[0mstr\u001b[0m\u001b[0;34m(\u001b[0m\u001b[0mx\u001b[0m\u001b[0;34m)\u001b[0m \u001b[0;32mfor\u001b[0m \u001b[0mx\u001b[0m \u001b[0;32min\u001b[0m \u001b[0mPath\u001b[0m\u001b[0;34m(\u001b[0m\u001b[0mself\u001b[0m\u001b[0;34m.\u001b[0m\u001b[0m__path\u001b[0m\u001b[0;34m)\u001b[0m\u001b[0;34m.\u001b[0m\u001b[0mglob\u001b[0m\u001b[0;34m(\u001b[0m\u001b[0;34m\"**/*.zip\"\u001b[0m\u001b[0;34m)\u001b[0m\u001b[0;34m]\u001b[0m\u001b[0;34m\u001b[0m\u001b[0;34m\u001b[0m\u001b[0m\n\u001b[1;32m     53\u001b[0m                         \u001b[0;32mfor\u001b[0m \u001b[0monezipath\u001b[0m \u001b[0;32min\u001b[0m \u001b[0mpaths\u001b[0m\u001b[0;34m:\u001b[0m\u001b[0;34m\u001b[0m\u001b[0;34m\u001b[0m\u001b[0m\n",
      "\u001b[0;32m/usr/lib/python3.6/zipfile.py\u001b[0m in \u001b[0;36m__init__\u001b[0;34m(self, file, mode, compression, allowZip64)\u001b[0m\n\u001b[1;32m   1129\u001b[0m         \u001b[0;32mtry\u001b[0m\u001b[0;34m:\u001b[0m\u001b[0;34m\u001b[0m\u001b[0;34m\u001b[0m\u001b[0m\n\u001b[1;32m   1130\u001b[0m             \u001b[0;32mif\u001b[0m \u001b[0mmode\u001b[0m \u001b[0;34m==\u001b[0m \u001b[0;34m'r'\u001b[0m\u001b[0;34m:\u001b[0m\u001b[0;34m\u001b[0m\u001b[0;34m\u001b[0m\u001b[0m\n\u001b[0;32m-> 1131\u001b[0;31m                 \u001b[0mself\u001b[0m\u001b[0;34m.\u001b[0m\u001b[0m_RealGetContents\u001b[0m\u001b[0;34m(\u001b[0m\u001b[0;34m)\u001b[0m\u001b[0;34m\u001b[0m\u001b[0;34m\u001b[0m\u001b[0m\n\u001b[0m\u001b[1;32m   1132\u001b[0m             \u001b[0;32melif\u001b[0m \u001b[0mmode\u001b[0m \u001b[0;32min\u001b[0m \u001b[0;34m(\u001b[0m\u001b[0;34m'w'\u001b[0m\u001b[0;34m,\u001b[0m \u001b[0;34m'x'\u001b[0m\u001b[0;34m)\u001b[0m\u001b[0;34m:\u001b[0m\u001b[0;34m\u001b[0m\u001b[0;34m\u001b[0m\u001b[0m\n\u001b[1;32m   1133\u001b[0m                 \u001b[0;31m# set the modified flag so central directory gets written\u001b[0m\u001b[0;34m\u001b[0m\u001b[0;34m\u001b[0m\u001b[0;34m\u001b[0m\u001b[0m\n",
      "\u001b[0;32m/usr/lib/python3.6/zipfile.py\u001b[0m in \u001b[0;36m_RealGetContents\u001b[0;34m(self)\u001b[0m\n\u001b[1;32m   1252\u001b[0m                             t>>11, (t>>5)&0x3F, (t&0x1F) * 2 )\n\u001b[1;32m   1253\u001b[0m \u001b[0;34m\u001b[0m\u001b[0m\n\u001b[0;32m-> 1254\u001b[0;31m             \u001b[0mx\u001b[0m\u001b[0;34m.\u001b[0m\u001b[0m_decodeExtra\u001b[0m\u001b[0;34m(\u001b[0m\u001b[0;34m)\u001b[0m\u001b[0;34m\u001b[0m\u001b[0;34m\u001b[0m\u001b[0m\n\u001b[0m\u001b[1;32m   1255\u001b[0m             \u001b[0mx\u001b[0m\u001b[0;34m.\u001b[0m\u001b[0mheader_offset\u001b[0m \u001b[0;34m=\u001b[0m \u001b[0mx\u001b[0m\u001b[0;34m.\u001b[0m\u001b[0mheader_offset\u001b[0m \u001b[0;34m+\u001b[0m \u001b[0mconcat\u001b[0m\u001b[0;34m\u001b[0m\u001b[0;34m\u001b[0m\u001b[0m\n\u001b[1;32m   1256\u001b[0m             \u001b[0mself\u001b[0m\u001b[0;34m.\u001b[0m\u001b[0mfilelist\u001b[0m\u001b[0;34m.\u001b[0m\u001b[0mappend\u001b[0m\u001b[0;34m(\u001b[0m\u001b[0mx\u001b[0m\u001b[0;34m)\u001b[0m\u001b[0;34m\u001b[0m\u001b[0;34m\u001b[0m\u001b[0m\n",
      "\u001b[0;32m/usr/lib/python3.6/zipfile.py\u001b[0m in \u001b[0;36m_decodeExtra\u001b[0;34m(self)\u001b[0m\n\u001b[1;32m    461\u001b[0m         \u001b[0mextra\u001b[0m \u001b[0;34m=\u001b[0m \u001b[0mself\u001b[0m\u001b[0;34m.\u001b[0m\u001b[0mextra\u001b[0m\u001b[0;34m\u001b[0m\u001b[0;34m\u001b[0m\u001b[0m\n\u001b[1;32m    462\u001b[0m         \u001b[0munpack\u001b[0m \u001b[0;34m=\u001b[0m \u001b[0mstruct\u001b[0m\u001b[0;34m.\u001b[0m\u001b[0munpack\u001b[0m\u001b[0;34m\u001b[0m\u001b[0;34m\u001b[0m\u001b[0m\n\u001b[0;32m--> 463\u001b[0;31m         \u001b[0;32mwhile\u001b[0m \u001b[0mlen\u001b[0m\u001b[0;34m(\u001b[0m\u001b[0mextra\u001b[0m\u001b[0;34m)\u001b[0m \u001b[0;34m>=\u001b[0m \u001b[0;36m4\u001b[0m\u001b[0;34m:\u001b[0m\u001b[0;34m\u001b[0m\u001b[0;34m\u001b[0m\u001b[0m\n\u001b[0m\u001b[1;32m    464\u001b[0m             \u001b[0mtp\u001b[0m\u001b[0;34m,\u001b[0m \u001b[0mln\u001b[0m \u001b[0;34m=\u001b[0m \u001b[0munpack\u001b[0m\u001b[0;34m(\u001b[0m\u001b[0;34m'<HH'\u001b[0m\u001b[0;34m,\u001b[0m \u001b[0mextra\u001b[0m\u001b[0;34m[\u001b[0m\u001b[0;34m:\u001b[0m\u001b[0;36m4\u001b[0m\u001b[0;34m]\u001b[0m\u001b[0;34m)\u001b[0m\u001b[0;34m\u001b[0m\u001b[0;34m\u001b[0m\u001b[0m\n\u001b[1;32m    465\u001b[0m             \u001b[0;32mif\u001b[0m \u001b[0mtp\u001b[0m \u001b[0;34m==\u001b[0m \u001b[0;36m1\u001b[0m\u001b[0;34m:\u001b[0m\u001b[0;34m\u001b[0m\u001b[0;34m\u001b[0m\u001b[0m\n",
      "\u001b[0;31mKeyboardInterrupt\u001b[0m: "
     ]
    }
   ],
   "source": [
    "#Vectorizing in a pandas \n",
    "#TODO this is very inefficient, we should re-structure dynamic component\n",
    "df_test = pd.DataFrame(test, columns = ['Label', 'Text'])"
   ]
  },
  {
   "cell_type": "code",
   "execution_count": 19,
   "metadata": {},
   "outputs": [
    {
     "name": "stdout",
     "output_type": "stream",
     "text": [
      "('(1,0)', b'The mintToken function of a smart contract implementation for loncoin (LON), an Ethereum token, has an integer overflow that allows the owner of the contract to set the balance of an arbitrary user to any value.') ('(1,0)', b\"'This is a useful security improvement, that I recommend gets integrated into gitlab. It protects users, in the event that their passwords get stolen from other sites, etc. I found a good gem for this: http://rubydoc.info/github/mdp/rotp/master/frames, however, given that it appears Gitlab uses Devise for auth, we should probably use this plugin: https://github.com/wmlele/devise-otp\\n\\nI intend to submit a Merge Request for this, so I'll outline my design for the system here (in case anyone has feedback/wants to help):\\n\\n### OTP Strategy\\nI'm going with time-based (TOTP). Its requires no storage implications, per-user (other than a 32bit secret key). Time-based keys are very common, Google uses this strategy to protect GMail/Apps customers.\\n\\n### Database Augmentation\\n**NOTE:** Given the existence of devise-otp, this may no longer be necessary.\\n\\nI will add new table, with a foreign key reference to a `user_id` column,  and `totp_secret` column. The existence of a row implies that this feature is enabled for a user. This table could be enhanced further down the road to support other types of otp strategies, if need be. This would also make future data migrations, in the event of further enhancement, easier to manage.\\n\\n### UI Augmentation\\n#### User Account Settings\\nWe'll add a simple checkbox that a user must toggle to enable this feature. Once the checkbox is toggled, a modal will appear, displaying a QR code that the user will then scan with their mobile device, to start generating OTP codes. There will also be a box for the user to provide a newly generated OTP code to verify the service is working properly, for their account. Users will also need the ability to also reset the secret, in case they lose their phone etc.\\n\\n#### Admin Settings\\nWe'll need to allow admins to toggle if this feature is enabled, for a given user account. Assumed use case would be to contact an admin to disable OTP codes so you can log back in, re-enable it, and setup a new secret for yourself.\\n\\n#### Sign In\\nOnce the user has provided a proper username/password pair, if the flag is enabled, they will be redirected to a page that asks them to enter an OTP code, before they can proceed into the protected areas of the site.\\n\\n------\\n\\n**QUESTION: What would be the best course of action to manage the scenario where a user has lost their phone, and can no longer regenerate OTP codes to access their account? How can we let them back in to reset their OTP secret?** So far, my assumption is that the user would contact their gitlab administrators and they would disable OTP for them. However, one potential issue with this is that the attacker, who may have the user's password, may also have access to their e-mail. This would allow them to ask the administrator to disable OTP, and gain access to their data. Likely the verification protocol for admins should be org-specific, and not in scope of this work. Unsure how gitlab cloud staff wants to manage this, for their users. \\n\\n**UPDATE:** Its worth noting that using devise-otp provides a list of emergency HTOP recovery tokens that can be used, if we expose that functionality.\")\n"
     ]
    }
   ],
   "source": [
    "print(test[0],train[0])"
   ]
  },
  {
   "cell_type": "code",
   "execution_count": 0,
   "metadata": {
    "colab": {},
    "colab_type": "code",
    "id": "XcAxQa-wPm8H"
   },
   "outputs": [],
   "source": [
    "#Train/Test split verification\n",
    "#for elem in train:\n",
    "#    print(elem[0])"
   ]
  },
  {
   "cell_type": "code",
   "execution_count": 21,
   "metadata": {},
   "outputs": [
    {
     "name": "stderr",
     "output_type": "stream",
     "text": [
      "[nltk_data] Downloading package stopwords to /root/nltk_data...\n",
      "[nltk_data]   Unzipping corpora/stopwords.zip.\n"
     ]
    },
    {
     "data": {
      "text/plain": [
       "True"
      ]
     },
     "execution_count": 21,
     "metadata": {},
     "output_type": "execute_result"
    }
   ],
   "source": [
    "nltk.download('stopwords')"
   ]
  },
  {
   "cell_type": "code",
   "execution_count": 22,
   "metadata": {
    "colab": {},
    "colab_type": "code",
    "id": "ohgOIp23Pm8L"
   },
   "outputs": [
    {
     "ename": "KeyboardInterrupt",
     "evalue": "",
     "output_type": "error",
     "traceback": [
      "\u001b[0;31m---------------------------------------------------------------------------\u001b[0m",
      "\u001b[0;31mKeyboardInterrupt\u001b[0m                         Traceback (most recent call last)",
      "\u001b[0;32m<ipython-input-22-ff9fb349a610>\u001b[0m in \u001b[0;36m<module>\u001b[0;34m\u001b[0m\n\u001b[1;32m      2\u001b[0m \u001b[0membeddings\u001b[0m \u001b[0;34m=\u001b[0m \u001b[0mEmbeddings\u001b[0m\u001b[0;34m(\u001b[0m\u001b[0;34m)\u001b[0m\u001b[0;34m\u001b[0m\u001b[0;34m\u001b[0m\u001b[0m\n\u001b[1;32m      3\u001b[0m \u001b[0mmax_words\u001b[0m \u001b[0;34m=\u001b[0m \u001b[0;36m5000\u001b[0m \u001b[0;31m#<------- [Parameter]\u001b[0m\u001b[0;34m\u001b[0m\u001b[0;34m\u001b[0m\u001b[0m\n\u001b[0;32m----> 4\u001b[0;31m \u001b[0mpre_corpora_train\u001b[0m \u001b[0;34m=\u001b[0m \u001b[0;34m[\u001b[0m\u001b[0mdoc\u001b[0m \u001b[0;32mfor\u001b[0m \u001b[0mdoc\u001b[0m \u001b[0;32min\u001b[0m \u001b[0mtrain\u001b[0m \u001b[0;32mif\u001b[0m \u001b[0mlen\u001b[0m\u001b[0;34m(\u001b[0m\u001b[0mdoc\u001b[0m\u001b[0;34m[\u001b[0m\u001b[0;36m1\u001b[0m\u001b[0;34m]\u001b[0m\u001b[0;34m)\u001b[0m\u001b[0;34m<\u001b[0m \u001b[0mmax_words\u001b[0m\u001b[0;34m]\u001b[0m\u001b[0;34m\u001b[0m\u001b[0;34m\u001b[0m\u001b[0m\n\u001b[0m\u001b[1;32m      5\u001b[0m \u001b[0mpre_corpora_test\u001b[0m \u001b[0;34m=\u001b[0m \u001b[0;34m[\u001b[0m\u001b[0mdoc\u001b[0m \u001b[0;32mfor\u001b[0m \u001b[0mdoc\u001b[0m \u001b[0;32min\u001b[0m \u001b[0mtest\u001b[0m \u001b[0;32mif\u001b[0m \u001b[0mlen\u001b[0m\u001b[0;34m(\u001b[0m\u001b[0mdoc\u001b[0m\u001b[0;34m[\u001b[0m\u001b[0;36m1\u001b[0m\u001b[0;34m]\u001b[0m\u001b[0;34m)\u001b[0m\u001b[0;34m<\u001b[0m \u001b[0mmax_words\u001b[0m\u001b[0;34m]\u001b[0m\u001b[0;34m\u001b[0m\u001b[0;34m\u001b[0m\u001b[0m\n",
      "\u001b[0;32m<ipython-input-22-ff9fb349a610>\u001b[0m in \u001b[0;36m<listcomp>\u001b[0;34m(.0)\u001b[0m\n\u001b[1;32m      2\u001b[0m \u001b[0membeddings\u001b[0m \u001b[0;34m=\u001b[0m \u001b[0mEmbeddings\u001b[0m\u001b[0;34m(\u001b[0m\u001b[0;34m)\u001b[0m\u001b[0;34m\u001b[0m\u001b[0;34m\u001b[0m\u001b[0m\n\u001b[1;32m      3\u001b[0m \u001b[0mmax_words\u001b[0m \u001b[0;34m=\u001b[0m \u001b[0;36m5000\u001b[0m \u001b[0;31m#<------- [Parameter]\u001b[0m\u001b[0;34m\u001b[0m\u001b[0;34m\u001b[0m\u001b[0m\n\u001b[0;32m----> 4\u001b[0;31m \u001b[0mpre_corpora_train\u001b[0m \u001b[0;34m=\u001b[0m \u001b[0;34m[\u001b[0m\u001b[0mdoc\u001b[0m \u001b[0;32mfor\u001b[0m \u001b[0mdoc\u001b[0m \u001b[0;32min\u001b[0m \u001b[0mtrain\u001b[0m \u001b[0;32mif\u001b[0m \u001b[0mlen\u001b[0m\u001b[0;34m(\u001b[0m\u001b[0mdoc\u001b[0m\u001b[0;34m[\u001b[0m\u001b[0;36m1\u001b[0m\u001b[0;34m]\u001b[0m\u001b[0;34m)\u001b[0m\u001b[0;34m<\u001b[0m \u001b[0mmax_words\u001b[0m\u001b[0;34m]\u001b[0m\u001b[0;34m\u001b[0m\u001b[0;34m\u001b[0m\u001b[0m\n\u001b[0m\u001b[1;32m      5\u001b[0m \u001b[0mpre_corpora_test\u001b[0m \u001b[0;34m=\u001b[0m \u001b[0;34m[\u001b[0m\u001b[0mdoc\u001b[0m \u001b[0;32mfor\u001b[0m \u001b[0mdoc\u001b[0m \u001b[0;32min\u001b[0m \u001b[0mtest\u001b[0m \u001b[0;32mif\u001b[0m \u001b[0mlen\u001b[0m\u001b[0;34m(\u001b[0m\u001b[0mdoc\u001b[0m\u001b[0;34m[\u001b[0m\u001b[0;36m1\u001b[0m\u001b[0;34m]\u001b[0m\u001b[0;34m)\u001b[0m\u001b[0;34m<\u001b[0m \u001b[0mmax_words\u001b[0m\u001b[0;34m]\u001b[0m\u001b[0;34m\u001b[0m\u001b[0;34m\u001b[0m\u001b[0m\n",
      "\u001b[0;32m/tf/main/nbs/utils/read_data.py\u001b[0m in \u001b[0;36m__next__\u001b[0;34m(self)\u001b[0m\n\u001b[1;32m     82\u001b[0m         \u001b[0;32mdef\u001b[0m \u001b[0m__next__\u001b[0m\u001b[0;34m(\u001b[0m\u001b[0mself\u001b[0m\u001b[0;34m)\u001b[0m\u001b[0;34m:\u001b[0m\u001b[0;34m\u001b[0m\u001b[0;34m\u001b[0m\u001b[0m\n\u001b[1;32m     83\u001b[0m                 \u001b[0;32mif\u001b[0m \u001b[0mself\u001b[0m\u001b[0;34m.\u001b[0m\u001b[0m__index\u001b[0m \u001b[0;34m<\u001b[0m \u001b[0mlen\u001b[0m\u001b[0;34m(\u001b[0m\u001b[0mself\u001b[0m\u001b[0;34m.\u001b[0m\u001b[0m__keys\u001b[0m\u001b[0;34m)\u001b[0m\u001b[0;34m:\u001b[0m\u001b[0;34m\u001b[0m\u001b[0;34m\u001b[0m\u001b[0m\n\u001b[0;32m---> 84\u001b[0;31m                         \u001b[0mto_return\u001b[0m \u001b[0;34m=\u001b[0m \u001b[0mself\u001b[0m\u001b[0;34m[\u001b[0m\u001b[0mself\u001b[0m\u001b[0;34m.\u001b[0m\u001b[0m__index\u001b[0m\u001b[0;34m]\u001b[0m\u001b[0;34m\u001b[0m\u001b[0;34m\u001b[0m\u001b[0m\n\u001b[0m\u001b[1;32m     85\u001b[0m                         \u001b[0mself\u001b[0m\u001b[0;34m.\u001b[0m\u001b[0m__index\u001b[0m \u001b[0;34m+=\u001b[0m \u001b[0;36m1\u001b[0m\u001b[0;34m\u001b[0m\u001b[0;34m\u001b[0m\u001b[0m\n\u001b[1;32m     86\u001b[0m                         \u001b[0;32mreturn\u001b[0m \u001b[0mto_return\u001b[0m\u001b[0;34m\u001b[0m\u001b[0;34m\u001b[0m\u001b[0m\n",
      "\u001b[0;32m/tf/main/nbs/utils/read_data.py\u001b[0m in \u001b[0;36m__getitem__\u001b[0;34m(self, key)\u001b[0m\n\u001b[1;32m     74\u001b[0m                 \u001b[0;32melse\u001b[0m\u001b[0;34m:\u001b[0m\u001b[0;34m\u001b[0m\u001b[0;34m\u001b[0m\u001b[0m\n\u001b[1;32m     75\u001b[0m                         \u001b[0mid\u001b[0m \u001b[0;34m=\u001b[0m \u001b[0mself\u001b[0m\u001b[0;34m.\u001b[0m\u001b[0m__keys\u001b[0m\u001b[0;34m[\u001b[0m\u001b[0mkey\u001b[0m\u001b[0;34m]\u001b[0m\u001b[0;34m\u001b[0m\u001b[0;34m\u001b[0m\u001b[0m\n\u001b[0;32m---> 76\u001b[0;31m                         \u001b[0;32mreturn\u001b[0m \u001b[0;34m(\u001b[0m\u001b[0mself\u001b[0m\u001b[0;34m.\u001b[0m\u001b[0m__ground_truth\u001b[0m\u001b[0;34m[\u001b[0m\u001b[0mid\u001b[0m\u001b[0;34m]\u001b[0m\u001b[0;34m,\u001b[0m \u001b[0mself\u001b[0m\u001b[0;34m.\u001b[0m\u001b[0m__get_issue\u001b[0m\u001b[0;34m(\u001b[0m\u001b[0mid\u001b[0m\u001b[0;34m)\u001b[0m\u001b[0;34m)\u001b[0m\u001b[0;34m\u001b[0m\u001b[0;34m\u001b[0m\u001b[0m\n\u001b[0m\u001b[1;32m     77\u001b[0m \u001b[0;34m\u001b[0m\u001b[0m\n\u001b[1;32m     78\u001b[0m         \u001b[0;32mdef\u001b[0m \u001b[0m__iter__\u001b[0m\u001b[0;34m(\u001b[0m\u001b[0mself\u001b[0m\u001b[0;34m)\u001b[0m\u001b[0;34m:\u001b[0m\u001b[0;34m\u001b[0m\u001b[0;34m\u001b[0m\u001b[0m\n",
      "\u001b[0;32m/tf/main/nbs/utils/read_data.py\u001b[0m in \u001b[0;36m__get_issue\u001b[0;34m(self, filename)\u001b[0m\n\u001b[1;32m     49\u001b[0m                         \u001b[0mpaths\u001b[0m \u001b[0;34m=\u001b[0m \u001b[0;34m[\u001b[0m\u001b[0mstr\u001b[0m\u001b[0;34m(\u001b[0m\u001b[0mx\u001b[0m\u001b[0;34m)\u001b[0m \u001b[0;32mfor\u001b[0m \u001b[0mx\u001b[0m \u001b[0;32min\u001b[0m \u001b[0mPath\u001b[0m\u001b[0;34m(\u001b[0m\u001b[0mself\u001b[0m\u001b[0;34m.\u001b[0m\u001b[0m__path\u001b[0m\u001b[0;34m)\u001b[0m\u001b[0;34m.\u001b[0m\u001b[0mglob\u001b[0m\u001b[0;34m(\u001b[0m\u001b[0;34m\"**/*.zip\"\u001b[0m\u001b[0;34m)\u001b[0m\u001b[0;34m]\u001b[0m\u001b[0;34m\u001b[0m\u001b[0;34m\u001b[0m\u001b[0m\n\u001b[1;32m     50\u001b[0m                         \u001b[0;32mfor\u001b[0m \u001b[0monezipath\u001b[0m \u001b[0;32min\u001b[0m \u001b[0mpaths\u001b[0m\u001b[0;34m:\u001b[0m\u001b[0;34m\u001b[0m\u001b[0;34m\u001b[0m\u001b[0m\n\u001b[0;32m---> 51\u001b[0;31m                                 \u001b[0marchive\u001b[0m \u001b[0;34m=\u001b[0m \u001b[0mzipfile\u001b[0m\u001b[0;34m.\u001b[0m\u001b[0mZipFile\u001b[0m\u001b[0;34m(\u001b[0m \u001b[0monezipath\u001b[0m\u001b[0;34m,\u001b[0m \u001b[0;34m'r'\u001b[0m\u001b[0;34m)\u001b[0m\u001b[0;34m\u001b[0m\u001b[0;34m\u001b[0m\u001b[0m\n\u001b[0m\u001b[1;32m     52\u001b[0m                                 \u001b[0mcontents\u001b[0m \u001b[0;34m=\u001b[0m \u001b[0marchive\u001b[0m\u001b[0;34m.\u001b[0m\u001b[0mread\u001b[0m\u001b[0;34m(\u001b[0m\u001b[0;34m'issues/'\u001b[0m \u001b[0;34m+\u001b[0m \u001b[0mfilename\u001b[0m\u001b[0;34m)\u001b[0m\u001b[0;34m\u001b[0m\u001b[0;34m\u001b[0m\u001b[0m\n\u001b[1;32m     53\u001b[0m                 \u001b[0;32melse\u001b[0m\u001b[0;34m:\u001b[0m\u001b[0;34m\u001b[0m\u001b[0;34m\u001b[0m\u001b[0m\n",
      "\u001b[0;32m/usr/lib/python3.6/zipfile.py\u001b[0m in \u001b[0;36m__init__\u001b[0;34m(self, file, mode, compression, allowZip64)\u001b[0m\n\u001b[1;32m   1129\u001b[0m         \u001b[0;32mtry\u001b[0m\u001b[0;34m:\u001b[0m\u001b[0;34m\u001b[0m\u001b[0;34m\u001b[0m\u001b[0m\n\u001b[1;32m   1130\u001b[0m             \u001b[0;32mif\u001b[0m \u001b[0mmode\u001b[0m \u001b[0;34m==\u001b[0m \u001b[0;34m'r'\u001b[0m\u001b[0;34m:\u001b[0m\u001b[0;34m\u001b[0m\u001b[0;34m\u001b[0m\u001b[0m\n\u001b[0;32m-> 1131\u001b[0;31m                 \u001b[0mself\u001b[0m\u001b[0;34m.\u001b[0m\u001b[0m_RealGetContents\u001b[0m\u001b[0;34m(\u001b[0m\u001b[0;34m)\u001b[0m\u001b[0;34m\u001b[0m\u001b[0;34m\u001b[0m\u001b[0m\n\u001b[0m\u001b[1;32m   1132\u001b[0m             \u001b[0;32melif\u001b[0m \u001b[0mmode\u001b[0m \u001b[0;32min\u001b[0m \u001b[0;34m(\u001b[0m\u001b[0;34m'w'\u001b[0m\u001b[0;34m,\u001b[0m \u001b[0;34m'x'\u001b[0m\u001b[0;34m)\u001b[0m\u001b[0;34m:\u001b[0m\u001b[0;34m\u001b[0m\u001b[0;34m\u001b[0m\u001b[0m\n\u001b[1;32m   1133\u001b[0m                 \u001b[0;31m# set the modified flag so central directory gets written\u001b[0m\u001b[0;34m\u001b[0m\u001b[0;34m\u001b[0m\u001b[0;34m\u001b[0m\u001b[0m\n",
      "\u001b[0;32m/usr/lib/python3.6/zipfile.py\u001b[0m in \u001b[0;36m_RealGetContents\u001b[0;34m(self)\u001b[0m\n\u001b[1;32m   1222\u001b[0m             \u001b[0;32mif\u001b[0m \u001b[0mlen\u001b[0m\u001b[0;34m(\u001b[0m\u001b[0mcentdir\u001b[0m\u001b[0;34m)\u001b[0m \u001b[0;34m!=\u001b[0m \u001b[0msizeCentralDir\u001b[0m\u001b[0;34m:\u001b[0m\u001b[0;34m\u001b[0m\u001b[0;34m\u001b[0m\u001b[0m\n\u001b[1;32m   1223\u001b[0m                 \u001b[0;32mraise\u001b[0m \u001b[0mBadZipFile\u001b[0m\u001b[0;34m(\u001b[0m\u001b[0;34m\"Truncated central directory\"\u001b[0m\u001b[0;34m)\u001b[0m\u001b[0;34m\u001b[0m\u001b[0;34m\u001b[0m\u001b[0m\n\u001b[0;32m-> 1224\u001b[0;31m             \u001b[0mcentdir\u001b[0m \u001b[0;34m=\u001b[0m \u001b[0mstruct\u001b[0m\u001b[0;34m.\u001b[0m\u001b[0munpack\u001b[0m\u001b[0;34m(\u001b[0m\u001b[0mstructCentralDir\u001b[0m\u001b[0;34m,\u001b[0m \u001b[0mcentdir\u001b[0m\u001b[0;34m)\u001b[0m\u001b[0;34m\u001b[0m\u001b[0;34m\u001b[0m\u001b[0m\n\u001b[0m\u001b[1;32m   1225\u001b[0m             \u001b[0;32mif\u001b[0m \u001b[0mcentdir\u001b[0m\u001b[0;34m[\u001b[0m\u001b[0m_CD_SIGNATURE\u001b[0m\u001b[0;34m]\u001b[0m \u001b[0;34m!=\u001b[0m \u001b[0mstringCentralDir\u001b[0m\u001b[0;34m:\u001b[0m\u001b[0;34m\u001b[0m\u001b[0;34m\u001b[0m\u001b[0m\n\u001b[1;32m   1226\u001b[0m                 \u001b[0;32mraise\u001b[0m \u001b[0mBadZipFile\u001b[0m\u001b[0;34m(\u001b[0m\u001b[0;34m\"Bad magic number for central directory\"\u001b[0m\u001b[0;34m)\u001b[0m\u001b[0;34m\u001b[0m\u001b[0;34m\u001b[0m\u001b[0m\n",
      "\u001b[0;31mKeyboardInterrupt\u001b[0m: "
     ]
    }
   ],
   "source": [
    "#Preprocesing Corpora\n",
    "embeddings = Embeddings()\n",
    "max_words = 5000 #<------- [Parameter]\n",
    "pre_corpora_train = [doc for doc in train if len(doc[1])< max_words]\n",
    "pre_corpora_test = [doc for doc in test if len(doc[1])< max_words]"
   ]
  },
  {
   "cell_type": "code",
   "execution_count": null,
   "metadata": {
    "colab": {},
    "colab_type": "code",
    "id": "kvf9hzHrPm8P",
    "outputId": "f57b7fd4-c618-43e2-ee62-7e1e0f06e6a7"
   },
   "outputs": [],
   "source": [
    "print(len(pre_corpora_train))\n",
    "print(len(pre_corpora_test))"
   ]
  },
  {
   "cell_type": "code",
   "execution_count": null,
   "metadata": {
    "colab": {},
    "colab_type": "code",
    "id": "pMqq97FbPm8X"
   },
   "outputs": [],
   "source": [
    "embed_path = 'datasets/word_embeddings-embed_size_100-epochs_100.csv'\n",
    "embeddings_dict = embeddings.get_embeddings_dict(embed_path)"
   ]
  },
  {
   "cell_type": "code",
   "execution_count": 0,
   "metadata": {
    "colab": {},
    "colab_type": "code",
    "id": "bhDbXYBMPm8c"
   },
   "outputs": [],
   "source": [
    "corpora_train = [embeddings.vectorize(doc[1], embeddings_dict) for doc in pre_corpora_train]#vectorization Inputs\n",
    "corpora_test = [embeddings.vectorize(doc[1], embeddings_dict) for doc in pre_corpora_test]#vectorization"
   ]
  },
  {
   "cell_type": "code",
   "execution_count": 0,
   "metadata": {
    "colab": {},
    "colab_type": "code",
    "id": "TT25r1nmPm8n"
   },
   "outputs": [],
   "source": [
    "target_train = [[int(list(doc[0])[1]),int(list(doc[0])[3])] for doc in pre_corpora_train]#vectorization Output\n",
    "target_test = [[int(list(doc[0])[1]),int(list(doc[0])[3])]for doc in pre_corpora_test]#vectorization Output\n",
    "#target_train"
   ]
  },
  {
   "cell_type": "code",
   "execution_count": 0,
   "metadata": {
    "colab": {},
    "colab_type": "code",
    "id": "iQmXecG8Pm8r"
   },
   "outputs": [],
   "source": [
    "max_len_sentences_train = max([len(doc) for doc in corpora_train]) #<------- [Parameter]\n",
    "max_len_sentences_test = max([len(doc) for doc in corpora_test]) #<------- [Parameter]"
   ]
  },
  {
   "cell_type": "code",
   "execution_count": 0,
   "metadata": {
    "colab": {},
    "colab_type": "code",
    "id": "AClpSwpJPm8w",
    "outputId": "f1d6a486-1bd1-4781-82f8-b07511975428"
   },
   "outputs": [
    {
     "name": "stdout",
     "output_type": "stream",
     "text": [
      "Max. Sentence # words: 618\n"
     ]
    }
   ],
   "source": [
    "max_len_sentences = max(max_len_sentences_train,max_len_sentences_test)\n",
    "print(\"Max. Sentence # words:\",max_len_sentences)"
   ]
  },
  {
   "cell_type": "code",
   "execution_count": 0,
   "metadata": {
    "colab": {},
    "colab_type": "code",
    "id": "bImQa9-BPm80"
   },
   "outputs": [],
   "source": [
    "embed_size = np.size(corpora_train[0][0])"
   ]
  },
  {
   "cell_type": "code",
   "execution_count": 0,
   "metadata": {
    "colab": {},
    "colab_type": "code",
    "id": "VOg5eMk1Pm83"
   },
   "outputs": [],
   "source": [
    "#BaseLine Architecture <-------\n",
    "embeddigs_cols = embed_size\n",
    "input_sh = (max_len_sentences,embeddigs_cols,1)\n",
    "#Selecting filters? \n",
    "#https://stackoverflow.com/questions/48243360/how-to-determine-the-filter-parameter-in-the-keras-conv2d-function\n",
    "#https://stats.stackexchange.com/questions/196646/what-is-the-significance-of-the-number-of-convolution-filters-in-a-convolutional\n",
    "\n",
    "N_filters = 128 # <-------- [HyperParameter] Powers of 2 Numer of Features\n",
    "K = 2 # <-------- [HyperParameter] Number of Classess"
   ]
  },
  {
   "cell_type": "code",
   "execution_count": 0,
   "metadata": {
    "colab": {},
    "colab_type": "code",
    "id": "LZBpV1cuPm87",
    "outputId": "108f35f7-cbcb-4063-f699-4d99cfc570e1"
   },
   "outputs": [
    {
     "data": {
      "text/plain": [
       "(618, 100, 1)"
      ]
     },
     "execution_count": 21,
     "metadata": {
      "tags": []
     },
     "output_type": "execute_result"
    }
   ],
   "source": [
    "input_sh"
   ]
  },
  {
   "cell_type": "code",
   "execution_count": 0,
   "metadata": {
    "colab": {},
    "colab_type": "code",
    "id": "tL_tU5dNPm8_"
   },
   "outputs": [],
   "source": [
    "#baseline_model = Sequential()\n",
    "gram_input = Input(shape = input_sh)"
   ]
  },
  {
   "cell_type": "code",
   "execution_count": 0,
   "metadata": {
    "colab": {},
    "colab_type": "code",
    "id": "9-vNdvAqPm9H"
   },
   "outputs": [],
   "source": [
    "# 1st Convolutional Layer (1-gram)\n",
    "conv_filter_1_gram = Conv2D(filters= N_filters, input_shape=input_sh, activation='relu', \n",
    "                       kernel_size=(1,embeddigs_cols), padding='valid',data_format=\"channels_last\")(gram_input)"
   ]
  },
  {
   "cell_type": "code",
   "execution_count": 0,
   "metadata": {
    "colab": {},
    "colab_type": "code",
    "id": "OFaL7koePm9L"
   },
   "outputs": [],
   "source": [
    "# 2sd Convolutional Layer (3-gram)\n",
    "conv_filter_3_gram = Conv2D(filters= N_filters, input_shape=input_sh, activation='relu', \n",
    "                       kernel_size=(3,embeddigs_cols), padding='valid')(gram_input)"
   ]
  },
  {
   "cell_type": "code",
   "execution_count": 0,
   "metadata": {
    "colab": {},
    "colab_type": "code",
    "id": "MmFo4reIPm9O"
   },
   "outputs": [],
   "source": [
    "# 3rd Convolutional Layer (5-gram)\n",
    "conv_filter_5_gram = Conv2D(filters= N_filters, input_shape=input_sh, activation='relu', \n",
    "                       kernel_size=(5,embeddigs_cols), padding='valid')(gram_input)"
   ]
  },
  {
   "cell_type": "code",
   "execution_count": 0,
   "metadata": {
    "colab": {},
    "colab_type": "code",
    "id": "JsKO6wgFPm9S"
   },
   "outputs": [],
   "source": [
    "# Max Pooling Layer\n",
    "max_pool_1_gram = MaxPooling2D(pool_size=((max_len_sentences-1+1), 1), strides=None, padding='valid')(conv_filter_1_gram)\n",
    "max_pool_3_gram = MaxPooling2D(pool_size=((max_len_sentences-3+1), 1), strides=None, padding='valid')(conv_filter_3_gram)\n",
    "max_pool_5_gram = MaxPooling2D(pool_size=((max_len_sentences-5+1), 1), strides=None, padding='valid')(conv_filter_5_gram)"
   ]
  },
  {
   "cell_type": "code",
   "execution_count": 0,
   "metadata": {
    "colab": {},
    "colab_type": "code",
    "id": "HuENTszvPm9X"
   },
   "outputs": [],
   "source": [
    "# Fully Connected layer\n",
    "fully_connected_1_gram = Flatten()(max_pool_1_gram)\n",
    "fully_connected_3_gram = Flatten()(max_pool_3_gram)\n",
    "fully_connected_5_gram = Flatten()(max_pool_5_gram)"
   ]
  },
  {
   "cell_type": "code",
   "execution_count": 0,
   "metadata": {
    "colab": {},
    "colab_type": "code",
    "id": "KHxwwDUePm9b"
   },
   "outputs": [],
   "source": [
    "merged_vector = layers.concatenate([fully_connected_1_gram, fully_connected_3_gram, \n",
    "                                    fully_connected_5_gram], axis=-1)\n",
    "\n",
    "integration_layer = Dropout(0.2)(merged_vector) # <-------- [HyperParameter]\n",
    "\n",
    "predictions = Dense(K, activation='softmax')(integration_layer)"
   ]
  },
  {
   "cell_type": "code",
   "execution_count": 0,
   "metadata": {
    "colab": {},
    "colab_type": "code",
    "id": "CuFN3FO1Pm9e"
   },
   "outputs": [],
   "source": [
    "#Criticality Model\n",
    "criticality_network = Model(inputs=[gram_input],outputs=[predictions]) "
   ]
  },
  {
   "cell_type": "code",
   "execution_count": 0,
   "metadata": {
    "colab": {},
    "colab_type": "code",
    "id": "FMOROrYKPm9i",
    "outputId": "afb80ad4-989b-4994-d687-57a4c49d4a54"
   },
   "outputs": [
    {
     "name": "stdout",
     "output_type": "stream",
     "text": [
      "Model: \"model\"\n",
      "__________________________________________________________________________________________________\n",
      "Layer (type)                    Output Shape         Param #     Connected to                     \n",
      "==================================================================================================\n",
      "input_1 (InputLayer)            [(None, 618, 100, 1) 0                                            \n",
      "__________________________________________________________________________________________________\n",
      "conv2d (Conv2D)                 (None, 618, 1, 128)  12928       input_1[0][0]                    \n",
      "__________________________________________________________________________________________________\n",
      "conv2d_1 (Conv2D)               (None, 616, 1, 128)  38528       input_1[0][0]                    \n",
      "__________________________________________________________________________________________________\n",
      "conv2d_2 (Conv2D)               (None, 614, 1, 128)  64128       input_1[0][0]                    \n",
      "__________________________________________________________________________________________________\n",
      "max_pooling2d (MaxPooling2D)    (None, 1, 1, 128)    0           conv2d[0][0]                     \n",
      "__________________________________________________________________________________________________\n",
      "max_pooling2d_1 (MaxPooling2D)  (None, 1, 1, 128)    0           conv2d_1[0][0]                   \n",
      "__________________________________________________________________________________________________\n",
      "max_pooling2d_2 (MaxPooling2D)  (None, 1, 1, 128)    0           conv2d_2[0][0]                   \n",
      "__________________________________________________________________________________________________\n",
      "flatten (Flatten)               (None, 128)          0           max_pooling2d[0][0]              \n",
      "__________________________________________________________________________________________________\n",
      "flatten_1 (Flatten)             (None, 128)          0           max_pooling2d_1[0][0]            \n",
      "__________________________________________________________________________________________________\n",
      "flatten_2 (Flatten)             (None, 128)          0           max_pooling2d_2[0][0]            \n",
      "__________________________________________________________________________________________________\n",
      "concatenate (Concatenate)       (None, 384)          0           flatten[0][0]                    \n",
      "                                                                 flatten_1[0][0]                  \n",
      "                                                                 flatten_2[0][0]                  \n",
      "__________________________________________________________________________________________________\n",
      "dropout (Dropout)               (None, 384)          0           concatenate[0][0]                \n",
      "__________________________________________________________________________________________________\n",
      "dense (Dense)                   (None, 2)            770         dropout[0][0]                    \n",
      "==================================================================================================\n",
      "Total params: 116,354\n",
      "Trainable params: 116,354\n",
      "Non-trainable params: 0\n",
      "__________________________________________________________________________________________________\n",
      "None\n"
     ]
    }
   ],
   "source": [
    "print(criticality_network.summary())"
   ]
  },
  {
   "cell_type": "code",
   "execution_count": 0,
   "metadata": {
    "colab": {},
    "colab_type": "code",
    "id": "Kcc7O-QDPm9m"
   },
   "outputs": [],
   "source": [
    "#Seting up the Model\n",
    "criticality_network.compile(optimizer='adam',loss='binary_crossentropy',\n",
    "                                  metrics=['accuracy'])"
   ]
  },
  {
   "cell_type": "code",
   "execution_count": 0,
   "metadata": {
    "colab": {},
    "colab_type": "code",
    "id": "D6SUJFbdPm9q"
   },
   "outputs": [],
   "source": [
    "#Data set organization\n",
    "from tempfile import mkdtemp\n",
    "import os.path as path"
   ]
  },
  {
   "cell_type": "code",
   "execution_count": 0,
   "metadata": {
    "colab": {},
    "colab_type": "code",
    "id": "py2MlvXgPm9w"
   },
   "outputs": [],
   "source": [
    "#Memoization \n",
    "file_corpora_train_x = path.join(mkdtemp(), 'e-res_temp_corpora_train_x.dat') #Update per experiment\n",
    "file_corpora_test_x = path.join(mkdtemp(), 'e-res_temp_corpora_test_x.dat')"
   ]
  },
  {
   "cell_type": "code",
   "execution_count": 0,
   "metadata": {
    "colab": {},
    "colab_type": "code",
    "id": "BuAoRHjCPm90"
   },
   "outputs": [],
   "source": [
    "#Shaping\n",
    "shape_train_x = (len(corpora_train),max_len_sentences,embeddigs_cols,1)\n",
    "shape_test_x = (len(corpora_test),max_len_sentences,embeddigs_cols,1)"
   ]
  },
  {
   "cell_type": "code",
   "execution_count": 0,
   "metadata": {
    "colab": {},
    "colab_type": "code",
    "id": "TSbNNi1zPm94"
   },
   "outputs": [],
   "source": [
    "#Data sets\n",
    "corpora_train_x = np.memmap(\n",
    "        filename = file_corpora_train_x, \n",
    "        dtype='float32', \n",
    "        mode='w+', \n",
    "        shape = shape_train_x)"
   ]
  },
  {
   "cell_type": "code",
   "execution_count": 0,
   "metadata": {
    "colab": {},
    "colab_type": "code",
    "id": "S7L2DGgCPm99"
   },
   "outputs": [],
   "source": [
    "corpora_test_x = np.memmap( #Test Corpora (for future evaluation)\n",
    "        filename = file_corpora_test_x, \n",
    "        dtype='float32', \n",
    "        mode='w+', \n",
    "        shape = shape_test_x)"
   ]
  },
  {
   "cell_type": "code",
   "execution_count": 0,
   "metadata": {
    "colab": {},
    "colab_type": "code",
    "id": "opntveuSPm-D"
   },
   "outputs": [],
   "source": [
    "target_train_y = np.array(target_train) #Train Target\n",
    "target_test_y = np.array(target_test) #Test Target (for future evaluation)"
   ]
  },
  {
   "cell_type": "code",
   "execution_count": 0,
   "metadata": {
    "colab": {},
    "colab_type": "code",
    "id": "_Rg1OiV9Pm-H",
    "outputId": "46560dd1-44c4-4353-c84b-95c32fc43ab1"
   },
   "outputs": [
    {
     "data": {
      "text/plain": [
       "(103876, 618, 100, 1)"
      ]
     },
     "execution_count": 38,
     "metadata": {
      "tags": []
     },
     "output_type": "execute_result"
    }
   ],
   "source": [
    "corpora_train_x.shape"
   ]
  },
  {
   "cell_type": "code",
   "execution_count": 0,
   "metadata": {
    "colab": {},
    "colab_type": "code",
    "id": "dTuhwQkPPm-L",
    "outputId": "20ec1b66-53f0-4eb1-8567-2188491c00ab"
   },
   "outputs": [
    {
     "data": {
      "text/plain": [
       "(103876, 2)"
      ]
     },
     "execution_count": 39,
     "metadata": {
      "tags": []
     },
     "output_type": "execute_result"
    }
   ],
   "source": [
    "target_train_y.shape"
   ]
  },
  {
   "cell_type": "code",
   "execution_count": 0,
   "metadata": {
    "colab": {},
    "colab_type": "code",
    "id": "btV5EUi_Pm-P",
    "outputId": "33145933-bc34-429f-c5ba-7b69e117e4db"
   },
   "outputs": [
    {
     "data": {
      "text/plain": [
       "(11539, 618, 100, 1)"
      ]
     },
     "execution_count": 40,
     "metadata": {
      "tags": []
     },
     "output_type": "execute_result"
    }
   ],
   "source": [
    "corpora_test_x.shape"
   ]
  },
  {
   "cell_type": "code",
   "execution_count": 0,
   "metadata": {
    "colab": {},
    "colab_type": "code",
    "id": "nC0fSdtYPm-U",
    "outputId": "5a95b5cb-154b-4e17-aab0-66ec701a90db"
   },
   "outputs": [
    {
     "data": {
      "text/plain": [
       "(11539, 2)"
      ]
     },
     "execution_count": 41,
     "metadata": {
      "tags": []
     },
     "output_type": "execute_result"
    }
   ],
   "source": [
    "target_test_y.shape"
   ]
  },
  {
   "cell_type": "code",
   "execution_count": 0,
   "metadata": {
    "colab": {},
    "colab_type": "code",
    "id": "rRV3TaefPm-Y"
   },
   "outputs": [],
   "source": [
    "#Reshaping Train Inputs\n",
    "for doc in range(len(corpora_train)):\n",
    "    #print(corpora_train[doc].shape[1])\n",
    "    for words_rows in range(corpora_train[doc].shape[0]):\n",
    "        embed_flatten = np.array(corpora_train[doc][words_rows]).flatten() #<--- Capture doc and word\n",
    "        for embedding_cols in range(embed_flatten.shape[0]):\n",
    "            corpora_train_x[doc,words_rows,embedding_cols,0] = embed_flatten[embedding_cols]"
   ]
  },
  {
   "cell_type": "code",
   "execution_count": 0,
   "metadata": {
    "colab": {},
    "colab_type": "code",
    "id": "NlzkpP85Pm-d"
   },
   "outputs": [],
   "source": [
    "#Reshaping Test Inputs (for future evaluation)\n",
    "for doc in range(len(corpora_test)):\n",
    "    for words_rows in range(corpora_test[doc].shape[0]):\n",
    "        embed_flatten = np.array(corpora_test[doc][words_rows]).flatten() #<--- Capture doc and word\n",
    "        for embedding_cols in range(embed_flatten.shape[0]):\n",
    "            corpora_test_x[doc,words_rows,embedding_cols,0] = embed_flatten[embedding_cols]"
   ]
  },
  {
   "cell_type": "code",
   "execution_count": 0,
   "metadata": {
    "colab": {},
    "colab_type": "code",
    "id": "Y7-M9gqDPm-i"
   },
   "outputs": [],
   "source": [
    "#CheckPoints\n",
    "#csv_logger = CSVLogger(system+'_training.log')\n",
    "filepath = \"e-res/best_model.hdf5\""
   ]
  },
  {
   "cell_type": "code",
   "execution_count": 0,
   "metadata": {
    "colab": {},
    "colab_type": "code",
    "id": "vadUpvpRPm-l"
   },
   "outputs": [],
   "source": [
    "es = EarlyStopping(monitor='val_loss', mode='min', verbose=1, patience=100)\n",
    "mc = ModelCheckpoint(filepath, monitor='val_accuracy', mode='max', verbose=1, save_best_only=True)\n",
    "callbacks_list = [es,mc]"
   ]
  },
  {
   "cell_type": "code",
   "execution_count": 0,
   "metadata": {
    "colab": {},
    "colab_type": "code",
    "id": "LbsRPHMJPm-n",
    "outputId": "e46108c6-0a13-480d-90d3-f732ab389543"
   },
   "outputs": [
    {
     "name": "stdout",
     "output_type": "stream",
     "text": [
      "Train on 83100 samples, validate on 20776 samples\n",
      "Epoch 1/2000\n",
      "83040/83100 [============================>.] - ETA: 0s - loss: 0.1307 - accuracy: 0.9560\n",
      "Epoch 00001: val_accuracy improved from -inf to 0.99884, saving model to e-res/best_model.hdf5\n",
      "83100/83100 [==============================] - 113s 1ms/sample - loss: 0.1308 - accuracy: 0.9560 - val_loss: 0.0035 - val_accuracy: 0.9988\n",
      "Epoch 2/2000\n",
      "83040/83100 [============================>.] - ETA: 0s - loss: 0.1000 - accuracy: 0.9662\n",
      "Epoch 00002: val_accuracy did not improve from 0.99884\n",
      "83100/83100 [==============================] - 122s 1ms/sample - loss: 0.1000 - accuracy: 0.9662 - val_loss: 0.0052 - val_accuracy: 0.9981\n",
      "Epoch 3/2000\n",
      "83072/83100 [============================>.] - ETA: 0s - loss: 0.0873 - accuracy: 0.9706\n",
      "Epoch 00003: val_accuracy did not improve from 0.99884\n",
      "83100/83100 [==============================] - 120s 1ms/sample - loss: 0.0873 - accuracy: 0.9706 - val_loss: 0.0036 - val_accuracy: 0.9987\n",
      "Epoch 4/2000\n",
      "83072/83100 [============================>.] - ETA: 0s - loss: 0.0796 - accuracy: 0.9722\n",
      "Epoch 00004: val_accuracy did not improve from 0.99884\n",
      "83100/83100 [==============================] - 122s 1ms/sample - loss: 0.0795 - accuracy: 0.9722 - val_loss: 0.0057 - val_accuracy: 0.9979\n",
      "Epoch 5/2000\n",
      "83072/83100 [============================>.] - ETA: 0s - loss: 0.0710 - accuracy: 0.9754\n",
      "Epoch 00005: val_accuracy did not improve from 0.99884\n",
      "83100/83100 [==============================] - 128s 2ms/sample - loss: 0.0709 - accuracy: 0.9754 - val_loss: 0.0049 - val_accuracy: 0.9983\n",
      "Epoch 6/2000\n",
      "83040/83100 [============================>.] - ETA: 0s - loss: 0.0644 - accuracy: 0.9773\n",
      "Epoch 00006: val_accuracy did not improve from 0.99884\n",
      "83100/83100 [==============================] - 120s 1ms/sample - loss: 0.0644 - accuracy: 0.9773 - val_loss: 0.0064 - val_accuracy: 0.9974\n",
      "Epoch 7/2000\n",
      "83040/83100 [============================>.] - ETA: 0s - loss: 0.0589 - accuracy: 0.9800\n",
      "Epoch 00007: val_accuracy did not improve from 0.99884\n",
      "83100/83100 [==============================] - 121s 1ms/sample - loss: 0.0589 - accuracy: 0.9800 - val_loss: 0.0076 - val_accuracy: 0.9971\n",
      "Epoch 8/2000\n",
      "83072/83100 [============================>.] - ETA: 0s - loss: 0.0534 - accuracy: 0.9819 ETA: 1s - loss: 0\n",
      "Epoch 00008: val_accuracy did not improve from 0.99884\n",
      "83100/83100 [==============================] - 122s 1ms/sample - loss: 0.0534 - accuracy: 0.9819 - val_loss: 0.0038 - val_accuracy: 0.9985\n",
      "Epoch 9/2000\n",
      "83072/83100 [============================>.] - ETA: 0s - loss: 0.0474 - accuracy: 0.9834\n",
      "Epoch 00009: val_accuracy did not improve from 0.99884\n",
      "83100/83100 [==============================] - 121s 1ms/sample - loss: 0.0474 - accuracy: 0.9834 - val_loss: 0.0040 - val_accuracy: 0.9986\n",
      "Epoch 10/2000\n",
      "83040/83100 [============================>.] - ETA: 0s - loss: 0.0440 - accuracy: 0.9846\n",
      "Epoch 00010: val_accuracy did not improve from 0.99884\n",
      "83100/83100 [==============================] - 120s 1ms/sample - loss: 0.0440 - accuracy: 0.9846 - val_loss: 0.0069 - val_accuracy: 0.9977\n",
      "Epoch 11/2000\n",
      "83072/83100 [============================>.] - ETA: 0s - loss: 0.0422 - accuracy: 0.9860\n",
      "Epoch 00011: val_accuracy did not improve from 0.99884\n",
      "83100/83100 [==============================] - 120s 1ms/sample - loss: 0.0422 - accuracy: 0.9860 - val_loss: 0.0042 - val_accuracy: 0.9987\n",
      "Epoch 12/2000\n",
      "83040/83100 [============================>.] - ETA: 0s - loss: 0.0378 - accuracy: 0.9871\n",
      "Epoch 00012: val_accuracy did not improve from 0.99884\n",
      "83100/83100 [==============================] - 122s 1ms/sample - loss: 0.0378 - accuracy: 0.9871 - val_loss: 0.0057 - val_accuracy: 0.9981\n",
      "Epoch 13/2000\n",
      "83072/83100 [============================>.] - ETA: 0s - loss: 0.0367 - accuracy: 0.9877\n",
      "Epoch 00013: val_accuracy did not improve from 0.99884\n",
      "83100/83100 [==============================] - 120s 1ms/sample - loss: 0.0367 - accuracy: 0.9877 - val_loss: 0.0051 - val_accuracy: 0.9984\n",
      "Epoch 14/2000\n",
      "83072/83100 [============================>.] - ETA: 0s - loss: 0.0353 - accuracy: 0.9886\n",
      "Epoch 00014: val_accuracy did not improve from 0.99884\n",
      "83100/83100 [==============================] - 125s 2ms/sample - loss: 0.0353 - accuracy: 0.9886 - val_loss: 0.0064 - val_accuracy: 0.9981\n",
      "Epoch 15/2000\n",
      "83040/83100 [============================>.] - ETA: 0s - loss: 0.0349 - accuracy: 0.9885\n",
      "Epoch 00015: val_accuracy did not improve from 0.99884\n",
      "83100/83100 [==============================] - 121s 1ms/sample - loss: 0.0350 - accuracy: 0.9884 - val_loss: 0.0050 - val_accuracy: 0.9986\n",
      "Epoch 16/2000\n",
      "83040/83100 [============================>.] - ETA: 0s - loss: 0.0346 - accuracy: 0.9887\n",
      "Epoch 00016: val_accuracy did not improve from 0.99884\n",
      "83100/83100 [==============================] - 121s 1ms/sample - loss: 0.0346 - accuracy: 0.9887 - val_loss: 0.0097 - val_accuracy: 0.9969\n",
      "Epoch 17/2000\n",
      "83040/83100 [============================>.] - ETA: 0s - loss: 0.0285 - accuracy: 0.9906\n",
      "Epoch 00017: val_accuracy did not improve from 0.99884\n",
      "83100/83100 [==============================] - 121s 1ms/sample - loss: 0.0286 - accuracy: 0.9906 - val_loss: 0.0052 - val_accuracy: 0.9986\n",
      "Epoch 18/2000\n",
      "83072/83100 [============================>.] - ETA: 0s - loss: 0.0300 - accuracy: 0.9899\n",
      "Epoch 00018: val_accuracy did not improve from 0.99884\n",
      "83100/83100 [==============================] - 116s 1ms/sample - loss: 0.0299 - accuracy: 0.9899 - val_loss: 0.0047 - val_accuracy: 0.9987\n",
      "Epoch 19/2000\n",
      "83040/83100 [============================>.] - ETA: 0s - loss: 0.0285 - accuracy: 0.9910\n",
      "Epoch 00019: val_accuracy did not improve from 0.99884\n",
      "83100/83100 [==============================] - 117s 1ms/sample - loss: 0.0285 - accuracy: 0.9910 - val_loss: 0.0147 - val_accuracy: 0.9962\n",
      "Epoch 20/2000\n",
      "83072/83100 [============================>.] - ETA: 0s - loss: 0.0265 - accuracy: 0.9913\n",
      "Epoch 00020: val_accuracy did not improve from 0.99884\n",
      "83100/83100 [==============================] - 117s 1ms/sample - loss: 0.0265 - accuracy: 0.9913 - val_loss: 0.0060 - val_accuracy: 0.9983\n",
      "Epoch 21/2000\n",
      "83040/83100 [============================>.] - ETA: 0s - loss: 0.0274 - accuracy: 0.9912\n",
      "Epoch 00021: val_accuracy improved from 0.99884 to 0.99889, saving model to e-res/best_model.hdf5\n",
      "83100/83100 [==============================] - 116s 1ms/sample - loss: 0.0274 - accuracy: 0.9912 - val_loss: 0.0040 - val_accuracy: 0.9989\n",
      "Epoch 22/2000\n",
      "83040/83100 [============================>.] - ETA: 0s - loss: 0.0262 - accuracy: 0.9916 ETA: 1s - loss:\n",
      "Epoch 00022: val_accuracy did not improve from 0.99889\n",
      "83100/83100 [==============================] - 115s 1ms/sample - loss: 0.0262 - accuracy: 0.9916 - val_loss: 0.0043 - val_accuracy: 0.9988\n",
      "Epoch 23/2000\n",
      "83040/83100 [============================>.] - ETA: 0s - loss: 0.0229 - accuracy: 0.9926\n",
      "Epoch 00023: val_accuracy did not improve from 0.99889\n",
      "83100/83100 [==============================] - 117s 1ms/sample - loss: 0.0229 - accuracy: 0.9926 - val_loss: 0.0044 - val_accuracy: 0.9988\n",
      "Epoch 24/2000\n",
      "83040/83100 [============================>.] - ETA: 0s - loss: 0.0235 - accuracy: 0.9925\n",
      "Epoch 00024: val_accuracy did not improve from 0.99889\n",
      "83100/83100 [==============================] - 122s 1ms/sample - loss: 0.0235 - accuracy: 0.9925 - val_loss: 0.0068 - val_accuracy: 0.9982\n",
      "Epoch 25/2000\n",
      "83072/83100 [============================>.] - ETA: 0s - loss: 0.0227 - accuracy: 0.9928\n",
      "Epoch 00025: val_accuracy improved from 0.99889 to 0.99904, saving model to e-res/best_model.hdf5\n",
      "83100/83100 [==============================] - 116s 1ms/sample - loss: 0.0227 - accuracy: 0.9929 - val_loss: 0.0040 - val_accuracy: 0.9990\n",
      "Epoch 26/2000\n",
      "83040/83100 [============================>.] - ETA: 0s - loss: 0.0261 - accuracy: 0.9920\n",
      "Epoch 00026: val_accuracy did not improve from 0.99904\n",
      "83100/83100 [==============================] - 115s 1ms/sample - loss: 0.0260 - accuracy: 0.9920 - val_loss: 0.0073 - val_accuracy: 0.9984\n",
      "Epoch 27/2000\n",
      "83040/83100 [============================>.] - ETA: 0s - loss: 0.0224 - accuracy: 0.9928\n",
      "Epoch 00027: val_accuracy did not improve from 0.99904\n",
      "83100/83100 [==============================] - 115s 1ms/sample - loss: 0.0225 - accuracy: 0.9928 - val_loss: 0.0047 - val_accuracy: 0.9988\n"
     ]
    },
    {
     "name": "stdout",
     "output_type": "stream",
     "text": [
      "Epoch 28/2000\n",
      "83040/83100 [============================>.] - ETA: 0s - loss: 0.0207 - accuracy: 0.9937\n",
      "Epoch 00028: val_accuracy did not improve from 0.99904\n",
      "83100/83100 [==============================] - 116s 1ms/sample - loss: 0.0207 - accuracy: 0.9937 - val_loss: 0.0068 - val_accuracy: 0.9986\n",
      "Epoch 29/2000\n",
      "83072/83100 [============================>.] - ETA: 0s - loss: 0.0230 - accuracy: 0.9930\n",
      "Epoch 00029: val_accuracy did not improve from 0.99904\n",
      "83100/83100 [==============================] - 116s 1ms/sample - loss: 0.0230 - accuracy: 0.9930 - val_loss: 0.0097 - val_accuracy: 0.9977\n",
      "Epoch 30/2000\n",
      "83040/83100 [============================>.] - ETA: 0s - loss: 0.0217 - accuracy: 0.9937\n",
      "Epoch 00030: val_accuracy did not improve from 0.99904\n",
      "83100/83100 [==============================] - 115s 1ms/sample - loss: 0.0217 - accuracy: 0.9937 - val_loss: 0.0105 - val_accuracy: 0.9977\n",
      "Epoch 31/2000\n",
      "83040/83100 [============================>.] - ETA: 0s - loss: 0.0220 - accuracy: 0.9934\n",
      "Epoch 00031: val_accuracy did not improve from 0.99904\n",
      "83100/83100 [==============================] - 116s 1ms/sample - loss: 0.0220 - accuracy: 0.9933 - val_loss: 0.0071 - val_accuracy: 0.9982\n",
      "Epoch 32/2000\n",
      "83072/83100 [============================>.] - ETA: 0s - loss: 0.0212 - accuracy: 0.9933\n",
      "Epoch 00032: val_accuracy did not improve from 0.99904\n",
      "83100/83100 [==============================] - 116s 1ms/sample - loss: 0.0212 - accuracy: 0.9933 - val_loss: 0.0077 - val_accuracy: 0.9985\n",
      "Epoch 33/2000\n",
      "83040/83100 [============================>.] - ETA: 0s - loss: 0.0188 - accuracy: 0.9944\n",
      "Epoch 00033: val_accuracy did not improve from 0.99904\n",
      "83100/83100 [==============================] - 123s 1ms/sample - loss: 0.0188 - accuracy: 0.9944 - val_loss: 0.0084 - val_accuracy: 0.9983\n",
      "Epoch 34/2000\n",
      "83040/83100 [============================>.] - ETA: 0s - loss: 0.0218 - accuracy: 0.9939\n",
      "Epoch 00034: val_accuracy did not improve from 0.99904\n",
      "83100/83100 [==============================] - 115s 1ms/sample - loss: 0.0217 - accuracy: 0.9939 - val_loss: 0.0113 - val_accuracy: 0.9976\n",
      "Epoch 35/2000\n",
      "83040/83100 [============================>.] - ETA: 0s - loss: 0.0196 - accuracy: 0.9943\n",
      "Epoch 00035: val_accuracy did not improve from 0.99904\n",
      "83100/83100 [==============================] - 116s 1ms/sample - loss: 0.0196 - accuracy: 0.9943 - val_loss: 0.0097 - val_accuracy: 0.9980\n",
      "Epoch 36/2000\n",
      "83040/83100 [============================>.] - ETA: 0s - loss: 0.0204 - accuracy: 0.9940\n",
      "Epoch 00036: val_accuracy did not improve from 0.99904\n",
      "83100/83100 [==============================] - 116s 1ms/sample - loss: 0.0204 - accuracy: 0.9940 - val_loss: 0.0062 - val_accuracy: 0.9989\n",
      "Epoch 37/2000\n",
      "83072/83100 [============================>.] - ETA: 0s - loss: 0.0201 - accuracy: 0.9946 ETA: 0s - loss: 0.0201 - accu\n",
      "Epoch 00037: val_accuracy did not improve from 0.99904\n",
      "83100/83100 [==============================] - 116s 1ms/sample - loss: 0.0201 - accuracy: 0.9946 - val_loss: 0.0115 - val_accuracy: 0.9979\n",
      "Epoch 38/2000\n",
      "83072/83100 [============================>.] - ETA: 0s - loss: 0.0180 - accuracy: 0.9945\n",
      "Epoch 00038: val_accuracy did not improve from 0.99904\n",
      "83100/83100 [==============================] - 115s 1ms/sample - loss: 0.0180 - accuracy: 0.9945 - val_loss: 0.0069 - val_accuracy: 0.9984\n",
      "Epoch 39/2000\n",
      "83072/83100 [============================>.] - ETA: 0s - loss: 0.0192 - accuracy: 0.9946\n",
      "Epoch 00039: val_accuracy did not improve from 0.99904\n",
      "83100/83100 [==============================] - 114s 1ms/sample - loss: 0.0193 - accuracy: 0.9946 - val_loss: 0.0110 - val_accuracy: 0.9979\n",
      "Epoch 40/2000\n",
      "83040/83100 [============================>.] - ETA: 0s - loss: 0.0186 - accuracy: 0.9946\n",
      "Epoch 00040: val_accuracy did not improve from 0.99904\n",
      "83100/83100 [==============================] - 117s 1ms/sample - loss: 0.0186 - accuracy: 0.9946 - val_loss: 0.0078 - val_accuracy: 0.9983\n",
      "Epoch 41/2000\n",
      "83040/83100 [============================>.] - ETA: 0s - loss: 0.0183 - accuracy: 0.9948\n",
      "Epoch 00041: val_accuracy did not improve from 0.99904\n",
      "83100/83100 [==============================] - 117s 1ms/sample - loss: 0.0183 - accuracy: 0.9948 - val_loss: 0.0090 - val_accuracy: 0.9983\n",
      "Epoch 42/2000\n",
      "83072/83100 [============================>.] - ETA: 0s - loss: 0.0176 - accuracy: 0.9949\n",
      "Epoch 00042: val_accuracy did not improve from 0.99904\n",
      "83100/83100 [==============================] - 115s 1ms/sample - loss: 0.0176 - accuracy: 0.9949 - val_loss: 0.0073 - val_accuracy: 0.9983\n",
      "Epoch 43/2000\n",
      "83040/83100 [============================>.] - ETA: 0s - loss: 0.0176 - accuracy: 0.9947\n",
      "Epoch 00043: val_accuracy did not improve from 0.99904\n",
      "83100/83100 [==============================] - 120s 1ms/sample - loss: 0.0176 - accuracy: 0.9947 - val_loss: 0.0044 - val_accuracy: 0.9989\n",
      "Epoch 44/2000\n",
      "83072/83100 [============================>.] - ETA: 0s - loss: 0.0182 - accuracy: 0.9951\n",
      "Epoch 00044: val_accuracy did not improve from 0.99904\n",
      "83100/83100 [==============================] - 114s 1ms/sample - loss: 0.0182 - accuracy: 0.9950 - val_loss: 0.0064 - val_accuracy: 0.9985\n",
      "Epoch 45/2000\n",
      "83040/83100 [============================>.] - ETA: 0s - loss: 0.0165 - accuracy: 0.9955\n",
      "Epoch 00045: val_accuracy did not improve from 0.99904\n",
      "83100/83100 [==============================] - 117s 1ms/sample - loss: 0.0165 - accuracy: 0.9955 - val_loss: 0.0137 - val_accuracy: 0.9974\n",
      "Epoch 46/2000\n",
      "83040/83100 [============================>.] - ETA: 0s - loss: 0.0180 - accuracy: 0.9948 ETA: 1s - l\n",
      "Epoch 00046: val_accuracy did not improve from 0.99904\n",
      "83100/83100 [==============================] - 115s 1ms/sample - loss: 0.0180 - accuracy: 0.9948 - val_loss: 0.0095 - val_accuracy: 0.9984\n",
      "Epoch 47/2000\n",
      "83072/83100 [============================>.] - ETA: 0s - loss: 0.0171 - accuracy: 0.9952\n",
      "Epoch 00047: val_accuracy did not improve from 0.99904\n",
      "83100/83100 [==============================] - 116s 1ms/sample - loss: 0.0171 - accuracy: 0.9952 - val_loss: 0.0127 - val_accuracy: 0.9976\n",
      "Epoch 48/2000\n",
      "83072/83100 [============================>.] - ETA: 0s - loss: 0.0195 - accuracy: 0.9949\n",
      "Epoch 00048: val_accuracy did not improve from 0.99904\n",
      "83100/83100 [==============================] - 117s 1ms/sample - loss: 0.0195 - accuracy: 0.9949 - val_loss: 0.0089 - val_accuracy: 0.9982\n",
      "Epoch 49/2000\n",
      "83072/83100 [============================>.] - ETA: 0s - loss: 0.0162 - accuracy: 0.9952\n",
      "Epoch 00049: val_accuracy did not improve from 0.99904\n",
      "83100/83100 [==============================] - 117s 1ms/sample - loss: 0.0162 - accuracy: 0.9952 - val_loss: 0.0092 - val_accuracy: 0.9980\n",
      "Epoch 50/2000\n",
      "83040/83100 [============================>.] - ETA: 0s - loss: 0.0154 - accuracy: 0.9956\n",
      "Epoch 00050: val_accuracy did not improve from 0.99904\n",
      "83100/83100 [==============================] - 115s 1ms/sample - loss: 0.0154 - accuracy: 0.9956 - val_loss: 0.0094 - val_accuracy: 0.9983\n",
      "Epoch 51/2000\n",
      "83072/83100 [============================>.] - ETA: 0s - loss: 0.0156 - accuracy: 0.9958\n",
      "Epoch 00051: val_accuracy did not improve from 0.99904\n",
      "83100/83100 [==============================] - 115s 1ms/sample - loss: 0.0156 - accuracy: 0.9958 - val_loss: 0.0068 - val_accuracy: 0.9988\n",
      "Epoch 52/2000\n",
      "83072/83100 [============================>.] - ETA: 0s - loss: 0.0175 - accuracy: 0.9950\n",
      "Epoch 00052: val_accuracy did not improve from 0.99904\n",
      "83100/83100 [==============================] - 121s 1ms/sample - loss: 0.0175 - accuracy: 0.9950 - val_loss: 0.0073 - val_accuracy: 0.9984\n",
      "Epoch 53/2000\n",
      "83040/83100 [============================>.] - ETA: 0s - loss: 0.0161 - accuracy: 0.9956\n",
      "Epoch 00053: val_accuracy did not improve from 0.99904\n",
      "83100/83100 [==============================] - 116s 1ms/sample - loss: 0.0161 - accuracy: 0.9956 - val_loss: 0.0072 - val_accuracy: 0.9986\n",
      "Epoch 54/2000\n",
      "83040/83100 [============================>.] - ETA: 0s - loss: 0.0159 - accuracy: 0.9955\n",
      "Epoch 00054: val_accuracy did not improve from 0.99904\n",
      "83100/83100 [==============================] - 115s 1ms/sample - loss: 0.0159 - accuracy: 0.9955 - val_loss: 0.0134 - val_accuracy: 0.9976\n",
      "Epoch 55/2000\n",
      "83072/83100 [============================>.] - ETA: 0s - loss: 0.0166 - accuracy: 0.9955\n",
      "Epoch 00055: val_accuracy did not improve from 0.99904\n",
      "83100/83100 [==============================] - 115s 1ms/sample - loss: 0.0166 - accuracy: 0.9955 - val_loss: 0.0103 - val_accuracy: 0.9982\n"
     ]
    },
    {
     "name": "stdout",
     "output_type": "stream",
     "text": [
      "Epoch 56/2000\n",
      "83072/83100 [============================>.] - ETA: 0s - loss: 0.0146 - accuracy: 0.9957\n",
      "Epoch 00056: val_accuracy did not improve from 0.99904\n",
      "83100/83100 [==============================] - 116s 1ms/sample - loss: 0.0146 - accuracy: 0.9957 - val_loss: 0.0078 - val_accuracy: 0.9987\n",
      "Epoch 57/2000\n",
      "83072/83100 [============================>.] - ETA: 0s - loss: 0.0169 - accuracy: 0.9957\n",
      "Epoch 00057: val_accuracy did not improve from 0.99904\n",
      "83100/83100 [==============================] - 116s 1ms/sample - loss: 0.0169 - accuracy: 0.9957 - val_loss: 0.0100 - val_accuracy: 0.9981\n",
      "Epoch 58/2000\n",
      "83040/83100 [============================>.] - ETA: 0s - loss: 0.0161 - accuracy: 0.9956\n",
      "Epoch 00058: val_accuracy did not improve from 0.99904\n",
      "83100/83100 [==============================] - 113s 1ms/sample - loss: 0.0161 - accuracy: 0.9956 - val_loss: 0.0054 - val_accuracy: 0.9987\n",
      "Epoch 59/2000\n",
      "83040/83100 [============================>.] - ETA: 0s - loss: 0.0153 - accuracy: 0.9957\n",
      "Epoch 00059: val_accuracy did not improve from 0.99904\n",
      "83100/83100 [==============================] - 116s 1ms/sample - loss: 0.0153 - accuracy: 0.9957 - val_loss: 0.0136 - val_accuracy: 0.9976\n",
      "Epoch 60/2000\n",
      "83072/83100 [============================>.] - ETA: 0s - loss: 0.0152 - accuracy: 0.9961\n",
      "Epoch 00060: val_accuracy did not improve from 0.99904\n",
      "83100/83100 [==============================] - 116s 1ms/sample - loss: 0.0152 - accuracy: 0.9961 - val_loss: 0.0107 - val_accuracy: 0.9981\n",
      "Epoch 61/2000\n",
      "83040/83100 [============================>.] - ETA: 0s - loss: 0.0164 - accuracy: 0.9959\n",
      "Epoch 00061: val_accuracy did not improve from 0.99904\n",
      "83100/83100 [==============================] - 116s 1ms/sample - loss: 0.0164 - accuracy: 0.9959 - val_loss: 0.0162 - val_accuracy: 0.9972\n",
      "Epoch 62/2000\n",
      "83072/83100 [============================>.] - ETA: 0s - loss: 0.0144 - accuracy: 0.9964\n",
      "Epoch 00062: val_accuracy did not improve from 0.99904\n",
      "83100/83100 [==============================] - 120s 1ms/sample - loss: 0.0144 - accuracy: 0.9964 - val_loss: 0.0077 - val_accuracy: 0.9988\n",
      "Epoch 63/2000\n",
      "83072/83100 [============================>.] - ETA: 0s - loss: 0.0153 - accuracy: 0.9960\n",
      "Epoch 00063: val_accuracy did not improve from 0.99904\n",
      "83100/83100 [==============================] - 115s 1ms/sample - loss: 0.0153 - accuracy: 0.9960 - val_loss: 0.0081 - val_accuracy: 0.9987\n",
      "Epoch 64/2000\n",
      "83072/83100 [============================>.] - ETA: 0s - loss: 0.0142 - accuracy: 0.9962\n",
      "Epoch 00064: val_accuracy did not improve from 0.99904\n",
      "83100/83100 [==============================] - 114s 1ms/sample - loss: 0.0142 - accuracy: 0.9962 - val_loss: 0.0091 - val_accuracy: 0.9985\n",
      "Epoch 65/2000\n",
      "83040/83100 [============================>.] - ETA: 0s - loss: 0.0146 - accuracy: 0.9961\n",
      "Epoch 00065: val_accuracy did not improve from 0.99904\n",
      "83100/83100 [==============================] - 116s 1ms/sample - loss: 0.0146 - accuracy: 0.9961 - val_loss: 0.0088 - val_accuracy: 0.9988\n",
      "Epoch 66/2000\n",
      "83072/83100 [============================>.] - ETA: 0s - loss: 0.0136 - accuracy: 0.9964\n",
      "Epoch 00066: val_accuracy did not improve from 0.99904\n",
      "83100/83100 [==============================] - 114s 1ms/sample - loss: 0.0136 - accuracy: 0.9965 - val_loss: 0.0103 - val_accuracy: 0.9982\n",
      "Epoch 67/2000\n",
      "83072/83100 [============================>.] - ETA: 0s - loss: 0.0151 - accuracy: 0.9962\n",
      "Epoch 00067: val_accuracy did not improve from 0.99904\n",
      "83100/83100 [==============================] - 116s 1ms/sample - loss: 0.0151 - accuracy: 0.9962 - val_loss: 0.0108 - val_accuracy: 0.9985\n",
      "Epoch 68/2000\n",
      "83072/83100 [============================>.] - ETA: 0s - loss: 0.0140 - accuracy: 0.9963\n",
      "Epoch 00068: val_accuracy did not improve from 0.99904\n",
      "83100/83100 [==============================] - 114s 1ms/sample - loss: 0.0140 - accuracy: 0.9963 - val_loss: 0.0097 - val_accuracy: 0.9985\n",
      "Epoch 69/2000\n",
      "83040/83100 [============================>.] - ETA: 0s - loss: 0.0151 - accuracy: 0.9963\n",
      "Epoch 00069: val_accuracy did not improve from 0.99904\n",
      "83100/83100 [==============================] - 116s 1ms/sample - loss: 0.0151 - accuracy: 0.9963 - val_loss: 0.0139 - val_accuracy: 0.9980\n",
      "Epoch 70/2000\n",
      "83072/83100 [============================>.] - ETA: 0s - loss: 0.0169 - accuracy: 0.9960\n",
      "Epoch 00070: val_accuracy did not improve from 0.99904\n",
      "83100/83100 [==============================] - 113s 1ms/sample - loss: 0.0169 - accuracy: 0.9960 - val_loss: 0.0095 - val_accuracy: 0.9986\n",
      "Epoch 71/2000\n",
      "83040/83100 [============================>.] - ETA: 0s - loss: 0.0130 - accuracy: 0.9967\n",
      "Epoch 00071: val_accuracy did not improve from 0.99904\n",
      "83100/83100 [==============================] - 116s 1ms/sample - loss: 0.0132 - accuracy: 0.9967 - val_loss: 0.0159 - val_accuracy: 0.9974\n",
      "Epoch 72/2000\n",
      "83072/83100 [============================>.] - ETA: 0s - loss: 0.0132 - accuracy: 0.9966\n",
      "Epoch 00072: val_accuracy did not improve from 0.99904\n",
      "83100/83100 [==============================] - 120s 1ms/sample - loss: 0.0132 - accuracy: 0.9966 - val_loss: 0.0148 - val_accuracy: 0.9978\n",
      "Epoch 73/2000\n",
      "83040/83100 [============================>.] - ETA: 0s - loss: 0.0137 - accuracy: 0.9964\n",
      "Epoch 00073: val_accuracy did not improve from 0.99904\n",
      "83100/83100 [==============================] - 114s 1ms/sample - loss: 0.0137 - accuracy: 0.9964 - val_loss: 0.0110 - val_accuracy: 0.9985\n",
      "Epoch 74/2000\n",
      "83040/83100 [============================>.] - ETA: 0s - loss: 0.0152 - accuracy: 0.9964\n",
      "Epoch 00074: val_accuracy did not improve from 0.99904\n",
      "83100/83100 [==============================] - 116s 1ms/sample - loss: 0.0154 - accuracy: 0.9964 - val_loss: 0.0106 - val_accuracy: 0.9984\n",
      "Epoch 75/2000\n",
      "83072/83100 [============================>.] - ETA: 0s - loss: 0.0115 - accuracy: 0.9969\n",
      "Epoch 00075: val_accuracy did not improve from 0.99904\n",
      "83100/83100 [==============================] - 115s 1ms/sample - loss: 0.0115 - accuracy: 0.9969 - val_loss: 0.0137 - val_accuracy: 0.9982\n",
      "Epoch 76/2000\n",
      "83040/83100 [============================>.] - ETA: 0s - loss: 0.0160 - accuracy: 0.9962\n",
      "Epoch 00076: val_accuracy did not improve from 0.99904\n",
      "83100/83100 [==============================] - 116s 1ms/sample - loss: 0.0160 - accuracy: 0.9962 - val_loss: 0.0211 - val_accuracy: 0.9969\n",
      "Epoch 77/2000\n",
      "83072/83100 [============================>.] - ETA: 0s - loss: 0.0134 - accuracy: 0.9966\n",
      "Epoch 00077: val_accuracy did not improve from 0.99904\n",
      "83100/83100 [==============================] - 113s 1ms/sample - loss: 0.0134 - accuracy: 0.9966 - val_loss: 0.0124 - val_accuracy: 0.9983\n",
      "Epoch 78/2000\n",
      "83040/83100 [============================>.] - ETA: 0s - loss: 0.0131 - accuracy: 0.9967\n",
      "Epoch 00078: val_accuracy did not improve from 0.99904\n",
      "83100/83100 [==============================] - 113s 1ms/sample - loss: 0.0131 - accuracy: 0.9967 - val_loss: 0.0101 - val_accuracy: 0.9988\n",
      "Epoch 79/2000\n",
      "83072/83100 [============================>.] - ETA: 0s - loss: 0.0155 - accuracy: 0.9964\n",
      "Epoch 00079: val_accuracy did not improve from 0.99904\n",
      "83100/83100 [==============================] - 114s 1ms/sample - loss: 0.0155 - accuracy: 0.9964 - val_loss: 0.0134 - val_accuracy: 0.9981\n",
      "Epoch 80/2000\n",
      "83072/83100 [============================>.] - ETA: 0s - loss: 0.0134 - accuracy: 0.9968\n",
      "Epoch 00080: val_accuracy did not improve from 0.99904\n",
      "83100/83100 [==============================] - 113s 1ms/sample - loss: 0.0135 - accuracy: 0.9968 - val_loss: 0.0128 - val_accuracy: 0.9983\n",
      "Epoch 81/2000\n",
      "83072/83100 [============================>.] - ETA: 0s - loss: 0.0147 - accuracy: 0.9965\n",
      "Epoch 00081: val_accuracy did not improve from 0.99904\n",
      "83100/83100 [==============================] - 118s 1ms/sample - loss: 0.0148 - accuracy: 0.9965 - val_loss: 0.0140 - val_accuracy: 0.9982\n",
      "Epoch 82/2000\n",
      "83040/83100 [============================>.] - ETA: 0s - loss: 0.0156 - accuracy: 0.9966\n",
      "Epoch 00082: val_accuracy did not improve from 0.99904\n",
      "83100/83100 [==============================] - 115s 1ms/sample - loss: 0.0156 - accuracy: 0.9966 - val_loss: 0.0109 - val_accuracy: 0.9985\n",
      "Epoch 83/2000\n",
      "83040/83100 [============================>.] - ETA: 0s - loss: 0.0130 - accuracy: 0.9967\n",
      "Epoch 00083: val_accuracy did not improve from 0.99904\n",
      "83100/83100 [==============================] - 114s 1ms/sample - loss: 0.0130 - accuracy: 0.9967 - val_loss: 0.0144 - val_accuracy: 0.9981\n"
     ]
    },
    {
     "name": "stdout",
     "output_type": "stream",
     "text": [
      "Epoch 84/2000\n",
      "83072/83100 [============================>.] - ETA: 0s - loss: 0.0143 - accuracy: 0.9967\n",
      "Epoch 00084: val_accuracy did not improve from 0.99904\n",
      "83100/83100 [==============================] - 113s 1ms/sample - loss: 0.0145 - accuracy: 0.9967 - val_loss: 0.0149 - val_accuracy: 0.9981\n",
      "Epoch 85/2000\n",
      "83040/83100 [============================>.] - ETA: 0s - loss: 0.0144 - accuracy: 0.9966\n",
      "Epoch 00085: val_accuracy did not improve from 0.99904\n",
      "83100/83100 [==============================] - 109s 1ms/sample - loss: 0.0144 - accuracy: 0.9966 - val_loss: 0.0161 - val_accuracy: 0.9975\n",
      "Epoch 86/2000\n",
      "83072/83100 [============================>.] - ETA: 0s - loss: 0.0134 - accuracy: 0.9970\n",
      "Epoch 00086: val_accuracy did not improve from 0.99904\n",
      "83100/83100 [==============================] - 113s 1ms/sample - loss: 0.0134 - accuracy: 0.9970 - val_loss: 0.0161 - val_accuracy: 0.9977\n",
      "Epoch 87/2000\n",
      "83072/83100 [============================>.] - ETA: 0s - loss: 0.0137 - accuracy: 0.9967\n",
      "Epoch 00087: val_accuracy did not improve from 0.99904\n",
      "83100/83100 [==============================] - 116s 1ms/sample - loss: 0.0137 - accuracy: 0.9968 - val_loss: 0.0116 - val_accuracy: 0.9985\n",
      "Epoch 88/2000\n",
      "83040/83100 [============================>.] - ETA: 0s - loss: 0.0136 - accuracy: 0.9968\n",
      "Epoch 00088: val_accuracy did not improve from 0.99904\n",
      "83100/83100 [==============================] - 114s 1ms/sample - loss: 0.0136 - accuracy: 0.9968 - val_loss: 0.0157 - val_accuracy: 0.9981\n",
      "Epoch 89/2000\n",
      "83072/83100 [============================>.] - ETA: 0s - loss: 0.0155 - accuracy: 0.9970\n",
      "Epoch 00089: val_accuracy did not improve from 0.99904\n",
      "83100/83100 [==============================] - 114s 1ms/sample - loss: 0.0155 - accuracy: 0.9970 - val_loss: 0.0112 - val_accuracy: 0.9985\n",
      "Epoch 90/2000\n",
      "83072/83100 [============================>.] - ETA: 0s - loss: 0.0140 - accuracy: 0.9968\n",
      "Epoch 00090: val_accuracy did not improve from 0.99904\n",
      "83100/83100 [==============================] - 112s 1ms/sample - loss: 0.0140 - accuracy: 0.9968 - val_loss: 0.0175 - val_accuracy: 0.9977\n",
      "Epoch 91/2000\n",
      "83072/83100 [============================>.] - ETA: 0s - loss: 0.0133 - accuracy: 0.9970\n",
      "Epoch 00091: val_accuracy did not improve from 0.99904\n",
      "83100/83100 [==============================] - 121s 1ms/sample - loss: 0.0133 - accuracy: 0.9970 - val_loss: 0.0127 - val_accuracy: 0.9982\n",
      "Epoch 92/2000\n",
      "83072/83100 [============================>.] - ETA: 0s - loss: 0.0137 - accuracy: 0.9970\n",
      "Epoch 00092: val_accuracy did not improve from 0.99904\n",
      "83100/83100 [==============================] - 115s 1ms/sample - loss: 0.0137 - accuracy: 0.9970 - val_loss: 0.0116 - val_accuracy: 0.9981\n",
      "Epoch 93/2000\n",
      "83040/83100 [============================>.] - ETA: 0s - loss: 0.0134 - accuracy: 0.9971\n",
      "Epoch 00093: val_accuracy did not improve from 0.99904\n",
      "83100/83100 [==============================] - 113s 1ms/sample - loss: 0.0134 - accuracy: 0.9971 - val_loss: 0.0165 - val_accuracy: 0.9978\n",
      "Epoch 94/2000\n",
      "83072/83100 [============================>.] - ETA: 0s - loss: 0.0131 - accuracy: 0.9970\n",
      "Epoch 00094: val_accuracy did not improve from 0.99904\n",
      "83100/83100 [==============================] - 115s 1ms/sample - loss: 0.0131 - accuracy: 0.9970 - val_loss: 0.0142 - val_accuracy: 0.9980\n",
      "Epoch 95/2000\n",
      "83040/83100 [============================>.] - ETA: 0s - loss: 0.0133 - accuracy: 0.9970\n",
      "Epoch 00095: val_accuracy did not improve from 0.99904\n",
      "83100/83100 [==============================] - 111s 1ms/sample - loss: 0.0133 - accuracy: 0.9970 - val_loss: 0.0174 - val_accuracy: 0.9979\n",
      "Epoch 96/2000\n",
      "83072/83100 [============================>.] - ETA: 0s - loss: 0.0106 - accuracy: 0.9976\n",
      "Epoch 00096: val_accuracy did not improve from 0.99904\n",
      "83100/83100 [==============================] - 114s 1ms/sample - loss: 0.0106 - accuracy: 0.9976 - val_loss: 0.0122 - val_accuracy: 0.9983\n",
      "Epoch 97/2000\n",
      "83040/83100 [============================>.] - ETA: 0s - loss: 0.0141 - accuracy: 0.9967\n",
      "Epoch 00097: val_accuracy did not improve from 0.99904\n",
      "83100/83100 [==============================] - 114s 1ms/sample - loss: 0.0141 - accuracy: 0.9967 - val_loss: 0.0146 - val_accuracy: 0.9981\n",
      "Epoch 98/2000\n",
      "83072/83100 [============================>.] - ETA: 0s - loss: 0.0125 - accuracy: 0.9972\n",
      "Epoch 00098: val_accuracy did not improve from 0.99904\n",
      "83100/83100 [==============================] - 110s 1ms/sample - loss: 0.0125 - accuracy: 0.9971 - val_loss: 0.0186 - val_accuracy: 0.9977\n",
      "Epoch 99/2000\n",
      "83040/83100 [============================>.] - ETA: 0s - loss: 0.0134 - accuracy: 0.9971\n",
      "Epoch 00099: val_accuracy did not improve from 0.99904\n",
      "83100/83100 [==============================] - 114s 1ms/sample - loss: 0.0134 - accuracy: 0.9971 - val_loss: 0.0229 - val_accuracy: 0.9971\n",
      "Epoch 100/2000\n",
      "83072/83100 [============================>.] - ETA: 0s - loss: 0.0144 - accuracy: 0.9970\n",
      "Epoch 00100: val_accuracy did not improve from 0.99904\n",
      "83100/83100 [==============================] - 115s 1ms/sample - loss: 0.0144 - accuracy: 0.9970 - val_loss: 0.0118 - val_accuracy: 0.9986\n",
      "Epoch 101/2000\n",
      "83072/83100 [============================>.] - ETA: 0s - loss: 0.0128 - accuracy: 0.9973\n",
      "Epoch 00101: val_accuracy did not improve from 0.99904\n",
      "83100/83100 [==============================] - 115s 1ms/sample - loss: 0.0128 - accuracy: 0.9973 - val_loss: 0.0211 - val_accuracy: 0.9973\n",
      "Epoch 00101: early stopping\n"
     ]
    }
   ],
   "source": [
    "#Model Fitting\n",
    "history = criticality_network.fit(\n",
    "            x = corpora_train_x, \n",
    "            y = target_train_y,\n",
    "            #batch_size=64,\n",
    "            epochs=2000, #5 <------ Hyperparameter\n",
    "            validation_split = 0.2,\n",
    "            callbacks=callbacks_list\n",
    ")"
   ]
  },
  {
   "cell_type": "code",
   "execution_count": 0,
   "metadata": {
    "colab": {},
    "colab_type": "code",
    "id": "qizorKf5Pm-u"
   },
   "outputs": [],
   "source": [
    "#Saving Training History\n",
    "df_history = pd.DataFrame.from_dict(history.history)\n",
    "df_history.to_csv('e-res/history_training.csv', encoding='utf-8',index=False)"
   ]
  },
  {
   "cell_type": "code",
   "execution_count": 0,
   "metadata": {
    "colab": {},
    "colab_type": "code",
    "id": "rCCoefs0Pm-z",
    "outputId": "b0befbdc-6adf-487a-c039-89b2c4d741fc"
   },
   "outputs": [
    {
     "data": {
      "text/html": [
       "<div>\n",
       "<style>\n",
       "    .dataframe thead tr:only-child th {\n",
       "        text-align: right;\n",
       "    }\n",
       "\n",
       "    .dataframe thead th {\n",
       "        text-align: left;\n",
       "    }\n",
       "\n",
       "    .dataframe tbody tr th {\n",
       "        vertical-align: top;\n",
       "    }\n",
       "</style>\n",
       "<table border=\"1\" class=\"dataframe\">\n",
       "  <thead>\n",
       "    <tr style=\"text-align: right;\">\n",
       "      <th></th>\n",
       "      <th>accuracy</th>\n",
       "      <th>loss</th>\n",
       "      <th>val_accuracy</th>\n",
       "      <th>val_loss</th>\n",
       "    </tr>\n",
       "  </thead>\n",
       "  <tbody>\n",
       "    <tr>\n",
       "      <th>0</th>\n",
       "      <td>0.955993</td>\n",
       "      <td>0.130766</td>\n",
       "      <td>0.998845</td>\n",
       "      <td>0.003467</td>\n",
       "    </tr>\n",
       "    <tr>\n",
       "      <th>1</th>\n",
       "      <td>0.966173</td>\n",
       "      <td>0.099961</td>\n",
       "      <td>0.998123</td>\n",
       "      <td>0.005184</td>\n",
       "    </tr>\n",
       "    <tr>\n",
       "      <th>2</th>\n",
       "      <td>0.970638</td>\n",
       "      <td>0.087270</td>\n",
       "      <td>0.998652</td>\n",
       "      <td>0.003626</td>\n",
       "    </tr>\n",
       "    <tr>\n",
       "      <th>3</th>\n",
       "      <td>0.972238</td>\n",
       "      <td>0.079534</td>\n",
       "      <td>0.997930</td>\n",
       "      <td>0.005712</td>\n",
       "    </tr>\n",
       "    <tr>\n",
       "      <th>4</th>\n",
       "      <td>0.975439</td>\n",
       "      <td>0.070949</td>\n",
       "      <td>0.998267</td>\n",
       "      <td>0.004923</td>\n",
       "    </tr>\n",
       "  </tbody>\n",
       "</table>\n",
       "</div>"
      ],
      "text/plain": [
       "   accuracy      loss  val_accuracy  val_loss\n",
       "0  0.955993  0.130766      0.998845  0.003467\n",
       "1  0.966173  0.099961      0.998123  0.005184\n",
       "2  0.970638  0.087270      0.998652  0.003626\n",
       "3  0.972238  0.079534      0.997930  0.005712\n",
       "4  0.975439  0.070949      0.998267  0.004923"
      ]
     },
     "execution_count": 49,
     "metadata": {
      "tags": []
     },
     "output_type": "execute_result"
    }
   ],
   "source": [
    "df_history.head()"
   ]
  },
  {
   "cell_type": "code",
   "execution_count": 0,
   "metadata": {
    "colab": {},
    "colab_type": "code",
    "id": "kwORCfknPm-6"
   },
   "outputs": [],
   "source": [
    "#Saving Test Data\n",
    "np.save('e-res/corpora_test_x.npy',corpora_test_x)"
   ]
  },
  {
   "cell_type": "code",
   "execution_count": 0,
   "metadata": {
    "colab": {},
    "colab_type": "code",
    "id": "4RyXz2laPm--"
   },
   "outputs": [],
   "source": [
    "np.save('e-res/target_test_y.npy',target_test_y)"
   ]
  },
  {
   "cell_type": "code",
   "execution_count": 0,
   "metadata": {
    "colab": {},
    "colab_type": "code",
    "id": "OhpZ6gR-Pm_D",
    "outputId": "79523326-7e8d-4f1a-91c9-5b80f74d9ee0"
   },
   "outputs": [
    {
     "data": {
      "image/png": "[encoded data removed]",
      "text/plain": [
       "<matplotlib.figure.Figure at 0x7fb6242ee400>"
      ]
     },
     "metadata": {
      "tags": []
     },
     "output_type": "display_data"
    },
    {
     "data": {
      "image/png": "[encoded data removed]",
      "text/plain": [
       "<matplotlib.figure.Figure at 0x7fb724863c50>"
      ]
     },
     "metadata": {
      "tags": []
     },
     "output_type": "display_data"
    }
   ],
   "source": [
    "#Evaluation\n",
    "acc = history.history['accuracy']\n",
    "val_acc = history.history['val_accuracy']\n",
    "loss = history.history['loss']\n",
    "val_loss = history.history['val_loss']\n",
    " \n",
    "epochs2 = range(len(acc))\n",
    " \n",
    "plt.plot(epochs2, acc, 'b', label='Training')\n",
    "plt.plot(epochs2, val_acc, 'r', label='Validation')\n",
    "plt.title('Training and validation accuracy')\n",
    "plt.ylabel('acc')\n",
    "plt.xlabel('epoch')\n",
    "plt.legend()\n",
    " \n",
    "plt.figure()\n",
    " \n",
    "plt.plot(epochs2, loss, 'b', label='Training')\n",
    "plt.plot(epochs2, val_loss, 'r', label='Validation')\n",
    "plt.title('Training and validation loss')\n",
    "plt.ylabel('loss')\n",
    "plt.xlabel('epoch')\n",
    "plt.legend()\n",
    " \n",
    "plt.show()"
   ]
  },
  {
   "cell_type": "code",
   "execution_count": 0,
   "metadata": {
    "colab": {},
    "colab_type": "code",
    "id": "de7A7huePm_J"
   },
   "outputs": [],
   "source": [
    "from sklearn.metrics import average_precision_score,precision_recall_curve\n",
    "from sklearn.utils.fixes import signature\n",
    "from sklearn.metrics import roc_curve\n",
    "from sklearn.metrics import roc_auc_score"
   ]
  },
  {
   "cell_type": "code",
   "execution_count": 0,
   "metadata": {
    "colab": {},
    "colab_type": "code",
    "id": "ezsu4H3XPm_N"
   },
   "outputs": [],
   "source": [
    "from tensorflow.keras.models import load_model"
   ]
  },
  {
   "cell_type": "code",
   "execution_count": 0,
   "metadata": {
    "colab": {},
    "colab_type": "code",
    "id": "fdfyKDQoPm_Q"
   },
   "outputs": [],
   "source": [
    "path = 'e-res/best_model.hdf5'\n",
    "criticality_network_load = load_model(path) #<----- The Model"
   ]
  },
  {
   "cell_type": "code",
   "execution_count": 0,
   "metadata": {
    "colab": {},
    "colab_type": "code",
    "id": "ToHgXK2dPm_W"
   },
   "outputs": [],
   "source": [
    "np_target_test_y = np.load('e-res/target_test_y.npy')\n",
    "np_corpora_test_x = np.load('e-res/corpora_test_x.npy')"
   ]
  },
  {
   "cell_type": "code",
   "execution_count": 0,
   "metadata": {
    "colab": {},
    "colab_type": "code",
    "id": "HnZiM2L1Pm_a",
    "outputId": "16c1965d-eb8a-450d-e7cb-7b70ef24cf16"
   },
   "outputs": [
    {
     "name": "stdout",
     "output_type": "stream",
     "text": [
      "11539/11539 [==============================] - 3s 247us/sample - loss: 0.1313 - accuracy: 0.9736\n"
     ]
    }
   ],
   "source": [
    "score = criticality_network_load.evaluate(np_corpora_test_x, np_target_test_y, verbose=1)"
   ]
  },
  {
   "cell_type": "code",
   "execution_count": 0,
   "metadata": {
    "colab": {},
    "colab_type": "code",
    "id": "YDyfzjdUPm_f",
    "outputId": "120b5fd8-ca7b-4215-acce-41afd32c6bf6"
   },
   "outputs": [
    {
     "name": "stdout",
     "output_type": "stream",
     "text": [
      "Test loss: 0.13130904127952253\n",
      "Test accuracy: 0.9735679\n"
     ]
    }
   ],
   "source": [
    "print('Test loss:', score[0])\n",
    "print('Test accuracy:', score[1])"
   ]
  },
  {
   "cell_type": "code",
   "execution_count": 0,
   "metadata": {
    "colab": {},
    "colab_type": "code",
    "id": "vn8p7tZrPm_h",
    "outputId": "fa18f5c2-9cf5-4ec5-9685-c5ea78e3a802"
   },
   "outputs": [
    {
     "data": {
      "text/plain": [
       "array([[1.0000000e+00, 9.7539722e-17],\n",
       "       [9.3283859e-07, 9.9999905e-01],\n",
       "       [1.0000000e+00, 2.0519539e-29],\n",
       "       ...,\n",
       "       [2.1023639e-04, 9.9978977e-01],\n",
       "       [9.9999917e-01, 7.8283227e-07],\n",
       "       [5.1913088e-07, 9.9999952e-01]], dtype=float32)"
      ]
     },
     "execution_count": 60,
     "metadata": {
      "tags": []
     },
     "output_type": "execute_result"
    }
   ],
   "source": [
    "history_predict = criticality_network_load.predict(x=np_corpora_test_x)\n",
    "history_predict"
   ]
  },
  {
   "cell_type": "code",
   "execution_count": 0,
   "metadata": {
    "colab": {},
    "colab_type": "code",
    "id": "ANDvy-SGPm_l"
   },
   "outputs": [],
   "source": [
    "inferred_data = pd.DataFrame(history_predict,columns=list('AB'))\n",
    "target_data = pd.DataFrame(np_target_test_y,columns=list('LN'))\n",
    "data = target_data.join(inferred_data)"
   ]
  },
  {
   "cell_type": "code",
   "execution_count": 0,
   "metadata": {
    "colab": {},
    "colab_type": "code",
    "id": "mOm2BcLvPm_n",
    "outputId": "cdb86d26-9b8a-46d5-8365-1d17ae605bd6"
   },
   "outputs": [
    {
     "data": {
      "text/html": [
       "<div>\n",
       "<style>\n",
       "    .dataframe thead tr:only-child th {\n",
       "        text-align: right;\n",
       "    }\n",
       "\n",
       "    .dataframe thead th {\n",
       "        text-align: left;\n",
       "    }\n",
       "\n",
       "    .dataframe tbody tr th {\n",
       "        vertical-align: top;\n",
       "    }\n",
       "</style>\n",
       "<table border=\"1\" class=\"dataframe\">\n",
       "  <thead>\n",
       "    <tr style=\"text-align: right;\">\n",
       "      <th></th>\n",
       "      <th>L</th>\n",
       "      <th>N</th>\n",
       "      <th>A</th>\n",
       "      <th>B</th>\n",
       "    </tr>\n",
       "  </thead>\n",
       "  <tbody>\n",
       "    <tr>\n",
       "      <th>0</th>\n",
       "      <td>1</td>\n",
       "      <td>0</td>\n",
       "      <td>1.000000e+00</td>\n",
       "      <td>9.753972e-17</td>\n",
       "    </tr>\n",
       "    <tr>\n",
       "      <th>1</th>\n",
       "      <td>0</td>\n",
       "      <td>1</td>\n",
       "      <td>9.328386e-07</td>\n",
       "      <td>9.999990e-01</td>\n",
       "    </tr>\n",
       "    <tr>\n",
       "      <th>2</th>\n",
       "      <td>1</td>\n",
       "      <td>0</td>\n",
       "      <td>1.000000e+00</td>\n",
       "      <td>2.051954e-29</td>\n",
       "    </tr>\n",
       "    <tr>\n",
       "      <th>3</th>\n",
       "      <td>0</td>\n",
       "      <td>1</td>\n",
       "      <td>1.231208e-04</td>\n",
       "      <td>9.998769e-01</td>\n",
       "    </tr>\n",
       "    <tr>\n",
       "      <th>4</th>\n",
       "      <td>1</td>\n",
       "      <td>0</td>\n",
       "      <td>1.000000e+00</td>\n",
       "      <td>3.948549e-15</td>\n",
       "    </tr>\n",
       "  </tbody>\n",
       "</table>\n",
       "</div>"
      ],
      "text/plain": [
       "   L  N             A             B\n",
       "0  1  0  1.000000e+00  9.753972e-17\n",
       "1  0  1  9.328386e-07  9.999990e-01\n",
       "2  1  0  1.000000e+00  2.051954e-29\n",
       "3  0  1  1.231208e-04  9.998769e-01\n",
       "4  1  0  1.000000e+00  3.948549e-15"
      ]
     },
     "execution_count": 62,
     "metadata": {
      "tags": []
     },
     "output_type": "execute_result"
    }
   ],
   "source": [
    "data.head()"
   ]
  },
  {
   "cell_type": "code",
   "execution_count": 0,
   "metadata": {
    "colab": {},
    "colab_type": "code",
    "id": "NUC2y8_iPm_q"
   },
   "outputs": [],
   "source": [
    "y_true = list(data['L'])\n",
    "y_score= list(data['A'])\n",
    "average_precision = average_precision_score(y_true, y_score)"
   ]
  },
  {
   "cell_type": "code",
   "execution_count": 0,
   "metadata": {
    "colab": {},
    "colab_type": "code",
    "id": "4Xpv2lrdPm_t",
    "outputId": "ceb25fad-32e8-4d3b-8be6-f92a736bf553"
   },
   "outputs": [
    {
     "name": "stdout",
     "output_type": "stream",
     "text": [
      "Average precision-recall score: 1.00\n"
     ]
    }
   ],
   "source": [
    "print('Average precision-recall score: {0:0.2f}'.format(average_precision))"
   ]
  },
  {
   "cell_type": "code",
   "execution_count": 0,
   "metadata": {
    "colab": {},
    "colab_type": "code",
    "id": "AJgJykCkPm_w"
   },
   "outputs": [],
   "source": [
    "precision, recall, thresholds = precision_recall_curve(y_true, y_score)"
   ]
  },
  {
   "cell_type": "code",
   "execution_count": 0,
   "metadata": {
    "colab": {},
    "colab_type": "code",
    "id": "Rppc6pmrPm_y",
    "outputId": "50660c68-a5ab-46c7-ae59-47cc4d4259b0"
   },
   "outputs": [
    {
     "data": {
      "text/plain": [
       "<matplotlib.text.Text at 0x7fb5b4192208>"
      ]
     },
     "execution_count": 67,
     "metadata": {
      "tags": []
     },
     "output_type": "execute_result"
    },
    {
     "data": {
      "image/png": "[encoded data removed]",
      "text/plain": [
       "<matplotlib.figure.Figure at 0x7fb5b41db5f8>"
      ]
     },
     "metadata": {
      "tags": []
     },
     "output_type": "display_data"
    }
   ],
   "source": [
    "# In matplotlib < 1.5, plt.fill_between does not have a 'step' argument\n",
    "step_kwargs = ({'step': 'post'}\n",
    "               if 'step' in signature(plt.fill_between).parameters\n",
    "               else {})\n",
    "plt.step(recall, precision, color='b', alpha=0.2,\n",
    "         where='post')\n",
    "plt.fill_between(recall, precision, alpha=0.2, color='b', **step_kwargs)\n",
    "\n",
    "plt.xlabel('Recall')\n",
    "plt.ylabel('Precision')\n",
    "plt.ylim([0.0, 1.05])\n",
    "plt.xlim([0.0, 1.0])\n",
    "plt.title('2-class Precision-Recall curve: AP={0:0.2f}'.format(\n",
    "          average_precision))"
   ]
  },
  {
   "cell_type": "code",
   "execution_count": 0,
   "metadata": {
    "colab": {},
    "colab_type": "code",
    "id": "SINX99F5Pm_1",
    "outputId": "ef4a19eb-ace0-41ba-9540-e52922c297f6"
   },
   "outputs": [
    {
     "name": "stdout",
     "output_type": "stream",
     "text": [
      "AUC: 0.995\n"
     ]
    }
   ],
   "source": [
    "#ROC Curve (all our samples are balanced)\n",
    "auc = roc_auc_score(y_true, y_score)\n",
    "print('AUC: %.3f' % auc)"
   ]
  },
  {
   "cell_type": "code",
   "execution_count": 0,
   "metadata": {
    "colab": {},
    "colab_type": "code",
    "id": "Dr8BQPAYPm_7"
   },
   "outputs": [],
   "source": []
  }
 ],
 "metadata": {
  "colab": {
   "name": "req-predict-[100embeds]-shallow-E.ipynb",
   "provenance": []
  },
  "kernelspec": {
   "display_name": "Python 3",
   "language": "python",
   "name": "python3"
  },
  "language_info": {
   "codemirror_mode": {
    "name": "ipython",
    "version": 3
   },
   "file_extension": ".py",
   "mimetype": "text/x-python",
   "name": "python",
   "nbconvert_exporter": "python",
   "pygments_lexer": "ipython3",
   "version": "3.6.8"
  }
 },
 "nbformat": 4,
 "nbformat_minor": 1
}
