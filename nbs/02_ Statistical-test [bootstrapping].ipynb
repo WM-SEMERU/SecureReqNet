{
 "cells": [
  {
   "cell_type": "code",
   "execution_count": 1,
   "metadata": {},
   "outputs": [
    {
     "name": "stderr",
     "output_type": "stream",
     "text": [
      "\n",
      "Attaching package: ‘dplyr’\n",
      "\n",
      "The following objects are masked from ‘package:stats’:\n",
      "\n",
      "    filter, lag\n",
      "\n",
      "The following objects are masked from ‘package:base’:\n",
      "\n",
      "    intersect, setdiff, setequal, union\n",
      "\n"
     ]
    },
    {
     "data": {
      "text/html": [
       "<table>\n",
       "<thead><tr><th scope=col>Sepal.Length</th><th scope=col>Sepal.Width</th><th scope=col>Petal.Length</th><th scope=col>Petal.Width</th><th scope=col>Species</th></tr></thead>\n",
       "<tbody>\n",
       "\t<tr><td>5.1   </td><td>3.5   </td><td>1.4   </td><td>0.2   </td><td>setosa</td></tr>\n",
       "\t<tr><td>4.9   </td><td>3.0   </td><td>1.4   </td><td>0.2   </td><td>setosa</td></tr>\n",
       "\t<tr><td>4.7   </td><td>3.2   </td><td>1.3   </td><td>0.2   </td><td>setosa</td></tr>\n",
       "\t<tr><td>4.6   </td><td>3.1   </td><td>1.5   </td><td>0.2   </td><td>setosa</td></tr>\n",
       "\t<tr><td>5.0   </td><td>3.6   </td><td>1.4   </td><td>0.2   </td><td>setosa</td></tr>\n",
       "\t<tr><td>5.4   </td><td>3.9   </td><td>1.7   </td><td>0.4   </td><td>setosa</td></tr>\n",
       "\t<tr><td>4.6   </td><td>3.4   </td><td>1.4   </td><td>0.3   </td><td>setosa</td></tr>\n",
       "\t<tr><td>5.0   </td><td>3.4   </td><td>1.5   </td><td>0.2   </td><td>setosa</td></tr>\n",
       "\t<tr><td>4.4   </td><td>2.9   </td><td>1.4   </td><td>0.2   </td><td>setosa</td></tr>\n",
       "\t<tr><td>4.9   </td><td>3.1   </td><td>1.5   </td><td>0.1   </td><td>setosa</td></tr>\n",
       "\t<tr><td>5.4   </td><td>3.7   </td><td>1.5   </td><td>0.2   </td><td>setosa</td></tr>\n",
       "\t<tr><td>4.8   </td><td>3.4   </td><td>1.6   </td><td>0.2   </td><td>setosa</td></tr>\n",
       "\t<tr><td>4.8   </td><td>3.0   </td><td>1.4   </td><td>0.1   </td><td>setosa</td></tr>\n",
       "\t<tr><td>4.3   </td><td>3.0   </td><td>1.1   </td><td>0.1   </td><td>setosa</td></tr>\n",
       "\t<tr><td>5.8   </td><td>4.0   </td><td>1.2   </td><td>0.2   </td><td>setosa</td></tr>\n",
       "\t<tr><td>5.7   </td><td>4.4   </td><td>1.5   </td><td>0.4   </td><td>setosa</td></tr>\n",
       "\t<tr><td>5.4   </td><td>3.9   </td><td>1.3   </td><td>0.4   </td><td>setosa</td></tr>\n",
       "\t<tr><td>5.1   </td><td>3.5   </td><td>1.4   </td><td>0.3   </td><td>setosa</td></tr>\n",
       "\t<tr><td>5.7   </td><td>3.8   </td><td>1.7   </td><td>0.3   </td><td>setosa</td></tr>\n",
       "\t<tr><td>5.1   </td><td>3.8   </td><td>1.5   </td><td>0.3   </td><td>setosa</td></tr>\n",
       "\t<tr><td>5.4   </td><td>3.4   </td><td>1.7   </td><td>0.2   </td><td>setosa</td></tr>\n",
       "\t<tr><td>5.1   </td><td>3.7   </td><td>1.5   </td><td>0.4   </td><td>setosa</td></tr>\n",
       "\t<tr><td>4.6   </td><td>3.6   </td><td>1.0   </td><td>0.2   </td><td>setosa</td></tr>\n",
       "\t<tr><td>5.1   </td><td>3.3   </td><td>1.7   </td><td>0.5   </td><td>setosa</td></tr>\n",
       "\t<tr><td>4.8   </td><td>3.4   </td><td>1.9   </td><td>0.2   </td><td>setosa</td></tr>\n",
       "\t<tr><td>5.0   </td><td>3.0   </td><td>1.6   </td><td>0.2   </td><td>setosa</td></tr>\n",
       "\t<tr><td>5.0   </td><td>3.4   </td><td>1.6   </td><td>0.4   </td><td>setosa</td></tr>\n",
       "\t<tr><td>5.2   </td><td>3.5   </td><td>1.5   </td><td>0.2   </td><td>setosa</td></tr>\n",
       "\t<tr><td>5.2   </td><td>3.4   </td><td>1.4   </td><td>0.2   </td><td>setosa</td></tr>\n",
       "\t<tr><td>4.7   </td><td>3.2   </td><td>1.6   </td><td>0.2   </td><td>setosa</td></tr>\n",
       "\t<tr><td>⋮</td><td>⋮</td><td>⋮</td><td>⋮</td><td>⋮</td></tr>\n",
       "\t<tr><td>6.9      </td><td>3.2      </td><td>5.7      </td><td>2.3      </td><td>virginica</td></tr>\n",
       "\t<tr><td>5.6      </td><td>2.8      </td><td>4.9      </td><td>2.0      </td><td>virginica</td></tr>\n",
       "\t<tr><td>7.7      </td><td>2.8      </td><td>6.7      </td><td>2.0      </td><td>virginica</td></tr>\n",
       "\t<tr><td>6.3      </td><td>2.7      </td><td>4.9      </td><td>1.8      </td><td>virginica</td></tr>\n",
       "\t<tr><td>6.7      </td><td>3.3      </td><td>5.7      </td><td>2.1      </td><td>virginica</td></tr>\n",
       "\t<tr><td>7.2      </td><td>3.2      </td><td>6.0      </td><td>1.8      </td><td>virginica</td></tr>\n",
       "\t<tr><td>6.2      </td><td>2.8      </td><td>4.8      </td><td>1.8      </td><td>virginica</td></tr>\n",
       "\t<tr><td>6.1      </td><td>3.0      </td><td>4.9      </td><td>1.8      </td><td>virginica</td></tr>\n",
       "\t<tr><td>6.4      </td><td>2.8      </td><td>5.6      </td><td>2.1      </td><td>virginica</td></tr>\n",
       "\t<tr><td>7.2      </td><td>3.0      </td><td>5.8      </td><td>1.6      </td><td>virginica</td></tr>\n",
       "\t<tr><td>7.4      </td><td>2.8      </td><td>6.1      </td><td>1.9      </td><td>virginica</td></tr>\n",
       "\t<tr><td>7.9      </td><td>3.8      </td><td>6.4      </td><td>2.0      </td><td>virginica</td></tr>\n",
       "\t<tr><td>6.4      </td><td>2.8      </td><td>5.6      </td><td>2.2      </td><td>virginica</td></tr>\n",
       "\t<tr><td>6.3      </td><td>2.8      </td><td>5.1      </td><td>1.5      </td><td>virginica</td></tr>\n",
       "\t<tr><td>6.1      </td><td>2.6      </td><td>5.6      </td><td>1.4      </td><td>virginica</td></tr>\n",
       "\t<tr><td>7.7      </td><td>3.0      </td><td>6.1      </td><td>2.3      </td><td>virginica</td></tr>\n",
       "\t<tr><td>6.3      </td><td>3.4      </td><td>5.6      </td><td>2.4      </td><td>virginica</td></tr>\n",
       "\t<tr><td>6.4      </td><td>3.1      </td><td>5.5      </td><td>1.8      </td><td>virginica</td></tr>\n",
       "\t<tr><td>6.0      </td><td>3.0      </td><td>4.8      </td><td>1.8      </td><td>virginica</td></tr>\n",
       "\t<tr><td>6.9      </td><td>3.1      </td><td>5.4      </td><td>2.1      </td><td>virginica</td></tr>\n",
       "\t<tr><td>6.7      </td><td>3.1      </td><td>5.6      </td><td>2.4      </td><td>virginica</td></tr>\n",
       "\t<tr><td>6.9      </td><td>3.1      </td><td>5.1      </td><td>2.3      </td><td>virginica</td></tr>\n",
       "\t<tr><td>5.8      </td><td>2.7      </td><td>5.1      </td><td>1.9      </td><td>virginica</td></tr>\n",
       "\t<tr><td>6.8      </td><td>3.2      </td><td>5.9      </td><td>2.3      </td><td>virginica</td></tr>\n",
       "\t<tr><td>6.7      </td><td>3.3      </td><td>5.7      </td><td>2.5      </td><td>virginica</td></tr>\n",
       "\t<tr><td>6.7      </td><td>3.0      </td><td>5.2      </td><td>2.3      </td><td>virginica</td></tr>\n",
       "\t<tr><td>6.3      </td><td>2.5      </td><td>5.0      </td><td>1.9      </td><td>virginica</td></tr>\n",
       "\t<tr><td>6.5      </td><td>3.0      </td><td>5.2      </td><td>2.0      </td><td>virginica</td></tr>\n",
       "\t<tr><td>6.2      </td><td>3.4      </td><td>5.4      </td><td>2.3      </td><td>virginica</td></tr>\n",
       "\t<tr><td>5.9      </td><td>3.0      </td><td>5.1      </td><td>1.8      </td><td>virginica</td></tr>\n",
       "</tbody>\n",
       "</table>\n"
      ],
      "text/latex": [
       "\\begin{tabular}{r|lllll}\n",
       " Sepal.Length & Sepal.Width & Petal.Length & Petal.Width & Species\\\\\n",
       "\\hline\n",
       "\t 5.1    & 3.5    & 1.4    & 0.2    & setosa\\\\\n",
       "\t 4.9    & 3.0    & 1.4    & 0.2    & setosa\\\\\n",
       "\t 4.7    & 3.2    & 1.3    & 0.2    & setosa\\\\\n",
       "\t 4.6    & 3.1    & 1.5    & 0.2    & setosa\\\\\n",
       "\t 5.0    & 3.6    & 1.4    & 0.2    & setosa\\\\\n",
       "\t 5.4    & 3.9    & 1.7    & 0.4    & setosa\\\\\n",
       "\t 4.6    & 3.4    & 1.4    & 0.3    & setosa\\\\\n",
       "\t 5.0    & 3.4    & 1.5    & 0.2    & setosa\\\\\n",
       "\t 4.4    & 2.9    & 1.4    & 0.2    & setosa\\\\\n",
       "\t 4.9    & 3.1    & 1.5    & 0.1    & setosa\\\\\n",
       "\t 5.4    & 3.7    & 1.5    & 0.2    & setosa\\\\\n",
       "\t 4.8    & 3.4    & 1.6    & 0.2    & setosa\\\\\n",
       "\t 4.8    & 3.0    & 1.4    & 0.1    & setosa\\\\\n",
       "\t 4.3    & 3.0    & 1.1    & 0.1    & setosa\\\\\n",
       "\t 5.8    & 4.0    & 1.2    & 0.2    & setosa\\\\\n",
       "\t 5.7    & 4.4    & 1.5    & 0.4    & setosa\\\\\n",
       "\t 5.4    & 3.9    & 1.3    & 0.4    & setosa\\\\\n",
       "\t 5.1    & 3.5    & 1.4    & 0.3    & setosa\\\\\n",
       "\t 5.7    & 3.8    & 1.7    & 0.3    & setosa\\\\\n",
       "\t 5.1    & 3.8    & 1.5    & 0.3    & setosa\\\\\n",
       "\t 5.4    & 3.4    & 1.7    & 0.2    & setosa\\\\\n",
       "\t 5.1    & 3.7    & 1.5    & 0.4    & setosa\\\\\n",
       "\t 4.6    & 3.6    & 1.0    & 0.2    & setosa\\\\\n",
       "\t 5.1    & 3.3    & 1.7    & 0.5    & setosa\\\\\n",
       "\t 4.8    & 3.4    & 1.9    & 0.2    & setosa\\\\\n",
       "\t 5.0    & 3.0    & 1.6    & 0.2    & setosa\\\\\n",
       "\t 5.0    & 3.4    & 1.6    & 0.4    & setosa\\\\\n",
       "\t 5.2    & 3.5    & 1.5    & 0.2    & setosa\\\\\n",
       "\t 5.2    & 3.4    & 1.4    & 0.2    & setosa\\\\\n",
       "\t 4.7    & 3.2    & 1.6    & 0.2    & setosa\\\\\n",
       "\t ⋮ & ⋮ & ⋮ & ⋮ & ⋮\\\\\n",
       "\t 6.9       & 3.2       & 5.7       & 2.3       & virginica\\\\\n",
       "\t 5.6       & 2.8       & 4.9       & 2.0       & virginica\\\\\n",
       "\t 7.7       & 2.8       & 6.7       & 2.0       & virginica\\\\\n",
       "\t 6.3       & 2.7       & 4.9       & 1.8       & virginica\\\\\n",
       "\t 6.7       & 3.3       & 5.7       & 2.1       & virginica\\\\\n",
       "\t 7.2       & 3.2       & 6.0       & 1.8       & virginica\\\\\n",
       "\t 6.2       & 2.8       & 4.8       & 1.8       & virginica\\\\\n",
       "\t 6.1       & 3.0       & 4.9       & 1.8       & virginica\\\\\n",
       "\t 6.4       & 2.8       & 5.6       & 2.1       & virginica\\\\\n",
       "\t 7.2       & 3.0       & 5.8       & 1.6       & virginica\\\\\n",
       "\t 7.4       & 2.8       & 6.1       & 1.9       & virginica\\\\\n",
       "\t 7.9       & 3.8       & 6.4       & 2.0       & virginica\\\\\n",
       "\t 6.4       & 2.8       & 5.6       & 2.2       & virginica\\\\\n",
       "\t 6.3       & 2.8       & 5.1       & 1.5       & virginica\\\\\n",
       "\t 6.1       & 2.6       & 5.6       & 1.4       & virginica\\\\\n",
       "\t 7.7       & 3.0       & 6.1       & 2.3       & virginica\\\\\n",
       "\t 6.3       & 3.4       & 5.6       & 2.4       & virginica\\\\\n",
       "\t 6.4       & 3.1       & 5.5       & 1.8       & virginica\\\\\n",
       "\t 6.0       & 3.0       & 4.8       & 1.8       & virginica\\\\\n",
       "\t 6.9       & 3.1       & 5.4       & 2.1       & virginica\\\\\n",
       "\t 6.7       & 3.1       & 5.6       & 2.4       & virginica\\\\\n",
       "\t 6.9       & 3.1       & 5.1       & 2.3       & virginica\\\\\n",
       "\t 5.8       & 2.7       & 5.1       & 1.9       & virginica\\\\\n",
       "\t 6.8       & 3.2       & 5.9       & 2.3       & virginica\\\\\n",
       "\t 6.7       & 3.3       & 5.7       & 2.5       & virginica\\\\\n",
       "\t 6.7       & 3.0       & 5.2       & 2.3       & virginica\\\\\n",
       "\t 6.3       & 2.5       & 5.0       & 1.9       & virginica\\\\\n",
       "\t 6.5       & 3.0       & 5.2       & 2.0       & virginica\\\\\n",
       "\t 6.2       & 3.4       & 5.4       & 2.3       & virginica\\\\\n",
       "\t 5.9       & 3.0       & 5.1       & 1.8       & virginica\\\\\n",
       "\\end{tabular}\n"
      ],
      "text/markdown": [
       "\n",
       "Sepal.Length | Sepal.Width | Petal.Length | Petal.Width | Species | \n",
       "|---|---|---|---|---|---|---|---|---|---|---|---|---|---|---|---|---|---|---|---|---|---|---|---|---|---|---|---|---|---|---|---|---|---|---|---|---|---|---|---|---|---|---|---|---|---|---|---|---|---|---|---|---|---|---|---|---|---|---|---|---|\n",
       "| 5.1    | 3.5    | 1.4    | 0.2    | setosa | \n",
       "| 4.9    | 3.0    | 1.4    | 0.2    | setosa | \n",
       "| 4.7    | 3.2    | 1.3    | 0.2    | setosa | \n",
       "| 4.6    | 3.1    | 1.5    | 0.2    | setosa | \n",
       "| 5.0    | 3.6    | 1.4    | 0.2    | setosa | \n",
       "| 5.4    | 3.9    | 1.7    | 0.4    | setosa | \n",
       "| 4.6    | 3.4    | 1.4    | 0.3    | setosa | \n",
       "| 5.0    | 3.4    | 1.5    | 0.2    | setosa | \n",
       "| 4.4    | 2.9    | 1.4    | 0.2    | setosa | \n",
       "| 4.9    | 3.1    | 1.5    | 0.1    | setosa | \n",
       "| 5.4    | 3.7    | 1.5    | 0.2    | setosa | \n",
       "| 4.8    | 3.4    | 1.6    | 0.2    | setosa | \n",
       "| 4.8    | 3.0    | 1.4    | 0.1    | setosa | \n",
       "| 4.3    | 3.0    | 1.1    | 0.1    | setosa | \n",
       "| 5.8    | 4.0    | 1.2    | 0.2    | setosa | \n",
       "| 5.7    | 4.4    | 1.5    | 0.4    | setosa | \n",
       "| 5.4    | 3.9    | 1.3    | 0.4    | setosa | \n",
       "| 5.1    | 3.5    | 1.4    | 0.3    | setosa | \n",
       "| 5.7    | 3.8    | 1.7    | 0.3    | setosa | \n",
       "| 5.1    | 3.8    | 1.5    | 0.3    | setosa | \n",
       "| 5.4    | 3.4    | 1.7    | 0.2    | setosa | \n",
       "| 5.1    | 3.7    | 1.5    | 0.4    | setosa | \n",
       "| 4.6    | 3.6    | 1.0    | 0.2    | setosa | \n",
       "| 5.1    | 3.3    | 1.7    | 0.5    | setosa | \n",
       "| 4.8    | 3.4    | 1.9    | 0.2    | setosa | \n",
       "| 5.0    | 3.0    | 1.6    | 0.2    | setosa | \n",
       "| 5.0    | 3.4    | 1.6    | 0.4    | setosa | \n",
       "| 5.2    | 3.5    | 1.5    | 0.2    | setosa | \n",
       "| 5.2    | 3.4    | 1.4    | 0.2    | setosa | \n",
       "| 4.7    | 3.2    | 1.6    | 0.2    | setosa | \n",
       "| ⋮ | ⋮ | ⋮ | ⋮ | ⋮ | \n",
       "| 6.9       | 3.2       | 5.7       | 2.3       | virginica | \n",
       "| 5.6       | 2.8       | 4.9       | 2.0       | virginica | \n",
       "| 7.7       | 2.8       | 6.7       | 2.0       | virginica | \n",
       "| 6.3       | 2.7       | 4.9       | 1.8       | virginica | \n",
       "| 6.7       | 3.3       | 5.7       | 2.1       | virginica | \n",
       "| 7.2       | 3.2       | 6.0       | 1.8       | virginica | \n",
       "| 6.2       | 2.8       | 4.8       | 1.8       | virginica | \n",
       "| 6.1       | 3.0       | 4.9       | 1.8       | virginica | \n",
       "| 6.4       | 2.8       | 5.6       | 2.1       | virginica | \n",
       "| 7.2       | 3.0       | 5.8       | 1.6       | virginica | \n",
       "| 7.4       | 2.8       | 6.1       | 1.9       | virginica | \n",
       "| 7.9       | 3.8       | 6.4       | 2.0       | virginica | \n",
       "| 6.4       | 2.8       | 5.6       | 2.2       | virginica | \n",
       "| 6.3       | 2.8       | 5.1       | 1.5       | virginica | \n",
       "| 6.1       | 2.6       | 5.6       | 1.4       | virginica | \n",
       "| 7.7       | 3.0       | 6.1       | 2.3       | virginica | \n",
       "| 6.3       | 3.4       | 5.6       | 2.4       | virginica | \n",
       "| 6.4       | 3.1       | 5.5       | 1.8       | virginica | \n",
       "| 6.0       | 3.0       | 4.8       | 1.8       | virginica | \n",
       "| 6.9       | 3.1       | 5.4       | 2.1       | virginica | \n",
       "| 6.7       | 3.1       | 5.6       | 2.4       | virginica | \n",
       "| 6.9       | 3.1       | 5.1       | 2.3       | virginica | \n",
       "| 5.8       | 2.7       | 5.1       | 1.9       | virginica | \n",
       "| 6.8       | 3.2       | 5.9       | 2.3       | virginica | \n",
       "| 6.7       | 3.3       | 5.7       | 2.5       | virginica | \n",
       "| 6.7       | 3.0       | 5.2       | 2.3       | virginica | \n",
       "| 6.3       | 2.5       | 5.0       | 1.9       | virginica | \n",
       "| 6.5       | 3.0       | 5.2       | 2.0       | virginica | \n",
       "| 6.2       | 3.4       | 5.4       | 2.3       | virginica | \n",
       "| 5.9       | 3.0       | 5.1       | 1.8       | virginica | \n",
       "\n",
       "\n"
      ],
      "text/plain": [
       "    Sepal.Length Sepal.Width Petal.Length Petal.Width Species  \n",
       "1   5.1          3.5         1.4          0.2         setosa   \n",
       "2   4.9          3.0         1.4          0.2         setosa   \n",
       "3   4.7          3.2         1.3          0.2         setosa   \n",
       "4   4.6          3.1         1.5          0.2         setosa   \n",
       "5   5.0          3.6         1.4          0.2         setosa   \n",
       "6   5.4          3.9         1.7          0.4         setosa   \n",
       "7   4.6          3.4         1.4          0.3         setosa   \n",
       "8   5.0          3.4         1.5          0.2         setosa   \n",
       "9   4.4          2.9         1.4          0.2         setosa   \n",
       "10  4.9          3.1         1.5          0.1         setosa   \n",
       "11  5.4          3.7         1.5          0.2         setosa   \n",
       "12  4.8          3.4         1.6          0.2         setosa   \n",
       "13  4.8          3.0         1.4          0.1         setosa   \n",
       "14  4.3          3.0         1.1          0.1         setosa   \n",
       "15  5.8          4.0         1.2          0.2         setosa   \n",
       "16  5.7          4.4         1.5          0.4         setosa   \n",
       "17  5.4          3.9         1.3          0.4         setosa   \n",
       "18  5.1          3.5         1.4          0.3         setosa   \n",
       "19  5.7          3.8         1.7          0.3         setosa   \n",
       "20  5.1          3.8         1.5          0.3         setosa   \n",
       "21  5.4          3.4         1.7          0.2         setosa   \n",
       "22  5.1          3.7         1.5          0.4         setosa   \n",
       "23  4.6          3.6         1.0          0.2         setosa   \n",
       "24  5.1          3.3         1.7          0.5         setosa   \n",
       "25  4.8          3.4         1.9          0.2         setosa   \n",
       "26  5.0          3.0         1.6          0.2         setosa   \n",
       "27  5.0          3.4         1.6          0.4         setosa   \n",
       "28  5.2          3.5         1.5          0.2         setosa   \n",
       "29  5.2          3.4         1.4          0.2         setosa   \n",
       "30  4.7          3.2         1.6          0.2         setosa   \n",
       "⋮   ⋮            ⋮           ⋮            ⋮           ⋮        \n",
       "121 6.9          3.2         5.7          2.3         virginica\n",
       "122 5.6          2.8         4.9          2.0         virginica\n",
       "123 7.7          2.8         6.7          2.0         virginica\n",
       "124 6.3          2.7         4.9          1.8         virginica\n",
       "125 6.7          3.3         5.7          2.1         virginica\n",
       "126 7.2          3.2         6.0          1.8         virginica\n",
       "127 6.2          2.8         4.8          1.8         virginica\n",
       "128 6.1          3.0         4.9          1.8         virginica\n",
       "129 6.4          2.8         5.6          2.1         virginica\n",
       "130 7.2          3.0         5.8          1.6         virginica\n",
       "131 7.4          2.8         6.1          1.9         virginica\n",
       "132 7.9          3.8         6.4          2.0         virginica\n",
       "133 6.4          2.8         5.6          2.2         virginica\n",
       "134 6.3          2.8         5.1          1.5         virginica\n",
       "135 6.1          2.6         5.6          1.4         virginica\n",
       "136 7.7          3.0         6.1          2.3         virginica\n",
       "137 6.3          3.4         5.6          2.4         virginica\n",
       "138 6.4          3.1         5.5          1.8         virginica\n",
       "139 6.0          3.0         4.8          1.8         virginica\n",
       "140 6.9          3.1         5.4          2.1         virginica\n",
       "141 6.7          3.1         5.6          2.4         virginica\n",
       "142 6.9          3.1         5.1          2.3         virginica\n",
       "143 5.8          2.7         5.1          1.9         virginica\n",
       "144 6.8          3.2         5.9          2.3         virginica\n",
       "145 6.7          3.3         5.7          2.5         virginica\n",
       "146 6.7          3.0         5.2          2.3         virginica\n",
       "147 6.3          2.5         5.0          1.9         virginica\n",
       "148 6.5          3.0         5.2          2.0         virginica\n",
       "149 6.2          3.4         5.4          2.3         virginica\n",
       "150 5.9          3.0         5.1          1.8         virginica"
      ]
     },
     "metadata": {},
     "output_type": "display_data"
    }
   ],
   "source": [
    "library(dplyr)\n",
    "iris"
   ]
  },
  {
   "cell_type": "code",
   "execution_count": 2,
   "metadata": {},
   "outputs": [
    {
     "data": {},
     "metadata": {},
     "output_type": "display_data"
    },
    {
     "data": {
      "image/png": "[encoded data removed]",
      "text/plain": [
       "plot without title"
      ]
     },
     "metadata": {},
     "output_type": "display_data"
    }
   ],
   "source": [
    "library(ggplot2)\n",
    "ggplot(data=iris, aes(x=Sepal.Length, y=Sepal.Width, color=Species)) + geom_point(size=3)"
   ]
  },
  {
   "cell_type": "code",
   "execution_count": 3,
   "metadata": {},
   "outputs": [
    {
     "name": "stderr",
     "output_type": "stream",
     "text": [
      "Updating HTML index of packages in '.Library'\n",
      "Making 'packages.html' ... done\n"
     ]
    }
   ],
   "source": [
    "#Installing BootStrapping \n",
    "#https://stats.idre.ucla.edu/r/faq/how-can-i-generate-bootstrap-statistics-in-r/\n",
    "#https://stats.idre.ucla.edu/r/library/r-library-introduction-to-bootstrapping/\n",
    "install.packages(\"boot\",dep=TRUE)"
   ]
  },
  {
   "cell_type": "code",
   "execution_count": 4,
   "metadata": {},
   "outputs": [],
   "source": [
    "library(boot)\n",
    "hsb2 <- read.table(\"https://stats.idre.ucla.edu/stat/data/hsb2.csv\", sep=\",\", header=T)"
   ]
  },
  {
   "cell_type": "code",
   "execution_count": 5,
   "metadata": {},
   "outputs": [
    {
     "data": {
      "text/html": [
       "<table>\n",
       "<thead><tr><th scope=col>id</th><th scope=col>female</th><th scope=col>race</th><th scope=col>ses</th><th scope=col>schtyp</th><th scope=col>prog</th><th scope=col>read</th><th scope=col>write</th><th scope=col>math</th><th scope=col>science</th><th scope=col>socst</th></tr></thead>\n",
       "<tbody>\n",
       "\t<tr><td> 70</td><td>0  </td><td>4  </td><td>1  </td><td>1  </td><td>1  </td><td>57 </td><td>52 </td><td>41 </td><td>47 </td><td>57 </td></tr>\n",
       "\t<tr><td>121</td><td>1  </td><td>4  </td><td>2  </td><td>1  </td><td>3  </td><td>68 </td><td>59 </td><td>53 </td><td>63 </td><td>61 </td></tr>\n",
       "\t<tr><td> 86</td><td>0  </td><td>4  </td><td>3  </td><td>1  </td><td>1  </td><td>44 </td><td>33 </td><td>54 </td><td>58 </td><td>31 </td></tr>\n",
       "\t<tr><td>141</td><td>0  </td><td>4  </td><td>3  </td><td>1  </td><td>3  </td><td>63 </td><td>44 </td><td>47 </td><td>53 </td><td>56 </td></tr>\n",
       "\t<tr><td>172</td><td>0  </td><td>4  </td><td>2  </td><td>1  </td><td>2  </td><td>47 </td><td>52 </td><td>57 </td><td>53 </td><td>61 </td></tr>\n",
       "\t<tr><td>113</td><td>0  </td><td>4  </td><td>2  </td><td>1  </td><td>2  </td><td>44 </td><td>52 </td><td>51 </td><td>63 </td><td>61 </td></tr>\n",
       "\t<tr><td> 50</td><td>0  </td><td>3  </td><td>2  </td><td>1  </td><td>1  </td><td>50 </td><td>59 </td><td>42 </td><td>53 </td><td>61 </td></tr>\n",
       "\t<tr><td> 11</td><td>0  </td><td>1  </td><td>2  </td><td>1  </td><td>2  </td><td>34 </td><td>46 </td><td>45 </td><td>39 </td><td>36 </td></tr>\n",
       "\t<tr><td> 84</td><td>0  </td><td>4  </td><td>2  </td><td>1  </td><td>1  </td><td>63 </td><td>57 </td><td>54 </td><td>58 </td><td>51 </td></tr>\n",
       "\t<tr><td> 48</td><td>0  </td><td>3  </td><td>2  </td><td>1  </td><td>2  </td><td>57 </td><td>55 </td><td>52 </td><td>50 </td><td>51 </td></tr>\n",
       "\t<tr><td> 75</td><td>0  </td><td>4  </td><td>2  </td><td>1  </td><td>3  </td><td>60 </td><td>46 </td><td>51 </td><td>53 </td><td>61 </td></tr>\n",
       "\t<tr><td> 60</td><td>0  </td><td>4  </td><td>2  </td><td>1  </td><td>2  </td><td>57 </td><td>65 </td><td>51 </td><td>63 </td><td>61 </td></tr>\n",
       "\t<tr><td> 95</td><td>0  </td><td>4  </td><td>3  </td><td>1  </td><td>2  </td><td>73 </td><td>60 </td><td>71 </td><td>61 </td><td>71 </td></tr>\n",
       "\t<tr><td>104</td><td>0  </td><td>4  </td><td>3  </td><td>1  </td><td>2  </td><td>54 </td><td>63 </td><td>57 </td><td>55 </td><td>46 </td></tr>\n",
       "\t<tr><td> 38</td><td>0  </td><td>3  </td><td>1  </td><td>1  </td><td>2  </td><td>45 </td><td>57 </td><td>50 </td><td>31 </td><td>56 </td></tr>\n",
       "\t<tr><td>115</td><td>0  </td><td>4  </td><td>1  </td><td>1  </td><td>1  </td><td>42 </td><td>49 </td><td>43 </td><td>50 </td><td>56 </td></tr>\n",
       "\t<tr><td> 76</td><td>0  </td><td>4  </td><td>3  </td><td>1  </td><td>2  </td><td>47 </td><td>52 </td><td>51 </td><td>50 </td><td>56 </td></tr>\n",
       "\t<tr><td>195</td><td>0  </td><td>4  </td><td>2  </td><td>2  </td><td>1  </td><td>57 </td><td>57 </td><td>60 </td><td>58 </td><td>56 </td></tr>\n",
       "\t<tr><td>114</td><td>0  </td><td>4  </td><td>3  </td><td>1  </td><td>2  </td><td>68 </td><td>65 </td><td>62 </td><td>55 </td><td>61 </td></tr>\n",
       "\t<tr><td> 85</td><td>0  </td><td>4  </td><td>2  </td><td>1  </td><td>1  </td><td>55 </td><td>39 </td><td>57 </td><td>53 </td><td>46 </td></tr>\n",
       "\t<tr><td>167</td><td>0  </td><td>4  </td><td>2  </td><td>1  </td><td>1  </td><td>63 </td><td>49 </td><td>35 </td><td>66 </td><td>41 </td></tr>\n",
       "\t<tr><td>143</td><td>0  </td><td>4  </td><td>2  </td><td>1  </td><td>3  </td><td>63 </td><td>63 </td><td>75 </td><td>72 </td><td>66 </td></tr>\n",
       "\t<tr><td> 41</td><td>0  </td><td>3  </td><td>2  </td><td>1  </td><td>2  </td><td>50 </td><td>40 </td><td>45 </td><td>55 </td><td>56 </td></tr>\n",
       "\t<tr><td> 20</td><td>0  </td><td>1  </td><td>3  </td><td>1  </td><td>2  </td><td>60 </td><td>52 </td><td>57 </td><td>61 </td><td>61 </td></tr>\n",
       "\t<tr><td> 12</td><td>0  </td><td>1  </td><td>2  </td><td>1  </td><td>3  </td><td>37 </td><td>44 </td><td>45 </td><td>39 </td><td>46 </td></tr>\n",
       "\t<tr><td> 53</td><td>0  </td><td>3  </td><td>2  </td><td>1  </td><td>3  </td><td>34 </td><td>37 </td><td>46 </td><td>39 </td><td>31 </td></tr>\n",
       "\t<tr><td>154</td><td>0  </td><td>4  </td><td>3  </td><td>1  </td><td>2  </td><td>65 </td><td>65 </td><td>66 </td><td>61 </td><td>66 </td></tr>\n",
       "\t<tr><td>178</td><td>0  </td><td>4  </td><td>2  </td><td>2  </td><td>3  </td><td>47 </td><td>57 </td><td>57 </td><td>58 </td><td>46 </td></tr>\n",
       "\t<tr><td>196</td><td>0  </td><td>4  </td><td>3  </td><td>2  </td><td>2  </td><td>44 </td><td>38 </td><td>49 </td><td>39 </td><td>46 </td></tr>\n",
       "\t<tr><td> 29</td><td>0  </td><td>2  </td><td>1  </td><td>1  </td><td>1  </td><td>52 </td><td>44 </td><td>49 </td><td>55 </td><td>41 </td></tr>\n",
       "\t<tr><td>⋮</td><td>⋮</td><td>⋮</td><td>⋮</td><td>⋮</td><td>⋮</td><td>⋮</td><td>⋮</td><td>⋮</td><td>⋮</td><td>⋮</td></tr>\n",
       "\t<tr><td>119</td><td>1  </td><td>4  </td><td>1  </td><td>1  </td><td>1  </td><td>42 </td><td>57 </td><td>45 </td><td>50 </td><td>43 </td></tr>\n",
       "\t<tr><td> 13</td><td>1  </td><td>1  </td><td>2  </td><td>1  </td><td>3  </td><td>47 </td><td>46 </td><td>39 </td><td>47 </td><td>61 </td></tr>\n",
       "\t<tr><td> 51</td><td>1  </td><td>3  </td><td>3  </td><td>1  </td><td>1  </td><td>42 </td><td>36 </td><td>42 </td><td>31 </td><td>39 </td></tr>\n",
       "\t<tr><td> 26</td><td>1  </td><td>2  </td><td>3  </td><td>1  </td><td>2  </td><td>60 </td><td>59 </td><td>62 </td><td>61 </td><td>51 </td></tr>\n",
       "\t<tr><td> 36</td><td>1  </td><td>3  </td><td>1  </td><td>1  </td><td>1  </td><td>44 </td><td>49 </td><td>44 </td><td>35 </td><td>51 </td></tr>\n",
       "\t<tr><td>135</td><td>1  </td><td>4  </td><td>1  </td><td>1  </td><td>2  </td><td>63 </td><td>60 </td><td>65 </td><td>54 </td><td>66 </td></tr>\n",
       "\t<tr><td> 59</td><td>1  </td><td>4  </td><td>2  </td><td>1  </td><td>2  </td><td>65 </td><td>67 </td><td>63 </td><td>55 </td><td>71 </td></tr>\n",
       "\t<tr><td> 78</td><td>1  </td><td>4  </td><td>2  </td><td>1  </td><td>2  </td><td>39 </td><td>54 </td><td>54 </td><td>53 </td><td>41 </td></tr>\n",
       "\t<tr><td> 64</td><td>1  </td><td>4  </td><td>3  </td><td>1  </td><td>3  </td><td>50 </td><td>52 </td><td>45 </td><td>58 </td><td>36 </td></tr>\n",
       "\t<tr><td> 63</td><td>1  </td><td>4  </td><td>1  </td><td>1  </td><td>1  </td><td>52 </td><td>65 </td><td>60 </td><td>56 </td><td>51 </td></tr>\n",
       "\t<tr><td> 79</td><td>1  </td><td>4  </td><td>2  </td><td>1  </td><td>2  </td><td>60 </td><td>62 </td><td>49 </td><td>50 </td><td>51 </td></tr>\n",
       "\t<tr><td>193</td><td>1  </td><td>4  </td><td>2  </td><td>2  </td><td>2  </td><td>44 </td><td>49 </td><td>48 </td><td>39 </td><td>51 </td></tr>\n",
       "\t<tr><td> 92</td><td>1  </td><td>4  </td><td>3  </td><td>1  </td><td>1  </td><td>52 </td><td>67 </td><td>57 </td><td>63 </td><td>61 </td></tr>\n",
       "\t<tr><td>160</td><td>1  </td><td>4  </td><td>2  </td><td>1  </td><td>2  </td><td>55 </td><td>65 </td><td>55 </td><td>50 </td><td>61 </td></tr>\n",
       "\t<tr><td> 32</td><td>1  </td><td>2  </td><td>3  </td><td>1  </td><td>3  </td><td>50 </td><td>67 </td><td>66 </td><td>66 </td><td>56 </td></tr>\n",
       "\t<tr><td> 23</td><td>1  </td><td>2  </td><td>1  </td><td>1  </td><td>2  </td><td>65 </td><td>65 </td><td>64 </td><td>58 </td><td>71 </td></tr>\n",
       "\t<tr><td>158</td><td>1  </td><td>4  </td><td>2  </td><td>1  </td><td>1  </td><td>52 </td><td>54 </td><td>55 </td><td>53 </td><td>51 </td></tr>\n",
       "\t<tr><td> 25</td><td>1  </td><td>2  </td><td>2  </td><td>1  </td><td>1  </td><td>47 </td><td>44 </td><td>42 </td><td>42 </td><td>36 </td></tr>\n",
       "\t<tr><td>188</td><td>1  </td><td>4  </td><td>3  </td><td>2  </td><td>2  </td><td>63 </td><td>62 </td><td>56 </td><td>55 </td><td>61 </td></tr>\n",
       "\t<tr><td> 52</td><td>1  </td><td>3  </td><td>1  </td><td>1  </td><td>2  </td><td>50 </td><td>46 </td><td>53 </td><td>53 </td><td>66 </td></tr>\n",
       "\t<tr><td>124</td><td>1  </td><td>4  </td><td>1  </td><td>1  </td><td>3  </td><td>42 </td><td>54 </td><td>41 </td><td>42 </td><td>41 </td></tr>\n",
       "\t<tr><td>175</td><td>1  </td><td>4  </td><td>3  </td><td>2  </td><td>1  </td><td>36 </td><td>57 </td><td>42 </td><td>50 </td><td>41 </td></tr>\n",
       "\t<tr><td>184</td><td>1  </td><td>4  </td><td>2  </td><td>2  </td><td>3  </td><td>50 </td><td>52 </td><td>53 </td><td>55 </td><td>56 </td></tr>\n",
       "\t<tr><td> 30</td><td>1  </td><td>2  </td><td>3  </td><td>1  </td><td>2  </td><td>41 </td><td>59 </td><td>42 </td><td>34 </td><td>51 </td></tr>\n",
       "\t<tr><td>179</td><td>1  </td><td>4  </td><td>2  </td><td>2  </td><td>2  </td><td>47 </td><td>65 </td><td>60 </td><td>50 </td><td>56 </td></tr>\n",
       "\t<tr><td> 31</td><td>1  </td><td>2  </td><td>2  </td><td>2  </td><td>1  </td><td>55 </td><td>59 </td><td>52 </td><td>42 </td><td>56 </td></tr>\n",
       "\t<tr><td>145</td><td>1  </td><td>4  </td><td>2  </td><td>1  </td><td>3  </td><td>42 </td><td>46 </td><td>38 </td><td>36 </td><td>46 </td></tr>\n",
       "\t<tr><td>187</td><td>1  </td><td>4  </td><td>2  </td><td>2  </td><td>1  </td><td>57 </td><td>41 </td><td>57 </td><td>55 </td><td>52 </td></tr>\n",
       "\t<tr><td>118</td><td>1  </td><td>4  </td><td>2  </td><td>1  </td><td>1  </td><td>55 </td><td>62 </td><td>58 </td><td>58 </td><td>61 </td></tr>\n",
       "\t<tr><td>137</td><td>1  </td><td>4  </td><td>3  </td><td>1  </td><td>2  </td><td>63 </td><td>65 </td><td>65 </td><td>53 </td><td>61 </td></tr>\n",
       "</tbody>\n",
       "</table>\n"
      ],
      "text/latex": [
       "\\begin{tabular}{r|lllllllllll}\n",
       " id & female & race & ses & schtyp & prog & read & write & math & science & socst\\\\\n",
       "\\hline\n",
       "\t  70 & 0   & 4   & 1   & 1   & 1   & 57  & 52  & 41  & 47  & 57 \\\\\n",
       "\t 121 & 1   & 4   & 2   & 1   & 3   & 68  & 59  & 53  & 63  & 61 \\\\\n",
       "\t  86 & 0   & 4   & 3   & 1   & 1   & 44  & 33  & 54  & 58  & 31 \\\\\n",
       "\t 141 & 0   & 4   & 3   & 1   & 3   & 63  & 44  & 47  & 53  & 56 \\\\\n",
       "\t 172 & 0   & 4   & 2   & 1   & 2   & 47  & 52  & 57  & 53  & 61 \\\\\n",
       "\t 113 & 0   & 4   & 2   & 1   & 2   & 44  & 52  & 51  & 63  & 61 \\\\\n",
       "\t  50 & 0   & 3   & 2   & 1   & 1   & 50  & 59  & 42  & 53  & 61 \\\\\n",
       "\t  11 & 0   & 1   & 2   & 1   & 2   & 34  & 46  & 45  & 39  & 36 \\\\\n",
       "\t  84 & 0   & 4   & 2   & 1   & 1   & 63  & 57  & 54  & 58  & 51 \\\\\n",
       "\t  48 & 0   & 3   & 2   & 1   & 2   & 57  & 55  & 52  & 50  & 51 \\\\\n",
       "\t  75 & 0   & 4   & 2   & 1   & 3   & 60  & 46  & 51  & 53  & 61 \\\\\n",
       "\t  60 & 0   & 4   & 2   & 1   & 2   & 57  & 65  & 51  & 63  & 61 \\\\\n",
       "\t  95 & 0   & 4   & 3   & 1   & 2   & 73  & 60  & 71  & 61  & 71 \\\\\n",
       "\t 104 & 0   & 4   & 3   & 1   & 2   & 54  & 63  & 57  & 55  & 46 \\\\\n",
       "\t  38 & 0   & 3   & 1   & 1   & 2   & 45  & 57  & 50  & 31  & 56 \\\\\n",
       "\t 115 & 0   & 4   & 1   & 1   & 1   & 42  & 49  & 43  & 50  & 56 \\\\\n",
       "\t  76 & 0   & 4   & 3   & 1   & 2   & 47  & 52  & 51  & 50  & 56 \\\\\n",
       "\t 195 & 0   & 4   & 2   & 2   & 1   & 57  & 57  & 60  & 58  & 56 \\\\\n",
       "\t 114 & 0   & 4   & 3   & 1   & 2   & 68  & 65  & 62  & 55  & 61 \\\\\n",
       "\t  85 & 0   & 4   & 2   & 1   & 1   & 55  & 39  & 57  & 53  & 46 \\\\\n",
       "\t 167 & 0   & 4   & 2   & 1   & 1   & 63  & 49  & 35  & 66  & 41 \\\\\n",
       "\t 143 & 0   & 4   & 2   & 1   & 3   & 63  & 63  & 75  & 72  & 66 \\\\\n",
       "\t  41 & 0   & 3   & 2   & 1   & 2   & 50  & 40  & 45  & 55  & 56 \\\\\n",
       "\t  20 & 0   & 1   & 3   & 1   & 2   & 60  & 52  & 57  & 61  & 61 \\\\\n",
       "\t  12 & 0   & 1   & 2   & 1   & 3   & 37  & 44  & 45  & 39  & 46 \\\\\n",
       "\t  53 & 0   & 3   & 2   & 1   & 3   & 34  & 37  & 46  & 39  & 31 \\\\\n",
       "\t 154 & 0   & 4   & 3   & 1   & 2   & 65  & 65  & 66  & 61  & 66 \\\\\n",
       "\t 178 & 0   & 4   & 2   & 2   & 3   & 47  & 57  & 57  & 58  & 46 \\\\\n",
       "\t 196 & 0   & 4   & 3   & 2   & 2   & 44  & 38  & 49  & 39  & 46 \\\\\n",
       "\t  29 & 0   & 2   & 1   & 1   & 1   & 52  & 44  & 49  & 55  & 41 \\\\\n",
       "\t ⋮ & ⋮ & ⋮ & ⋮ & ⋮ & ⋮ & ⋮ & ⋮ & ⋮ & ⋮ & ⋮\\\\\n",
       "\t 119 & 1   & 4   & 1   & 1   & 1   & 42  & 57  & 45  & 50  & 43 \\\\\n",
       "\t  13 & 1   & 1   & 2   & 1   & 3   & 47  & 46  & 39  & 47  & 61 \\\\\n",
       "\t  51 & 1   & 3   & 3   & 1   & 1   & 42  & 36  & 42  & 31  & 39 \\\\\n",
       "\t  26 & 1   & 2   & 3   & 1   & 2   & 60  & 59  & 62  & 61  & 51 \\\\\n",
       "\t  36 & 1   & 3   & 1   & 1   & 1   & 44  & 49  & 44  & 35  & 51 \\\\\n",
       "\t 135 & 1   & 4   & 1   & 1   & 2   & 63  & 60  & 65  & 54  & 66 \\\\\n",
       "\t  59 & 1   & 4   & 2   & 1   & 2   & 65  & 67  & 63  & 55  & 71 \\\\\n",
       "\t  78 & 1   & 4   & 2   & 1   & 2   & 39  & 54  & 54  & 53  & 41 \\\\\n",
       "\t  64 & 1   & 4   & 3   & 1   & 3   & 50  & 52  & 45  & 58  & 36 \\\\\n",
       "\t  63 & 1   & 4   & 1   & 1   & 1   & 52  & 65  & 60  & 56  & 51 \\\\\n",
       "\t  79 & 1   & 4   & 2   & 1   & 2   & 60  & 62  & 49  & 50  & 51 \\\\\n",
       "\t 193 & 1   & 4   & 2   & 2   & 2   & 44  & 49  & 48  & 39  & 51 \\\\\n",
       "\t  92 & 1   & 4   & 3   & 1   & 1   & 52  & 67  & 57  & 63  & 61 \\\\\n",
       "\t 160 & 1   & 4   & 2   & 1   & 2   & 55  & 65  & 55  & 50  & 61 \\\\\n",
       "\t  32 & 1   & 2   & 3   & 1   & 3   & 50  & 67  & 66  & 66  & 56 \\\\\n",
       "\t  23 & 1   & 2   & 1   & 1   & 2   & 65  & 65  & 64  & 58  & 71 \\\\\n",
       "\t 158 & 1   & 4   & 2   & 1   & 1   & 52  & 54  & 55  & 53  & 51 \\\\\n",
       "\t  25 & 1   & 2   & 2   & 1   & 1   & 47  & 44  & 42  & 42  & 36 \\\\\n",
       "\t 188 & 1   & 4   & 3   & 2   & 2   & 63  & 62  & 56  & 55  & 61 \\\\\n",
       "\t  52 & 1   & 3   & 1   & 1   & 2   & 50  & 46  & 53  & 53  & 66 \\\\\n",
       "\t 124 & 1   & 4   & 1   & 1   & 3   & 42  & 54  & 41  & 42  & 41 \\\\\n",
       "\t 175 & 1   & 4   & 3   & 2   & 1   & 36  & 57  & 42  & 50  & 41 \\\\\n",
       "\t 184 & 1   & 4   & 2   & 2   & 3   & 50  & 52  & 53  & 55  & 56 \\\\\n",
       "\t  30 & 1   & 2   & 3   & 1   & 2   & 41  & 59  & 42  & 34  & 51 \\\\\n",
       "\t 179 & 1   & 4   & 2   & 2   & 2   & 47  & 65  & 60  & 50  & 56 \\\\\n",
       "\t  31 & 1   & 2   & 2   & 2   & 1   & 55  & 59  & 52  & 42  & 56 \\\\\n",
       "\t 145 & 1   & 4   & 2   & 1   & 3   & 42  & 46  & 38  & 36  & 46 \\\\\n",
       "\t 187 & 1   & 4   & 2   & 2   & 1   & 57  & 41  & 57  & 55  & 52 \\\\\n",
       "\t 118 & 1   & 4   & 2   & 1   & 1   & 55  & 62  & 58  & 58  & 61 \\\\\n",
       "\t 137 & 1   & 4   & 3   & 1   & 2   & 63  & 65  & 65  & 53  & 61 \\\\\n",
       "\\end{tabular}\n"
      ],
      "text/markdown": [
       "\n",
       "id | female | race | ses | schtyp | prog | read | write | math | science | socst | \n",
       "|---|---|---|---|---|---|---|---|---|---|---|---|---|---|---|---|---|---|---|---|---|---|---|---|---|---|---|---|---|---|---|---|---|---|---|---|---|---|---|---|---|---|---|---|---|---|---|---|---|---|---|---|---|---|---|---|---|---|---|---|---|\n",
       "|  70 | 0   | 4   | 1   | 1   | 1   | 57  | 52  | 41  | 47  | 57  | \n",
       "| 121 | 1   | 4   | 2   | 1   | 3   | 68  | 59  | 53  | 63  | 61  | \n",
       "|  86 | 0   | 4   | 3   | 1   | 1   | 44  | 33  | 54  | 58  | 31  | \n",
       "| 141 | 0   | 4   | 3   | 1   | 3   | 63  | 44  | 47  | 53  | 56  | \n",
       "| 172 | 0   | 4   | 2   | 1   | 2   | 47  | 52  | 57  | 53  | 61  | \n",
       "| 113 | 0   | 4   | 2   | 1   | 2   | 44  | 52  | 51  | 63  | 61  | \n",
       "|  50 | 0   | 3   | 2   | 1   | 1   | 50  | 59  | 42  | 53  | 61  | \n",
       "|  11 | 0   | 1   | 2   | 1   | 2   | 34  | 46  | 45  | 39  | 36  | \n",
       "|  84 | 0   | 4   | 2   | 1   | 1   | 63  | 57  | 54  | 58  | 51  | \n",
       "|  48 | 0   | 3   | 2   | 1   | 2   | 57  | 55  | 52  | 50  | 51  | \n",
       "|  75 | 0   | 4   | 2   | 1   | 3   | 60  | 46  | 51  | 53  | 61  | \n",
       "|  60 | 0   | 4   | 2   | 1   | 2   | 57  | 65  | 51  | 63  | 61  | \n",
       "|  95 | 0   | 4   | 3   | 1   | 2   | 73  | 60  | 71  | 61  | 71  | \n",
       "| 104 | 0   | 4   | 3   | 1   | 2   | 54  | 63  | 57  | 55  | 46  | \n",
       "|  38 | 0   | 3   | 1   | 1   | 2   | 45  | 57  | 50  | 31  | 56  | \n",
       "| 115 | 0   | 4   | 1   | 1   | 1   | 42  | 49  | 43  | 50  | 56  | \n",
       "|  76 | 0   | 4   | 3   | 1   | 2   | 47  | 52  | 51  | 50  | 56  | \n",
       "| 195 | 0   | 4   | 2   | 2   | 1   | 57  | 57  | 60  | 58  | 56  | \n",
       "| 114 | 0   | 4   | 3   | 1   | 2   | 68  | 65  | 62  | 55  | 61  | \n",
       "|  85 | 0   | 4   | 2   | 1   | 1   | 55  | 39  | 57  | 53  | 46  | \n",
       "| 167 | 0   | 4   | 2   | 1   | 1   | 63  | 49  | 35  | 66  | 41  | \n",
       "| 143 | 0   | 4   | 2   | 1   | 3   | 63  | 63  | 75  | 72  | 66  | \n",
       "|  41 | 0   | 3   | 2   | 1   | 2   | 50  | 40  | 45  | 55  | 56  | \n",
       "|  20 | 0   | 1   | 3   | 1   | 2   | 60  | 52  | 57  | 61  | 61  | \n",
       "|  12 | 0   | 1   | 2   | 1   | 3   | 37  | 44  | 45  | 39  | 46  | \n",
       "|  53 | 0   | 3   | 2   | 1   | 3   | 34  | 37  | 46  | 39  | 31  | \n",
       "| 154 | 0   | 4   | 3   | 1   | 2   | 65  | 65  | 66  | 61  | 66  | \n",
       "| 178 | 0   | 4   | 2   | 2   | 3   | 47  | 57  | 57  | 58  | 46  | \n",
       "| 196 | 0   | 4   | 3   | 2   | 2   | 44  | 38  | 49  | 39  | 46  | \n",
       "|  29 | 0   | 2   | 1   | 1   | 1   | 52  | 44  | 49  | 55  | 41  | \n",
       "| ⋮ | ⋮ | ⋮ | ⋮ | ⋮ | ⋮ | ⋮ | ⋮ | ⋮ | ⋮ | ⋮ | \n",
       "| 119 | 1   | 4   | 1   | 1   | 1   | 42  | 57  | 45  | 50  | 43  | \n",
       "|  13 | 1   | 1   | 2   | 1   | 3   | 47  | 46  | 39  | 47  | 61  | \n",
       "|  51 | 1   | 3   | 3   | 1   | 1   | 42  | 36  | 42  | 31  | 39  | \n",
       "|  26 | 1   | 2   | 3   | 1   | 2   | 60  | 59  | 62  | 61  | 51  | \n",
       "|  36 | 1   | 3   | 1   | 1   | 1   | 44  | 49  | 44  | 35  | 51  | \n",
       "| 135 | 1   | 4   | 1   | 1   | 2   | 63  | 60  | 65  | 54  | 66  | \n",
       "|  59 | 1   | 4   | 2   | 1   | 2   | 65  | 67  | 63  | 55  | 71  | \n",
       "|  78 | 1   | 4   | 2   | 1   | 2   | 39  | 54  | 54  | 53  | 41  | \n",
       "|  64 | 1   | 4   | 3   | 1   | 3   | 50  | 52  | 45  | 58  | 36  | \n",
       "|  63 | 1   | 4   | 1   | 1   | 1   | 52  | 65  | 60  | 56  | 51  | \n",
       "|  79 | 1   | 4   | 2   | 1   | 2   | 60  | 62  | 49  | 50  | 51  | \n",
       "| 193 | 1   | 4   | 2   | 2   | 2   | 44  | 49  | 48  | 39  | 51  | \n",
       "|  92 | 1   | 4   | 3   | 1   | 1   | 52  | 67  | 57  | 63  | 61  | \n",
       "| 160 | 1   | 4   | 2   | 1   | 2   | 55  | 65  | 55  | 50  | 61  | \n",
       "|  32 | 1   | 2   | 3   | 1   | 3   | 50  | 67  | 66  | 66  | 56  | \n",
       "|  23 | 1   | 2   | 1   | 1   | 2   | 65  | 65  | 64  | 58  | 71  | \n",
       "| 158 | 1   | 4   | 2   | 1   | 1   | 52  | 54  | 55  | 53  | 51  | \n",
       "|  25 | 1   | 2   | 2   | 1   | 1   | 47  | 44  | 42  | 42  | 36  | \n",
       "| 188 | 1   | 4   | 3   | 2   | 2   | 63  | 62  | 56  | 55  | 61  | \n",
       "|  52 | 1   | 3   | 1   | 1   | 2   | 50  | 46  | 53  | 53  | 66  | \n",
       "| 124 | 1   | 4   | 1   | 1   | 3   | 42  | 54  | 41  | 42  | 41  | \n",
       "| 175 | 1   | 4   | 3   | 2   | 1   | 36  | 57  | 42  | 50  | 41  | \n",
       "| 184 | 1   | 4   | 2   | 2   | 3   | 50  | 52  | 53  | 55  | 56  | \n",
       "|  30 | 1   | 2   | 3   | 1   | 2   | 41  | 59  | 42  | 34  | 51  | \n",
       "| 179 | 1   | 4   | 2   | 2   | 2   | 47  | 65  | 60  | 50  | 56  | \n",
       "|  31 | 1   | 2   | 2   | 2   | 1   | 55  | 59  | 52  | 42  | 56  | \n",
       "| 145 | 1   | 4   | 2   | 1   | 3   | 42  | 46  | 38  | 36  | 46  | \n",
       "| 187 | 1   | 4   | 2   | 2   | 1   | 57  | 41  | 57  | 55  | 52  | \n",
       "| 118 | 1   | 4   | 2   | 1   | 1   | 55  | 62  | 58  | 58  | 61  | \n",
       "| 137 | 1   | 4   | 3   | 1   | 2   | 63  | 65  | 65  | 53  | 61  | \n",
       "\n",
       "\n"
      ],
      "text/plain": [
       "    id  female race ses schtyp prog read write math science socst\n",
       "1    70 0      4    1   1      1    57   52    41   47      57   \n",
       "2   121 1      4    2   1      3    68   59    53   63      61   \n",
       "3    86 0      4    3   1      1    44   33    54   58      31   \n",
       "4   141 0      4    3   1      3    63   44    47   53      56   \n",
       "5   172 0      4    2   1      2    47   52    57   53      61   \n",
       "6   113 0      4    2   1      2    44   52    51   63      61   \n",
       "7    50 0      3    2   1      1    50   59    42   53      61   \n",
       "8    11 0      1    2   1      2    34   46    45   39      36   \n",
       "9    84 0      4    2   1      1    63   57    54   58      51   \n",
       "10   48 0      3    2   1      2    57   55    52   50      51   \n",
       "11   75 0      4    2   1      3    60   46    51   53      61   \n",
       "12   60 0      4    2   1      2    57   65    51   63      61   \n",
       "13   95 0      4    3   1      2    73   60    71   61      71   \n",
       "14  104 0      4    3   1      2    54   63    57   55      46   \n",
       "15   38 0      3    1   1      2    45   57    50   31      56   \n",
       "16  115 0      4    1   1      1    42   49    43   50      56   \n",
       "17   76 0      4    3   1      2    47   52    51   50      56   \n",
       "18  195 0      4    2   2      1    57   57    60   58      56   \n",
       "19  114 0      4    3   1      2    68   65    62   55      61   \n",
       "20   85 0      4    2   1      1    55   39    57   53      46   \n",
       "21  167 0      4    2   1      1    63   49    35   66      41   \n",
       "22  143 0      4    2   1      3    63   63    75   72      66   \n",
       "23   41 0      3    2   1      2    50   40    45   55      56   \n",
       "24   20 0      1    3   1      2    60   52    57   61      61   \n",
       "25   12 0      1    2   1      3    37   44    45   39      46   \n",
       "26   53 0      3    2   1      3    34   37    46   39      31   \n",
       "27  154 0      4    3   1      2    65   65    66   61      66   \n",
       "28  178 0      4    2   2      3    47   57    57   58      46   \n",
       "29  196 0      4    3   2      2    44   38    49   39      46   \n",
       "30   29 0      2    1   1      1    52   44    49   55      41   \n",
       "⋮   ⋮   ⋮      ⋮    ⋮   ⋮      ⋮    ⋮    ⋮     ⋮    ⋮       ⋮    \n",
       "171 119 1      4    1   1      1    42   57    45   50      43   \n",
       "172  13 1      1    2   1      3    47   46    39   47      61   \n",
       "173  51 1      3    3   1      1    42   36    42   31      39   \n",
       "174  26 1      2    3   1      2    60   59    62   61      51   \n",
       "175  36 1      3    1   1      1    44   49    44   35      51   \n",
       "176 135 1      4    1   1      2    63   60    65   54      66   \n",
       "177  59 1      4    2   1      2    65   67    63   55      71   \n",
       "178  78 1      4    2   1      2    39   54    54   53      41   \n",
       "179  64 1      4    3   1      3    50   52    45   58      36   \n",
       "180  63 1      4    1   1      1    52   65    60   56      51   \n",
       "181  79 1      4    2   1      2    60   62    49   50      51   \n",
       "182 193 1      4    2   2      2    44   49    48   39      51   \n",
       "183  92 1      4    3   1      1    52   67    57   63      61   \n",
       "184 160 1      4    2   1      2    55   65    55   50      61   \n",
       "185  32 1      2    3   1      3    50   67    66   66      56   \n",
       "186  23 1      2    1   1      2    65   65    64   58      71   \n",
       "187 158 1      4    2   1      1    52   54    55   53      51   \n",
       "188  25 1      2    2   1      1    47   44    42   42      36   \n",
       "189 188 1      4    3   2      2    63   62    56   55      61   \n",
       "190  52 1      3    1   1      2    50   46    53   53      66   \n",
       "191 124 1      4    1   1      3    42   54    41   42      41   \n",
       "192 175 1      4    3   2      1    36   57    42   50      41   \n",
       "193 184 1      4    2   2      3    50   52    53   55      56   \n",
       "194  30 1      2    3   1      2    41   59    42   34      51   \n",
       "195 179 1      4    2   2      2    47   65    60   50      56   \n",
       "196  31 1      2    2   2      1    55   59    52   42      56   \n",
       "197 145 1      4    2   1      3    42   46    38   36      46   \n",
       "198 187 1      4    2   2      1    57   41    57   55      52   \n",
       "199 118 1      4    2   1      1    55   62    58   58      61   \n",
       "200 137 1      4    3   1      2    63   65    65   53      61   "
      ]
     },
     "metadata": {},
     "output_type": "display_data"
    }
   ],
   "source": [
    "hsb2"
   ]
  },
  {
   "cell_type": "code",
   "execution_count": 6,
   "metadata": {},
   "outputs": [],
   "source": [
    "#The statistic of interest here is the correlation coefficient of write and math.\n",
    "fc <- function(d, i){\n",
    "\td2 <- d[i,]\n",
    "\treturn(cor(d2$write, d2$math))\n",
    "}"
   ]
  },
  {
   "cell_type": "code",
   "execution_count": 27,
   "metadata": {},
   "outputs": [
    {
     "data": {
      "text/plain": [
       "\n",
       "ORDINARY NONPARAMETRIC BOOTSTRAP\n",
       "\n",
       "\n",
       "Call:\n",
       "boot(data = hsb2, statistic = fc, R = 1000)\n",
       "\n",
       "\n",
       "Bootstrap Statistics :\n",
       "     original        bias    std. error\n",
       "t1* 0.6174493 -0.0006380503  0.04090371"
      ]
     },
     "metadata": {},
     "output_type": "display_data"
    }
   ],
   "source": [
    "#turn off set.seed() if you want the results to vary\n",
    "set.seed(626)\n",
    "bootcorr <- boot(hsb2, fc, R=1000)\n",
    "bootcorr"
   ]
  },
  {
   "cell_type": "code",
   "execution_count": 28,
   "metadata": {},
   "outputs": [
    {
     "data": {
      "text/plain": [
       "          Length Class      Mode     \n",
       "t0           1   -none-     numeric  \n",
       "t         1000   -none-     numeric  \n",
       "R            1   -none-     numeric  \n",
       "data        11   data.frame list     \n",
       "seed       626   -none-     numeric  \n",
       "statistic    1   -none-     function \n",
       "sim          1   -none-     character\n",
       "call         4   -none-     call     \n",
       "stype        1   -none-     character\n",
       "strata     200   -none-     numeric  \n",
       "weights    200   -none-     numeric  "
      ]
     },
     "metadata": {},
     "output_type": "display_data"
    }
   ],
   "source": [
    "#Description in: https://www.statmethods.net/advstats/bootstrapping.html\n",
    "summary(bootcorr)"
   ]
  },
  {
   "cell_type": "code",
   "execution_count": 29,
   "metadata": {},
   "outputs": [
    {
     "data": {
      "text/html": [
       "0.616811214233644"
      ],
      "text/latex": [
       "0.616811214233644"
      ],
      "text/markdown": [
       "0.616811214233644"
      ],
      "text/plain": [
       "[1] 0.6168112"
      ]
     },
     "metadata": {},
     "output_type": "display_data"
    }
   ],
   "source": [
    "#The mean of correlations\n",
    "mean(bootcorr$t)"
   ]
  },
  {
   "cell_type": "code",
   "execution_count": 30,
   "metadata": {},
   "outputs": [
    {
     "data": {
      "text/html": [
       "0.617449264485492"
      ],
      "text/latex": [
       "0.617449264485492"
      ],
      "text/markdown": [
       "0.617449264485492"
      ],
      "text/plain": [
       "[1] 0.6174493"
      ]
     },
     "metadata": {},
     "output_type": "display_data"
    }
   ],
   "source": [
    "#t0\tThe observed values of k statistics applied to the orginal data.\n",
    "bootcorr$t0"
   ]
  },
  {
   "cell_type": "code",
   "execution_count": 31,
   "metadata": {},
   "outputs": [
    {
     "data": {
      "text/html": [
       "-0.000638050251848266"
      ],
      "text/latex": [
       "-0.000638050251848266"
      ],
      "text/markdown": [
       "-0.000638050251848266"
      ],
      "text/plain": [
       "[1] -0.0006380503"
      ]
     },
     "metadata": {},
     "output_type": "display_data"
    }
   ],
   "source": [
    "#Computing the bias\n",
    "mean(bootcorr$t) - bootcorr$t0"
   ]
  },
  {
   "cell_type": "code",
   "execution_count": 32,
   "metadata": {},
   "outputs": [
    {
     "data": {
      "text/html": [
       "0.0409037072137521"
      ],
      "text/latex": [
       "0.0409037072137521"
      ],
      "text/markdown": [
       "0.0409037072137521"
      ],
      "text/plain": [
       "[1] 0.04090371"
      ]
     },
     "metadata": {},
     "output_type": "display_data"
    }
   ],
   "source": [
    "#Standard Deviation of the bootstrap samples\n",
    "sd(bootcorr$t)"
   ]
  },
  {
   "cell_type": "code",
   "execution_count": 33,
   "metadata": {},
   "outputs": [
    {
     "data": {
      "image/png": "[encoded data removed]",
      "text/plain": [
       "Plot with title “Histogram of t”"
      ]
     },
     "metadata": {},
     "output_type": "display_data"
    }
   ],
   "source": [
    "plot(bootcorr)"
   ]
  },
  {
   "cell_type": "code",
   "execution_count": 34,
   "metadata": {},
   "outputs": [
    {
     "data": {
      "text/plain": [
       "BOOTSTRAP CONFIDENCE INTERVAL CALCULATIONS\n",
       "Based on 1000 bootstrap replicates\n",
       "\n",
       "CALL : \n",
       "boot.ci(boot.out = bootcorr, type = c(\"norm\", \"basic\", \"perc\", \n",
       "    \"bca\"))\n",
       "\n",
       "Intervals : \n",
       "Level      Normal              Basic         \n",
       "95%   ( 0.5379,  0.6983 )   ( 0.5417,  0.7067 )  \n",
       "\n",
       "Level     Percentile            BCa          \n",
       "95%   ( 0.5282,  0.6932 )   ( 0.5269,  0.6919 )  \n",
       "Calculations and Intervals on Original Scale"
      ]
     },
     "metadata": {},
     "output_type": "display_data"
    }
   ],
   "source": [
    "boot.ci(boot.out = bootcorr, type = c(\"norm\", \"basic\", \"perc\", \"bca\"))"
   ]
  },
  {
   "cell_type": "code",
   "execution_count": null,
   "metadata": {},
   "outputs": [],
   "source": []
  }
 ],
 "metadata": {
  "kernelspec": {
   "display_name": "R",
   "language": "R",
   "name": "ir"
  },
  "language_info": {
   "codemirror_mode": "r",
   "file_extension": ".r",
   "mimetype": "text/x-r-source",
   "name": "R",
   "pygments_lexer": "r",
   "version": "3.5.1"
  }
 },
 "nbformat": 4,
 "nbformat_minor": 2
}
