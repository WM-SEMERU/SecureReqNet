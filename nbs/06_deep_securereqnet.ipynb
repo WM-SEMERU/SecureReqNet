{
 "cells": [
  {
   "cell_type": "code",
   "execution_count": null,
   "metadata": {},
   "outputs": [],
   "source": [
    "#danaderp May6'19\n",
    "#Prediction For Main Issues Data Set"
   ]
  },
  {
   "cell_type": "code",
   "execution_count": null,
   "metadata": {},
   "outputs": [
    {
     "name": "stderr",
     "output_type": "stream",
     "text": [
      "/scratch/danaderp/.conda/envs/drmccr_conda/lib/python3.6/site-packages/h5py/__init__.py:34: FutureWarning: Conversion of the second argument of issubdtype from `float` to `np.floating` is deprecated. In future, it will be treated as `np.float64 == np.dtype(float).type`.\n",
      "  from ._conv import register_converters as _register_converters\n"
     ]
    },
    {
     "name": "stdout",
     "output_type": "stream",
     "text": [
      "Limited tf.compat.v2.summary API due to missing TensorBoard installation\n",
      "Limited tf.summary API due to missing TensorBoard installation\n"
     ]
    }
   ],
   "source": [
    "import csv\n",
    "from tensorflow.keras.preprocessing import text\n",
    "from nltk.corpus import gutenberg\n",
    "from string import punctuation\n",
    "from tensorflow.keras.preprocessing.sequence import skipgrams"
   ]
  },
  {
   "cell_type": "code",
   "execution_count": null,
   "metadata": {},
   "outputs": [],
   "source": [
    "import pandas as pd\n",
    "import numpy as np\n",
    "import re\n",
    "import nltk\n",
    "import matplotlib.pyplot as plt\n",
    "pd.options.display.max_colwidth = 200\n",
    "%matplotlib inline"
   ]
  },
  {
   "cell_type": "code",
   "execution_count": null,
   "metadata": {},
   "outputs": [],
   "source": [
    "from nltk.stem.snowball import SnowballStemmer\n",
    "englishStemmer=SnowballStemmer(\"english\")"
   ]
  },
  {
   "cell_type": "code",
   "execution_count": null,
   "metadata": {},
   "outputs": [],
   "source": [
    "import tensorflow as tf\n",
    "from tensorflow.keras import layers\n",
    "from tensorflow.keras.layers import Dot, Input, Dense, Reshape, LSTM, Conv2D, Flatten, MaxPooling1D, Dropout, MaxPooling2D\n",
    "from tensorflow.keras.layers import Embedding, Multiply, Subtract, Reshape\n",
    "from tensorflow.keras.models import Sequential, Model\n",
    "from tensorflow.python.keras.layers import Lambda\n",
    "from tensorflow.keras.callbacks import CSVLogger, ModelCheckpoint\n",
    "from tensorflow.keras.callbacks import EarlyStopping"
   ]
  },
  {
   "cell_type": "code",
   "execution_count": null,
   "metadata": {},
   "outputs": [],
   "source": [
    "# visualize model structure\n",
    "#from IPython.display import SVG\n",
    "#from keras.utils.vis_utils import model_to_dot\n",
    "from sklearn.metrics.pairwise import euclidean_distances\n",
    "from sklearn.manifold import TSNE"
   ]
  },
  {
   "cell_type": "code",
   "execution_count": null,
   "metadata": {},
   "outputs": [],
   "source": [
    "from datasets.read_data import Dynamic_Dataset,Processing_Dataset\n",
    "from vectorize_sentence import Embeddings"
   ]
  },
  {
   "cell_type": "code",
   "execution_count": null,
   "metadata": {},
   "outputs": [],
   "source": [
    "path = \"datasets/augmented_dataset/\"\n",
    "process_unit = Processing_Dataset(path)\n",
    "ground_truth = process_unit.get_ground_truth()"
   ]
  },
  {
   "cell_type": "code",
   "execution_count": null,
   "metadata": {},
   "outputs": [],
   "source": [
    "dataset = Dynamic_Dataset(ground_truth, path)"
   ]
  },
  {
   "cell_type": "code",
   "execution_count": null,
   "metadata": {},
   "outputs": [],
   "source": [
    "test, train = process_unit.get_test_and_training(ground_truth)"
   ]
  },
  {
   "cell_type": "code",
   "execution_count": null,
   "metadata": {},
   "outputs": [
    {
     "name": "stdout",
     "output_type": "stream",
     "text": [
      "11612\n",
      "104510\n",
      "('(1,0)', 'OSRAM SYLVANIA Osram Lightify Home before 2016-07-26 allows remote attackers to execute arbitrary commands via TCP port 4000.')\n",
      "('(1,0)', 'The currently used Rails version, in the stable branch, is insecure\\n\\nYou should update the Gemfile.lock to hotfix this.\\n\\nhttp://weblog.rubyonrails.org/2014/2/18/Rails_3_2_17_4_0_3_and_4_1_0_beta2_have_been_released/')\n"
     ]
    }
   ],
   "source": [
    "print(len(test))\n",
    "print(len(train))\n",
    "print(test[0])\n",
    "print(train[0])"
   ]
  },
  {
   "cell_type": "code",
   "execution_count": null,
   "metadata": {},
   "outputs": [],
   "source": [
    "#Train/Test split verification\n",
    "#for elem in test:\n",
    "#    print(elem[0])"
   ]
  },
  {
   "cell_type": "code",
   "execution_count": null,
   "metadata": {},
   "outputs": [],
   "source": [
    "#Preprocesing Corpora\n",
    "embeddings = Embeddings()\n",
    "max_words = 5000 #<------- [Parameter]\n",
    "pre_corpora_train = [doc for doc in train if len(doc[1])< max_words]\n",
    "pre_corpora_test = [doc for doc in test if len(doc[1])< max_words]"
   ]
  },
  {
   "cell_type": "code",
   "execution_count": null,
   "metadata": {},
   "outputs": [
    {
     "name": "stdout",
     "output_type": "stream",
     "text": [
      "103862\n",
      "11553\n"
     ]
    }
   ],
   "source": [
    "print(len(pre_corpora_train))\n",
    "print(len(pre_corpora_test))"
   ]
  },
  {
   "cell_type": "code",
   "execution_count": null,
   "metadata": {},
   "outputs": [],
   "source": [
    "embed_path = 'datasets/word_embeddings-embed_size_100-epochs_100.csv'\n",
    "embeddings_dict = embeddings.get_embeddings_dict(embed_path)"
   ]
  },
  {
   "cell_type": "code",
   "execution_count": null,
   "metadata": {},
   "outputs": [],
   "source": [
    "corpora_train = [embeddings.vectorize(doc[1], embeddings_dict) for doc in pre_corpora_train]#vectorization Inputs\n",
    "corpora_test = [embeddings.vectorize(doc[1], embeddings_dict) for doc in pre_corpora_test]#vectorization"
   ]
  },
  {
   "cell_type": "code",
   "execution_count": null,
   "metadata": {},
   "outputs": [],
   "source": [
    "target_train = [[int(list(doc[0])[1]),int(list(doc[0])[3])] for doc in pre_corpora_train]#vectorization Output\n",
    "target_test = [[int(list(doc[0])[1]),int(list(doc[0])[3])]for doc in pre_corpora_test]#vectorization Output\n",
    "#target_train"
   ]
  },
  {
   "cell_type": "code",
   "execution_count": null,
   "metadata": {},
   "outputs": [],
   "source": [
    "max_len_sentences_train = max([len(doc) for doc in corpora_train]) #<------- [Parameter]\n",
    "max_len_sentences_test = max([len(doc) for doc in corpora_test]) #<------- [Parameter]"
   ]
  },
  {
   "cell_type": "code",
   "execution_count": null,
   "metadata": {},
   "outputs": [
    {
     "name": "stdout",
     "output_type": "stream",
     "text": [
      "Max. Sentence # words: 618\n"
     ]
    }
   ],
   "source": [
    "max_len_sentences = max(max_len_sentences_train,max_len_sentences_test)\n",
    "print(\"Max. Sentence # words:\",max_len_sentences)"
   ]
  },
  {
   "cell_type": "code",
   "execution_count": null,
   "metadata": {},
   "outputs": [],
   "source": [
    "embed_size = np.size(corpora_train[0][0])"
   ]
  },
  {
   "cell_type": "code",
   "execution_count": null,
   "metadata": {},
   "outputs": [],
   "source": [
    "#BaseLine Architecture <-------\n",
    "embeddigs_cols = embed_size\n",
    "input_sh = (max_len_sentences,embeddigs_cols,1)\n",
    "#Selecting filters? \n",
    "#https://stackoverflow.com/questions/48243360/how-to-determine-the-filter-parameter-in-the-keras-conv2d-function\n",
    "#https://stats.stackexchange.com/questions/196646/what-is-the-significance-of-the-number-of-convolution-filters-in-a-convolutional\n",
    "\n",
    "N_filters = 512 # <-------- [HyperParameter] Powers of 2 Numer of Features\n",
    "K = 2 # <-------- [HyperParameter] Number of Classess"
   ]
  },
  {
   "cell_type": "code",
   "execution_count": null,
   "metadata": {},
   "outputs": [
    {
     "data": {
      "text/plain": [
       "(618, 100, 1)"
      ]
     },
     "execution_count": null,
     "metadata": {
      "tags": []
     },
     "output_type": "execute_result"
    }
   ],
   "source": [
    "input_sh"
   ]
  },
  {
   "cell_type": "code",
   "execution_count": null,
   "metadata": {},
   "outputs": [],
   "source": [
    "#baseline_model = Sequential()\n",
    "gram_input = Input(shape = input_sh)"
   ]
  },
  {
   "cell_type": "code",
   "execution_count": null,
   "metadata": {},
   "outputs": [],
   "source": [
    "# 1st Convolutional Layer (1-gram)\n",
    "conv_filter_1_gram = Conv2D(filters= N_filters, input_shape=input_sh, activation='relu', \n",
    "                       kernel_size=(1,embeddigs_cols), padding='valid',data_format=\"channels_last\")(gram_input)"
   ]
  },
  {
   "cell_type": "code",
   "execution_count": null,
   "metadata": {},
   "outputs": [],
   "source": [
    "# 2sd Convolutional Layer (3-gram)\n",
    "conv_filter_3_gram = Conv2D(filters= N_filters, input_shape=input_sh, activation='relu', \n",
    "                       kernel_size=(3,embeddigs_cols), padding='valid')(gram_input)"
   ]
  },
  {
   "cell_type": "code",
   "execution_count": null,
   "metadata": {},
   "outputs": [],
   "source": [
    "# 3rd Convolutional Layer (5-gram)\n",
    "conv_filter_5_gram = Conv2D(filters= N_filters, input_shape=input_sh, activation='relu', \n",
    "                       kernel_size=(5,embeddigs_cols), padding='valid')(gram_input)"
   ]
  },
  {
   "cell_type": "code",
   "execution_count": null,
   "metadata": {},
   "outputs": [
    {
     "name": "stdout",
     "output_type": "stream",
     "text": [
      "(None, 618, 1, 512)\n",
      "(None, 616, 1, 512)\n",
      "(None, 614, 1, 512)\n"
     ]
    }
   ],
   "source": [
    "print(conv_filter_1_gram.shape)\n",
    "print(conv_filter_3_gram.shape)\n",
    "print(conv_filter_5_gram.shape)"
   ]
  },
  {
   "cell_type": "code",
   "execution_count": null,
   "metadata": {},
   "outputs": [],
   "source": [
    "# Max Pooling Layer\n",
    "max_pool_1_gram = MaxPooling2D(pool_size=((max_len_sentences-1+1), 1), strides=None, padding='valid')(conv_filter_1_gram)\n",
    "max_pool_3_gram = MaxPooling2D(pool_size=((max_len_sentences-3+1), 1), strides=None, padding='valid')(conv_filter_3_gram)\n",
    "max_pool_5_gram = MaxPooling2D(pool_size=((max_len_sentences-5+1), 1), strides=None, padding='valid')(conv_filter_5_gram)"
   ]
  },
  {
   "cell_type": "code",
   "execution_count": null,
   "metadata": {},
   "outputs": [
    {
     "name": "stdout",
     "output_type": "stream",
     "text": [
      "(None, 1, 1, 512)\n",
      "(None, 1, 1, 512)\n",
      "(None, 1, 1, 512)\n"
     ]
    }
   ],
   "source": [
    "print(max_pool_1_gram.shape)\n",
    "print(max_pool_3_gram.shape)\n",
    "print(max_pool_5_gram.shape)"
   ]
  },
  {
   "cell_type": "code",
   "execution_count": null,
   "metadata": {},
   "outputs": [],
   "source": [
    "# Fully Connected layer\n",
    "fully_connected_1_gram = Flatten()(max_pool_1_gram)\n",
    "fully_connected_3_gram = Flatten()(max_pool_3_gram)\n",
    "fully_connected_5_gram = Flatten()(max_pool_5_gram)"
   ]
  },
  {
   "cell_type": "code",
   "execution_count": null,
   "metadata": {},
   "outputs": [
    {
     "name": "stdout",
     "output_type": "stream",
     "text": [
      "(None, 512)\n",
      "(None, 512)\n",
      "(None, 512)\n"
     ]
    }
   ],
   "source": [
    "print(fully_connected_1_gram.shape)\n",
    "print(fully_connected_3_gram.shape)\n",
    "print(fully_connected_5_gram.shape)"
   ]
  },
  {
   "cell_type": "code",
   "execution_count": null,
   "metadata": {},
   "outputs": [],
   "source": [
    "fully_connected_1_gram = Reshape((N_filters, 1, 1))(fully_connected_1_gram)\n",
    "fully_connected_3_gram = Reshape((N_filters, 1, 1))(fully_connected_3_gram)\n",
    "fully_connected_5_gram = Reshape((N_filters, 1, 1))(fully_connected_5_gram)"
   ]
  },
  {
   "cell_type": "code",
   "execution_count": null,
   "metadata": {},
   "outputs": [
    {
     "name": "stdout",
     "output_type": "stream",
     "text": [
      "(None, 512, 1, 1)\n",
      "(None, 512, 1, 1)\n",
      "(None, 512, 1, 1)\n"
     ]
    }
   ],
   "source": [
    "print(fully_connected_1_gram.shape)\n",
    "print(fully_connected_3_gram.shape)\n",
    "print(fully_connected_5_gram.shape)"
   ]
  },
  {
   "cell_type": "code",
   "execution_count": null,
   "metadata": {},
   "outputs": [],
   "source": [
    "#Second Phase of the Convolution\n",
    "# 1st Convolutional Layer (1-gram)\n",
    "conv_filter_1_gram = Conv2D(filters= 128, activation='relu', \n",
    "                       kernel_size=(1,1), padding='valid')(fully_connected_1_gram)"
   ]
  },
  {
   "cell_type": "code",
   "execution_count": null,
   "metadata": {},
   "outputs": [
    {
     "data": {
      "text/plain": [
       "TensorShape([None, 512, 1, 128])"
      ]
     },
     "execution_count": null,
     "metadata": {
      "tags": []
     },
     "output_type": "execute_result"
    }
   ],
   "source": [
    "conv_filter_1_gram.shape"
   ]
  },
  {
   "cell_type": "code",
   "execution_count": null,
   "metadata": {},
   "outputs": [],
   "source": [
    "# 2sd Convolutional Layer (3-gram)\n",
    "conv_filter_3_gram = Conv2D(filters= 128, activation='relu', \n",
    "                       kernel_size=(3,1), padding='valid')(fully_connected_3_gram)"
   ]
  },
  {
   "cell_type": "code",
   "execution_count": null,
   "metadata": {},
   "outputs": [
    {
     "data": {
      "text/plain": [
       "TensorShape([None, 510, 1, 128])"
      ]
     },
     "execution_count": null,
     "metadata": {
      "tags": []
     },
     "output_type": "execute_result"
    }
   ],
   "source": [
    "conv_filter_3_gram.shape"
   ]
  },
  {
   "cell_type": "code",
   "execution_count": null,
   "metadata": {},
   "outputs": [],
   "source": [
    "# 3rd Convolutional Layer (5-gram)\n",
    "conv_filter_5_gram = Conv2D(filters= 128, activation='relu', \n",
    "                       kernel_size=(5,1), padding='valid')(fully_connected_5_gram)"
   ]
  },
  {
   "cell_type": "code",
   "execution_count": null,
   "metadata": {},
   "outputs": [
    {
     "data": {
      "text/plain": [
       "TensorShape([None, 508, 1, 128])"
      ]
     },
     "execution_count": null,
     "metadata": {
      "tags": []
     },
     "output_type": "execute_result"
    }
   ],
   "source": [
    "conv_filter_5_gram.shape"
   ]
  },
  {
   "cell_type": "code",
   "execution_count": null,
   "metadata": {},
   "outputs": [],
   "source": [
    "# Max Pooling Layer\n",
    "max_pool_1_gram = MaxPooling2D(pool_size=((N_filters-1+1), 1), strides=None, padding='valid')(conv_filter_1_gram)\n",
    "max_pool_3_gram = MaxPooling2D(pool_size=((N_filters-3+1), 1), strides=None, padding='valid')(conv_filter_3_gram)\n",
    "max_pool_5_gram = MaxPooling2D(pool_size=((N_filters-5+1), 1), strides=None, padding='valid')(conv_filter_5_gram)"
   ]
  },
  {
   "cell_type": "code",
   "execution_count": null,
   "metadata": {},
   "outputs": [
    {
     "name": "stdout",
     "output_type": "stream",
     "text": [
      "(None, 1, 1, 128)\n",
      "(None, 1, 1, 128)\n",
      "(None, 1, 1, 128)\n"
     ]
    }
   ],
   "source": [
    "print(max_pool_1_gram.shape)\n",
    "print(max_pool_3_gram.shape)\n",
    "print(max_pool_5_gram.shape)"
   ]
  },
  {
   "cell_type": "code",
   "execution_count": null,
   "metadata": {},
   "outputs": [],
   "source": [
    "# Fully Connected layer\n",
    "fully_connected_1_gram = Flatten()(max_pool_1_gram)\n",
    "fully_connected_3_gram = Flatten()(max_pool_3_gram)\n",
    "fully_connected_5_gram = Flatten()(max_pool_5_gram)"
   ]
  },
  {
   "cell_type": "code",
   "execution_count": null,
   "metadata": {},
   "outputs": [
    {
     "name": "stdout",
     "output_type": "stream",
     "text": [
      "(None, 128)\n",
      "(None, 128)\n",
      "(None, 128)\n"
     ]
    }
   ],
   "source": [
    "print(fully_connected_1_gram.shape)\n",
    "print(fully_connected_3_gram.shape)\n",
    "print(fully_connected_5_gram.shape)"
   ]
  },
  {
   "cell_type": "code",
   "execution_count": null,
   "metadata": {},
   "outputs": [],
   "source": [
    "merged_vector = layers.concatenate([fully_connected_1_gram, fully_connected_3_gram, \n",
    "                                    fully_connected_5_gram], axis=-1)\n",
    "\n",
    "integration_layer = Dropout(0.2)(merged_vector) # <-------- [HyperParameter]"
   ]
  },
  {
   "cell_type": "code",
   "execution_count": null,
   "metadata": {},
   "outputs": [],
   "source": [
    "#Extra Hidden Layer\n",
    "deep_dense_layer = Dense(N_filters, activation='relu')(integration_layer)\n",
    "deep_dense_layer = Dropout(0.2)(deep_dense_layer) # <-------- [HyperParameter]"
   ]
  },
  {
   "cell_type": "code",
   "execution_count": null,
   "metadata": {},
   "outputs": [],
   "source": [
    "predictions = Dense(K, activation='softmax')(deep_dense_layer)"
   ]
  },
  {
   "cell_type": "code",
   "execution_count": null,
   "metadata": {},
   "outputs": [],
   "source": [
    "#Criticality Model\n",
    "criticality_network = Model(inputs=[gram_input],outputs=[predictions]) "
   ]
  },
  {
   "cell_type": "code",
   "execution_count": null,
   "metadata": {},
   "outputs": [
    {
     "name": "stdout",
     "output_type": "stream",
     "text": [
      "Model: \"model\"\n",
      "__________________________________________________________________________________________________\n",
      "Layer (type)                    Output Shape         Param #     Connected to                     \n",
      "==================================================================================================\n",
      "input_2 (InputLayer)            [(None, 618, 100, 1) 0                                            \n",
      "__________________________________________________________________________________________________\n",
      "conv2d_3 (Conv2D)               (None, 618, 1, 512)  51712       input_2[0][0]                    \n",
      "__________________________________________________________________________________________________\n",
      "max_pooling2d_3 (MaxPooling2D)  (None, 1, 1, 512)    0           conv2d_3[0][0]                   \n",
      "__________________________________________________________________________________________________\n",
      "conv2d_4 (Conv2D)               (None, 616, 1, 512)  154112      input_2[0][0]                    \n",
      "__________________________________________________________________________________________________\n",
      "conv2d_5 (Conv2D)               (None, 614, 1, 512)  256512      input_2[0][0]                    \n",
      "__________________________________________________________________________________________________\n",
      "flatten_9 (Flatten)             (None, 512)          0           max_pooling2d_3[0][0]            \n",
      "__________________________________________________________________________________________________\n",
      "max_pooling2d_4 (MaxPooling2D)  (None, 1, 1, 512)    0           conv2d_4[0][0]                   \n",
      "__________________________________________________________________________________________________\n",
      "max_pooling2d_5 (MaxPooling2D)  (None, 1, 1, 512)    0           conv2d_5[0][0]                   \n",
      "__________________________________________________________________________________________________\n",
      "reshape_1 (Reshape)             (None, 1, 1, 512)    0           flatten_9[0][0]                  \n",
      "__________________________________________________________________________________________________\n",
      "flatten_10 (Flatten)            (None, 512)          0           max_pooling2d_4[0][0]            \n",
      "__________________________________________________________________________________________________\n",
      "flatten_11 (Flatten)            (None, 512)          0           max_pooling2d_5[0][0]            \n",
      "__________________________________________________________________________________________________\n",
      "reshape_2 (Reshape)             (None, 1, 1, 512)    0           reshape_1[0][0]                  \n",
      "__________________________________________________________________________________________________\n",
      "reshape_3 (Reshape)             (None, 1, 1, 512)    0           flatten_10[0][0]                 \n",
      "__________________________________________________________________________________________________\n",
      "reshape_4 (Reshape)             (None, 1, 1, 512)    0           flatten_11[0][0]                 \n",
      "__________________________________________________________________________________________________\n",
      "reshape_5 (Reshape)             (None, 1, 512, 1)    0           reshape_2[0][0]                  \n",
      "__________________________________________________________________________________________________\n",
      "reshape_6 (Reshape)             (None, 1, 512, 1)    0           reshape_3[0][0]                  \n",
      "__________________________________________________________________________________________________\n",
      "reshape_7 (Reshape)             (None, 1, 512, 1)    0           reshape_4[0][0]                  \n",
      "__________________________________________________________________________________________________\n",
      "reshape_8 (Reshape)             (None, 512, 1, 1)    0           reshape_5[0][0]                  \n",
      "__________________________________________________________________________________________________\n",
      "reshape_9 (Reshape)             (None, 512, 1, 1)    0           reshape_6[0][0]                  \n",
      "__________________________________________________________________________________________________\n",
      "reshape_10 (Reshape)            (None, 512, 1, 1)    0           reshape_7[0][0]                  \n",
      "__________________________________________________________________________________________________\n",
      "conv2d_15 (Conv2D)              (None, 512, 1, 128)  256         reshape_8[0][0]                  \n",
      "__________________________________________________________________________________________________\n",
      "conv2d_16 (Conv2D)              (None, 510, 1, 128)  512         reshape_9[0][0]                  \n",
      "__________________________________________________________________________________________________\n",
      "conv2d_17 (Conv2D)              (None, 508, 1, 128)  768         reshape_10[0][0]                 \n",
      "__________________________________________________________________________________________________\n",
      "max_pooling2d_7 (MaxPooling2D)  (None, 1, 1, 128)    0           conv2d_15[0][0]                  \n",
      "__________________________________________________________________________________________________\n",
      "max_pooling2d_8 (MaxPooling2D)  (None, 1, 1, 128)    0           conv2d_16[0][0]                  \n",
      "__________________________________________________________________________________________________\n",
      "max_pooling2d_9 (MaxPooling2D)  (None, 1, 1, 128)    0           conv2d_17[0][0]                  \n",
      "__________________________________________________________________________________________________\n",
      "flatten_12 (Flatten)            (None, 128)          0           max_pooling2d_7[0][0]            \n",
      "__________________________________________________________________________________________________\n",
      "flatten_13 (Flatten)            (None, 128)          0           max_pooling2d_8[0][0]            \n",
      "__________________________________________________________________________________________________\n",
      "flatten_14 (Flatten)            (None, 128)          0           max_pooling2d_9[0][0]            \n",
      "__________________________________________________________________________________________________\n",
      "concatenate (Concatenate)       (None, 384)          0           flatten_12[0][0]                 \n",
      "                                                                 flatten_13[0][0]                 \n",
      "                                                                 flatten_14[0][0]                 \n",
      "__________________________________________________________________________________________________\n",
      "dropout (Dropout)               (None, 384)          0           concatenate[0][0]                \n",
      "__________________________________________________________________________________________________\n",
      "dense (Dense)                   (None, 512)          197120      dropout[0][0]                    \n",
      "__________________________________________________________________________________________________\n",
      "dropout_1 (Dropout)             (None, 512)          0           dense[0][0]                      \n",
      "__________________________________________________________________________________________________\n",
      "dense_1 (Dense)                 (None, 2)            1026        dropout_1[0][0]                  \n",
      "==================================================================================================\n",
      "Total params: 662,018\n",
      "Trainable params: 662,018\n",
      "Non-trainable params: 0\n",
      "__________________________________________________________________________________________________\n",
      "None\n"
     ]
    }
   ],
   "source": [
    "print(criticality_network.summary())"
   ]
  },
  {
   "cell_type": "code",
   "execution_count": null,
   "metadata": {},
   "outputs": [],
   "source": [
    "#Seting up the Model\n",
    "criticality_network.compile(optimizer='adam',loss='binary_crossentropy',\n",
    "                                  metrics=['accuracy'])"
   ]
  },
  {
   "cell_type": "code",
   "execution_count": null,
   "metadata": {},
   "outputs": [],
   "source": [
    "#Data set organization\n",
    "from tempfile import mkdtemp\n",
    "import os.path as path"
   ]
  },
  {
   "cell_type": "code",
   "execution_count": null,
   "metadata": {},
   "outputs": [],
   "source": [
    "#Memoization \n",
    "file_corpora_train_x = path.join(mkdtemp(), 'f-res_temp_corpora_train_x.dat') #Update per experiment\n",
    "file_corpora_test_x = path.join(mkdtemp(), 'f-res_temp_corpora_test_x.dat')"
   ]
  },
  {
   "cell_type": "code",
   "execution_count": null,
   "metadata": {},
   "outputs": [],
   "source": [
    "#Shaping\n",
    "shape_train_x = (len(corpora_train),max_len_sentences,embeddigs_cols,1)\n",
    "shape_test_x = (len(corpora_test),max_len_sentences,embeddigs_cols,1)"
   ]
  },
  {
   "cell_type": "code",
   "execution_count": null,
   "metadata": {},
   "outputs": [],
   "source": [
    "#Data sets\n",
    "corpora_train_x = np.memmap(\n",
    "        filename = file_corpora_train_x, \n",
    "        dtype='float32', \n",
    "        mode='w+', \n",
    "        shape = shape_train_x)"
   ]
  },
  {
   "cell_type": "code",
   "execution_count": null,
   "metadata": {},
   "outputs": [],
   "source": [
    "corpora_test_x = np.memmap( #Test Corpora (for future evaluation)\n",
    "        filename = file_corpora_test_x, \n",
    "        dtype='float32', \n",
    "        mode='w+', \n",
    "        shape = shape_test_x)"
   ]
  },
  {
   "cell_type": "code",
   "execution_count": null,
   "metadata": {},
   "outputs": [],
   "source": [
    "target_train_y = np.array(target_train) #Train Target\n",
    "target_test_y = np.array(target_test) #Test Target (for future evaluation)"
   ]
  },
  {
   "cell_type": "code",
   "execution_count": null,
   "metadata": {},
   "outputs": [
    {
     "data": {
      "text/plain": [
       "(103862, 618, 100, 1)"
      ]
     },
     "execution_count": null,
     "metadata": {
      "tags": []
     },
     "output_type": "execute_result"
    }
   ],
   "source": [
    "corpora_train_x.shape"
   ]
  },
  {
   "cell_type": "code",
   "execution_count": null,
   "metadata": {},
   "outputs": [
    {
     "data": {
      "text/plain": [
       "(103862, 2)"
      ]
     },
     "execution_count": null,
     "metadata": {
      "tags": []
     },
     "output_type": "execute_result"
    }
   ],
   "source": [
    "target_train_y.shape"
   ]
  },
  {
   "cell_type": "code",
   "execution_count": null,
   "metadata": {},
   "outputs": [
    {
     "data": {
      "text/plain": [
       "(11553, 618, 100, 1)"
      ]
     },
     "execution_count": null,
     "metadata": {
      "tags": []
     },
     "output_type": "execute_result"
    }
   ],
   "source": [
    "corpora_test_x.shape"
   ]
  },
  {
   "cell_type": "code",
   "execution_count": null,
   "metadata": {},
   "outputs": [
    {
     "data": {
      "text/plain": [
       "(11553, 2)"
      ]
     },
     "execution_count": null,
     "metadata": {
      "tags": []
     },
     "output_type": "execute_result"
    }
   ],
   "source": [
    "target_test_y.shape"
   ]
  },
  {
   "cell_type": "code",
   "execution_count": null,
   "metadata": {},
   "outputs": [],
   "source": [
    "#Reshaping Train Inputs\n",
    "for doc in range(len(corpora_train)):\n",
    "    #print(corpora_train[doc].shape[1])\n",
    "    for words_rows in range(corpora_train[doc].shape[0]):\n",
    "        embed_flatten = np.array(corpora_train[doc][words_rows]).flatten() #<--- Capture doc and word\n",
    "        for embedding_cols in range(embed_flatten.shape[0]):\n",
    "            corpora_train_x[doc,words_rows,embedding_cols,0] = embed_flatten[embedding_cols]"
   ]
  },
  {
   "cell_type": "code",
   "execution_count": null,
   "metadata": {},
   "outputs": [],
   "source": [
    "#Reshaping Test Inputs (for future evaluation)\n",
    "for doc in range(len(corpora_test)):\n",
    "    for words_rows in range(corpora_test[doc].shape[0]):\n",
    "        embed_flatten = np.array(corpora_test[doc][words_rows]).flatten() #<--- Capture doc and word\n",
    "        for embedding_cols in range(embed_flatten.shape[0]):\n",
    "            corpora_test_x[doc,words_rows,embedding_cols,0] = embed_flatten[embedding_cols]"
   ]
  },
  {
   "cell_type": "code",
   "execution_count": null,
   "metadata": {},
   "outputs": [],
   "source": [
    "#CheckPoints\n",
    "#csv_logger = CSVLogger(system+'_training.log')\n",
    "filepath = \"f-res/best_model.hdf5\""
   ]
  },
  {
   "cell_type": "code",
   "execution_count": null,
   "metadata": {},
   "outputs": [],
   "source": [
    "es = EarlyStopping(monitor='val_loss', mode='min', verbose=1, patience=100)\n",
    "mc = ModelCheckpoint(filepath, monitor='val_accuracy', mode='max', verbose=1, save_best_only=True)\n",
    "callbacks_list = [es,mc]"
   ]
  },
  {
   "cell_type": "code",
   "execution_count": null,
   "metadata": {},
   "outputs": [
    {
     "name": "stdout",
     "output_type": "stream",
     "text": [
      "Train on 83089 samples, validate on 20773 samples\n",
      "Epoch 1/2000\n",
      "83072/83089 [============================>.] - ETA: 0s - loss: 0.1510 - accuracy: 0.9472\n",
      "Epoch 00001: val_accuracy improved from -inf to 0.99649, saving model to f-res/best_model.hdf5\n",
      "83089/83089 [==============================] - 330s 4ms/sample - loss: 0.1510 - accuracy: 0.9472 - val_loss: 0.0075 - val_accuracy: 0.9965\n",
      "Epoch 2/2000\n",
      "83072/83089 [============================>.] - ETA: 0s - loss: 0.1126 - accuracy: 0.9617\n",
      "Epoch 00002: val_accuracy did not improve from 0.99649\n",
      "83089/83089 [==============================] - 338s 4ms/sample - loss: 0.1126 - accuracy: 0.9617 - val_loss: 0.0109 - val_accuracy: 0.9955\n",
      "Epoch 3/2000\n",
      "83072/83089 [============================>.] - ETA: 0s - loss: 0.1007 - accuracy: 0.9652\n",
      "Epoch 00003: val_accuracy improved from 0.99649 to 0.99653, saving model to f-res/best_model.hdf5\n",
      "83089/83089 [==============================] - 346s 4ms/sample - loss: 0.1008 - accuracy: 0.9652 - val_loss: 0.0075 - val_accuracy: 0.9965\n",
      "Epoch 4/2000\n",
      "83072/83089 [============================>.] - ETA: 0s - loss: 0.0906 - accuracy: 0.9688\n",
      "Epoch 00004: val_accuracy improved from 0.99653 to 0.99832, saving model to f-res/best_model.hdf5\n",
      "83089/83089 [==============================] - 339s 4ms/sample - loss: 0.0906 - accuracy: 0.9688 - val_loss: 0.0048 - val_accuracy: 0.9983\n",
      "Epoch 5/2000\n",
      "83072/83089 [============================>.] - ETA: 0s - loss: 0.0816 - accuracy: 0.9717\n",
      "Epoch 00005: val_accuracy did not improve from 0.99832\n",
      "83089/83089 [==============================] - 339s 4ms/sample - loss: 0.0816 - accuracy: 0.9717 - val_loss: 0.0103 - val_accuracy: 0.9957\n",
      "Epoch 6/2000\n",
      "83072/83089 [============================>.] - ETA: 0s - loss: 0.0738 - accuracy: 0.9740\n",
      "Epoch 00006: val_accuracy did not improve from 0.99832\n",
      "83089/83089 [==============================] - 338s 4ms/sample - loss: 0.0738 - accuracy: 0.9740 - val_loss: 0.0062 - val_accuracy: 0.9978\n",
      "Epoch 7/2000\n",
      "83072/83089 [============================>.] - ETA: 0s - loss: 0.0659 - accuracy: 0.9768\n",
      "Epoch 00007: val_accuracy did not improve from 0.99832\n",
      "83089/83089 [==============================] - 343s 4ms/sample - loss: 0.0659 - accuracy: 0.9768 - val_loss: 0.0080 - val_accuracy: 0.9968\n",
      "Epoch 8/2000\n",
      "83072/83089 [============================>.] - ETA: 0s - loss: 0.0572 - accuracy: 0.9799\n",
      "Epoch 00008: val_accuracy did not improve from 0.99832\n",
      "83089/83089 [==============================] - 328s 4ms/sample - loss: 0.0572 - accuracy: 0.9799 - val_loss: 0.0067 - val_accuracy: 0.9976\n",
      "Epoch 9/2000\n",
      "83072/83089 [============================>.] - ETA: 0s - loss: 0.0548 - accuracy: 0.9813\n",
      "Epoch 00009: val_accuracy did not improve from 0.99832\n",
      "83089/83089 [==============================] - 307s 4ms/sample - loss: 0.0548 - accuracy: 0.9813 - val_loss: 0.0059 - val_accuracy: 0.9976\n",
      "Epoch 10/2000\n",
      "83072/83089 [============================>.] - ETA: 0s - loss: 0.0481 - accuracy: 0.9828\n",
      "Epoch 00010: val_accuracy did not improve from 0.99832\n",
      "83089/83089 [==============================] - 306s 4ms/sample - loss: 0.0481 - accuracy: 0.9828 - val_loss: 0.0080 - val_accuracy: 0.9973\n",
      "Epoch 11/2000\n",
      "83072/83089 [============================>.] - ETA: 0s - loss: 0.0460 - accuracy: 0.9841\n",
      "Epoch 00011: val_accuracy did not improve from 0.99832\n",
      "83089/83089 [==============================] - 308s 4ms/sample - loss: 0.0460 - accuracy: 0.9841 - val_loss: 0.0107 - val_accuracy: 0.9965\n",
      "Epoch 12/2000\n",
      "83072/83089 [============================>.] - ETA: 0s - loss: 0.0402 - accuracy: 0.9860\n",
      "Epoch 00012: val_accuracy did not improve from 0.99832\n",
      "83089/83089 [==============================] - 313s 4ms/sample - loss: 0.0402 - accuracy: 0.9860 - val_loss: 0.0088 - val_accuracy: 0.9967\n",
      "Epoch 13/2000\n",
      "83072/83089 [============================>.] - ETA: 0s - loss: 0.0334 - accuracy: 0.9880\n",
      "Epoch 00013: val_accuracy did not improve from 0.99832\n",
      "83089/83089 [==============================] - 305s 4ms/sample - loss: 0.0334 - accuracy: 0.9880 - val_loss: 0.0115 - val_accuracy: 0.9966\n",
      "Epoch 14/2000\n",
      "83072/83089 [============================>.] - ETA: 0s - loss: 0.0342 - accuracy: 0.9882\n",
      "Epoch 00014: val_accuracy did not improve from 0.99832\n",
      "83089/83089 [==============================] - 307s 4ms/sample - loss: 0.0342 - accuracy: 0.9882 - val_loss: 0.0090 - val_accuracy: 0.9965\n",
      "Epoch 15/2000\n",
      "83072/83089 [============================>.] - ETA: 0s - loss: 0.0315 - accuracy: 0.9888\n",
      "Epoch 00015: val_accuracy did not improve from 0.99832\n",
      "83089/83089 [==============================] - 308s 4ms/sample - loss: 0.0315 - accuracy: 0.9888 - val_loss: 0.0101 - val_accuracy: 0.9978\n",
      "Epoch 16/2000\n",
      "83072/83089 [============================>.] - ETA: 0s - loss: 0.0288 - accuracy: 0.9898\n",
      "Epoch 00016: val_accuracy did not improve from 0.99832\n",
      "83089/83089 [==============================] - 315s 4ms/sample - loss: 0.0288 - accuracy: 0.9898 - val_loss: 0.0119 - val_accuracy: 0.9968\n",
      "Epoch 17/2000\n",
      "83072/83089 [============================>.] - ETA: 0s - loss: 0.0281 - accuracy: 0.9904\n",
      "Epoch 00017: val_accuracy did not improve from 0.99832\n",
      "83089/83089 [==============================] - 369s 4ms/sample - loss: 0.0281 - accuracy: 0.9904 - val_loss: 0.0118 - val_accuracy: 0.9970\n",
      "Epoch 18/2000\n",
      "83072/83089 [============================>.] - ETA: 0s - loss: 0.0235 - accuracy: 0.9916\n",
      "Epoch 00018: val_accuracy did not improve from 0.99832\n",
      "83089/83089 [==============================] - 370s 4ms/sample - loss: 0.0235 - accuracy: 0.9916 - val_loss: 0.0130 - val_accuracy: 0.9972\n",
      "Epoch 19/2000\n",
      "83072/83089 [============================>.] - ETA: 0s - loss: 0.0239 - accuracy: 0.9920\n",
      "Epoch 00019: val_accuracy did not improve from 0.99832\n",
      "83089/83089 [==============================] - 372s 4ms/sample - loss: 0.0239 - accuracy: 0.9920 - val_loss: 0.0131 - val_accuracy: 0.9962\n",
      "Epoch 20/2000\n",
      "83072/83089 [============================>.] - ETA: 0s - loss: 0.0237 - accuracy: 0.9921\n",
      "Epoch 00020: val_accuracy did not improve from 0.99832\n",
      "83089/83089 [==============================] - 381s 5ms/sample - loss: 0.0237 - accuracy: 0.9921 - val_loss: 0.0138 - val_accuracy: 0.9975\n",
      "Epoch 21/2000\n",
      "83072/83089 [============================>.] - ETA: 0s - loss: 0.0220 - accuracy: 0.9927\n",
      "Epoch 00021: val_accuracy did not improve from 0.99832\n",
      "83089/83089 [==============================] - 373s 4ms/sample - loss: 0.0220 - accuracy: 0.9927 - val_loss: 0.0101 - val_accuracy: 0.9977\n",
      "Epoch 22/2000\n",
      "83072/83089 [============================>.] - ETA: 0s - loss: 0.0214 - accuracy: 0.9930\n",
      "Epoch 00022: val_accuracy did not improve from 0.99832\n",
      "83089/83089 [==============================] - 373s 4ms/sample - loss: 0.0214 - accuracy: 0.9930 - val_loss: 0.0160 - val_accuracy: 0.9957\n",
      "Epoch 23/2000\n",
      "83072/83089 [============================>.] - ETA: 0s - loss: 0.0215 - accuracy: 0.9929\n",
      "Epoch 00023: val_accuracy did not improve from 0.99832\n",
      "83089/83089 [==============================] - 382s 5ms/sample - loss: 0.0214 - accuracy: 0.9929 - val_loss: 0.0114 - val_accuracy: 0.9972\n",
      "Epoch 24/2000\n",
      "83072/83089 [============================>.] - ETA: 0s - loss: 0.0199 - accuracy: 0.9936\n",
      "Epoch 00024: val_accuracy did not improve from 0.99832\n",
      "83089/83089 [==============================] - 375s 5ms/sample - loss: 0.0199 - accuracy: 0.9936 - val_loss: 0.0156 - val_accuracy: 0.9967\n",
      "Epoch 25/2000\n",
      "83072/83089 [============================>.] - ETA: 0s - loss: 0.0185 - accuracy: 0.9939\n",
      "Epoch 00025: val_accuracy did not improve from 0.99832\n",
      "83089/83089 [==============================] - 373s 4ms/sample - loss: 0.0185 - accuracy: 0.9939 - val_loss: 0.0186 - val_accuracy: 0.9958\n",
      "Epoch 26/2000\n",
      "83072/83089 [============================>.] - ETA: 0s - loss: 0.0187 - accuracy: 0.9940\n",
      "Epoch 00026: val_accuracy did not improve from 0.99832\n",
      "83089/83089 [==============================] - 372s 4ms/sample - loss: 0.0187 - accuracy: 0.9940 - val_loss: 0.0124 - val_accuracy: 0.9969\n",
      "Epoch 27/2000\n",
      "83072/83089 [============================>.] - ETA: 0s - loss: 0.0194 - accuracy: 0.9939\n",
      "Epoch 00027: val_accuracy did not improve from 0.99832\n",
      "83089/83089 [==============================] - 384s 5ms/sample - loss: 0.0194 - accuracy: 0.9939 - val_loss: 0.0118 - val_accuracy: 0.9963\n",
      "Epoch 28/2000\n"
     ]
    },
    {
     "name": "stdout",
     "output_type": "stream",
     "text": [
      "83072/83089 [============================>.] - ETA: 0s - loss: 0.0173 - accuracy: 0.9949\n",
      "Epoch 00028: val_accuracy did not improve from 0.99832\n",
      "83089/83089 [==============================] - 377s 5ms/sample - loss: 0.0172 - accuracy: 0.9949 - val_loss: 0.0086 - val_accuracy: 0.9976\n",
      "Epoch 29/2000\n",
      "83072/83089 [============================>.] - ETA: 0s - loss: 0.0179 - accuracy: 0.9944\n",
      "Epoch 00029: val_accuracy did not improve from 0.99832\n",
      "83089/83089 [==============================] - 374s 5ms/sample - loss: 0.0179 - accuracy: 0.9944 - val_loss: 0.0226 - val_accuracy: 0.9947\n",
      "Epoch 30/2000\n",
      "83072/83089 [============================>.] - ETA: 0s - loss: 0.0186 - accuracy: 0.9942\n",
      "Epoch 00030: val_accuracy did not improve from 0.99832\n",
      "83089/83089 [==============================] - 376s 5ms/sample - loss: 0.0186 - accuracy: 0.9942 - val_loss: 0.0185 - val_accuracy: 0.9963\n",
      "Epoch 31/2000\n",
      "83072/83089 [============================>.] - ETA: 0s - loss: 0.0162 - accuracy: 0.9948\n",
      "Epoch 00031: val_accuracy did not improve from 0.99832\n",
      "83089/83089 [==============================] - 382s 5ms/sample - loss: 0.0162 - accuracy: 0.9948 - val_loss: 0.0162 - val_accuracy: 0.9963\n",
      "Epoch 32/2000\n",
      "83072/83089 [============================>.] - ETA: 0s - loss: 0.0161 - accuracy: 0.9950\n",
      "Epoch 00032: val_accuracy did not improve from 0.99832\n",
      "83089/83089 [==============================] - 375s 5ms/sample - loss: 0.0162 - accuracy: 0.9950 - val_loss: 0.0152 - val_accuracy: 0.9971\n",
      "Epoch 33/2000\n",
      "83072/83089 [============================>.] - ETA: 0s - loss: 0.0154 - accuracy: 0.9953\n",
      "Epoch 00033: val_accuracy did not improve from 0.99832\n",
      "83089/83089 [==============================] - 377s 5ms/sample - loss: 0.0154 - accuracy: 0.9953 - val_loss: 0.0151 - val_accuracy: 0.9974\n",
      "Epoch 34/2000\n",
      "83072/83089 [============================>.] - ETA: 0s - loss: 0.0157 - accuracy: 0.9954\n",
      "Epoch 00034: val_accuracy did not improve from 0.99832\n",
      "83089/83089 [==============================] - 384s 5ms/sample - loss: 0.0157 - accuracy: 0.9954 - val_loss: 0.0173 - val_accuracy: 0.9967\n",
      "Epoch 35/2000\n",
      "83072/83089 [============================>.] - ETA: 0s - loss: 0.0153 - accuracy: 0.9955\n",
      "Epoch 00035: val_accuracy did not improve from 0.99832\n",
      "83089/83089 [==============================] - 375s 5ms/sample - loss: 0.0153 - accuracy: 0.9955 - val_loss: 0.0184 - val_accuracy: 0.9964\n",
      "Epoch 36/2000\n",
      "83072/83089 [============================>.] - ETA: 0s - loss: 0.0154 - accuracy: 0.9954\n",
      "Epoch 00036: val_accuracy did not improve from 0.99832\n",
      "83089/83089 [==============================] - 375s 5ms/sample - loss: 0.0154 - accuracy: 0.9954 - val_loss: 0.0183 - val_accuracy: 0.9966\n",
      "Epoch 37/2000\n",
      "83072/83089 [============================>.] - ETA: 0s - loss: 0.0148 - accuracy: 0.9957\n",
      "Epoch 00037: val_accuracy did not improve from 0.99832\n",
      "83089/83089 [==============================] - 376s 5ms/sample - loss: 0.0148 - accuracy: 0.9957 - val_loss: 0.0158 - val_accuracy: 0.9965\n",
      "Epoch 38/2000\n",
      "83072/83089 [============================>.] - ETA: 0s - loss: 0.0133 - accuracy: 0.9961\n",
      "Epoch 00038: val_accuracy did not improve from 0.99832\n",
      "83089/83089 [==============================] - 384s 5ms/sample - loss: 0.0133 - accuracy: 0.9961 - val_loss: 0.0130 - val_accuracy: 0.9966\n",
      "Epoch 39/2000\n",
      "83072/83089 [============================>.] - ETA: 0s - loss: 0.0145 - accuracy: 0.9957\n",
      "Epoch 00039: val_accuracy did not improve from 0.99832\n",
      "83089/83089 [==============================] - 376s 5ms/sample - loss: 0.0144 - accuracy: 0.9957 - val_loss: 0.0206 - val_accuracy: 0.9960\n",
      "Epoch 40/2000\n",
      "83072/83089 [============================>.] - ETA: 0s - loss: 0.0131 - accuracy: 0.9963\n",
      "Epoch 00040: val_accuracy did not improve from 0.99832\n",
      "83089/83089 [==============================] - 377s 5ms/sample - loss: 0.0131 - accuracy: 0.9963 - val_loss: 0.0157 - val_accuracy: 0.9969\n",
      "Epoch 41/2000\n",
      "83072/83089 [============================>.] - ETA: 0s - loss: 0.0144 - accuracy: 0.9957\n",
      "Epoch 00041: val_accuracy did not improve from 0.99832\n",
      "83089/83089 [==============================] - 378s 5ms/sample - loss: 0.0144 - accuracy: 0.9957 - val_loss: 0.0113 - val_accuracy: 0.9980\n",
      "Epoch 42/2000\n",
      "83072/83089 [============================>.] - ETA: 0s - loss: 0.0139 - accuracy: 0.9958\n",
      "Epoch 00042: val_accuracy did not improve from 0.99832\n",
      "83089/83089 [==============================] - 382s 5ms/sample - loss: 0.0139 - accuracy: 0.9958 - val_loss: 0.0203 - val_accuracy: 0.9960\n",
      "Epoch 43/2000\n",
      "83072/83089 [============================>.] - ETA: 0s - loss: 0.0148 - accuracy: 0.9957\n",
      "Epoch 00043: val_accuracy did not improve from 0.99832\n",
      "83089/83089 [==============================] - 375s 5ms/sample - loss: 0.0148 - accuracy: 0.9957 - val_loss: 0.0172 - val_accuracy: 0.9968\n",
      "Epoch 44/2000\n",
      "83072/83089 [============================>.] - ETA: 0s - loss: 0.0137 - accuracy: 0.9962\n",
      "Epoch 00044: val_accuracy did not improve from 0.99832\n",
      "83089/83089 [==============================] - 377s 5ms/sample - loss: 0.0137 - accuracy: 0.9962 - val_loss: 0.0267 - val_accuracy: 0.9948\n",
      "Epoch 45/2000\n",
      "83072/83089 [============================>.] - ETA: 0s - loss: 0.0136 - accuracy: 0.9960\n",
      "Epoch 00045: val_accuracy did not improve from 0.99832\n",
      "83089/83089 [==============================] - 381s 5ms/sample - loss: 0.0136 - accuracy: 0.9960 - val_loss: 0.0157 - val_accuracy: 0.9971\n",
      "Epoch 46/2000\n",
      "83072/83089 [============================>.] - ETA: 0s - loss: 0.0135 - accuracy: 0.9962\n",
      "Epoch 00046: val_accuracy did not improve from 0.99832\n",
      "83089/83089 [==============================] - 379s 5ms/sample - loss: 0.0135 - accuracy: 0.9962 - val_loss: 0.0190 - val_accuracy: 0.9957\n",
      "Epoch 47/2000\n",
      "83072/83089 [============================>.] - ETA: 0s - loss: 0.0140 - accuracy: 0.9959\n",
      "Epoch 00047: val_accuracy did not improve from 0.99832\n",
      "83089/83089 [==============================] - 375s 5ms/sample - loss: 0.0140 - accuracy: 0.9959 - val_loss: 0.0145 - val_accuracy: 0.9963\n",
      "Epoch 48/2000\n",
      "83072/83089 [============================>.] - ETA: 0s - loss: 0.0127 - accuracy: 0.9964\n",
      "Epoch 00048: val_accuracy did not improve from 0.99832\n",
      "83089/83089 [==============================] - 378s 5ms/sample - loss: 0.0127 - accuracy: 0.9964 - val_loss: 0.0243 - val_accuracy: 0.9950\n",
      "Epoch 49/2000\n",
      "83072/83089 [============================>.] - ETA: 0s - loss: 0.0116 - accuracy: 0.9967\n",
      "Epoch 00049: val_accuracy did not improve from 0.99832\n",
      "83089/83089 [==============================] - 383s 5ms/sample - loss: 0.0116 - accuracy: 0.9967 - val_loss: 0.0203 - val_accuracy: 0.9963\n",
      "Epoch 50/2000\n",
      "83072/83089 [============================>.] - ETA: 0s - loss: 0.0136 - accuracy: 0.9962\n",
      "Epoch 00050: val_accuracy did not improve from 0.99832\n",
      "83089/83089 [==============================] - 376s 5ms/sample - loss: 0.0136 - accuracy: 0.9962 - val_loss: 0.0140 - val_accuracy: 0.9974\n",
      "Epoch 51/2000\n",
      "83072/83089 [============================>.] - ETA: 0s - loss: 0.0150 - accuracy: 0.9960\n",
      "Epoch 00051: val_accuracy did not improve from 0.99832\n",
      "83089/83089 [==============================] - 377s 5ms/sample - loss: 0.0150 - accuracy: 0.9960 - val_loss: 0.0114 - val_accuracy: 0.9968\n",
      "Epoch 52/2000\n",
      "83072/83089 [============================>.] - ETA: 0s - loss: 0.0128 - accuracy: 0.9964\n",
      "Epoch 00052: val_accuracy did not improve from 0.99832\n",
      "83089/83089 [==============================] - 376s 5ms/sample - loss: 0.0128 - accuracy: 0.9964 - val_loss: 0.0157 - val_accuracy: 0.9965\n",
      "Epoch 53/2000\n",
      "83072/83089 [============================>.] - ETA: 0s - loss: 0.0128 - accuracy: 0.9965\n",
      "Epoch 00053: val_accuracy did not improve from 0.99832\n",
      "83089/83089 [==============================] - 385s 5ms/sample - loss: 0.0128 - accuracy: 0.9965 - val_loss: 0.0164 - val_accuracy: 0.9965\n",
      "Epoch 54/2000\n",
      "83072/83089 [============================>.] - ETA: 0s - loss: 0.0105 - accuracy: 0.9972\n",
      "Epoch 00054: val_accuracy did not improve from 0.99832\n",
      "83089/83089 [==============================] - 378s 5ms/sample - loss: 0.0105 - accuracy: 0.9972 - val_loss: 0.0213 - val_accuracy: 0.9964\n",
      "Epoch 55/2000\n",
      "83072/83089 [============================>.] - ETA: 0s - loss: 0.0127 - accuracy: 0.9967\n",
      "Epoch 00055: val_accuracy did not improve from 0.99832\n",
      "83089/83089 [==============================] - 376s 5ms/sample - loss: 0.0127 - accuracy: 0.9967 - val_loss: 0.0254 - val_accuracy: 0.9961\n"
     ]
    },
    {
     "name": "stdout",
     "output_type": "stream",
     "text": [
      "Epoch 56/2000\n",
      "83072/83089 [============================>.] - ETA: 0s - loss: 0.0120 - accuracy: 0.9967\n",
      "Epoch 00056: val_accuracy did not improve from 0.99832\n",
      "83089/83089 [==============================] - 382s 5ms/sample - loss: 0.0120 - accuracy: 0.9967 - val_loss: 0.0238 - val_accuracy: 0.9969\n",
      "Epoch 57/2000\n",
      "83072/83089 [============================>.] - ETA: 0s - loss: 0.0126 - accuracy: 0.9967\n",
      "Epoch 00057: val_accuracy did not improve from 0.99832\n",
      "83089/83089 [==============================] - 384s 5ms/sample - loss: 0.0126 - accuracy: 0.9967 - val_loss: 0.0182 - val_accuracy: 0.9967\n",
      "Epoch 58/2000\n",
      "83072/83089 [============================>.] - ETA: 0s - loss: 0.0122 - accuracy: 0.9968\n",
      "Epoch 00058: val_accuracy did not improve from 0.99832\n",
      "83089/83089 [==============================] - 382s 5ms/sample - loss: 0.0122 - accuracy: 0.9968 - val_loss: 0.0152 - val_accuracy: 0.9965\n",
      "Epoch 59/2000\n",
      "83072/83089 [============================>.] - ETA: 0s - loss: 0.0113 - accuracy: 0.9970\n",
      "Epoch 00059: val_accuracy did not improve from 0.99832\n",
      "83089/83089 [==============================] - 373s 4ms/sample - loss: 0.0113 - accuracy: 0.9970 - val_loss: 0.0218 - val_accuracy: 0.9961\n",
      "Epoch 60/2000\n",
      "83072/83089 [============================>.] - ETA: 0s - loss: 0.0119 - accuracy: 0.9970\n",
      "Epoch 00060: val_accuracy did not improve from 0.99832\n",
      "83089/83089 [==============================] - 313s 4ms/sample - loss: 0.0119 - accuracy: 0.9970 - val_loss: 0.0273 - val_accuracy: 0.9955\n",
      "Epoch 61/2000\n",
      "83072/83089 [============================>.] - ETA: 0s - loss: 0.0122 - accuracy: 0.9966\n",
      "Epoch 00061: val_accuracy did not improve from 0.99832\n",
      "83089/83089 [==============================] - 307s 4ms/sample - loss: 0.0122 - accuracy: 0.9966 - val_loss: 0.0272 - val_accuracy: 0.9954\n",
      "Epoch 62/2000\n",
      "83072/83089 [============================>.] - ETA: 0s - loss: 0.0112 - accuracy: 0.9970\n",
      "Epoch 00062: val_accuracy did not improve from 0.99832\n",
      "83089/83089 [==============================] - 306s 4ms/sample - loss: 0.0112 - accuracy: 0.9970 - val_loss: 0.0219 - val_accuracy: 0.9959\n",
      "Epoch 63/2000\n",
      "83072/83089 [============================>.] - ETA: 0s - loss: 0.0107 - accuracy: 0.9970\n",
      "Epoch 00063: val_accuracy did not improve from 0.99832\n",
      "83089/83089 [==============================] - 305s 4ms/sample - loss: 0.0107 - accuracy: 0.9970 - val_loss: 0.0221 - val_accuracy: 0.9958\n",
      "Epoch 64/2000\n",
      "83072/83089 [============================>.] - ETA: 0s - loss: 0.0117 - accuracy: 0.9970\n",
      "Epoch 00064: val_accuracy did not improve from 0.99832\n",
      "83089/83089 [==============================] - 313s 4ms/sample - loss: 0.0117 - accuracy: 0.9970 - val_loss: 0.0300 - val_accuracy: 0.9942\n",
      "Epoch 65/2000\n",
      "83072/83089 [============================>.] - ETA: 0s - loss: 0.0124 - accuracy: 0.9968\n",
      "Epoch 00065: val_accuracy did not improve from 0.99832\n",
      "83089/83089 [==============================] - 307s 4ms/sample - loss: 0.0124 - accuracy: 0.9968 - val_loss: 0.0244 - val_accuracy: 0.9961\n",
      "Epoch 66/2000\n",
      "83072/83089 [============================>.] - ETA: 0s - loss: 0.0111 - accuracy: 0.9971\n",
      "Epoch 00066: val_accuracy did not improve from 0.99832\n",
      "83089/83089 [==============================] - 307s 4ms/sample - loss: 0.0111 - accuracy: 0.9971 - val_loss: 0.0260 - val_accuracy: 0.9950\n",
      "Epoch 67/2000\n",
      "83072/83089 [============================>.] - ETA: 0s - loss: 0.0098 - accuracy: 0.9974\n",
      "Epoch 00067: val_accuracy did not improve from 0.99832\n",
      "83089/83089 [==============================] - 306s 4ms/sample - loss: 0.0098 - accuracy: 0.9974 - val_loss: 0.0260 - val_accuracy: 0.9952\n",
      "Epoch 68/2000\n",
      "83072/83089 [============================>.] - ETA: 0s - loss: 0.0123 - accuracy: 0.9971\n",
      "Epoch 00068: val_accuracy did not improve from 0.99832\n",
      "83089/83089 [==============================] - 305s 4ms/sample - loss: 0.0123 - accuracy: 0.9971 - val_loss: 0.0231 - val_accuracy: 0.9963\n",
      "Epoch 69/2000\n",
      "83072/83089 [============================>.] - ETA: 0s - loss: 0.0109 - accuracy: 0.9970\n",
      "Epoch 00069: val_accuracy did not improve from 0.99832\n",
      "83089/83089 [==============================] - 312s 4ms/sample - loss: 0.0109 - accuracy: 0.9970 - val_loss: 0.0287 - val_accuracy: 0.9935\n",
      "Epoch 70/2000\n",
      "83072/83089 [============================>.] - ETA: 0s - loss: 0.0122 - accuracy: 0.9967\n",
      "Epoch 00070: val_accuracy did not improve from 0.99832\n",
      "83089/83089 [==============================] - 305s 4ms/sample - loss: 0.0122 - accuracy: 0.9968 - val_loss: 0.0188 - val_accuracy: 0.9957\n",
      "Epoch 71/2000\n",
      "83072/83089 [============================>.] - ETA: 0s - loss: 0.0100 - accuracy: 0.9976\n",
      "Epoch 00071: val_accuracy did not improve from 0.99832\n",
      "83089/83089 [==============================] - 306s 4ms/sample - loss: 0.0100 - accuracy: 0.9976 - val_loss: 0.0182 - val_accuracy: 0.9960\n",
      "Epoch 72/2000\n",
      "83072/83089 [============================>.] - ETA: 0s - loss: 0.0121 - accuracy: 0.9971\n",
      "Epoch 00072: val_accuracy did not improve from 0.99832\n",
      "83089/83089 [==============================] - 304s 4ms/sample - loss: 0.0121 - accuracy: 0.9971 - val_loss: 0.0226 - val_accuracy: 0.9950\n",
      "Epoch 73/2000\n",
      "83072/83089 [============================>.] - ETA: 0s - loss: 0.0101 - accuracy: 0.9971\n",
      "Epoch 00073: val_accuracy did not improve from 0.99832\n",
      "83089/83089 [==============================] - 312s 4ms/sample - loss: 0.0101 - accuracy: 0.9971 - val_loss: 0.0213 - val_accuracy: 0.9951\n",
      "Epoch 74/2000\n",
      "83072/83089 [============================>.] - ETA: 0s - loss: 0.0129 - accuracy: 0.9970\n",
      "Epoch 00074: val_accuracy did not improve from 0.99832\n",
      "83089/83089 [==============================] - 306s 4ms/sample - loss: 0.0129 - accuracy: 0.9970 - val_loss: 0.0200 - val_accuracy: 0.9956\n",
      "Epoch 75/2000\n",
      "83072/83089 [============================>.] - ETA: 0s - loss: 0.0111 - accuracy: 0.9974\n",
      "Epoch 00075: val_accuracy did not improve from 0.99832\n",
      "83089/83089 [==============================] - 306s 4ms/sample - loss: 0.0111 - accuracy: 0.9974 - val_loss: 0.0270 - val_accuracy: 0.9936\n",
      "Epoch 76/2000\n",
      "83072/83089 [============================>.] - ETA: 0s - loss: 0.0098 - accuracy: 0.9974\n",
      "Epoch 00076: val_accuracy did not improve from 0.99832\n",
      "83089/83089 [==============================] - 306s 4ms/sample - loss: 0.0098 - accuracy: 0.9974 - val_loss: 0.0295 - val_accuracy: 0.9921\n",
      "Epoch 77/2000\n",
      "83072/83089 [============================>.] - ETA: 0s - loss: 0.0085 - accuracy: 0.9981\n",
      "Epoch 00077: val_accuracy did not improve from 0.99832\n",
      "83089/83089 [==============================] - 313s 4ms/sample - loss: 0.0085 - accuracy: 0.9981 - val_loss: 0.0279 - val_accuracy: 0.9944\n",
      "Epoch 78/2000\n",
      "83072/83089 [============================>.] - ETA: 0s - loss: 0.0115 - accuracy: 0.9969\n",
      "Epoch 00078: val_accuracy did not improve from 0.99832\n",
      "83089/83089 [==============================] - 306s 4ms/sample - loss: 0.0115 - accuracy: 0.9969 - val_loss: 0.0318 - val_accuracy: 0.9923\n",
      "Epoch 79/2000\n",
      "83072/83089 [============================>.] - ETA: 0s - loss: 0.0101 - accuracy: 0.9972\n",
      "Epoch 00079: val_accuracy did not improve from 0.99832\n",
      "83089/83089 [==============================] - 305s 4ms/sample - loss: 0.0101 - accuracy: 0.9972 - val_loss: 0.0283 - val_accuracy: 0.9938\n",
      "Epoch 80/2000\n",
      "83072/83089 [============================>.] - ETA: 0s - loss: 0.0102 - accuracy: 0.9974\n",
      "Epoch 00080: val_accuracy did not improve from 0.99832\n",
      "83089/83089 [==============================] - 305s 4ms/sample - loss: 0.0102 - accuracy: 0.9974 - val_loss: 0.0202 - val_accuracy: 0.9954\n",
      "Epoch 81/2000\n",
      "83072/83089 [============================>.] - ETA: 0s - loss: 0.0108 - accuracy: 0.9971\n",
      "Epoch 00081: val_accuracy did not improve from 0.99832\n",
      "83089/83089 [==============================] - 313s 4ms/sample - loss: 0.0108 - accuracy: 0.9971 - val_loss: 0.0284 - val_accuracy: 0.9933\n",
      "Epoch 82/2000\n",
      "83072/83089 [============================>.] - ETA: 0s - loss: 0.0105 - accuracy: 0.9975\n",
      "Epoch 00082: val_accuracy did not improve from 0.99832\n",
      "83089/83089 [==============================] - 307s 4ms/sample - loss: 0.0105 - accuracy: 0.9975 - val_loss: 0.0346 - val_accuracy: 0.9923\n",
      "Epoch 83/2000\n",
      "83072/83089 [============================>.] - ETA: 0s - loss: 0.0101 - accuracy: 0.9973\n",
      "Epoch 00083: val_accuracy did not improve from 0.99832\n",
      "83089/83089 [==============================] - 306s 4ms/sample - loss: 0.0101 - accuracy: 0.9973 - val_loss: 0.0180 - val_accuracy: 0.9968\n"
     ]
    },
    {
     "name": "stdout",
     "output_type": "stream",
     "text": [
      "Epoch 84/2000\n",
      "83072/83089 [============================>.] - ETA: 0s - loss: 0.0106 - accuracy: 0.9975\n",
      "Epoch 00084: val_accuracy did not improve from 0.99832\n",
      "83089/83089 [==============================] - 307s 4ms/sample - loss: 0.0106 - accuracy: 0.9975 - val_loss: 0.0227 - val_accuracy: 0.9960\n",
      "Epoch 85/2000\n",
      "83072/83089 [============================>.] - ETA: 0s - loss: 0.0108 - accuracy: 0.9978\n",
      "Epoch 00085: val_accuracy did not improve from 0.99832\n",
      "83089/83089 [==============================] - 313s 4ms/sample - loss: 0.0108 - accuracy: 0.9978 - val_loss: 0.0395 - val_accuracy: 0.9939\n",
      "Epoch 86/2000\n",
      "83072/83089 [============================>.] - ETA: 0s - loss: 0.0108 - accuracy: 0.9975\n",
      "Epoch 00086: val_accuracy did not improve from 0.99832\n",
      "83089/83089 [==============================] - 306s 4ms/sample - loss: 0.0108 - accuracy: 0.9975 - val_loss: 0.0206 - val_accuracy: 0.9966\n",
      "Epoch 87/2000\n",
      "83072/83089 [============================>.] - ETA: 0s - loss: 0.0103 - accuracy: 0.9974\n",
      "Epoch 00087: val_accuracy did not improve from 0.99832\n",
      "83089/83089 [==============================] - 306s 4ms/sample - loss: 0.0103 - accuracy: 0.9974 - val_loss: 0.0286 - val_accuracy: 0.9936\n",
      "Epoch 88/2000\n",
      "83072/83089 [============================>.] - ETA: 0s - loss: 0.0104 - accuracy: 0.9976\n",
      "Epoch 00088: val_accuracy did not improve from 0.99832\n",
      "83089/83089 [==============================] - 306s 4ms/sample - loss: 0.0104 - accuracy: 0.9976 - val_loss: 0.0271 - val_accuracy: 0.9946\n",
      "Epoch 89/2000\n",
      "83072/83089 [============================>.] - ETA: 0s - loss: 0.0114 - accuracy: 0.9973\n",
      "Epoch 00089: val_accuracy did not improve from 0.99832\n",
      "83089/83089 [==============================] - 311s 4ms/sample - loss: 0.0114 - accuracy: 0.9973 - val_loss: 0.0188 - val_accuracy: 0.9965\n",
      "Epoch 90/2000\n",
      "83072/83089 [============================>.] - ETA: 0s - loss: 0.0104 - accuracy: 0.9977\n",
      "Epoch 00090: val_accuracy did not improve from 0.99832\n",
      "83089/83089 [==============================] - 307s 4ms/sample - loss: 0.0104 - accuracy: 0.9977 - val_loss: 0.0256 - val_accuracy: 0.9951\n",
      "Epoch 91/2000\n",
      "83072/83089 [============================>.] - ETA: 0s - loss: 0.0101 - accuracy: 0.9977\n",
      "Epoch 00091: val_accuracy did not improve from 0.99832\n",
      "83089/83089 [==============================] - 306s 4ms/sample - loss: 0.0101 - accuracy: 0.9977 - val_loss: 0.0234 - val_accuracy: 0.9954\n",
      "Epoch 92/2000\n",
      "83072/83089 [============================>.] - ETA: 0s - loss: 0.0106 - accuracy: 0.9974\n",
      "Epoch 00092: val_accuracy did not improve from 0.99832\n",
      "83089/83089 [==============================] - 305s 4ms/sample - loss: 0.0106 - accuracy: 0.9974 - val_loss: 0.0219 - val_accuracy: 0.9961\n",
      "Epoch 93/2000\n",
      "83072/83089 [============================>.] - ETA: 0s - loss: 0.0097 - accuracy: 0.9973\n",
      "Epoch 00093: val_accuracy did not improve from 0.99832\n",
      "83089/83089 [==============================] - 305s 4ms/sample - loss: 0.0097 - accuracy: 0.9973 - val_loss: 0.0227 - val_accuracy: 0.9958\n",
      "Epoch 94/2000\n",
      "83072/83089 [============================>.] - ETA: 0s - loss: 0.0104 - accuracy: 0.9974\n",
      "Epoch 00094: val_accuracy did not improve from 0.99832\n",
      "83089/83089 [==============================] - 313s 4ms/sample - loss: 0.0105 - accuracy: 0.9974 - val_loss: 0.0301 - val_accuracy: 0.9935\n",
      "Epoch 95/2000\n",
      "83072/83089 [============================>.] - ETA: 0s - loss: 0.0094 - accuracy: 0.9977\n",
      "Epoch 00095: val_accuracy did not improve from 0.99832\n",
      "83089/83089 [==============================] - 306s 4ms/sample - loss: 0.0094 - accuracy: 0.9977 - val_loss: 0.0247 - val_accuracy: 0.9948\n",
      "Epoch 96/2000\n",
      "83072/83089 [============================>.] - ETA: 0s - loss: 0.0110 - accuracy: 0.9975\n",
      "Epoch 00096: val_accuracy did not improve from 0.99832\n",
      "83089/83089 [==============================] - 307s 4ms/sample - loss: 0.0110 - accuracy: 0.9975 - val_loss: 0.0151 - val_accuracy: 0.9968\n",
      "Epoch 97/2000\n",
      "83072/83089 [============================>.] - ETA: 0s - loss: 0.0101 - accuracy: 0.9976\n",
      "Epoch 00097: val_accuracy did not improve from 0.99832\n",
      "83089/83089 [==============================] - 308s 4ms/sample - loss: 0.0101 - accuracy: 0.9976 - val_loss: 0.0242 - val_accuracy: 0.9954\n",
      "Epoch 98/2000\n",
      "83072/83089 [============================>.] - ETA: 0s - loss: 0.0104 - accuracy: 0.9976\n",
      "Epoch 00098: val_accuracy did not improve from 0.99832\n",
      "83089/83089 [==============================] - 313s 4ms/sample - loss: 0.0104 - accuracy: 0.9976 - val_loss: 0.0254 - val_accuracy: 0.9958\n",
      "Epoch 99/2000\n",
      "83072/83089 [============================>.] - ETA: 0s - loss: 0.0109 - accuracy: 0.9973\n",
      "Epoch 00099: val_accuracy did not improve from 0.99832\n",
      "83089/83089 [==============================] - 307s 4ms/sample - loss: 0.0109 - accuracy: 0.9973 - val_loss: 0.0222 - val_accuracy: 0.9953\n",
      "Epoch 100/2000\n",
      "83072/83089 [============================>.] - ETA: 0s - loss: 0.0088 - accuracy: 0.9975\n",
      "Epoch 00100: val_accuracy did not improve from 0.99832\n",
      "83089/83089 [==============================] - 307s 4ms/sample - loss: 0.0088 - accuracy: 0.9975 - val_loss: 0.0228 - val_accuracy: 0.9948\n",
      "Epoch 101/2000\n",
      "83072/83089 [============================>.] - ETA: 0s - loss: 0.0087 - accuracy: 0.9977\n",
      "Epoch 00101: val_accuracy did not improve from 0.99832\n",
      "83089/83089 [==============================] - 307s 4ms/sample - loss: 0.0087 - accuracy: 0.9977 - val_loss: 0.0287 - val_accuracy: 0.9940\n",
      "Epoch 102/2000\n",
      "83072/83089 [============================>.] - ETA: 0s - loss: 0.0107 - accuracy: 0.9973\n",
      "Epoch 00102: val_accuracy did not improve from 0.99832\n",
      "83089/83089 [==============================] - 314s 4ms/sample - loss: 0.0107 - accuracy: 0.9973 - val_loss: 0.0257 - val_accuracy: 0.9958\n",
      "Epoch 103/2000\n",
      "83072/83089 [============================>.] - ETA: 0s - loss: 0.0087 - accuracy: 0.9978\n",
      "Epoch 00103: val_accuracy did not improve from 0.99832\n",
      "83089/83089 [==============================] - 307s 4ms/sample - loss: 0.0087 - accuracy: 0.9978 - val_loss: 0.0216 - val_accuracy: 0.9958\n",
      "Epoch 104/2000\n",
      "83072/83089 [============================>.] - ETA: 0s - loss: 0.0106 - accuracy: 0.9974\n",
      "Epoch 00104: val_accuracy did not improve from 0.99832\n",
      "83089/83089 [==============================] - 306s 4ms/sample - loss: 0.0105 - accuracy: 0.9974 - val_loss: 0.0205 - val_accuracy: 0.9954\n",
      "Epoch 00104: early stopping\n"
     ]
    }
   ],
   "source": [
    "#Model Fitting\n",
    "history = criticality_network.fit(\n",
    "            x = corpora_train_x, \n",
    "            y = target_train_y,\n",
    "            #batch_size=64,\n",
    "            epochs=2000, #5 <------ Hyperparameter\n",
    "            validation_split = 0.2,\n",
    "            callbacks=callbacks_list\n",
    ")"
   ]
  },
  {
   "cell_type": "code",
   "execution_count": null,
   "metadata": {},
   "outputs": [],
   "source": [
    "#Saving Training History\n",
    "df_history = pd.DataFrame.from_dict(history.history)\n",
    "df_history.to_csv('f-res/history_training.csv', encoding='utf-8',index=False)"
   ]
  },
  {
   "cell_type": "code",
   "execution_count": null,
   "metadata": {},
   "outputs": [
    {
     "data": {
      "text/html": [
       "<div>\n",
       "<style>\n",
       "    .dataframe thead tr:only-child th {\n",
       "        text-align: right;\n",
       "    }\n",
       "\n",
       "    .dataframe thead th {\n",
       "        text-align: left;\n",
       "    }\n",
       "\n",
       "    .dataframe tbody tr th {\n",
       "        vertical-align: top;\n",
       "    }\n",
       "</style>\n",
       "<table border=\"1\" class=\"dataframe\">\n",
       "  <thead>\n",
       "    <tr style=\"text-align: right;\">\n",
       "      <th></th>\n",
       "      <th>accuracy</th>\n",
       "      <th>loss</th>\n",
       "      <th>val_accuracy</th>\n",
       "      <th>val_loss</th>\n",
       "    </tr>\n",
       "  </thead>\n",
       "  <tbody>\n",
       "    <tr>\n",
       "      <th>0</th>\n",
       "      <td>0.947249</td>\n",
       "      <td>0.150975</td>\n",
       "      <td>0.996486</td>\n",
       "      <td>0.007508</td>\n",
       "    </tr>\n",
       "    <tr>\n",
       "      <th>1</th>\n",
       "      <td>0.961680</td>\n",
       "      <td>0.112626</td>\n",
       "      <td>0.995475</td>\n",
       "      <td>0.010928</td>\n",
       "    </tr>\n",
       "    <tr>\n",
       "      <th>2</th>\n",
       "      <td>0.965158</td>\n",
       "      <td>0.100765</td>\n",
       "      <td>0.996534</td>\n",
       "      <td>0.007520</td>\n",
       "    </tr>\n",
       "    <tr>\n",
       "      <th>3</th>\n",
       "      <td>0.968841</td>\n",
       "      <td>0.090637</td>\n",
       "      <td>0.998315</td>\n",
       "      <td>0.004767</td>\n",
       "    </tr>\n",
       "    <tr>\n",
       "      <th>4</th>\n",
       "      <td>0.971741</td>\n",
       "      <td>0.081611</td>\n",
       "      <td>0.995667</td>\n",
       "      <td>0.010286</td>\n",
       "    </tr>\n",
       "  </tbody>\n",
       "</table>\n",
       "</div>"
      ],
      "text/plain": [
       "   accuracy      loss  val_accuracy  val_loss\n",
       "0  0.947249  0.150975      0.996486  0.007508\n",
       "1  0.961680  0.112626      0.995475  0.010928\n",
       "2  0.965158  0.100765      0.996534  0.007520\n",
       "3  0.968841  0.090637      0.998315  0.004767\n",
       "4  0.971741  0.081611      0.995667  0.010286"
      ]
     },
     "execution_count": null,
     "metadata": {
      "tags": []
     },
     "output_type": "execute_result"
    }
   ],
   "source": [
    "df_history.head()"
   ]
  },
  {
   "cell_type": "code",
   "execution_count": null,
   "metadata": {},
   "outputs": [],
   "source": [
    "#Saving Test Data\n",
    "np.save('f-res/corpora_test_x.npy',corpora_test_x)\n",
    "np.save('f-res/target_test_y.npy',target_test_y)"
   ]
  },
  {
   "cell_type": "code",
   "execution_count": null,
   "metadata": {},
   "outputs": [
    {
     "data": {
      "image/png": "[encoded data removed]",
      "text/plain": [
       "<matplotlib.figure.Figure at 0x7f07ec148940>"
      ]
     },
     "metadata": {
      "tags": []
     },
     "output_type": "display_data"
    },
    {
     "data": {
      "image/png": "[encoded data removed]",
      "text/plain": [
       "<matplotlib.figure.Figure at 0x7f092d223c50>"
      ]
     },
     "metadata": {
      "tags": []
     },
     "output_type": "display_data"
    }
   ],
   "source": [
    "#Evaluation\n",
    "acc = history.history['accuracy']\n",
    "val_acc = history.history['val_accuracy']\n",
    "loss = history.history['loss']\n",
    "val_loss = history.history['val_loss']\n",
    " \n",
    "epochs2 = range(len(acc))\n",
    " \n",
    "plt.plot(epochs2, acc, 'b', label='Training')\n",
    "plt.plot(epochs2, val_acc, 'r', label='Validation')\n",
    "plt.title('Training and validation accuracy')\n",
    "plt.ylabel('acc')\n",
    "plt.xlabel('epoch')\n",
    "plt.legend()\n",
    " \n",
    "plt.figure()\n",
    " \n",
    "plt.plot(epochs2, loss, 'b', label='Training')\n",
    "plt.plot(epochs2, val_loss, 'r', label='Validation')\n",
    "plt.title('Training and validation loss')\n",
    "plt.ylabel('loss')\n",
    "plt.xlabel('epoch')\n",
    "plt.legend()\n",
    " \n",
    "plt.show()"
   ]
  },
  {
   "cell_type": "code",
   "execution_count": null,
   "metadata": {},
   "outputs": [],
   "source": [
    "from sklearn.metrics import average_precision_score,precision_recall_curve\n",
    "from sklearn.utils.fixes import signature\n",
    "from sklearn.metrics import roc_curve\n",
    "from sklearn.metrics import roc_auc_score"
   ]
  },
  {
   "cell_type": "code",
   "execution_count": null,
   "metadata": {},
   "outputs": [],
   "source": [
    "from tensorflow.keras.models import load_model"
   ]
  },
  {
   "cell_type": "code",
   "execution_count": null,
   "metadata": {},
   "outputs": [],
   "source": [
    "path = 'f-res/best_model.hdf5'\n",
    "criticality_network_load = load_model(path) #<----- The Model"
   ]
  },
  {
   "cell_type": "code",
   "execution_count": null,
   "metadata": {},
   "outputs": [
    {
     "name": "stdout",
     "output_type": "stream",
     "text": [
      "11553/11553 [==============================] - 11s 942us/sample - loss: 0.0897 - accuracy: 0.9691\n"
     ]
    }
   ],
   "source": [
    "score = criticality_network_load.evaluate(corpora_test_x, target_test_y, verbose=1)"
   ]
  },
  {
   "cell_type": "code",
   "execution_count": null,
   "metadata": {},
   "outputs": [
    {
     "name": "stdout",
     "output_type": "stream",
     "text": [
      "Test loss: 0.0896831521055043\n",
      "Test accuracy: 0.9690989\n"
     ]
    }
   ],
   "source": [
    "print('Test loss:', score[0])\n",
    "print('Test accuracy:', score[1])"
   ]
  },
  {
   "cell_type": "code",
   "execution_count": null,
   "metadata": {},
   "outputs": [
    {
     "data": {
      "text/plain": [
       "array([[1.0000000e+00, 7.9988111e-10],\n",
       "       [7.7354908e-03, 9.9226451e-01],\n",
       "       [1.0000000e+00, 3.0692110e-10],\n",
       "       ...,\n",
       "       [4.3467302e-03, 9.9565327e-01],\n",
       "       [1.0000000e+00, 1.5595104e-08],\n",
       "       [9.1771345e-04, 9.9908233e-01]], dtype=float32)"
      ]
     },
     "execution_count": null,
     "metadata": {
      "tags": []
     },
     "output_type": "execute_result"
    }
   ],
   "source": [
    "history_predict = criticality_network_load.predict(x=corpora_test_x)\n",
    "history_predict"
   ]
  },
  {
   "cell_type": "code",
   "execution_count": null,
   "metadata": {},
   "outputs": [],
   "source": [
    "inferred_data = pd.DataFrame(history_predict,columns=list('AB'))\n",
    "target_data = pd.DataFrame(target_test_y,columns=list('LN'))\n",
    "data = target_data.join(inferred_data)"
   ]
  },
  {
   "cell_type": "code",
   "execution_count": null,
   "metadata": {},
   "outputs": [],
   "source": [
    "y_true = list(data['L'])\n",
    "y_score= list(data['A'])\n",
    "average_precision = average_precision_score(y_true, y_score)"
   ]
  },
  {
   "cell_type": "code",
   "execution_count": null,
   "metadata": {},
   "outputs": [
    {
     "name": "stdout",
     "output_type": "stream",
     "text": [
      "Average precision-recall score: 0.99\n"
     ]
    }
   ],
   "source": [
    "print('Average precision-recall score: {0:0.2f}'.format(average_precision))"
   ]
  },
  {
   "cell_type": "code",
   "execution_count": null,
   "metadata": {},
   "outputs": [
    {
     "name": "stdout",
     "output_type": "stream",
     "text": [
      "AUC: 0.993\n"
     ]
    }
   ],
   "source": [
    "#ROC Curve (all our samples are balanced)\n",
    "auc = roc_auc_score(y_true, y_score)\n",
    "print('AUC: %.3f' % auc)"
   ]
  },
  {
   "cell_type": "code",
   "execution_count": null,
   "metadata": {},
   "outputs": [],
   "source": []
  }
 ],
 "metadata": {
  "kernelspec": {
   "display_name": "Python 3",
   "language": "python",
   "name": "python3"
  }
 },
 "nbformat": 4,
 "nbformat_minor": 1
}
