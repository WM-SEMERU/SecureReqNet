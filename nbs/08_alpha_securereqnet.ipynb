{
  "nbformat": 4,
  "nbformat_minor": 0,
  "metadata": {
    "kernelspec": {
      "display_name": "Python 3",
      "language": "python",
      "name": "python3"
    },
    "language_info": {
      "codemirror_mode": {
        "name": "ipython",
        "version": 3
      },
      "file_extension": ".py",
      "mimetype": "text/x-python",
      "name": "python",
      "nbconvert_exporter": "python",
      "pygments_lexer": "ipython3",
      "version": "3.7.3"
    },
    "colab": {
      "name": "req-predict-[100embeds]-deep-alex-adapted-003.ipynb",
      "provenance": []
    }
  },
  "cells": [
    {
      "cell_type": "code",
      "metadata": {
        "id": "HrTo4BQ4OOGO",
        "colab_type": "code",
        "colab": {}
      },
      "source": [
        "#danaderp May6'19\n",
        "#Prediction For Main Issues Data Set"
      ],
      "execution_count": 0,
      "outputs": []
    },
    {
      "cell_type": "code",
      "metadata": {
        "id": "dZMeVB6MOOGV",
        "colab_type": "code",
        "colab": {},
        "outputId": "025ad61d-6553-4ab2-905f-83ffc4ec5119"
      },
      "source": [
        "import csv\n",
        "from tensorflow.keras.preprocessing import text\n",
        "from nltk.corpus import gutenberg\n",
        "from string import punctuation\n",
        "from tensorflow.keras.preprocessing.sequence import skipgrams"
      ],
      "execution_count": 0,
      "outputs": [
        {
          "output_type": "stream",
          "text": [
            "/scratch/danaderp/.conda/envs/drmccr_conda/lib/python3.6/site-packages/h5py/__init__.py:34: FutureWarning: Conversion of the second argument of issubdtype from `float` to `np.floating` is deprecated. In future, it will be treated as `np.float64 == np.dtype(float).type`.\n",
            "  from ._conv import register_converters as _register_converters\n"
          ],
          "name": "stderr"
        },
        {
          "output_type": "stream",
          "text": [
            "Limited tf.compat.v2.summary API due to missing TensorBoard installation\n",
            "Limited tf.summary API due to missing TensorBoard installation\n"
          ],
          "name": "stdout"
        }
      ]
    },
    {
      "cell_type": "code",
      "metadata": {
        "id": "3NgvYcAdOOGd",
        "colab_type": "code",
        "colab": {}
      },
      "source": [
        "import pandas as pd\n",
        "import numpy as np\n",
        "import re\n",
        "import nltk\n",
        "import matplotlib.pyplot as plt\n",
        "pd.options.display.max_colwidth = 200\n",
        "%matplotlib inline"
      ],
      "execution_count": 0,
      "outputs": []
    },
    {
      "cell_type": "code",
      "metadata": {
        "id": "9ChykyJeOOGi",
        "colab_type": "code",
        "colab": {}
      },
      "source": [
        "from nltk.stem.snowball import SnowballStemmer\n",
        "englishStemmer=SnowballStemmer(\"english\")"
      ],
      "execution_count": 0,
      "outputs": []
    },
    {
      "cell_type": "code",
      "metadata": {
        "id": "dqRro97tOOGn",
        "colab_type": "code",
        "colab": {}
      },
      "source": [
        "import tensorflow as tf\n",
        "from tensorflow.keras import layers\n",
        "from tensorflow.keras.layers import Dot, Input, Dense, Reshape, LSTM, Conv2D, Flatten, MaxPooling1D, Dropout, MaxPooling2D\n",
        "from tensorflow.keras.layers import Embedding, Multiply, Subtract\n",
        "from tensorflow.keras.models import Sequential, Model\n",
        "from tensorflow.python.keras.layers import Lambda\n",
        "from tensorflow.keras.callbacks import CSVLogger, ModelCheckpoint\n",
        "from tensorflow.keras.callbacks import EarlyStopping"
      ],
      "execution_count": 0,
      "outputs": []
    },
    {
      "cell_type": "code",
      "metadata": {
        "id": "vTtHifCYOOGu",
        "colab_type": "code",
        "colab": {}
      },
      "source": [
        "# visualize model structure\n",
        "#from IPython.display import SVG\n",
        "#from keras.utils.vis_utils import model_to_dot\n",
        "from sklearn.metrics.pairwise import euclidean_distances\n",
        "from sklearn.manifold import TSNE"
      ],
      "execution_count": 0,
      "outputs": []
    },
    {
      "cell_type": "code",
      "metadata": {
        "id": "0HZ1Qrr-OOGz",
        "colab_type": "code",
        "colab": {}
      },
      "source": [
        "from datasets.read_data import Dynamic_Dataset,Processing_Dataset\n",
        "from vectorize_sentence import Embeddings"
      ],
      "execution_count": 0,
      "outputs": []
    },
    {
      "cell_type": "code",
      "metadata": {
        "id": "oyhXGpF1OOG6",
        "colab_type": "code",
        "colab": {}
      },
      "source": [
        "path = \"datasets/augmented_dataset/\"\n",
        "process_unit = Processing_Dataset(path)\n",
        "ground_truth = process_unit.get_ground_truth()"
      ],
      "execution_count": 0,
      "outputs": []
    },
    {
      "cell_type": "code",
      "metadata": {
        "id": "nNeKFhfBOOHA",
        "colab_type": "code",
        "colab": {}
      },
      "source": [
        "dataset = Dynamic_Dataset(ground_truth, path)"
      ],
      "execution_count": 0,
      "outputs": []
    },
    {
      "cell_type": "code",
      "metadata": {
        "id": "p9lr53ZvOOHE",
        "colab_type": "code",
        "colab": {}
      },
      "source": [
        "test, train = process_unit.get_test_and_training(ground_truth)"
      ],
      "execution_count": 0,
      "outputs": []
    },
    {
      "cell_type": "code",
      "metadata": {
        "id": "tfiZCU5dOOHK",
        "colab_type": "code",
        "colab": {},
        "outputId": "73945d9b-9f8a-4164-ffda-11be311a50c6"
      },
      "source": [
        "print(len(test))\n",
        "print(len(train))\n",
        "print(test[0])\n",
        "print(train[0])"
      ],
      "execution_count": 0,
      "outputs": [
        {
          "output_type": "stream",
          "text": [
            "11612\n",
            "104510\n",
            "('(1,0)', 'Heap-based buffer overflow in the yy_get_next_buffer function in Flex before 2.6.1 might allow context-dependent attackers to cause a denial of service or possibly execute arbitrary code via vectors involving num_to_read.')\n",
            "('(1,0)', 'The currently used Rails version, in the stable branch, is insecure\\n\\nYou should update the Gemfile.lock to hotfix this.\\n\\nhttp://weblog.rubyonrails.org/2014/2/18/Rails_3_2_17_4_0_3_and_4_1_0_beta2_have_been_released/')\n"
          ],
          "name": "stdout"
        }
      ]
    },
    {
      "cell_type": "code",
      "metadata": {
        "id": "hTf7PwOEOOHO",
        "colab_type": "code",
        "colab": {}
      },
      "source": [
        "#Train/Test split verification\n",
        "#for elem in test:\n",
        "#    print(elem[0])"
      ],
      "execution_count": 0,
      "outputs": []
    },
    {
      "cell_type": "code",
      "metadata": {
        "id": "lj0OdxI3OOHS",
        "colab_type": "code",
        "colab": {}
      },
      "source": [
        "#Preprocesing Corpora\n",
        "embeddings = Embeddings()\n",
        "max_words = 5000 #<------- [Parameter]\n",
        "pre_corpora_train = [doc for doc in train if len(doc[1])< max_words]\n",
        "pre_corpora_test = [doc for doc in test if len(doc[1])< max_words]"
      ],
      "execution_count": 0,
      "outputs": []
    },
    {
      "cell_type": "code",
      "metadata": {
        "id": "pn3ytaVyOOHW",
        "colab_type": "code",
        "colab": {},
        "outputId": "57d9348d-2168-4d6c-9cc1-b43a291d0f52"
      },
      "source": [
        "print(len(pre_corpora_train))\n",
        "print(len(pre_corpora_test))"
      ],
      "execution_count": 0,
      "outputs": [
        {
          "output_type": "stream",
          "text": [
            "103873\n",
            "11542\n"
          ],
          "name": "stdout"
        }
      ]
    },
    {
      "cell_type": "code",
      "metadata": {
        "id": "NudXNc8yOOHc",
        "colab_type": "code",
        "colab": {}
      },
      "source": [
        "embed_path = 'datasets/word_embeddings-embed_size_100-epochs_100.csv'\n",
        "embeddings_dict = embeddings.get_embeddings_dict(embed_path)"
      ],
      "execution_count": 0,
      "outputs": []
    },
    {
      "cell_type": "code",
      "metadata": {
        "id": "P9xlJ8emOOHg",
        "colab_type": "code",
        "colab": {}
      },
      "source": [
        "corpora_train = [embeddings.vectorize(doc[1], embeddings_dict) for doc in pre_corpora_train]#vectorization Inputs\n",
        "corpora_test = [embeddings.vectorize(doc[1], embeddings_dict) for doc in pre_corpora_test]#vectorization"
      ],
      "execution_count": 0,
      "outputs": []
    },
    {
      "cell_type": "code",
      "metadata": {
        "id": "0gT0tz2uOOHm",
        "colab_type": "code",
        "colab": {}
      },
      "source": [
        "target_train = [[int(list(doc[0])[1]),int(list(doc[0])[3])] for doc in pre_corpora_train]#vectorization Output\n",
        "target_test = [[int(list(doc[0])[1]),int(list(doc[0])[3])]for doc in pre_corpora_test]#vectorization Output\n",
        "#target_train"
      ],
      "execution_count": 0,
      "outputs": []
    },
    {
      "cell_type": "code",
      "metadata": {
        "id": "g4rWBpFFOOHt",
        "colab_type": "code",
        "colab": {}
      },
      "source": [
        "max_len_sentences_train = max([len(doc) for doc in corpora_train]) #<------- [Parameter]\n",
        "max_len_sentences_test = max([len(doc) for doc in corpora_test]) #<------- [Parameter]"
      ],
      "execution_count": 0,
      "outputs": []
    },
    {
      "cell_type": "code",
      "metadata": {
        "id": "5f10TVFuOOHy",
        "colab_type": "code",
        "colab": {},
        "outputId": "4cb77488-564e-40e8-b1dc-856df3c128b6"
      },
      "source": [
        "max_len_sentences = max(max_len_sentences_train,max_len_sentences_test)\n",
        "print(\"Max. Sentence # words:\",max_len_sentences)"
      ],
      "execution_count": 0,
      "outputs": [
        {
          "output_type": "stream",
          "text": [
            "Max. Sentence # words: 618\n"
          ],
          "name": "stdout"
        }
      ]
    },
    {
      "cell_type": "code",
      "metadata": {
        "id": "6ubgoNTpOOH2",
        "colab_type": "code",
        "colab": {}
      },
      "source": [
        "min_len_sentences_train = min([len(doc) for doc in corpora_train]) #<------- [Parameter]\n",
        "min_len_sentences_test = min([len(doc) for doc in corpora_test]) #<------- [Parameter]"
      ],
      "execution_count": 0,
      "outputs": []
    },
    {
      "cell_type": "code",
      "metadata": {
        "id": "RjLpeniyOOIE",
        "colab_type": "code",
        "colab": {},
        "outputId": "94809ae3-4c2a-434a-9177-eed25805ba8e"
      },
      "source": [
        "min_len_sentences = max(min_len_sentences_train,min_len_sentences_test)\n",
        "print(\"Mix. Sentence # words:\",min_len_sentences)"
      ],
      "execution_count": 0,
      "outputs": [
        {
          "output_type": "stream",
          "text": [
            "Mix. Sentence # words: 1\n"
          ],
          "name": "stdout"
        }
      ]
    },
    {
      "cell_type": "code",
      "metadata": {
        "id": "pxgHMIIQOOIM",
        "colab_type": "code",
        "colab": {}
      },
      "source": [
        "embed_size = np.size(corpora_train[0][0])"
      ],
      "execution_count": 0,
      "outputs": []
    },
    {
      "cell_type": "code",
      "metadata": {
        "id": "QDDNvoaIOOIU",
        "colab_type": "code",
        "colab": {}
      },
      "source": [
        "#BaseLine Architecture <-------\n",
        "embeddigs_cols = embed_size\n",
        "input_sh = (max_len_sentences,embeddigs_cols,1)\n",
        "#Selecting filters? \n",
        "#https://stackoverflow.com/questions/48243360/how-to-determine-the-filter-parameter-in-the-keras-conv2d-function\n",
        "#https://stats.stackexchange.com/questions/196646/what-is-the-significance-of-the-number-of-convolution-filters-in-a-convolutional\n",
        "\n",
        "N_filters = 128 # <-------- [HyperParameter] Powers of 2 Numer of Features\n",
        "K = 2 # <-------- [HyperParameter] Number of Classess"
      ],
      "execution_count": 0,
      "outputs": []
    },
    {
      "cell_type": "code",
      "metadata": {
        "id": "FzSDPXVuOOIc",
        "colab_type": "code",
        "colab": {},
        "outputId": "2f5b73e0-b6ea-445a-e108-d77bbd4f242b"
      },
      "source": [
        "input_sh"
      ],
      "execution_count": 0,
      "outputs": [
        {
          "output_type": "execute_result",
          "data": {
            "text/plain": [
              "(618, 100, 1)"
            ]
          },
          "metadata": {
            "tags": []
          },
          "execution_count": 24
        }
      ]
    },
    {
      "cell_type": "code",
      "metadata": {
        "id": "df4xzLXpOOIo",
        "colab_type": "code",
        "colab": {}
      },
      "source": [
        "#baseline_model = Sequential()\n",
        "gram_input = Input(shape = input_sh)"
      ],
      "execution_count": 0,
      "outputs": []
    },
    {
      "cell_type": "code",
      "metadata": {
        "id": "5iMgsol2OOIw",
        "colab_type": "code",
        "colab": {},
        "outputId": "bac86290-387f-4730-92e3-4acc25bce978"
      },
      "source": [
        "# 1st Convolutional Layer Convolutional Layer (7-gram)\n",
        "conv_1_layer = Conv2D(filters=32, input_shape=input_sh, activation='relu', \n",
        "                      kernel_size=(7,embeddigs_cols), padding='valid')(gram_input)\n",
        "conv_1_layer.shape"
      ],
      "execution_count": 0,
      "outputs": [
        {
          "output_type": "execute_result",
          "data": {
            "text/plain": [
              "TensorShape([None, 612, 1, 32])"
            ]
          },
          "metadata": {
            "tags": []
          },
          "execution_count": 55
        }
      ]
    },
    {
      "cell_type": "code",
      "metadata": {
        "id": "zxBoIEmyOOI3",
        "colab_type": "code",
        "colab": {},
        "outputId": "2fb65962-4bae-49a7-83c8-7f0a917da6d8"
      },
      "source": [
        "# Max Pooling \n",
        "max_1_pooling = MaxPooling2D(pool_size=((max_len_sentences-7+1),1), strides=None, padding='valid')(conv_1_layer)\n",
        "max_1_pooling.shape"
      ],
      "execution_count": 0,
      "outputs": [
        {
          "output_type": "execute_result",
          "data": {
            "text/plain": [
              "TensorShape([None, 1, 1, 32])"
            ]
          },
          "metadata": {
            "tags": []
          },
          "execution_count": 56
        }
      ]
    },
    {
      "cell_type": "code",
      "metadata": {
        "id": "_0aEHAOJOOI_",
        "colab_type": "code",
        "colab": {},
        "outputId": "20cc6e17-d1ab-4a45-ae25-d0f23b2479f3"
      },
      "source": [
        "# Fully Connected layer\n",
        "fully_connected_1_gram = Flatten()(max_1_pooling)\n",
        "fully_connected_1_gram.shape"
      ],
      "execution_count": 0,
      "outputs": [
        {
          "output_type": "execute_result",
          "data": {
            "text/plain": [
              "TensorShape([None, 32])"
            ]
          },
          "metadata": {
            "tags": []
          },
          "execution_count": 57
        }
      ]
    },
    {
      "cell_type": "code",
      "metadata": {
        "id": "f33p2t8-OOJI",
        "colab_type": "code",
        "colab": {},
        "outputId": "e5041e91-f7be-413a-c190-adfe00b73ae2"
      },
      "source": [
        "fully_connected_1_gram = Reshape((32, 1, 1))(fully_connected_1_gram)\n",
        "fully_connected_1_gram.shape"
      ],
      "execution_count": 0,
      "outputs": [
        {
          "output_type": "execute_result",
          "data": {
            "text/plain": [
              "TensorShape([None, 32, 1, 1])"
            ]
          },
          "metadata": {
            "tags": []
          },
          "execution_count": 58
        }
      ]
    },
    {
      "cell_type": "code",
      "metadata": {
        "id": "hbXzVUdpOOJQ",
        "colab_type": "code",
        "colab": {},
        "outputId": "a875f506-405a-4d3e-dba7-0635b10cd440"
      },
      "source": [
        "# 2nd Convolutional Layer (5-gram)\n",
        "conv_2_layer = Conv2D(filters=64, kernel_size=(5,1), activation='relu', \n",
        "                      padding='valid')(fully_connected_1_gram)\n",
        "conv_2_layer.shape"
      ],
      "execution_count": 0,
      "outputs": [
        {
          "output_type": "execute_result",
          "data": {
            "text/plain": [
              "TensorShape([None, 28, 1, 64])"
            ]
          },
          "metadata": {
            "tags": []
          },
          "execution_count": 59
        }
      ]
    },
    {
      "cell_type": "code",
      "metadata": {
        "id": "byd_5_ypOOJX",
        "colab_type": "code",
        "colab": {},
        "outputId": "5e57035c-0175-4b69-dda1-fe26c60131f4"
      },
      "source": [
        "max_2_pooling = MaxPooling2D(pool_size=((32-5+1),1), strides=None, padding='valid')(conv_2_layer)\n",
        "max_2_pooling.shape"
      ],
      "execution_count": 0,
      "outputs": [
        {
          "output_type": "execute_result",
          "data": {
            "text/plain": [
              "TensorShape([None, 1, 1, 64])"
            ]
          },
          "metadata": {
            "tags": []
          },
          "execution_count": 60
        }
      ]
    },
    {
      "cell_type": "code",
      "metadata": {
        "id": "mkpQSB4LOOJg",
        "colab_type": "code",
        "colab": {},
        "outputId": "9bac622c-f46c-4a38-aee4-2abf7ff147fe"
      },
      "source": [
        "# Fully Connected layer\n",
        "fully_connected_2_gram = Flatten()(max_2_pooling)\n",
        "fully_connected_2_gram.shape"
      ],
      "execution_count": 0,
      "outputs": [
        {
          "output_type": "execute_result",
          "data": {
            "text/plain": [
              "TensorShape([None, 64])"
            ]
          },
          "metadata": {
            "tags": []
          },
          "execution_count": 61
        }
      ]
    },
    {
      "cell_type": "code",
      "metadata": {
        "id": "UUZHYIBfOOJo",
        "colab_type": "code",
        "colab": {},
        "outputId": "0cd84d6f-ab2d-45c5-b673-5fd5c5d595ac"
      },
      "source": [
        "fully_connected_2_gram = Reshape((64, 1, 1))(fully_connected_2_gram)\n",
        "fully_connected_2_gram.shape"
      ],
      "execution_count": 0,
      "outputs": [
        {
          "output_type": "execute_result",
          "data": {
            "text/plain": [
              "TensorShape([None, 64, 1, 1])"
            ]
          },
          "metadata": {
            "tags": []
          },
          "execution_count": 62
        }
      ]
    },
    {
      "cell_type": "code",
      "metadata": {
        "id": "lDa3R5iFOOJw",
        "colab_type": "code",
        "colab": {},
        "outputId": "768974d7-0308-4930-c59a-ad1f127a083c"
      },
      "source": [
        "# 3rd Convolutional Layer (3-gram)\n",
        "conv_3_layer =  Conv2D(filters=128, kernel_size=(3,1), activation='relu', \n",
        "                      padding='valid')(fully_connected_2_gram)\n",
        "conv_3_layer.shape"
      ],
      "execution_count": 0,
      "outputs": [
        {
          "output_type": "execute_result",
          "data": {
            "text/plain": [
              "TensorShape([None, 62, 1, 128])"
            ]
          },
          "metadata": {
            "tags": []
          },
          "execution_count": 63
        }
      ]
    },
    {
      "cell_type": "code",
      "metadata": {
        "id": "B2HC4Us1OOJ5",
        "colab_type": "code",
        "colab": {},
        "outputId": "801e4748-df36-46c0-cce1-730d4d320cd0"
      },
      "source": [
        "# 4th Convolutional Layer (3-gram)\n",
        "conv_4_layer = Conv2D(filters=128, kernel_size=(3,1), activation='relu', \n",
        "                     padding='valid')(conv_3_layer)\n",
        "conv_4_layer.shape"
      ],
      "execution_count": 0,
      "outputs": [
        {
          "output_type": "execute_result",
          "data": {
            "text/plain": [
              "TensorShape([None, 60, 1, 128])"
            ]
          },
          "metadata": {
            "tags": []
          },
          "execution_count": 64
        }
      ]
    },
    {
      "cell_type": "code",
      "metadata": {
        "id": "CuM6X6vCOOKC",
        "colab_type": "code",
        "colab": {},
        "outputId": "e66b0a3d-fc21-4d23-b61f-82cb0edd441d"
      },
      "source": [
        "# 5th Convolutional Layer (3-gram)\n",
        "conv_5_layer = Conv2D(filters=64, kernel_size=(3,1), activation='relu', \n",
        "                     padding='valid')(conv_4_layer)\n",
        "conv_5_layer.shape"
      ],
      "execution_count": 0,
      "outputs": [
        {
          "output_type": "execute_result",
          "data": {
            "text/plain": [
              "TensorShape([None, 58, 1, 64])"
            ]
          },
          "metadata": {
            "tags": []
          },
          "execution_count": 66
        }
      ]
    },
    {
      "cell_type": "code",
      "metadata": {
        "id": "pC8kxxUzOOKJ",
        "colab_type": "code",
        "colab": {},
        "outputId": "2d8f9de9-6817-45e2-bf9a-6a2f1fdbd382"
      },
      "source": [
        "# Max Pooling\n",
        "max_5_pooling = MaxPooling2D(pool_size=(58,1), strides=None, padding='valid')(conv_5_layer)\n",
        "max_5_pooling.shape"
      ],
      "execution_count": 0,
      "outputs": [
        {
          "output_type": "execute_result",
          "data": {
            "text/plain": [
              "TensorShape([None, 1, 1, 64])"
            ]
          },
          "metadata": {
            "tags": []
          },
          "execution_count": 67
        }
      ]
    },
    {
      "cell_type": "code",
      "metadata": {
        "id": "uZNXKauBOOKR",
        "colab_type": "code",
        "colab": {},
        "outputId": "21e004c7-483f-4faa-afe2-c8ba4c47e3db"
      },
      "source": [
        "# Fully Connected layer\n",
        "fully_connected = Flatten()(max_5_pooling)\n",
        "fully_connected.shape"
      ],
      "execution_count": 0,
      "outputs": [
        {
          "output_type": "execute_result",
          "data": {
            "text/plain": [
              "TensorShape([None, 64])"
            ]
          },
          "metadata": {
            "tags": []
          },
          "execution_count": 68
        }
      ]
    },
    {
      "cell_type": "code",
      "metadata": {
        "id": "xD15DHThOOKZ",
        "colab_type": "code",
        "colab": {}
      },
      "source": [
        "# 1st Fully Connected Layer\n",
        "deep_dense_1_layer = Dense(32, activation='relu')(fully_connected)\n",
        "deep_dense_1_layer = Dropout(0.2)(deep_dense_1_layer) # <-------- [HyperParameter]"
      ],
      "execution_count": 0,
      "outputs": []
    },
    {
      "cell_type": "code",
      "metadata": {
        "id": "6DNh4yMkOOKi",
        "colab_type": "code",
        "colab": {},
        "outputId": "cfeb2986-25f0-47e2-c48e-3910aa1e8681"
      },
      "source": [
        "deep_dense_1_layer.shape"
      ],
      "execution_count": 0,
      "outputs": [
        {
          "output_type": "execute_result",
          "data": {
            "text/plain": [
              "TensorShape([None, 32])"
            ]
          },
          "metadata": {
            "tags": []
          },
          "execution_count": 70
        }
      ]
    },
    {
      "cell_type": "code",
      "metadata": {
        "id": "o49vu3PCOOKq",
        "colab_type": "code",
        "colab": {}
      },
      "source": [
        "# 2nd Fully Connected Layer\n",
        "deep_dense_2_layer = Dense(32, activation='relu')(deep_dense_1_layer)\n",
        "deep_dense_2_layer = Dropout(0.2)(deep_dense_2_layer) # <-------- [HyperParameter]"
      ],
      "execution_count": 0,
      "outputs": []
    },
    {
      "cell_type": "code",
      "metadata": {
        "id": "YkIpxSUsOOKy",
        "colab_type": "code",
        "colab": {},
        "outputId": "4d786c41-ac9f-4efe-a709-78c223a626af"
      },
      "source": [
        "deep_dense_2_layer.shape"
      ],
      "execution_count": 0,
      "outputs": [
        {
          "output_type": "execute_result",
          "data": {
            "text/plain": [
              "TensorShape([None, 32])"
            ]
          },
          "metadata": {
            "tags": []
          },
          "execution_count": 72
        }
      ]
    },
    {
      "cell_type": "code",
      "metadata": {
        "id": "Qfan74NJOOK7",
        "colab_type": "code",
        "colab": {}
      },
      "source": [
        "# 3rd Fully Connected Layer\n",
        "deep_dense_3_layer = Dense(16, activation='relu')(deep_dense_2_layer)\n",
        "deep_dense_3_layer = Dropout(0.2)(deep_dense_3_layer) # <-------- [HyperParameter]"
      ],
      "execution_count": 0,
      "outputs": []
    },
    {
      "cell_type": "code",
      "metadata": {
        "id": "9MhOeye9OOLC",
        "colab_type": "code",
        "colab": {},
        "outputId": "062e590e-a033-42b0-e3ac-c9b3cdf137c8"
      },
      "source": [
        "deep_dense_3_layer.shape"
      ],
      "execution_count": 0,
      "outputs": [
        {
          "output_type": "execute_result",
          "data": {
            "text/plain": [
              "TensorShape([None, 16])"
            ]
          },
          "metadata": {
            "tags": []
          },
          "execution_count": 74
        }
      ]
    },
    {
      "cell_type": "code",
      "metadata": {
        "id": "XO0kpUCNOOLK",
        "colab_type": "code",
        "colab": {}
      },
      "source": [
        "predictions = Dense(K, activation='softmax')(deep_dense_3_layer)"
      ],
      "execution_count": 0,
      "outputs": []
    },
    {
      "cell_type": "code",
      "metadata": {
        "id": "XffRe5yaOOLT",
        "colab_type": "code",
        "colab": {}
      },
      "source": [
        "#Criticality Model\n",
        "criticality_network = Model(inputs=[gram_input],outputs=[predictions]) "
      ],
      "execution_count": 0,
      "outputs": []
    },
    {
      "cell_type": "code",
      "metadata": {
        "id": "sBjj9O0JOOLb",
        "colab_type": "code",
        "colab": {},
        "outputId": "8efdb206-a556-4379-d8d3-7aafe7c35d0b"
      },
      "source": [
        "print(criticality_network.summary())"
      ],
      "execution_count": 0,
      "outputs": [
        {
          "output_type": "stream",
          "text": [
            "Model: \"model\"\n",
            "_________________________________________________________________\n",
            "Layer (type)                 Output Shape              Param #   \n",
            "=================================================================\n",
            "input_1 (InputLayer)         [(None, 618, 100, 1)]     0         \n",
            "_________________________________________________________________\n",
            "conv2d_8 (Conv2D)            (None, 612, 1, 32)        22432     \n",
            "_________________________________________________________________\n",
            "max_pooling2d_6 (MaxPooling2 (None, 1, 1, 32)          0         \n",
            "_________________________________________________________________\n",
            "flatten_4 (Flatten)          (None, 32)                0         \n",
            "_________________________________________________________________\n",
            "reshape_2 (Reshape)          (None, 32, 1, 1)          0         \n",
            "_________________________________________________________________\n",
            "conv2d_9 (Conv2D)            (None, 28, 1, 64)         384       \n",
            "_________________________________________________________________\n",
            "max_pooling2d_7 (MaxPooling2 (None, 1, 1, 64)          0         \n",
            "_________________________________________________________________\n",
            "flatten_5 (Flatten)          (None, 64)                0         \n",
            "_________________________________________________________________\n",
            "reshape_3 (Reshape)          (None, 64, 1, 1)          0         \n",
            "_________________________________________________________________\n",
            "conv2d_10 (Conv2D)           (None, 62, 1, 128)        512       \n",
            "_________________________________________________________________\n",
            "conv2d_11 (Conv2D)           (None, 60, 1, 128)        49280     \n",
            "_________________________________________________________________\n",
            "conv2d_13 (Conv2D)           (None, 58, 1, 64)         24640     \n",
            "_________________________________________________________________\n",
            "max_pooling2d_8 (MaxPooling2 (None, 1, 1, 64)          0         \n",
            "_________________________________________________________________\n",
            "flatten_6 (Flatten)          (None, 64)                0         \n",
            "_________________________________________________________________\n",
            "dense (Dense)                (None, 32)                2080      \n",
            "_________________________________________________________________\n",
            "dropout (Dropout)            (None, 32)                0         \n",
            "_________________________________________________________________\n",
            "dense_1 (Dense)              (None, 32)                1056      \n",
            "_________________________________________________________________\n",
            "dropout_1 (Dropout)          (None, 32)                0         \n",
            "_________________________________________________________________\n",
            "dense_2 (Dense)              (None, 16)                528       \n",
            "_________________________________________________________________\n",
            "dropout_2 (Dropout)          (None, 16)                0         \n",
            "_________________________________________________________________\n",
            "dense_3 (Dense)              (None, 2)                 34        \n",
            "=================================================================\n",
            "Total params: 100,946\n",
            "Trainable params: 100,946\n",
            "Non-trainable params: 0\n",
            "_________________________________________________________________\n",
            "None\n"
          ],
          "name": "stdout"
        }
      ]
    },
    {
      "cell_type": "code",
      "metadata": {
        "id": "svE0_XsvOOLj",
        "colab_type": "code",
        "colab": {}
      },
      "source": [
        "#Seting up the Model\n",
        "criticality_network.compile(optimizer='adam',loss='binary_crossentropy',\n",
        "                                  metrics=['accuracy'])"
      ],
      "execution_count": 0,
      "outputs": []
    },
    {
      "cell_type": "code",
      "metadata": {
        "id": "LR52foaDOOLs",
        "colab_type": "code",
        "colab": {}
      },
      "source": [
        "#Data set organization\n",
        "from tempfile import mkdtemp\n",
        "import os.path as path"
      ],
      "execution_count": 0,
      "outputs": []
    },
    {
      "cell_type": "code",
      "metadata": {
        "id": "ux9iVckGOOLz",
        "colab_type": "code",
        "colab": {}
      },
      "source": [
        "#Memoization \n",
        "file_corpora_train_x = path.join(mkdtemp(), 'alex-res-adapted-003_temp_corpora_train_x.dat') #Update per experiment\n",
        "file_corpora_test_x = path.join(mkdtemp(), 'alex-res-adapted-003_temp_corpora_test_x.dat')"
      ],
      "execution_count": 0,
      "outputs": []
    },
    {
      "cell_type": "code",
      "metadata": {
        "id": "pSrotxjxOOL8",
        "colab_type": "code",
        "colab": {}
      },
      "source": [
        "#Shaping\n",
        "shape_train_x = (len(corpora_train),max_len_sentences,embeddigs_cols,1)\n",
        "shape_test_x = (len(corpora_test),max_len_sentences,embeddigs_cols,1)"
      ],
      "execution_count": 0,
      "outputs": []
    },
    {
      "cell_type": "code",
      "metadata": {
        "id": "hZCMo5bVOOMD",
        "colab_type": "code",
        "colab": {}
      },
      "source": [
        "#Data sets\n",
        "corpora_train_x = np.memmap(\n",
        "        filename = file_corpora_train_x, \n",
        "        dtype='float32', \n",
        "        mode='w+', \n",
        "        shape = shape_train_x)"
      ],
      "execution_count": 0,
      "outputs": []
    },
    {
      "cell_type": "code",
      "metadata": {
        "id": "r04D4SDaOOML",
        "colab_type": "code",
        "colab": {}
      },
      "source": [
        "corpora_test_x = np.memmap( #Test Corpora (for future evaluation)\n",
        "        filename = file_corpora_test_x, \n",
        "        dtype='float32', \n",
        "        mode='w+', \n",
        "        shape = shape_test_x)"
      ],
      "execution_count": 0,
      "outputs": []
    },
    {
      "cell_type": "code",
      "metadata": {
        "id": "jehqIM6uOOMe",
        "colab_type": "code",
        "colab": {}
      },
      "source": [
        "target_train_y = np.array(target_train) #Train Target\n",
        "target_test_y = np.array(target_test) #Test Target (for future evaluation)"
      ],
      "execution_count": 0,
      "outputs": []
    },
    {
      "cell_type": "code",
      "metadata": {
        "id": "XCUNA9KyOOMl",
        "colab_type": "code",
        "colab": {},
        "outputId": "4acedad4-4d23-486d-f340-e31f3522aa8c"
      },
      "source": [
        "corpora_train_x.shape"
      ],
      "execution_count": 0,
      "outputs": [
        {
          "output_type": "execute_result",
          "data": {
            "text/plain": [
              "(103873, 618, 100, 1)"
            ]
          },
          "metadata": {
            "tags": []
          },
          "execution_count": 85
        }
      ]
    },
    {
      "cell_type": "code",
      "metadata": {
        "id": "bG1X3wXbOOMr",
        "colab_type": "code",
        "colab": {},
        "outputId": "28120b22-c98f-4e5e-c573-2d3be14d8e92"
      },
      "source": [
        "target_train_y.shape"
      ],
      "execution_count": 0,
      "outputs": [
        {
          "output_type": "execute_result",
          "data": {
            "text/plain": [
              "(103873, 2)"
            ]
          },
          "metadata": {
            "tags": []
          },
          "execution_count": 86
        }
      ]
    },
    {
      "cell_type": "code",
      "metadata": {
        "id": "UlV-Ut11OOMy",
        "colab_type": "code",
        "colab": {},
        "outputId": "b435f45a-c5cf-4d8a-9c70-dee9cdc3f1fe"
      },
      "source": [
        "corpora_test_x.shape"
      ],
      "execution_count": 0,
      "outputs": [
        {
          "output_type": "execute_result",
          "data": {
            "text/plain": [
              "(11542, 618, 100, 1)"
            ]
          },
          "metadata": {
            "tags": []
          },
          "execution_count": 87
        }
      ]
    },
    {
      "cell_type": "code",
      "metadata": {
        "id": "TDYfwjxCOOM6",
        "colab_type": "code",
        "colab": {},
        "outputId": "c3c5944d-1ce0-4de1-ed8f-612fba8eac07"
      },
      "source": [
        "target_test_y.shape"
      ],
      "execution_count": 0,
      "outputs": [
        {
          "output_type": "execute_result",
          "data": {
            "text/plain": [
              "(11542, 2)"
            ]
          },
          "metadata": {
            "tags": []
          },
          "execution_count": 88
        }
      ]
    },
    {
      "cell_type": "code",
      "metadata": {
        "id": "o-PRa_qYOONJ",
        "colab_type": "code",
        "colab": {}
      },
      "source": [
        "#Reshaping Train Inputs\n",
        "for doc in range(len(corpora_train)):\n",
        "    #print(corpora_train[doc].shape[1])\n",
        "    for words_rows in range(corpora_train[doc].shape[0]):\n",
        "        embed_flatten = np.array(corpora_train[doc][words_rows]).flatten() #<--- Capture doc and word\n",
        "        for embedding_cols in range(embed_flatten.shape[0]):\n",
        "            corpora_train_x[doc,words_rows,embedding_cols,0] = embed_flatten[embedding_cols]"
      ],
      "execution_count": 0,
      "outputs": []
    },
    {
      "cell_type": "code",
      "metadata": {
        "id": "TelPsiM9OONS",
        "colab_type": "code",
        "colab": {}
      },
      "source": [
        "#Reshaping Test Inputs (for future evaluation)\n",
        "for doc in range(len(corpora_test)):\n",
        "    for words_rows in range(corpora_test[doc].shape[0]):\n",
        "        embed_flatten = np.array(corpora_test[doc][words_rows]).flatten() #<--- Capture doc and word\n",
        "        for embedding_cols in range(embed_flatten.shape[0]):\n",
        "            corpora_test_x[doc,words_rows,embedding_cols,0] = embed_flatten[embedding_cols]"
      ],
      "execution_count": 0,
      "outputs": []
    },
    {
      "cell_type": "code",
      "metadata": {
        "id": "M8YpVF83OONa",
        "colab_type": "code",
        "colab": {}
      },
      "source": [
        "#CheckPoints\n",
        "#csv_logger = CSVLogger(system+'_training.log')\n",
        "filepath = \"alex-adapted-res-003/best_model.hdf5\""
      ],
      "execution_count": 0,
      "outputs": []
    },
    {
      "cell_type": "code",
      "metadata": {
        "id": "X8SRWN8kOONi",
        "colab_type": "code",
        "colab": {}
      },
      "source": [
        "es = EarlyStopping(monitor='val_loss', mode='min', verbose=1, patience=100)\n",
        "mc = ModelCheckpoint(filepath, monitor='val_accuracy', mode='max', verbose=1, save_best_only=True)\n",
        "callbacks_list = [es,mc]"
      ],
      "execution_count": 0,
      "outputs": []
    },
    {
      "cell_type": "code",
      "metadata": {
        "id": "snE1ppqjOONo",
        "colab_type": "code",
        "colab": {},
        "outputId": "746f11e3-b6dd-4d28-97b9-216868e09a18"
      },
      "source": [
        "#Model Fitting\n",
        "history = criticality_network.fit(\n",
        "            x = corpora_train_x, \n",
        "            y = target_train_y,\n",
        "            #batch_size=64,\n",
        "            epochs=2000, #5 <------ Hyperparameter\n",
        "            validation_split = 0.2,\n",
        "            callbacks=callbacks_list\n",
        ")"
      ],
      "execution_count": 0,
      "outputs": [
        {
          "output_type": "stream",
          "text": [
            "Train on 83098 samples, validate on 20775 samples\n",
            "Epoch 1/2000\n",
            "83072/83098 [============================>.] - ETA: 0s - loss: 0.2264 - accuracy: 0.9188\n",
            "Epoch 00001: val_accuracy improved from -inf to 0.99528, saving model to alex-adapted-res-003/best_model.hdf5\n",
            "83098/83098 [==============================] - 164s 2ms/sample - loss: 0.2264 - accuracy: 0.9188 - val_loss: 0.0146 - val_accuracy: 0.9953\n",
            "Epoch 2/2000\n",
            "83072/83098 [============================>.] - ETA: 0s - loss: 0.1386 - accuracy: 0.9535\n",
            "Epoch 00002: val_accuracy did not improve from 0.99528\n",
            "83098/83098 [==============================] - 163s 2ms/sample - loss: 0.1386 - accuracy: 0.9535 - val_loss: 0.0358 - val_accuracy: 0.9884\n",
            "Epoch 3/2000\n",
            "83040/83098 [============================>.] - ETA: 0s - loss: 0.1248 - accuracy: 0.9583\n",
            "Epoch 00003: val_accuracy improved from 0.99528 to 0.99721, saving model to alex-adapted-res-003/best_model.hdf5\n",
            "83098/83098 [==============================] - 162s 2ms/sample - loss: 0.1249 - accuracy: 0.9583 - val_loss: 0.0070 - val_accuracy: 0.9972\n",
            "Epoch 4/2000\n",
            "83072/83098 [============================>.] - ETA: 0s - loss: 0.1147 - accuracy: 0.9605\n",
            "Epoch 00004: val_accuracy improved from 0.99721 to 0.99755, saving model to alex-adapted-res-003/best_model.hdf5\n",
            "83098/83098 [==============================] - 162s 2ms/sample - loss: 0.1147 - accuracy: 0.9605 - val_loss: 0.0054 - val_accuracy: 0.9975\n",
            "Epoch 5/2000\n",
            "83072/83098 [============================>.] - ETA: 0s - loss: 0.1061 - accuracy: 0.9630\n",
            "Epoch 00005: val_accuracy did not improve from 0.99755\n",
            "83098/83098 [==============================] - 155s 2ms/sample - loss: 0.1060 - accuracy: 0.9631 - val_loss: 0.0064 - val_accuracy: 0.9973\n",
            "Epoch 6/2000\n",
            "83072/83098 [============================>.] - ETA: 0s - loss: 0.1013 - accuracy: 0.9653\n",
            "Epoch 00006: val_accuracy did not improve from 0.99755\n",
            "83098/83098 [==============================] - 161s 2ms/sample - loss: 0.1013 - accuracy: 0.9653 - val_loss: 0.0128 - val_accuracy: 0.9957\n",
            "Epoch 7/2000\n",
            "83072/83098 [============================>.] - ETA: 0s - loss: 0.0951 - accuracy: 0.9667\n",
            "Epoch 00007: val_accuracy improved from 0.99755 to 0.99779, saving model to alex-adapted-res-003/best_model.hdf5\n",
            "83098/83098 [==============================] - 157s 2ms/sample - loss: 0.0952 - accuracy: 0.9667 - val_loss: 0.0058 - val_accuracy: 0.9978\n",
            "Epoch 8/2000\n",
            "83040/83098 [============================>.] - ETA: 0s - loss: 0.0898 - accuracy: 0.9681\n",
            "Epoch 00008: val_accuracy did not improve from 0.99779\n",
            "83098/83098 [==============================] - 164s 2ms/sample - loss: 0.0899 - accuracy: 0.9681 - val_loss: 0.0082 - val_accuracy: 0.9972\n",
            "Epoch 9/2000\n",
            "83072/83098 [============================>.] - ETA: 0s - loss: 0.0852 - accuracy: 0.9697\n",
            "Epoch 00009: val_accuracy did not improve from 0.99779\n",
            "83098/83098 [==============================] - 152s 2ms/sample - loss: 0.0852 - accuracy: 0.9698 - val_loss: 0.0128 - val_accuracy: 0.9966\n",
            "Epoch 10/2000\n",
            "83072/83098 [============================>.] - ETA: 0s - loss: 0.0808 - accuracy: 0.9706\n",
            "Epoch 00010: val_accuracy did not improve from 0.99779\n",
            "83098/83098 [==============================] - 158s 2ms/sample - loss: 0.0808 - accuracy: 0.9706 - val_loss: 0.0066 - val_accuracy: 0.9976\n",
            "Epoch 11/2000\n",
            "83072/83098 [============================>.] - ETA: 0s - loss: 0.0757 - accuracy: 0.9728\n",
            "Epoch 00011: val_accuracy improved from 0.99779 to 0.99783, saving model to alex-adapted-res-003/best_model.hdf5\n",
            "83098/83098 [==============================] - 157s 2ms/sample - loss: 0.0757 - accuracy: 0.9728 - val_loss: 0.0060 - val_accuracy: 0.9978\n",
            "Epoch 12/2000\n",
            "83072/83098 [============================>.] - ETA: 0s - loss: 0.0712 - accuracy: 0.9739\n",
            "Epoch 00012: val_accuracy did not improve from 0.99783\n",
            "83098/83098 [==============================] - 154s 2ms/sample - loss: 0.0712 - accuracy: 0.9739 - val_loss: 0.0068 - val_accuracy: 0.9976\n",
            "Epoch 13/2000\n",
            "83072/83098 [============================>.] - ETA: 0s - loss: 0.0684 - accuracy: 0.9757\n",
            "Epoch 00013: val_accuracy did not improve from 0.99783\n",
            "83098/83098 [==============================] - 158s 2ms/sample - loss: 0.0684 - accuracy: 0.9757 - val_loss: 0.0076 - val_accuracy: 0.9973\n",
            "Epoch 14/2000\n",
            "83040/83098 [============================>.] - ETA: 0s - loss: 0.0639 - accuracy: 0.9762\n",
            "Epoch 00014: val_accuracy improved from 0.99783 to 0.99793, saving model to alex-adapted-res-003/best_model.hdf5\n",
            "83098/83098 [==============================] - 157s 2ms/sample - loss: 0.0639 - accuracy: 0.9762 - val_loss: 0.0059 - val_accuracy: 0.9979\n",
            "Epoch 15/2000\n",
            "83072/83098 [============================>.] - ETA: 0s - loss: 0.0627 - accuracy: 0.9771\n",
            "Epoch 00015: val_accuracy did not improve from 0.99793\n",
            "83098/83098 [==============================] - 154s 2ms/sample - loss: 0.0627 - accuracy: 0.9771 - val_loss: 0.0065 - val_accuracy: 0.9978\n",
            "Epoch 16/2000\n",
            "83072/83098 [============================>.] - ETA: 0s - loss: 0.0590 - accuracy: 0.9782\n",
            "Epoch 00016: val_accuracy did not improve from 0.99793\n",
            "83098/83098 [==============================] - 158s 2ms/sample - loss: 0.0590 - accuracy: 0.9782 - val_loss: 0.0090 - val_accuracy: 0.9976\n",
            "Epoch 17/2000\n",
            "83072/83098 [============================>.] - ETA: 0s - loss: 0.0562 - accuracy: 0.9798\n",
            "Epoch 00017: val_accuracy did not improve from 0.99793\n",
            "83098/83098 [==============================] - 161s 2ms/sample - loss: 0.0562 - accuracy: 0.9798 - val_loss: 0.0078 - val_accuracy: 0.9974\n",
            "Epoch 18/2000\n",
            "83040/83098 [============================>.] - ETA: 0s - loss: 0.0540 - accuracy: 0.9801\n",
            "Epoch 00018: val_accuracy did not improve from 0.99793\n",
            "83098/83098 [==============================] - 151s 2ms/sample - loss: 0.0541 - accuracy: 0.9800 - val_loss: 0.0096 - val_accuracy: 0.9977\n",
            "Epoch 19/2000\n",
            "83072/83098 [============================>.] - ETA: 0s - loss: 0.0516 - accuracy: 0.9811\n",
            "Epoch 00019: val_accuracy did not improve from 0.99793\n",
            "83098/83098 [==============================] - 155s 2ms/sample - loss: 0.0516 - accuracy: 0.9811 - val_loss: 0.0089 - val_accuracy: 0.9977\n",
            "Epoch 20/2000\n",
            "83072/83098 [============================>.] - ETA: 0s - loss: 0.0501 - accuracy: 0.9816\n",
            "Epoch 00020: val_accuracy did not improve from 0.99793\n",
            "83098/83098 [==============================] - 161s 2ms/sample - loss: 0.0501 - accuracy: 0.9816 - val_loss: 0.0101 - val_accuracy: 0.9969\n",
            "Epoch 21/2000\n",
            "83072/83098 [============================>.] - ETA: 0s - loss: 0.0476 - accuracy: 0.9822\n",
            "Epoch 00021: val_accuracy did not improve from 0.99793\n",
            "83098/83098 [==============================] - 151s 2ms/sample - loss: 0.0476 - accuracy: 0.9822 - val_loss: 0.0267 - val_accuracy: 0.9958\n",
            "Epoch 22/2000\n",
            "83072/83098 [============================>.] - ETA: 0s - loss: 0.0457 - accuracy: 0.9832\n",
            "Epoch 00022: val_accuracy did not improve from 0.99793\n",
            "83098/83098 [==============================] - 156s 2ms/sample - loss: 0.0457 - accuracy: 0.9832 - val_loss: 0.0100 - val_accuracy: 0.9971\n",
            "Epoch 23/2000\n",
            "83040/83098 [============================>.] - ETA: 0s - loss: 0.0436 - accuracy: 0.9842\n",
            "Epoch 00023: val_accuracy did not improve from 0.99793\n",
            "83098/83098 [==============================] - 160s 2ms/sample - loss: 0.0436 - accuracy: 0.9842 - val_loss: 0.0101 - val_accuracy: 0.9974\n",
            "Epoch 24/2000\n",
            "83072/83098 [============================>.] - ETA: 0s - loss: 0.0432 - accuracy: 0.98 - ETA: 0s - loss: 0.0432 - accuracy: 0.9851\n",
            "Epoch 00024: val_accuracy did not improve from 0.99793\n",
            "83098/83098 [==============================] - 154s 2ms/sample - loss: 0.0432 - accuracy: 0.9851 - val_loss: 0.0117 - val_accuracy: 0.9967\n",
            "Epoch 25/2000\n",
            "83072/83098 [============================>.] - ETA: 0s - loss: 0.0394 - accuracy: 0.9861\n",
            "Epoch 00025: val_accuracy did not improve from 0.99793\n",
            "83098/83098 [==============================] - 158s 2ms/sample - loss: 0.0394 - accuracy: 0.9861 - val_loss: 0.0127 - val_accuracy: 0.9972\n",
            "Epoch 26/2000\n",
            "83040/83098 [============================>.] - ETA: 0s - loss: 0.0404 - accuracy: 0.9862\n",
            "Epoch 00026: val_accuracy did not improve from 0.99793\n",
            "83098/83098 [==============================] - 159s 2ms/sample - loss: 0.0404 - accuracy: 0.9861 - val_loss: 0.0157 - val_accuracy: 0.9958\n",
            "Epoch 27/2000\n",
            "83072/83098 [============================>.] - ETA: 0s - loss: 0.0374 - accuracy: 0.9871\n",
            "Epoch 00027: val_accuracy did not improve from 0.99793\n",
            "83098/83098 [==============================] - 155s 2ms/sample - loss: 0.0374 - accuracy: 0.9871 - val_loss: 0.0123 - val_accuracy: 0.9960\n",
            "Epoch 28/2000\n",
            "83072/83098 [============================>.] - ETA: 0s - loss: 0.0372 - accuracy: 0.9873\n",
            "Epoch 00028: val_accuracy did not improve from 0.99793\n",
            "83098/83098 [==============================] - 151s 2ms/sample - loss: 0.0372 - accuracy: 0.9872 - val_loss: 0.0119 - val_accuracy: 0.9965\n",
            "Epoch 29/2000\n",
            "83072/83098 [============================>.] - ETA: 0s - loss: 0.0355 - accuracy: 0.9871\n",
            "Epoch 00029: val_accuracy did not improve from 0.99793\n",
            "83098/83098 [==============================] - 156s 2ms/sample - loss: 0.0355 - accuracy: 0.9871 - val_loss: 0.0116 - val_accuracy: 0.9970\n",
            "Epoch 30/2000\n",
            "83072/83098 [============================>.] - ETA: 0s - loss: 0.0360 - accuracy: 0.9871\n",
            "Epoch 00030: val_accuracy did not improve from 0.99793\n",
            "83098/83098 [==============================] - 156s 2ms/sample - loss: 0.0360 - accuracy: 0.9871 - val_loss: 0.0105 - val_accuracy: 0.9974\n",
            "Epoch 31/2000\n",
            "83072/83098 [============================>.] - ETA: 0s - loss: 0.0346 - accuracy: 0.9878\n",
            "Epoch 00031: val_accuracy did not improve from 0.99793\n",
            "83098/83098 [==============================] - 155s 2ms/sample - loss: 0.0346 - accuracy: 0.9878 - val_loss: 0.0181 - val_accuracy: 0.9963\n",
            "Epoch 32/2000\n",
            "83040/83098 [============================>.] - ETA: 0s - loss: 0.0328 - accuracy: 0.9883\n",
            "Epoch 00032: val_accuracy did not improve from 0.99793\n",
            "83098/83098 [==============================] - 153s 2ms/sample - loss: 0.0328 - accuracy: 0.9883 - val_loss: 0.0157 - val_accuracy: 0.9961\n",
            "Epoch 33/2000\n",
            "83040/83098 [============================>.] - ETA: 0s - loss: 0.0307 - accuracy: 0.9893\n",
            "Epoch 00033: val_accuracy did not improve from 0.99793\n",
            "83098/83098 [==============================] - 153s 2ms/sample - loss: 0.0307 - accuracy: 0.9893 - val_loss: 0.0167 - val_accuracy: 0.9957\n",
            "Epoch 34/2000\n",
            "83040/83098 [============================>.] - ETA: 0s - loss: 0.0307 - accuracy: 0.9889\n",
            "Epoch 00034: val_accuracy did not improve from 0.99793\n",
            "83098/83098 [==============================] - 159s 2ms/sample - loss: 0.0306 - accuracy: 0.9889 - val_loss: 0.0161 - val_accuracy: 0.9971\n",
            "Epoch 35/2000\n",
            "83072/83098 [============================>.] - ETA: 0s - loss: 0.0296 - accuracy: 0.9894\n",
            "Epoch 00035: val_accuracy did not improve from 0.99793\n",
            "83098/83098 [==============================] - 160s 2ms/sample - loss: 0.0296 - accuracy: 0.9894 - val_loss: 0.0155 - val_accuracy: 0.9974\n",
            "Epoch 36/2000\n",
            "83072/83098 [============================>.] - ETA: 0s - loss: 0.0286 - accuracy: 0.9899\n",
            "Epoch 00036: val_accuracy did not improve from 0.99793\n",
            "83098/83098 [==============================] - 152s 2ms/sample - loss: 0.0286 - accuracy: 0.9899 - val_loss: 0.0165 - val_accuracy: 0.9967\n",
            "Epoch 37/2000\n",
            "83072/83098 [============================>.] - ETA: 0s - loss: 0.0282 - accuracy: 0.9900\n",
            "Epoch 00037: val_accuracy did not improve from 0.99793\n",
            "83098/83098 [==============================] - 156s 2ms/sample - loss: 0.0282 - accuracy: 0.9900 - val_loss: 0.0189 - val_accuracy: 0.9967\n",
            "Epoch 38/2000\n",
            "83072/83098 [============================>.] - ETA: 0s - loss: 0.0285 - accuracy: 0.9902\n",
            "Epoch 00038: val_accuracy did not improve from 0.99793\n",
            "83098/83098 [==============================] - 156s 2ms/sample - loss: 0.0285 - accuracy: 0.9903 - val_loss: 0.0202 - val_accuracy: 0.9954\n",
            "Epoch 39/2000\n",
            "83072/83098 [============================>.] - ETA: 0s - loss: 0.0267 - accuracy: 0.9903\n",
            "Epoch 00039: val_accuracy did not improve from 0.99793\n",
            "83098/83098 [==============================] - 156s 2ms/sample - loss: 0.0267 - accuracy: 0.9903 - val_loss: 0.0175 - val_accuracy: 0.9972\n",
            "Epoch 40/2000\n",
            "83072/83098 [============================>.] - ETA: 0s - loss: 0.0257 - accuracy: 0.9910\n",
            "Epoch 00040: val_accuracy improved from 0.99793 to 0.99798, saving model to alex-adapted-res-003/best_model.hdf5\n",
            "83098/83098 [==============================] - 151s 2ms/sample - loss: 0.0257 - accuracy: 0.9910 - val_loss: 0.0081 - val_accuracy: 0.9980\n",
            "Epoch 41/2000\n",
            "83072/83098 [============================>.] - ETA: 0s - loss: 0.0262 - accuracy: 0.9910\n",
            "Epoch 00041: val_accuracy did not improve from 0.99798\n",
            "83098/83098 [==============================] - 153s 2ms/sample - loss: 0.0262 - accuracy: 0.9910 - val_loss: 0.0188 - val_accuracy: 0.9969\n",
            "Epoch 42/2000\n",
            "83040/83098 [============================>.] - ETA: 0s - loss: 0.0249 - accuracy: 0.9910\n",
            "Epoch 00042: val_accuracy did not improve from 0.99798\n",
            "83098/83098 [==============================] - 155s 2ms/sample - loss: 0.0249 - accuracy: 0.9910 - val_loss: 0.0186 - val_accuracy: 0.9969\n",
            "Epoch 43/2000\n",
            "83072/83098 [============================>.] - ETA: 0s - loss: 0.0246 - accuracy: 0.9916\n",
            "Epoch 00043: val_accuracy did not improve from 0.99798\n",
            "83098/83098 [==============================] - 160s 2ms/sample - loss: 0.0246 - accuracy: 0.9916 - val_loss: 0.0165 - val_accuracy: 0.9968\n",
            "Epoch 44/2000\n",
            "83072/83098 [============================>.] - ETA: 0s - loss: 0.0242 - accuracy: 0.9919\n",
            "Epoch 00044: val_accuracy did not improve from 0.99798\n",
            "83098/83098 [==============================] - 155s 2ms/sample - loss: 0.0242 - accuracy: 0.9919 - val_loss: 0.0176 - val_accuracy: 0.9968\n",
            "Epoch 45/2000\n",
            "83072/83098 [============================>.] - ETA: 0s - loss: 0.0223 - accuracy: 0.9923\n",
            "Epoch 00045: val_accuracy did not improve from 0.99798\n",
            "83098/83098 [==============================] - 155s 2ms/sample - loss: 0.0223 - accuracy: 0.9923 - val_loss: 0.0146 - val_accuracy: 0.9974\n",
            "Epoch 46/2000\n",
            "83072/83098 [============================>.] - ETA: 0s - loss: 0.0219 - accuracy: 0.9926\n",
            "Epoch 00046: val_accuracy did not improve from 0.99798\n",
            "83098/83098 [==============================] - 156s 2ms/sample - loss: 0.0219 - accuracy: 0.9926 - val_loss: 0.0145 - val_accuracy: 0.9967\n",
            "Epoch 47/2000\n",
            "83040/83098 [============================>.] - ETA: 0s - loss: 0.0218 - accuracy: 0.9927\n",
            "Epoch 00047: val_accuracy did not improve from 0.99798\n",
            "83098/83098 [==============================] - 155s 2ms/sample - loss: 0.0218 - accuracy: 0.9927 - val_loss: 0.0239 - val_accuracy: 0.9962\n",
            "Epoch 48/2000\n",
            "83072/83098 [============================>.] - ETA: 0s - loss: 0.0230 - accuracy: 0.9919\n",
            "Epoch 00048: val_accuracy did not improve from 0.99798\n",
            "83098/83098 [==============================] - 158s 2ms/sample - loss: 0.0230 - accuracy: 0.9919 - val_loss: 0.0171 - val_accuracy: 0.9964\n",
            "Epoch 49/2000\n",
            "83072/83098 [============================>.] - ETA: 0s - loss: 0.0217 - accuracy: 0.9925\n",
            "Epoch 00049: val_accuracy did not improve from 0.99798\n",
            "83098/83098 [==============================] - 155s 2ms/sample - loss: 0.0216 - accuracy: 0.9925 - val_loss: 0.0188 - val_accuracy: 0.9959\n",
            "Epoch 50/2000\n",
            "83040/83098 [============================>.] - ETA: 0s - loss: 0.0212 - accuracy: 0.9926\n",
            "Epoch 00050: val_accuracy did not improve from 0.99798\n",
            "83098/83098 [==============================] - 155s 2ms/sample - loss: 0.0211 - accuracy: 0.9926 - val_loss: 0.0201 - val_accuracy: 0.9966\n",
            "Epoch 51/2000\n",
            "83040/83098 [============================>.] - ETA: 0s - loss: 0.0195 - accuracy: 0.9932 ETA: 0s - loss: 0\n",
            "Epoch 00051: val_accuracy did not improve from 0.99798\n",
            "83098/83098 [==============================] - 156s 2ms/sample - loss: 0.0195 - accuracy: 0.9932 - val_loss: 0.0175 - val_accuracy: 0.9965\n",
            "Epoch 52/2000\n",
            "83072/83098 [============================>.] - ETA: 0s - loss: 0.0209 - accuracy: 0.9926\n",
            "Epoch 00052: val_accuracy did not improve from 0.99798\n",
            "83098/83098 [==============================] - 161s 2ms/sample - loss: 0.0209 - accuracy: 0.9926 - val_loss: 0.0155 - val_accuracy: 0.9971\n",
            "Epoch 53/2000\n",
            "83072/83098 [============================>.] - ETA: 0s - loss: 0.0193 - accuracy: 0.9937\n",
            "Epoch 00053: val_accuracy did not improve from 0.99798\n",
            "83098/83098 [==============================] - 154s 2ms/sample - loss: 0.0193 - accuracy: 0.9937 - val_loss: 0.0167 - val_accuracy: 0.9974\n",
            "Epoch 54/2000\n"
          ],
          "name": "stdout"
        },
        {
          "output_type": "stream",
          "text": [
            "83072/83098 [============================>.] - ETA: 0s - loss: 0.0196 - accuracy: 0.9934\n",
            "Epoch 00054: val_accuracy did not improve from 0.99798\n",
            "83098/83098 [==============================] - 156s 2ms/sample - loss: 0.0196 - accuracy: 0.9934 - val_loss: 0.0281 - val_accuracy: 0.9960\n",
            "Epoch 55/2000\n",
            "83072/83098 [============================>.] - ETA: 0s - loss: 0.0183 - accuracy: 0.9937\n",
            "Epoch 00055: val_accuracy did not improve from 0.99798\n",
            "83098/83098 [==============================] - 158s 2ms/sample - loss: 0.0183 - accuracy: 0.9937 - val_loss: 0.0200 - val_accuracy: 0.9967\n",
            "Epoch 56/2000\n",
            "83072/83098 [============================>.] - ETA: 0s - loss: 0.0172 - accuracy: 0.9942\n",
            "Epoch 00056: val_accuracy did not improve from 0.99798\n",
            "83098/83098 [==============================] - 151s 2ms/sample - loss: 0.0172 - accuracy: 0.9942 - val_loss: 0.0194 - val_accuracy: 0.9962\n",
            "Epoch 57/2000\n",
            "83040/83098 [============================>.] - ETA: 0s - loss: 0.0187 - accuracy: 0.9935\n",
            "Epoch 00057: val_accuracy did not improve from 0.99798\n",
            "83098/83098 [==============================] - 155s 2ms/sample - loss: 0.0187 - accuracy: 0.9935 - val_loss: 0.0281 - val_accuracy: 0.9960\n",
            "Epoch 58/2000\n",
            "83072/83098 [============================>.] - ETA: 0s - loss: 0.0186 - accuracy: 0.9936\n",
            "Epoch 00058: val_accuracy did not improve from 0.99798\n",
            "83098/83098 [==============================] - 156s 2ms/sample - loss: 0.0186 - accuracy: 0.9936 - val_loss: 0.0222 - val_accuracy: 0.9969\n",
            "Epoch 59/2000\n",
            "83072/83098 [============================>.] - ETA: 0s - loss: 0.0175 - accuracy: 0.9937\n",
            "Epoch 00059: val_accuracy did not improve from 0.99798\n",
            "83098/83098 [==============================] - 157s 2ms/sample - loss: 0.0175 - accuracy: 0.9937 - val_loss: 0.0315 - val_accuracy: 0.9958\n",
            "Epoch 60/2000\n",
            "83040/83098 [============================>.] - ETA: 0s - loss: 0.0176 - accuracy: 0.9942\n",
            "Epoch 00060: val_accuracy did not improve from 0.99798\n",
            "83098/83098 [==============================] - 155s 2ms/sample - loss: 0.0176 - accuracy: 0.9942 - val_loss: 0.0240 - val_accuracy: 0.9962\n",
            "Epoch 61/2000\n",
            "83072/83098 [============================>.] - ETA: 0s - loss: 0.0178 - accuracy: 0.9942 ETA: \n",
            "Epoch 00061: val_accuracy did not improve from 0.99798\n",
            "83098/83098 [==============================] - 161s 2ms/sample - loss: 0.0177 - accuracy: 0.9942 - val_loss: 0.0213 - val_accuracy: 0.9972\n",
            "Epoch 62/2000\n",
            "83072/83098 [============================>.] - ETA: 0s - loss: 0.0167 - accuracy: 0.9947\n",
            "Epoch 00062: val_accuracy did not improve from 0.99798\n",
            "83098/83098 [==============================] - 159s 2ms/sample - loss: 0.0167 - accuracy: 0.9947 - val_loss: 0.0257 - val_accuracy: 0.9962\n",
            "Epoch 63/2000\n",
            "83072/83098 [============================>.] - ETA: 0s - loss: 0.0173 - accuracy: 0.9945\n",
            "Epoch 00063: val_accuracy did not improve from 0.99798\n",
            "83098/83098 [==============================] - 153s 2ms/sample - loss: 0.0173 - accuracy: 0.9945 - val_loss: 0.0294 - val_accuracy: 0.9960\n",
            "Epoch 64/2000\n",
            "83072/83098 [============================>.] - ETA: 0s - loss: 0.0171 - accuracy: 0.9939\n",
            "Epoch 00064: val_accuracy did not improve from 0.99798\n",
            "83098/83098 [==============================] - 155s 2ms/sample - loss: 0.0171 - accuracy: 0.9939 - val_loss: 0.0160 - val_accuracy: 0.9973\n",
            "Epoch 65/2000\n",
            "83072/83098 [============================>.] - ETA: 0s - loss: 0.0181 - accuracy: 0.9939\n",
            "Epoch 00065: val_accuracy did not improve from 0.99798\n",
            "83098/83098 [==============================] - 157s 2ms/sample - loss: 0.0181 - accuracy: 0.9939 - val_loss: 0.0140 - val_accuracy: 0.9977\n",
            "Epoch 66/2000\n",
            "83040/83098 [============================>.] - ETA: 0s - loss: 0.0146 - accuracy: 0.9950\n",
            "Epoch 00066: val_accuracy did not improve from 0.99798\n",
            "83098/83098 [==============================] - 153s 2ms/sample - loss: 0.0146 - accuracy: 0.9950 - val_loss: 0.0196 - val_accuracy: 0.9976\n",
            "Epoch 67/2000\n",
            "83072/83098 [============================>.] - ETA: 0s - loss: 0.0158 - accuracy: 0.9949\n",
            "Epoch 00067: val_accuracy did not improve from 0.99798\n",
            "83098/83098 [==============================] - 153s 2ms/sample - loss: 0.0158 - accuracy: 0.9949 - val_loss: 0.0160 - val_accuracy: 0.9969\n",
            "Epoch 68/2000\n",
            "83072/83098 [============================>.] - ETA: 0s - loss: 0.0161 - accuracy: 0.9947\n",
            "Epoch 00068: val_accuracy did not improve from 0.99798\n",
            "83098/83098 [==============================] - 151s 2ms/sample - loss: 0.0161 - accuracy: 0.9947 - val_loss: 0.0224 - val_accuracy: 0.9948\n",
            "Epoch 69/2000\n",
            "83072/83098 [============================>.] - ETA: 0s - loss: 0.0148 - accuracy: 0.9948\n",
            "Epoch 00069: val_accuracy did not improve from 0.99798\n",
            "83098/83098 [==============================] - 157s 2ms/sample - loss: 0.0148 - accuracy: 0.9948 - val_loss: 0.0192 - val_accuracy: 0.9967\n",
            "Epoch 70/2000\n",
            "83072/83098 [============================>.] - ETA: 0s - loss: 0.0146 - accuracy: 0.9952\n",
            "Epoch 00070: val_accuracy did not improve from 0.99798\n",
            "83098/83098 [==============================] - 161s 2ms/sample - loss: 0.0146 - accuracy: 0.9952 - val_loss: 0.0185 - val_accuracy: 0.9964\n",
            "Epoch 71/2000\n",
            "83072/83098 [============================>.] - ETA: 0s - loss: 0.0155 - accuracy: 0.9948\n",
            "Epoch 00071: val_accuracy did not improve from 0.99798\n",
            "83098/83098 [==============================] - 153s 2ms/sample - loss: 0.0155 - accuracy: 0.9948 - val_loss: 0.0274 - val_accuracy: 0.9953\n",
            "Epoch 72/2000\n",
            "83072/83098 [============================>.] - ETA: 0s - loss: 0.0145 - accuracy: 0.9951\n",
            "Epoch 00072: val_accuracy did not improve from 0.99798\n",
            "83098/83098 [==============================] - 153s 2ms/sample - loss: 0.0145 - accuracy: 0.9951 - val_loss: 0.0239 - val_accuracy: 0.9961\n",
            "Epoch 73/2000\n",
            "83072/83098 [============================>.] - ETA: 0s - loss: 0.0153 - accuracy: 0.9951\n",
            "Epoch 00073: val_accuracy did not improve from 0.99798\n",
            "83098/83098 [==============================] - 155s 2ms/sample - loss: 0.0153 - accuracy: 0.9952 - val_loss: 0.0261 - val_accuracy: 0.9954\n",
            "Epoch 74/2000\n",
            "83072/83098 [============================>.] - ETA: 0s - loss: 0.0153 - accuracy: 0.9945\n",
            "Epoch 00074: val_accuracy did not improve from 0.99798\n",
            "83098/83098 [==============================] - 157s 2ms/sample - loss: 0.0153 - accuracy: 0.9945 - val_loss: 0.0261 - val_accuracy: 0.9960\n",
            "Epoch 75/2000\n",
            "83040/83098 [============================>.] - ETA: 0s - loss: 0.0148 - accuracy: 0.9949\n",
            "Epoch 00075: val_accuracy did not improve from 0.99798\n",
            "83098/83098 [==============================] - 155s 2ms/sample - loss: 0.0148 - accuracy: 0.9949 - val_loss: 0.0188 - val_accuracy: 0.9970\n",
            "Epoch 76/2000\n",
            "83040/83098 [============================>.] - ETA: 0s - loss: 0.0152 - accuracy: 0.9949\n",
            "Epoch 00076: val_accuracy did not improve from 0.99798\n",
            "83098/83098 [==============================] - 152s 2ms/sample - loss: 0.0152 - accuracy: 0.9949 - val_loss: 0.0278 - val_accuracy: 0.9967\n",
            "Epoch 77/2000\n",
            "83072/83098 [============================>.] - ETA: 0s - loss: 0.0132 - accuracy: 0.9958\n",
            "Epoch 00077: val_accuracy did not improve from 0.99798\n",
            "83098/83098 [==============================] - 156s 2ms/sample - loss: 0.0133 - accuracy: 0.9958 - val_loss: 0.0191 - val_accuracy: 0.9967\n",
            "Epoch 78/2000\n",
            "83072/83098 [============================>.] - ETA: 0s - loss: 0.0138 - accuracy: 0.9952\n",
            "Epoch 00078: val_accuracy did not improve from 0.99798\n",
            "83098/83098 [==============================] - 152s 2ms/sample - loss: 0.0138 - accuracy: 0.9952 - val_loss: 0.0187 - val_accuracy: 0.9968\n",
            "Epoch 79/2000\n",
            "83072/83098 [============================>.] - ETA: 0s - loss: 0.0127 - accuracy: 0.9956\n",
            "Epoch 00079: val_accuracy did not improve from 0.99798\n",
            "83098/83098 [==============================] - 162s 2ms/sample - loss: 0.0127 - accuracy: 0.9956 - val_loss: 0.0278 - val_accuracy: 0.9961\n",
            "Epoch 80/2000\n",
            "83072/83098 [============================>.] - ETA: 0s - loss: 0.0126 - accuracy: 0.9960\n",
            "Epoch 00080: val_accuracy did not improve from 0.99798\n",
            "83098/83098 [==============================] - 149s 2ms/sample - loss: 0.0125 - accuracy: 0.9960 - val_loss: 0.0262 - val_accuracy: 0.9960\n",
            "Epoch 81/2000\n",
            "83072/83098 [============================>.] - ETA: 0s - loss: 0.0128 - accuracy: 0.9958\n",
            "Epoch 00081: val_accuracy did not improve from 0.99798\n",
            "83098/83098 [==============================] - 156s 2ms/sample - loss: 0.0128 - accuracy: 0.9958 - val_loss: 0.0187 - val_accuracy: 0.9970\n"
          ],
          "name": "stdout"
        },
        {
          "output_type": "stream",
          "text": [
            "Epoch 82/2000\n",
            "83040/83098 [============================>.] - ETA: 0s - loss: 0.0135 - accuracy: 0.9955\n",
            "Epoch 00082: val_accuracy did not improve from 0.99798\n",
            "83098/83098 [==============================] - 157s 2ms/sample - loss: 0.0135 - accuracy: 0.9955 - val_loss: 0.0198 - val_accuracy: 0.9971\n",
            "Epoch 83/2000\n",
            "83072/83098 [============================>.] - ETA: 0s - loss: 0.0120 - accuracy: 0.9959\n",
            "Epoch 00083: val_accuracy did not improve from 0.99798\n",
            "83098/83098 [==============================] - 155s 2ms/sample - loss: 0.0120 - accuracy: 0.9959 - val_loss: 0.0240 - val_accuracy: 0.9967\n",
            "Epoch 84/2000\n",
            "83040/83098 [============================>.] - ETA: 0s - loss: 0.0150 - accuracy: 0.9953\n",
            "Epoch 00084: val_accuracy did not improve from 0.99798\n",
            "83098/83098 [==============================] - 153s 2ms/sample - loss: 0.0151 - accuracy: 0.9952 - val_loss: 0.0254 - val_accuracy: 0.9965\n",
            "Epoch 85/2000\n",
            "83072/83098 [============================>.] - ETA: 0s - loss: 0.0132 - accuracy: 0.9956\n",
            "Epoch 00085: val_accuracy did not improve from 0.99798\n",
            "83098/83098 [==============================] - 152s 2ms/sample - loss: 0.0132 - accuracy: 0.9956 - val_loss: 0.0243 - val_accuracy: 0.9967\n",
            "Epoch 86/2000\n",
            "83072/83098 [============================>.] - ETA: 0s - loss: 0.0126 - accuracy: 0.9960\n",
            "Epoch 00086: val_accuracy did not improve from 0.99798\n",
            "83098/83098 [==============================] - 155s 2ms/sample - loss: 0.0126 - accuracy: 0.9960 - val_loss: 0.0226 - val_accuracy: 0.9970\n",
            "Epoch 87/2000\n",
            "83072/83098 [============================>.] - ETA: 0s - loss: 0.0121 - accuracy: 0.9962\n",
            "Epoch 00087: val_accuracy did not improve from 0.99798\n",
            "83098/83098 [==============================] - 155s 2ms/sample - loss: 0.0121 - accuracy: 0.9962 - val_loss: 0.0249 - val_accuracy: 0.9963\n",
            "Epoch 88/2000\n",
            "83072/83098 [============================>.] - ETA: 0s - loss: 0.0113 - accuracy: 0.9964\n",
            "Epoch 00088: val_accuracy did not improve from 0.99798\n",
            "83098/83098 [==============================] - 159s 2ms/sample - loss: 0.0113 - accuracy: 0.9964 - val_loss: 0.0206 - val_accuracy: 0.9971\n",
            "Epoch 89/2000\n",
            "83072/83098 [============================>.] - ETA: 0s - loss: 0.0139 - accuracy: 0.9957 ETA: 0s - loss: 0.0139 - accuracy\n",
            "Epoch 00089: val_accuracy did not improve from 0.99798\n",
            "83098/83098 [==============================] - 154s 2ms/sample - loss: 0.0139 - accuracy: 0.9957 - val_loss: 0.0201 - val_accuracy: 0.9971\n",
            "Epoch 90/2000\n",
            "83072/83098 [============================>.] - ETA: 0s - loss: 0.0111 - accuracy: 0.9965\n",
            "Epoch 00090: val_accuracy did not improve from 0.99798\n",
            "83098/83098 [==============================] - 149s 2ms/sample - loss: 0.0111 - accuracy: 0.9965 - val_loss: 0.0257 - val_accuracy: 0.9966\n",
            "Epoch 91/2000\n",
            "83072/83098 [============================>.] - ETA: 0s - loss: 0.0127 - accuracy: 0.9963\n",
            "Epoch 00091: val_accuracy did not improve from 0.99798\n",
            "83098/83098 [==============================] - 154s 2ms/sample - loss: 0.0127 - accuracy: 0.9963 - val_loss: 0.0298 - val_accuracy: 0.9960\n",
            "Epoch 92/2000\n",
            "83072/83098 [============================>.] - ETA: 0s - loss: 0.0125 - accuracy: 0.9962\n",
            "Epoch 00092: val_accuracy did not improve from 0.99798\n",
            "83098/83098 [==============================] - 152s 2ms/sample - loss: 0.0125 - accuracy: 0.9962 - val_loss: 0.0219 - val_accuracy: 0.9961\n",
            "Epoch 93/2000\n",
            "83072/83098 [============================>.] - ETA: 0s - loss: 0.0119 - accuracy: 0.9962\n",
            "Epoch 00093: val_accuracy did not improve from 0.99798\n",
            "83098/83098 [==============================] - 157s 2ms/sample - loss: 0.0119 - accuracy: 0.9962 - val_loss: 0.0291 - val_accuracy: 0.9956\n",
            "Epoch 94/2000\n",
            "83040/83098 [============================>.] - ETA: 0s - loss: 0.0112 - accuracy: 0.9964\n",
            "Epoch 00094: val_accuracy did not improve from 0.99798\n",
            "83098/83098 [==============================] - 156s 2ms/sample - loss: 0.0112 - accuracy: 0.9964 - val_loss: 0.0252 - val_accuracy: 0.9968\n",
            "Epoch 95/2000\n",
            "83040/83098 [============================>.] - ETA: 0s - loss: 0.0117 - accuracy: 0.9959\n",
            "Epoch 00095: val_accuracy did not improve from 0.99798\n",
            "83098/83098 [==============================] - 150s 2ms/sample - loss: 0.0117 - accuracy: 0.9959 - val_loss: 0.0247 - val_accuracy: 0.9962\n",
            "Epoch 96/2000\n",
            "83072/83098 [============================>.] - ETA: 0s - loss: 0.0111 - accuracy: 0.9963\n",
            "Epoch 00096: val_accuracy did not improve from 0.99798\n",
            "83098/83098 [==============================] - 154s 2ms/sample - loss: 0.0111 - accuracy: 0.9963 - val_loss: 0.0221 - val_accuracy: 0.9972\n",
            "Epoch 97/2000\n",
            "83072/83098 [============================>.] - ETA: 0s - loss: 0.0112 - accuracy: 0.9963\n",
            "Epoch 00097: val_accuracy did not improve from 0.99798\n",
            "83098/83098 [==============================] - 160s 2ms/sample - loss: 0.0112 - accuracy: 0.9963 - val_loss: 0.0392 - val_accuracy: 0.9961\n",
            "Epoch 98/2000\n",
            "83072/83098 [============================>.] - ETA: 0s - loss: 0.0111 - accuracy: 0.9965\n",
            "Epoch 00098: val_accuracy did not improve from 0.99798\n",
            "83098/83098 [==============================] - 155s 2ms/sample - loss: 0.0111 - accuracy: 0.9965 - val_loss: 0.0226 - val_accuracy: 0.9971\n",
            "Epoch 99/2000\n",
            "83072/83098 [============================>.] - ETA: 0s - loss: 0.0112 - accuracy: 0.9965\n",
            "Epoch 00099: val_accuracy did not improve from 0.99798\n",
            "83098/83098 [==============================] - 159s 2ms/sample - loss: 0.0112 - accuracy: 0.9965 - val_loss: 0.0277 - val_accuracy: 0.9964\n",
            "Epoch 100/2000\n",
            "83072/83098 [============================>.] - ETA: 0s - loss: 0.0126 - accuracy: 0.9959\n",
            "Epoch 00100: val_accuracy did not improve from 0.99798\n",
            "83098/83098 [==============================] - 152s 2ms/sample - loss: 0.0126 - accuracy: 0.9959 - val_loss: 0.0161 - val_accuracy: 0.9967\n",
            "Epoch 101/2000\n",
            "83072/83098 [============================>.] - ETA: 0s - loss: 0.0110 - accuracy: 0.9967\n",
            "Epoch 00101: val_accuracy did not improve from 0.99798\n",
            "83098/83098 [==============================] - 155s 2ms/sample - loss: 0.0110 - accuracy: 0.9967 - val_loss: 0.0232 - val_accuracy: 0.9973\n",
            "Epoch 102/2000\n",
            "83040/83098 [============================>.] - ETA: 0s - loss: 0.0098 - accuracy: 0.9970\n",
            "Epoch 00102: val_accuracy did not improve from 0.99798\n",
            "83098/83098 [==============================] - 151s 2ms/sample - loss: 0.0097 - accuracy: 0.9970 - val_loss: 0.0274 - val_accuracy: 0.9969\n",
            "Epoch 103/2000\n",
            "83072/83098 [============================>.] - ETA: 0s - loss: 0.0127 - accuracy: 0.9960\n",
            "Epoch 00103: val_accuracy did not improve from 0.99798\n",
            "83098/83098 [==============================] - 155s 2ms/sample - loss: 0.0127 - accuracy: 0.9960 - val_loss: 0.0386 - val_accuracy: 0.9954\n",
            "Epoch 104/2000\n",
            "83072/83098 [============================>.] - ETA: 0s - loss: 0.0097 - accuracy: 0.9967\n",
            "Epoch 00104: val_accuracy did not improve from 0.99798\n",
            "83098/83098 [==============================] - 153s 2ms/sample - loss: 0.0097 - accuracy: 0.9967 - val_loss: 0.0304 - val_accuracy: 0.9956\n",
            "Epoch 00104: early stopping\n"
          ],
          "name": "stdout"
        }
      ]
    },
    {
      "cell_type": "code",
      "metadata": {
        "id": "9FDMvNCNOONv",
        "colab_type": "code",
        "colab": {}
      },
      "source": [
        "#Saving Training History\n",
        "df_history = pd.DataFrame.from_dict(history.history)\n",
        "df_history.to_csv('alex-adapted-res-003/history_training.csv', encoding='utf-8',index=False)"
      ],
      "execution_count": 0,
      "outputs": []
    },
    {
      "cell_type": "code",
      "metadata": {
        "id": "FHF-BxnqOOQB",
        "colab_type": "code",
        "colab": {},
        "outputId": "9629433a-5ebc-4526-8c56-8a7c57412def"
      },
      "source": [
        "criticality_network.save(filepath)\n",
        "df_history.head()"
      ],
      "execution_count": 0,
      "outputs": [
        {
          "output_type": "execute_result",
          "data": {
            "text/html": [
              "<div>\n",
              "<style>\n",
              "    .dataframe thead tr:only-child th {\n",
              "        text-align: right;\n",
              "    }\n",
              "\n",
              "    .dataframe thead th {\n",
              "        text-align: left;\n",
              "    }\n",
              "\n",
              "    .dataframe tbody tr th {\n",
              "        vertical-align: top;\n",
              "    }\n",
              "</style>\n",
              "<table border=\"1\" class=\"dataframe\">\n",
              "  <thead>\n",
              "    <tr style=\"text-align: right;\">\n",
              "      <th></th>\n",
              "      <th>accuracy</th>\n",
              "      <th>loss</th>\n",
              "      <th>val_accuracy</th>\n",
              "      <th>val_loss</th>\n",
              "    </tr>\n",
              "  </thead>\n",
              "  <tbody>\n",
              "    <tr>\n",
              "      <th>0</th>\n",
              "      <td>0.918819</td>\n",
              "      <td>0.226405</td>\n",
              "      <td>0.995283</td>\n",
              "      <td>0.014607</td>\n",
              "    </tr>\n",
              "    <tr>\n",
              "      <th>1</th>\n",
              "      <td>0.953489</td>\n",
              "      <td>0.138605</td>\n",
              "      <td>0.988351</td>\n",
              "      <td>0.035808</td>\n",
              "    </tr>\n",
              "    <tr>\n",
              "      <th>2</th>\n",
              "      <td>0.958266</td>\n",
              "      <td>0.124916</td>\n",
              "      <td>0.997208</td>\n",
              "      <td>0.006957</td>\n",
              "    </tr>\n",
              "    <tr>\n",
              "      <th>3</th>\n",
              "      <td>0.960517</td>\n",
              "      <td>0.114711</td>\n",
              "      <td>0.997545</td>\n",
              "      <td>0.005447</td>\n",
              "    </tr>\n",
              "    <tr>\n",
              "      <th>4</th>\n",
              "      <td>0.963056</td>\n",
              "      <td>0.106046</td>\n",
              "      <td>0.997304</td>\n",
              "      <td>0.006381</td>\n",
              "    </tr>\n",
              "  </tbody>\n",
              "</table>\n",
              "</div>"
            ],
            "text/plain": [
              "   accuracy      loss  val_accuracy  val_loss\n",
              "0  0.918819  0.226405      0.995283  0.014607\n",
              "1  0.953489  0.138605      0.988351  0.035808\n",
              "2  0.958266  0.124916      0.997208  0.006957\n",
              "3  0.960517  0.114711      0.997545  0.005447\n",
              "4  0.963056  0.106046      0.997304  0.006381"
            ]
          },
          "metadata": {
            "tags": []
          },
          "execution_count": 97
        }
      ]
    },
    {
      "cell_type": "code",
      "metadata": {
        "id": "OMFtQHeZOOQG",
        "colab_type": "code",
        "colab": {},
        "outputId": "18f12f8c-1196-4a0b-f87d-c6bc7206fbf7"
      },
      "source": [
        "#Saving Test Data\n",
        "np.save('alex-adapted-res-003/corpora_test_x.npy',corpora_test_x)\n",
        "np.save('alex-adapted-res-003/target_test_y.npy',target_test_y)"
      ],
      "execution_count": 0,
      "outputs": [
        {
          "output_type": "error",
          "ename": "OSError",
          "evalue": "713295600 requested and 105657312 written",
          "traceback": [
            "\u001b[0;31m---------------------------------------------------------------------------\u001b[0m",
            "\u001b[0;31mOSError\u001b[0m                                   Traceback (most recent call last)",
            "\u001b[0;32m<ipython-input-101-7152ad104ebe>\u001b[0m in \u001b[0;36m<module>\u001b[0;34m()\u001b[0m\n\u001b[1;32m      1\u001b[0m \u001b[0;31m#Saving Test Data\u001b[0m\u001b[0;34m\u001b[0m\u001b[0;34m\u001b[0m\u001b[0m\n\u001b[0;32m----> 2\u001b[0;31m \u001b[0mnp\u001b[0m\u001b[0;34m.\u001b[0m\u001b[0msave\u001b[0m\u001b[0;34m(\u001b[0m\u001b[0;34m'alex-adapted-res-003/corpora_test_x.npy'\u001b[0m\u001b[0;34m,\u001b[0m\u001b[0mcorpora_test_x\u001b[0m\u001b[0;34m)\u001b[0m\u001b[0;34m\u001b[0m\u001b[0m\n\u001b[0m\u001b[1;32m      3\u001b[0m \u001b[0mnp\u001b[0m\u001b[0;34m.\u001b[0m\u001b[0msave\u001b[0m\u001b[0;34m(\u001b[0m\u001b[0;34m'alex-adapted-res-003/target_test_y.npy'\u001b[0m\u001b[0;34m,\u001b[0m\u001b[0mtarget_test_y\u001b[0m\u001b[0;34m)\u001b[0m\u001b[0;34m\u001b[0m\u001b[0m\n",
            "\u001b[0;32m/scratch/danaderp/.conda/envs/drmccr_conda/lib/python3.6/site-packages/numpy/lib/npyio.py\u001b[0m in \u001b[0;36msave\u001b[0;34m(file, arr, allow_pickle, fix_imports)\u001b[0m\n\u001b[1;32m    534\u001b[0m         \u001b[0marr\u001b[0m \u001b[0;34m=\u001b[0m \u001b[0mnp\u001b[0m\u001b[0;34m.\u001b[0m\u001b[0masanyarray\u001b[0m\u001b[0;34m(\u001b[0m\u001b[0marr\u001b[0m\u001b[0;34m)\u001b[0m\u001b[0;34m\u001b[0m\u001b[0m\n\u001b[1;32m    535\u001b[0m         format.write_array(fid, arr, allow_pickle=allow_pickle,\n\u001b[0;32m--> 536\u001b[0;31m                            pickle_kwargs=pickle_kwargs)\n\u001b[0m\u001b[1;32m    537\u001b[0m     \u001b[0;32mfinally\u001b[0m\u001b[0;34m:\u001b[0m\u001b[0;34m\u001b[0m\u001b[0m\n\u001b[1;32m    538\u001b[0m         \u001b[0;32mif\u001b[0m \u001b[0mown_fid\u001b[0m\u001b[0;34m:\u001b[0m\u001b[0;34m\u001b[0m\u001b[0m\n",
            "\u001b[0;32m/scratch/danaderp/.conda/envs/drmccr_conda/lib/python3.6/site-packages/numpy/lib/format.py\u001b[0m in \u001b[0;36mwrite_array\u001b[0;34m(fp, array, version, allow_pickle, pickle_kwargs)\u001b[0m\n\u001b[1;32m    638\u001b[0m     \u001b[0;32melse\u001b[0m\u001b[0;34m:\u001b[0m\u001b[0;34m\u001b[0m\u001b[0m\n\u001b[1;32m    639\u001b[0m         \u001b[0;32mif\u001b[0m \u001b[0misfileobj\u001b[0m\u001b[0;34m(\u001b[0m\u001b[0mfp\u001b[0m\u001b[0;34m)\u001b[0m\u001b[0;34m:\u001b[0m\u001b[0;34m\u001b[0m\u001b[0m\n\u001b[0;32m--> 640\u001b[0;31m             \u001b[0marray\u001b[0m\u001b[0;34m.\u001b[0m\u001b[0mtofile\u001b[0m\u001b[0;34m(\u001b[0m\u001b[0mfp\u001b[0m\u001b[0;34m)\u001b[0m\u001b[0;34m\u001b[0m\u001b[0m\n\u001b[0m\u001b[1;32m    641\u001b[0m         \u001b[0;32melse\u001b[0m\u001b[0;34m:\u001b[0m\u001b[0;34m\u001b[0m\u001b[0m\n\u001b[1;32m    642\u001b[0m             for chunk in numpy.nditer(\n",
            "\u001b[0;31mOSError\u001b[0m: 713295600 requested and 105657312 written"
          ]
        }
      ]
    },
    {
      "cell_type": "code",
      "metadata": {
        "id": "k8YlOsrKOOQL",
        "colab_type": "code",
        "colab": {},
        "outputId": "0c19a3b9-0ae5-432e-e83a-0d60c67ee856"
      },
      "source": [
        "#Evaluation\n",
        "acc = history.history['accuracy']\n",
        "val_acc = history.history['val_accuracy']\n",
        "loss = history.history['loss']\n",
        "val_loss = history.history['val_loss']\n",
        " \n",
        "epochs2 = range(len(acc))\n",
        " \n",
        "plt.plot(epochs2, acc, 'b', label='Training')\n",
        "plt.plot(epochs2, val_acc, 'r', label='Validation')\n",
        "plt.title('Training and validation accuracy')\n",
        "plt.ylabel('acc')\n",
        "plt.xlabel('epoch')\n",
        "plt.legend()\n",
        " \n",
        "plt.figure()\n",
        " \n",
        "plt.plot(epochs2, loss, 'b', label='Training')\n",
        "plt.plot(epochs2, val_loss, 'r', label='Validation')\n",
        "plt.title('Training and validation loss')\n",
        "plt.ylabel('loss')\n",
        "plt.xlabel('epoch')\n",
        "plt.legend()\n",
        " \n",
        "plt.show()"
      ],
      "execution_count": 0,
      "outputs": [
        {
          "output_type": "display_data",
          "data": {
            "image/png": "[encoded data removed]",
            "text/plain": [
              "<matplotlib.figure.Figure at 0x7f18d4688860>"
            ]
          },
          "metadata": {
            "tags": []
          }
        },
        {
          "output_type": "display_data",
          "data": {
            "image/png": "[encoded data removed]",
            "text/plain": [
              "<matplotlib.figure.Figure at 0x7f18d46384e0>"
            ]
          },
          "metadata": {
            "tags": []
          }
        }
      ]
    },
    {
      "cell_type": "code",
      "metadata": {
        "id": "oO4kzSzBOOQV",
        "colab_type": "code",
        "colab": {}
      },
      "source": [
        "from sklearn.metrics import average_precision_score,precision_recall_curve\n",
        "from sklearn.utils.fixes import signature\n",
        "from sklearn.metrics import roc_curve\n",
        "from sklearn.metrics import roc_auc_score"
      ],
      "execution_count": 0,
      "outputs": []
    },
    {
      "cell_type": "code",
      "metadata": {
        "id": "n_qdEsiYOOQh",
        "colab_type": "code",
        "colab": {}
      },
      "source": [
        "from tensorflow.keras.models import load_model"
      ],
      "execution_count": 0,
      "outputs": []
    },
    {
      "cell_type": "code",
      "metadata": {
        "id": "KNd3jEUjOOQo",
        "colab_type": "code",
        "colab": {}
      },
      "source": [
        "path = 'e-res/best_model.hdf5'\n",
        "criticality_network_load = load_model(path) #<----- The Model"
      ],
      "execution_count": 0,
      "outputs": []
    },
    {
      "cell_type": "code",
      "metadata": {
        "id": "cwGoD68TOOQv",
        "colab_type": "code",
        "colab": {},
        "outputId": "77228891-4c6f-4ccd-e38a-5a6960cccbc9"
      },
      "source": [
        "score = criticality_network_load.evaluate(corpora_test_x, target_test_y, verbose=1)"
      ],
      "execution_count": 0,
      "outputs": [
        {
          "output_type": "stream",
          "text": [
            "11542/11542 [==============================] - 4s 354us/sample - loss: 0.0272 - accuracy: 0.9936\n"
          ],
          "name": "stdout"
        }
      ]
    },
    {
      "cell_type": "code",
      "metadata": {
        "id": "djYJOiblOOQ4",
        "colab_type": "code",
        "colab": {},
        "outputId": "15b8ca56-75ba-438a-a602-f0e793aebbcd"
      },
      "source": [
        "print('Test loss:', score[0])\n",
        "print('Test accuracy:', score[1])"
      ],
      "execution_count": 0,
      "outputs": [
        {
          "output_type": "stream",
          "text": [
            "Test loss: 0.027205977374802823\n",
            "Test accuracy: 0.9935886\n"
          ],
          "name": "stdout"
        }
      ]
    },
    {
      "cell_type": "code",
      "metadata": {
        "id": "-Bu501HjOORC",
        "colab_type": "code",
        "colab": {},
        "outputId": "d1a2f44e-9140-4360-ee7f-a2716dddc6c4"
      },
      "source": [
        "history_predict = criticality_network_load.predict(x=corpora_test_x)\n",
        "history_predict"
      ],
      "execution_count": 0,
      "outputs": [
        {
          "output_type": "execute_result",
          "data": {
            "text/plain": [
              "array([[1.0000000e+00, 2.3389704e-18],\n",
              "       [3.0761971e-10, 1.0000000e+00],\n",
              "       [1.0000000e+00, 4.9040064e-17],\n",
              "       ...,\n",
              "       [2.7979095e-07, 9.9999976e-01],\n",
              "       [1.0000000e+00, 6.4942689e-19],\n",
              "       [5.9354993e-10, 1.0000000e+00]], dtype=float32)"
            ]
          },
          "metadata": {
            "tags": []
          },
          "execution_count": 106
        }
      ]
    },
    {
      "cell_type": "code",
      "metadata": {
        "id": "WGw5SVLMOORJ",
        "colab_type": "code",
        "colab": {}
      },
      "source": [
        "inferred_data = pd.DataFrame(history_predict,columns=list('AB'))\n",
        "target_data = pd.DataFrame(target_test_y,columns=list('LN'))\n",
        "data = target_data.join(inferred_data)"
      ],
      "execution_count": 0,
      "outputs": []
    },
    {
      "cell_type": "code",
      "metadata": {
        "id": "RjcAObtgOORO",
        "colab_type": "code",
        "colab": {}
      },
      "source": [
        "y_true = list(data['L'])\n",
        "y_score= list(data['A'])\n",
        "average_precision = average_precision_score(y_true, y_score)"
      ],
      "execution_count": 0,
      "outputs": []
    },
    {
      "cell_type": "code",
      "metadata": {
        "id": "XpZbNu3NOORT",
        "colab_type": "code",
        "colab": {},
        "outputId": "cd547f7e-79a6-4122-8de6-8b514e67d42d"
      },
      "source": [
        "print('Average precision-recall score: {0:0.2f}'.format(average_precision))"
      ],
      "execution_count": 0,
      "outputs": [
        {
          "output_type": "stream",
          "text": [
            "Average precision-recall score: 1.00\n"
          ],
          "name": "stdout"
        }
      ]
    },
    {
      "cell_type": "code",
      "metadata": {
        "id": "e-3R61BgOORa",
        "colab_type": "code",
        "colab": {},
        "outputId": "82e6cf79-8de3-4490-d365-dc1d6f6c9a0d"
      },
      "source": [
        "#ROC Curve (all our samples are balanced)\n",
        "auc = roc_auc_score(y_true, y_score)\n",
        "print('AUC: %.3f' % auc)"
      ],
      "execution_count": 0,
      "outputs": [
        {
          "output_type": "stream",
          "text": [
            "AUC: 0.999\n"
          ],
          "name": "stdout"
        }
      ]
    },
    {
      "cell_type": "code",
      "metadata": {
        "id": "Uql4nW4aOORg",
        "colab_type": "code",
        "colab": {}
      },
      "source": [
        ""
      ],
      "execution_count": 0,
      "outputs": []
    }
  ]
}