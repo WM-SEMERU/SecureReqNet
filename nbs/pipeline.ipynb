{
 "cells": [
  {
   "cell_type": "code",
   "execution_count": 1,
   "metadata": {},
   "outputs": [],
   "source": [
    "from nbdev import *\n",
    "# default_exp pipeline"
   ]
  },
  {
   "cell_type": "markdown",
   "metadata": {},
   "source": [
    "# Pipeline 🔀\n",
    "The TFX pipeline for SecureReqNet."
   ]
  },
  {
   "cell_type": "code",
   "execution_count": 2,
   "metadata": {},
   "outputs": [
    {
     "name": "stderr",
     "output_type": "stream",
     "text": [
      "C:\\Users\\Evan\\AppData\\Local\\Packages\\PythonSoftwareFoundation.Python.3.8_qbz5n2kfra8p0\\LocalCache\\local-packages\\Python38\\site-packages\\tfx\\orchestration\\data_types.py:191: UserWarning: RuntimeParameter is only supported on KubeflowDagRunner currently.\n",
      "  warnings.warn('RuntimeParameter is only supported on KubeflowDagRunner '\n"
     ]
    }
   ],
   "source": [
    "# export\n",
    "# Lint as: python2, python3\n",
    "# Copyright 2020 Google LLC. All Rights Reserved.\n",
    "#\n",
    "# Licensed under the Apache License, Version 2.0 (the \"License\");\n",
    "# you may not use this file except in compliance with the License.\n",
    "# You may obtain a copy of the License at\n",
    "#\n",
    "#     http://www.apache.org/licenses/LICENSE-2.0\n",
    "#\n",
    "# Unless required by applicable law or agreed to in writing, software\n",
    "# distributed under the License is distributed on an \"AS IS\" BASIS,\n",
    "# WITHOUT WARRANTIES OR CONDITIONS OF ANY KIND, either express or implied.\n",
    "# See the License for the specific language governing permissions and\n",
    "# limitations under the License.\n",
    "\"\"\"\n",
    "This file defines the TFX pipeline and various components in the pipeline.\n",
    "\"\"\"\n",
    "\n",
    "from __future__ import absolute_import\n",
    "from __future__ import division\n",
    "from __future__ import print_function\n",
    "\n",
    "from typing import Any, Dict, List, Optional, Text\n",
    "import os\n",
    "\n",
    "import tensorflow_model_analysis as tfma\n",
    "#from tfx.components import CsvExampleGen\n",
    "from tfx.components import Evaluator\n",
    "from tfx.components import ExampleValidator\n",
    "from tfx.components import Pusher\n",
    "from tfx.components import ResolverNode\n",
    "from tfx.components import SchemaGen\n",
    "from tfx.components import StatisticsGen\n",
    "from tfx.components import Trainer\n",
    "from tfx.components import Transform\n",
    "from tfx.components import InfraValidator\n",
    "from tfx.components.base import executor_spec\n",
    "from tfx.components.example_gen.import_example_gen.component import ImportExampleGen\n",
    "from tfx.components.trainer import executor as trainer_executor\n",
    "from tfx.dsl.experimental import latest_blessed_model_resolver\n",
    "from tfx.extensions.google_cloud_ai_platform.pusher import executor as ai_platform_pusher_executor\n",
    "from tfx.extensions.google_cloud_ai_platform.trainer import executor as ai_platform_trainer_executor\n",
    "from tfx.extensions.google_cloud_big_query.example_gen import component as big_query_example_gen_component  # pylint: disable=unused-import\n",
    "from tfx.orchestration import pipeline\n",
    "from tfx.orchestration.experimental.interactive.interactive_context import InteractiveContext\n",
    "from tfx.proto import example_gen_pb2\n",
    "from tfx.proto import pusher_pb2\n",
    "from tfx.proto import trainer_pb2\n",
    "from tfx.proto import infra_validator_pb2\n",
    "from tfx.types import Channel\n",
    "from tfx.types.standard_artifacts import Model\n",
    "from tfx.types.standard_artifacts import ModelBlessing\n",
    "#from tfx.utils.dsl_utils import external_input\n",
    "#from tfx.utils.dsl_utils import csv_input\n",
    "\n",
    "from ml_metadata.proto import metadata_store_pb2\n"
   ]
  },
  {
   "cell_type": "markdown",
   "metadata": {},
   "source": [
    "## The ExampleGen component"
   ]
  },
  {
   "cell_type": "code",
   "execution_count": 8,
   "metadata": {},
   "outputs": [],
   "source": [
    "# export\n",
    "# Provides tf.Example records to the pipeline's downstream components.\n",
    "# Assumes the TFRecord dataset is pre-split into training and evaluation directories.\n",
    "# Input: A base path to the pre-split dataset\n",
    "# Output: tf.Example records\n",
    "def __create_example_gen(data_path):\n",
    "    tf_input = example_gen_pb2.Input(splits=[\n",
    "                    example_gen_pb2.Input.Split(name='train', pattern='tfrecords_train/*'),\n",
    "                    example_gen_pb2.Input.Split(name='eval', pattern='tfrecords_eval/*')\n",
    "                ])\n",
    "    return ImportExampleGen(input_base=data_path, input_config=tf_input)"
   ]
  },
  {
   "cell_type": "markdown",
   "metadata": {},
   "source": [
    "## The StatisticsGen component"
   ]
  },
  {
   "cell_type": "code",
   "execution_count": 10,
   "metadata": {},
   "outputs": [],
   "source": [
    "# export\n",
    "# Computes statistics over data for visualization and example validation.\n",
    "# Input: Examples from the ExampleGen component\n",
    "# Output: Dataset statistics to be used by the SchemaGen component\n",
    "def __create_statistics_gen(examples):\n",
    "    return StatisticsGen(examples=examples)"
   ]
  },
  {
   "cell_type": "markdown",
   "metadata": {},
   "source": [
    "## The SchemaGen component"
   ]
  },
  {
   "cell_type": "code",
   "execution_count": 11,
   "metadata": {},
   "outputs": [],
   "source": [
    "# export\n",
    "# Generates schema based on statistics files.\n",
    "# Input: Statistics from the StatisticsGen component\\\n",
    "# Output: A schema of the model for use in the Transform and Trainer components.\n",
    "def __create_schema_gen(statistics):\n",
    "    return SchemaGen(statistics=statistics, infer_feature_shape=True)"
   ]
  },
  {
   "cell_type": "markdown",
   "metadata": {},
   "source": [
    "## The Transform component"
   ]
  },
  {
   "cell_type": "code",
   "execution_count": 12,
   "metadata": {},
   "outputs": [],
   "source": [
    "# export\n",
    "def __create_transform(examples, schema, preprocessing_fn):\n",
    "    return Transform(examples=examples, schema=schema, preprocessing_fn=preprocessing_fn)"
   ]
  },
  {
   "cell_type": "markdown",
   "metadata": {},
   "source": [
    "## The Evaluator Component"
   ]
  },
  {
   "cell_type": "code",
   "execution_count": 13,
   "metadata": {},
   "outputs": [],
   "source": [
    "# export\n",
    "# Evaluates an input model based on the binary cross-entropy loss,\n",
    "# binary accuracy, and AUC metrics. Compares the input model\n",
    "# to one previously blessed by the Evaluator component.\n",
    "# Input: An eval split from ExampleGen, a model from Trainer, and an EvalSavedModel\n",
    "# Output: Analysis and validation results\n",
    "def __create_evaluator(examples, model, baseline_model):\n",
    "    eval_config = tfma.EvalConfig(\n",
    "        model_specs=[tfma.ModelSpec(signature_name='eval')],\n",
    "        slicing_specs=[tfma.SlicingSpec()],\n",
    "        metrics_specs=[\n",
    "            # binary cross-entropy loss\n",
    "            tfma.MetricsSpec(metrics=[\n",
    "                tfma.MetricConfig(\n",
    "                    class_name='BinaryCrossentropy',\n",
    "                    threshold=tfma.MetricThreshold(\n",
    "                        value_threshold=tfma.GenericValueThreshold(\n",
    "                            upper_bound={'value': loss_threshold}),\n",
    "                        change_threshold=tfma.GenericChangeThreshold(\n",
    "                            direction=tfma.MetricDirection.LOWER_IS_BETTER,\n",
    "                            absolute={'value': -1e-10})))\n",
    "            ]),\n",
    "  \n",
    "            # binary accuracy\n",
    "            tfma.MetricsSpec(metrics=[\n",
    "                tfma.MetricConfig(\n",
    "                    class_name='BinaryAccuracy',\n",
    "                    threshold=tfma.MetricThreshold(\n",
    "                        value_threshold=tfma.GenericValueThreshold(\n",
    "                            lower_bound={'value': eval_accuracy_threshold}),\n",
    "                        change_threshold=tfma.GenericChangeThreshold(\n",
    "                            direction=tfma.MetricDirection.HIGHER_IS_BETTER,\n",
    "                            absolute={'value': -1e-10})))\n",
    "            ]),\n",
    "\n",
    "            # AUC\n",
    "            tfma.MetricsSpec(metrics=[\n",
    "                tfma.MetricConfig(\n",
    "                    class_name='AUC',\n",
    "                    threshold=tfma.MetricThreshold(\n",
    "                        value_threshold=tfma.GenericValueThreshold(\n",
    "                            lower_bound={'value': auc_threshold}),\n",
    "                        change_threshold=tfma.GenericChangeThreshold(\n",
    "                            direction=tfma.MetricDirection.HIGHER_IS_BETTER,\n",
    "                            absolute={'value': -1e-10})))\n",
    "            ])\n",
    "    ])\n",
    "\n",
    "    return Evaluator(examples=examples, model=model, baseline_model=baseline_model, eval_config=eval_config)"
   ]
  },
  {
   "cell_type": "markdown",
   "metadata": {},
   "source": [
    "## The Trainer component"
   ]
  },
  {
   "cell_type": "code",
   "execution_count": 14,
   "metadata": {},
   "outputs": [],
   "source": [
    "# export\n",
    "def __create_trainer(trainer_args):\n",
    "    return Trainer(**trainer_args)"
   ]
  },
  {
   "cell_type": "markdown",
   "metadata": {},
   "source": [
    "## The ModelResolver component"
   ]
  },
  {
   "cell_type": "code",
   "execution_count": 15,
   "metadata": {},
   "outputs": [],
   "source": [
    "#export\n",
    "def __create_model_resolver():\n",
    "    return ResolverNode(\n",
    "      instance_name='latest_blessed_model_resolver',\n",
    "      resolver_class=latest_blessed_model_resolver.LatestBlessedModelResolver,\n",
    "      model=Channel(type=Model),\n",
    "      model_blessing=Channel(type=ModelBlessing))"
   ]
  },
  {
   "cell_type": "markdown",
   "metadata": {},
   "source": [
    "## The InfraValidator Component"
   ]
  },
  {
   "cell_type": "code",
   "execution_count": 16,
   "metadata": {},
   "outputs": [],
   "source": [
    "# export\n",
    "# Launches sandboxed server with the model\n",
    "# Validates that model can be loaded and queried\n",
    "# Input: A model from the Trainer component, examples from the ExampleGen component\n",
    "# Output: A blessed model that is sent to the Pusher component\n",
    "def __create_infra(model, examples):\n",
    "    InfraValidator(\n",
    "      model=model,\n",
    "      examples=examples,\n",
    "      serving_spec=infra_validator_pb2.ServingSpec(\n",
    "          tensorflow_serving=infra_validator_pb2.TensorFlowServing(  # Using TF Serving.\n",
    "              tags=['latest']\n",
    "          ),\n",
    "          local_docker=infra_validator_pb2.LocalDockerConfig(),  # Running on local docker.\n",
    "      ),\n",
    "      validation_spec=infra_validator_pb2.ValidationSpec(\n",
    "          max_loading_time_seconds=60,\n",
    "          num_tries=5,\n",
    "      ),\n",
    "      request_spec=infra_validator_pb2.RequestSpec(\n",
    "          tensorflow_serving=infra_validator_pb2.TensorFlowServingRequestSpec(),\n",
    "          num_examples=1,\n",
    "      )\n",
    "  )"
   ]
  },
  {
   "cell_type": "markdown",
   "metadata": {},
   "source": [
    "## The Pusher component"
   ]
  },
  {
   "cell_type": "code",
   "execution_count": 17,
   "metadata": {},
   "outputs": [],
   "source": [
    "# export\n",
    "# Takes infravalidated model and deploys it to a serving location\n",
    "# Input: A blessed model from the InfraValidator component\n",
    "# Output: The same model\n",
    "def __create_pusher(pusher_args):\n",
    "    return Pusher(**pusher_args)"
   ]
  },
  {
   "cell_type": "markdown",
   "metadata": {},
   "source": [
    "## Main Pipeline Method\n",
    "Defines a factory for the pipeline. Factory methods are described above."
   ]
  },
  {
   "cell_type": "code",
   "execution_count": 18,
   "metadata": {},
   "outputs": [],
   "source": [
    "# export\n",
    "# Uses factory methods to create the pipeline\n",
    "# Input: Various parameters from configs\n",
    "# Output: A TFX pipeline\n",
    "def create_pipeline(\n",
    "    pipeline_name: Text,\n",
    "    pipeline_root: Text,\n",
    "    data_path: Text,\n",
    "    # TODO(step 7): (Optional) Uncomment here to use BigQuery as a data source.\n",
    "    # query: Text,\n",
    "    module_file: Text,\n",
    "    preprocessing_fn: Text,\n",
    "    train_args: trainer_pb2.TrainArgs,\n",
    "    eval_args: trainer_pb2.EvalArgs,\n",
    "    eval_accuracy_threshold: float,\n",
    "    serving_model_dir: Text,\n",
    "    metadata_connection_config: Optional[\n",
    "        metadata_store_pb2.ConnectionConfig] = None,\n",
    "    beam_pipeline_args: Optional[List[Text]] = None,\n",
    "    ai_platform_training_args: Optional[Dict[Text, Text]] = None,\n",
    "    ai_platform_serving_args: Optional[Dict[Text, Any]] = None,\n",
    ") -> pipeline.Pipeline:\n",
    "\n",
    "  components = []\n",
    "\n",
    "  example_gen = __create_example_gen(data_path)  \n",
    "  components.append(example_gen)\n",
    "\n",
    "  statistics_gen = __create_statistics_gen(example_gen.outputs['examples'])\n",
    "  components.append(statistics_gen)\n",
    "\n",
    "  schema_gen = __create_schema_gen(statistics=statistics_gen.outputs['statistics'])\n",
    "  components.append(schema_gen)\n",
    "\n",
    "  transform = __create_transform(\n",
    "      examples=example_gen.outputs['examples'],\n",
    "      schema=schema_gen.outputs['schema'],\n",
    "      preprocessing_fn=preprocessing_fn)\n",
    "  components.append(transform)\n",
    "\n",
    "  # Uses user-provided Python function that implements a model using TF-Learn.\n",
    "  trainer_args = {\n",
    "      'module_file' : module_file,\n",
    "      'examples' : example_gen.outputs['examples'],\n",
    "      #'transformed_examples': transform.outputs['transformed_examples'],\n",
    "      'schema': schema_gen.outputs['schema'],\n",
    "      #'transform_graph': transform.outputs['transform_graph'],\n",
    "      'train_args': train_args,\n",
    "      'eval_args': eval_args,\n",
    "      'custom_executor_spec':\n",
    "          executor_spec.ExecutorClassSpec(trainer_executor.Executor),\n",
    "  }\n",
    "  if ai_platform_training_args is not None:\n",
    "    trainer_args.update({\n",
    "        'custom_executor_spec':\n",
    "            executor_spec.ExecutorClassSpec(\n",
    "                ai_platform_trainer_executor.GenericExecutor\n",
    "            ),\n",
    "        'custom_config': {\n",
    "            ai_platform_trainer_executor.TRAINING_ARGS_KEY:\n",
    "                ai_platform_training_args,\n",
    "        }\n",
    "    })\n",
    "  trainer = __create_trainer(trainer_args)\n",
    "  # components.append(trainer)\n",
    "\n",
    "  model_resolver = __create_model_resolver()\n",
    "  # components.append(model_resolver)\n",
    "    \n",
    "  evaluator = __create_evaluator(\n",
    "      examples=example_gen.outputs['examples'],\n",
    "      model=trainer.outputs['model'],\n",
    "      baseline_model=model_resolver.outputs['model'])\n",
    "  # TODO(step 6): Uncomment here to add Evaluator to the pipeline.\n",
    "  # components.append(evaluator)\n",
    "\n",
    "  infra_validator = __create_infra(model=trainer.outputs[model], examples=example_gen.outputs['examples'])\n",
    "  # components.append(infra_validator)\n",
    "\n",
    "  # Checks whether the model passed the validation steps and pushes the model\n",
    "  # to a file destination if check passed.\n",
    "  pusher_args = {\n",
    "      'model':\n",
    "          trainer.outputs['model'],\n",
    "      'model_blessing':\n",
    "          evaluator.outputs['blessing'],\n",
    "      # Uncomment these when deploying InfraValidator\n",
    "      #'infra_blessing':\n",
    "      #    infra_validator.outputs['blessing'],\n",
    "      'push_destination':\n",
    "          pusher_pb2.PushDestination(\n",
    "              filesystem=pusher_pb2.PushDestination.Filesystem(\n",
    "                  base_directory=serving_model_dir)),\n",
    "  }\n",
    "  if ai_platform_serving_args is not None:\n",
    "    pusher_args.update({\n",
    "        'custom_executor_spec':\n",
    "            executor_spec.ExecutorClassSpec(ai_platform_pusher_executor.Executor\n",
    "                                           ),\n",
    "        'custom_config': {\n",
    "            ai_platform_pusher_executor.SERVING_ARGS_KEY:\n",
    "                ai_platform_serving_args\n",
    "        },\n",
    "    })\n",
    "  pusher = __create_pusher(pusher_args)\n",
    "  # components.append(pusher)\n",
    "\n",
    "  return pipeline.Pipeline(\n",
    "      pipeline_name=pipeline_name,\n",
    "      pipeline_root=pipeline_root,\n",
    "      components=components,\n",
    "      # Change this value to control caching of execution results. Default value\n",
    "      # is `False`.\n",
    "      #enable_cache=True,\n",
    "      metadata_connection_config=metadata_connection_config,\n",
    "      beam_pipeline_args=beam_pipeline_args,\n",
    "  )"
   ]
  }
 ],
 "metadata": {
  "kernelspec": {
   "display_name": "Python 3",
   "language": "python",
   "name": "python3"
  },
  "language_info": {
   "codemirror_mode": {
    "name": "ipython",
    "version": 3
   },
   "file_extension": ".py",
   "mimetype": "text/x-python",
   "name": "python",
   "nbconvert_exporter": "python",
   "pygments_lexer": "ipython3",
   "version": "3.8.6"
  }
 },
 "nbformat": 4,
 "nbformat_minor": 4
}
