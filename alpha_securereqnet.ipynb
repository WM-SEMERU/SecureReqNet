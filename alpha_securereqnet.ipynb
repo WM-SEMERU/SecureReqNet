{
  "nbformat": 4,
  "nbformat_minor": 0,
  "metadata": {
    "colab": {
      "name": "alpha-securereqnet.ipynb",
      "version": "0.3.2",
      "provenance": [],
      "collapsed_sections": [],
      "toc_visible": true,
      "include_colab_link": true
    },
    "kernelspec": {
      "name": "python3",
      "display_name": "Python 3"
    }
  },
  "cells": [
    {
      "cell_type": "markdown",
      "metadata": {
        "id": "view-in-github",
        "colab_type": "text"
      },
      "source": [
        "<a href=\"https://colab.research.google.com/github/danaderp/SecureReqNet/blob/master/alpha_securereqnet.ipynb\" target=\"_parent\"><img src=\"https://colab.research.google.com/assets/colab-badge.svg\" alt=\"Open In Colab\"/></a>"
      ]
    },
    {
      "cell_type": "markdown",
      "metadata": {
        "id": "jeZw_wJ0fvvF",
        "colab_type": "text"
      },
      "source": [
        "## Alpha-SecureReqNet"
      ]
    },
    {
      "cell_type": "code",
      "metadata": {
        "id": "zweGRad_d4va",
        "colab_type": "code",
        "colab": {}
      },
      "source": [
        "#danaderp May6'19\n",
        "#Prediction For Main Issues Data Set \n",
        "#alpha-SecureReqNet"
      ],
      "execution_count": 0,
      "outputs": []
    },
    {
      "cell_type": "code",
      "metadata": {
        "id": "tV4BxbkCfu09",
        "colab_type": "code",
        "colab": {}
      },
      "source": [
        "import csv\n",
        "from tensorflow.keras.preprocessing import text\n",
        "from nltk.corpus import gutenberg\n",
        "from string import punctuation\n",
        "from tensorflow.keras.preprocessing.sequence import skipgrams\n",
        "\n",
        "import pandas as pd\n",
        "import numpy as np\n",
        "import re\n",
        "import nltk\n",
        "import matplotlib.pyplot as plt\n",
        "\n",
        "from nltk.stem.snowball import SnowballStemmer\n",
        "englishStemmer=SnowballStemmer(\"english\")"
      ],
      "execution_count": 0,
      "outputs": []
    },
    {
      "cell_type": "code",
      "metadata": {
        "id": "wMymf9NRaYNc",
        "colab_type": "code",
        "colab": {
          "base_uri": "https://localhost:8080/",
          "height": 68
        },
        "outputId": "7daddf17-fc70-498d-d268-99f7a16d67b2"
      },
      "source": [
        "import nltk\n",
        "nltk.download('stopwords')"
      ],
      "execution_count": 24,
      "outputs": [
        {
          "output_type": "stream",
          "text": [
            "[nltk_data] Downloading package stopwords to /root/nltk_data...\n",
            "[nltk_data]   Package stopwords is already up-to-date!\n"
          ],
          "name": "stdout"
        },
        {
          "output_type": "execute_result",
          "data": {
            "text/plain": [
              "True"
            ]
          },
          "metadata": {
            "tags": []
          },
          "execution_count": 24
        }
      ]
    },
    {
      "cell_type": "code",
      "metadata": {
        "id": "URHlMuyvgZsW",
        "colab_type": "code",
        "outputId": "7161654a-f9e1-4ed0-e6a3-2e1d7e18a190",
        "colab": {
          "base_uri": "https://localhost:8080/",
          "height": 34
        }
      },
      "source": [
        "#Importing Neural Dependencies\n",
        "import tensorflow as tf\n",
        "from tensorflow.keras import layers\n",
        "from tensorflow.keras.layers import Dot, Input, Dense, Reshape, LSTM, Conv2D, Flatten, MaxPooling1D, Dropout, MaxPooling2D\n",
        "from tensorflow.keras.layers import Embedding, Multiply, Subtract\n",
        "from tensorflow.keras.models import Sequential, Model\n",
        "from tensorflow.python.keras.layers import Lambda\n",
        "from tensorflow.keras.callbacks import CSVLogger, ModelCheckpoint\n",
        "from tensorflow.keras.callbacks import EarlyStopping\n",
        "print(tf.__version__)"
      ],
      "execution_count": 25,
      "outputs": [
        {
          "output_type": "stream",
          "text": [
            "1.14.0\n"
          ],
          "name": "stdout"
        }
      ]
    },
    {
      "cell_type": "code",
      "metadata": {
        "id": "pMqMwL02giiq",
        "colab_type": "code",
        "colab": {}
      },
      "source": [
        "#Visualize model structure\n",
        "from IPython.display import SVG\n",
        "from keras.utils.vis_utils import model_to_dot\n",
        "from sklearn.metrics.pairwise import euclidean_distances\n",
        "from sklearn.manifold import TSNE"
      ],
      "execution_count": 0,
      "outputs": []
    },
    {
      "cell_type": "code",
      "metadata": {
        "id": "Ptsx9ghpqj_G",
        "colab_type": "code",
        "outputId": "e4a072e0-27c7-4d19-fe16-2de980b90173",
        "colab": {
          "base_uri": "https://localhost:8080/",
          "height": 122
        }
      },
      "source": [
        "from google.colab import drive\n",
        "drive.mount('/content/gdrive')"
      ],
      "execution_count": 5,
      "outputs": [
        {
          "output_type": "stream",
          "text": [
            "Go to this URL in a browser: https://accounts.google.com/o/oauth2/auth?client_id=947318989803-6bn6qk8qdgf4n4g3pfee6491hc0brc4i.apps.googleusercontent.com&redirect_uri=urn%3Aietf%3Awg%3Aoauth%3A2.0%3Aoob&scope=email%20https%3A%2F%2Fwww.googleapis.com%2Fauth%2Fdocs.test%20https%3A%2F%2Fwww.googleapis.com%2Fauth%2Fdrive%20https%3A%2F%2Fwww.googleapis.com%2Fauth%2Fdrive.photos.readonly%20https%3A%2F%2Fwww.googleapis.com%2Fauth%2Fpeopleapi.readonly&response_type=code\n",
            "\n",
            "Enter your authorization code:\n",
            "··········\n",
            "Mounted at /content/gdrive\n"
          ],
          "name": "stdout"
        }
      ]
    },
    {
      "cell_type": "code",
      "metadata": {
        "id": "MGe5_Jx4K5WO",
        "colab_type": "code",
        "colab": {}
      },
      "source": [
        "import sys\n",
        "sys.path.append('/content/gdrive/My Drive/Colab Notebooks/secure-req-net')"
      ],
      "execution_count": 0,
      "outputs": []
    },
    {
      "cell_type": "code",
      "metadata": {
        "id": "AjEYU6Gw-K26",
        "colab_type": "code",
        "colab": {}
      },
      "source": [
        "#! unzip /content/gdrive/My\\ Drive/Colab\\ Notebooks/secure-req-net/datasets/augmented_dataset/augmented_dataset.zip"
      ],
      "execution_count": 0,
      "outputs": []
    },
    {
      "cell_type": "code",
      "metadata": {
        "id": "5hQ6ctNB_uZ3",
        "colab_type": "code",
        "colab": {}
      },
      "source": [
        "#! cp -r issues/ /content/gdrive/My\\ Drive/Colab\\ Notebooks/secure-req-net/datasets/augmented_dataset/"
      ],
      "execution_count": 0,
      "outputs": []
    },
    {
      "cell_type": "code",
      "metadata": {
        "id": "8Px4_vVd8E_Q",
        "colab_type": "code",
        "colab": {}
      },
      "source": [
        "from vectorize_sentence import Embeddings"
      ],
      "execution_count": 0,
      "outputs": []
    },
    {
      "cell_type": "code",
      "metadata": {
        "id": "lPfRbyEiGdx-",
        "colab_type": "code",
        "colab": {}
      },
      "source": [
        "from datasets.read_data import Dynamic_Dataset\n",
        "from datasets.read_data import Processing_Dataset"
      ],
      "execution_count": 0,
      "outputs": []
    },
    {
      "cell_type": "markdown",
      "metadata": {
        "id": "6sPpIvKEJQ5v",
        "colab_type": "text"
      },
      "source": [
        "### Loading word embeddings from previous compression"
      ]
    },
    {
      "cell_type": "code",
      "metadata": {
        "id": "y_risxO7JRmy",
        "colab_type": "code",
        "colab": {}
      },
      "source": [
        "path = \"/content/gdrive/My Drive/Colab Notebooks/secure-req-net/datasets/augmented_dataset/\" #Place here the dataset you want to process\n",
        "process_unit = Processing_Dataset(path)\n",
        "ground_truth = process_unit.get_ground_truth()"
      ],
      "execution_count": 0,
      "outputs": []
    },
    {
      "cell_type": "code",
      "metadata": {
        "id": "0XUh1VSTJqX2",
        "colab_type": "code",
        "outputId": "ad2b28fc-7f93-4b75-9fd5-84ddb07cfbcf",
        "colab": {
          "base_uri": "https://localhost:8080/",
          "height": 71
        }
      },
      "source": [
        "dataset = Dynamic_Dataset(ground_truth, path)\n",
        "test, train = process_unit.get_test_and_training(ground_truth)\n",
        "print(len(test),len(train))\n",
        "print(test[0],train[0])"
      ],
      "execution_count": 13,
      "outputs": [
        {
          "output_type": "stream",
          "text": [
            "11612 104510\n",
            "('(1,0)', 'Unspecified vulnerability in the Oracle VM VirtualBox component in Oracle Virtualization VirtualBox before 4.1.32, 4.2.24, and 4.3.10 allows local users to affect confidentiality, integrity, and availability via vectors related to Graphics driver (WDDM) for Windows guests.') ('(1,0)', \"'This is a useful security improvement, that I recommend gets integrated into gitlab. It protects users, in the event that their passwords get stolen from other sites, etc. I found a good gem for this: http://rubydoc.info/github/mdp/rotp/master/frames, however, given that it appears Gitlab uses Devise for auth, we should probably use this plugin: https://github.com/wmlele/devise-otp\\n\\nI intend to submit a Merge Request for this, so I'll outline my design for the system here (in case anyone has feedback/wants to help):\\n\\n### OTP Strategy\\nI'm going with time-based (TOTP). Its requires no storage implications, per-user (other than a 32bit secret key). Time-based keys are very common, Google uses this strategy to protect GMail/Apps customers.\\n\\n### Database Augmentation\\n**NOTE:** Given the existence of devise-otp, this may no longer be necessary.\\n\\nI will add new table, with a foreign key reference to a `user_id` column,  and `totp_secret` column. The existence of a row implies that this feature is enabled for a user. This table could be enhanced further down the road to support other types of otp strategies, if need be. This would also make future data migrations, in the event of further enhancement, easier to manage.\\n\\n### UI Augmentation\\n#### User Account Settings\\nWe'll add a simple checkbox that a user must toggle to enable this feature. Once the checkbox is toggled, a modal will appear, displaying a QR code that the user will then scan with their mobile device, to start generating OTP codes. There will also be a box for the user to provide a newly generated OTP code to verify the service is working properly, for their account. Users will also need the ability to also reset the secret, in case they lose their phone etc.\\n\\n#### Admin Settings\\nWe'll need to allow admins to toggle if this feature is enabled, for a given user account. Assumed use case would be to contact an admin to disable OTP codes so you can log back in, re-enable it, and setup a new secret for yourself.\\n\\n#### Sign In\\nOnce the user has provided a proper username/password pair, if the flag is enabled, they will be redirected to a page that asks them to enter an OTP code, before they can proceed into the protected areas of the site.\\n\\n------\\n\\n**QUESTION: What would be the best course of action to manage the scenario where a user has lost their phone, and can no longer regenerate OTP codes to access their account? How can we let them back in to reset their OTP secret?** So far, my assumption is that the user would contact their gitlab administrators and they would disable OTP for them. However, one potential issue with this is that the attacker, who may have the user's password, may also have access to their e-mail. This would allow them to ask the administrator to disable OTP, and gain access to their data. Likely the verification protocol for admins should be org-specific, and not in scope of this work. Unsure how gitlab cloud staff wants to manage this, for their users. \\n\\n**UPDATE:** Its worth noting that using devise-otp provides a list of emergency HTOP recovery tokens that can be used, if we expose that functionality.\")\n"
          ],
          "name": "stdout"
        }
      ]
    },
    {
      "cell_type": "code",
      "metadata": {
        "id": "jbNp-1h0KATi",
        "colab_type": "code",
        "colab": {}
      },
      "source": [
        "#Preprocesing Corpora\n",
        "embeddings = Embeddings()\n",
        "max_words = 5000 #<------- [Parameter]\n",
        "pre_corpora_train = [doc for doc in train if len(doc[1])< max_words]\n",
        "pre_corpora_test = [doc for doc in test if len(doc[1])< max_words]"
      ],
      "execution_count": 0,
      "outputs": []
    },
    {
      "cell_type": "code",
      "metadata": {
        "id": "wCCf9WmwKFI-",
        "colab_type": "code",
        "colab": {
          "base_uri": "https://localhost:8080/",
          "height": 34
        },
        "outputId": "8104a66d-f3cc-456b-8806-ef635620c2c8"
      },
      "source": [
        "print(len(pre_corpora_train),len(pre_corpora_test))"
      ],
      "execution_count": 21,
      "outputs": [
        {
          "output_type": "stream",
          "text": [
            "103867 11548\n"
          ],
          "name": "stdout"
        }
      ]
    },
    {
      "cell_type": "code",
      "metadata": {
        "id": "3tbLvCR7KSmb",
        "colab_type": "code",
        "colab": {}
      },
      "source": [
        "#Loading embeddings\n",
        "embed_path = '/content/gdrive/My Drive/Colab Notebooks/secure-req-net/datasets/augmented_dataset/word_embeddings-embed_size_100-epochs_100.csv'\n",
        "embeddings_dict = embeddings.get_embeddings_dict(embed_path)"
      ],
      "execution_count": 0,
      "outputs": []
    },
    {
      "cell_type": "code",
      "metadata": {
        "id": "1mUT1jXMKaR2",
        "colab_type": "code",
        "colab": {}
      },
      "source": [
        "corpora_train = [embeddings.vectorize(doc[1], embeddings_dict) for doc in pre_corpora_train]#vectorization Inputs\n",
        "corpora_test = [embeddings.vectorize(doc[1], embeddings_dict) for doc in pre_corpora_test]#vectorization"
      ],
      "execution_count": 0,
      "outputs": []
    },
    {
      "cell_type": "code",
      "metadata": {
        "id": "Qd4ObDh0KbHM",
        "colab_type": "code",
        "colab": {}
      },
      "source": [
        "target_train = [[int(list(doc[0])[1]),int(list(doc[0])[3])] for doc in pre_corpora_train]#vectorization Output\n",
        "target_test = [[int(list(doc[0])[1]),int(list(doc[0])[3])]for doc in pre_corpora_test]#vectorization Output"
      ],
      "execution_count": 0,
      "outputs": []
    },
    {
      "cell_type": "code",
      "metadata": {
        "id": "b6GKIcOqKejD",
        "colab_type": "code",
        "colab": {}
      },
      "source": [
        "max_len_sentences_train = max([len(doc) for doc in corpora_train]) #<------- [Parameter]\n",
        "max_len_sentences_test = max([len(doc) for doc in corpora_test]) #<------- [Parameter]"
      ],
      "execution_count": 0,
      "outputs": []
    },
    {
      "cell_type": "code",
      "metadata": {
        "id": "84Y6sWgPKgkj",
        "colab_type": "code",
        "colab": {
          "base_uri": "https://localhost:8080/",
          "height": 34
        },
        "outputId": "faf14c6d-926f-4256-b737-ce2541e30b73"
      },
      "source": [
        "max_len_sentences = max(max_len_sentences_train,max_len_sentences_test)\n",
        "print(\"Max. Sentence # words:\",max_len_sentences)"
      ],
      "execution_count": 33,
      "outputs": [
        {
          "output_type": "stream",
          "text": [
            "Max. Sentence # words: 618\n"
          ],
          "name": "stdout"
        }
      ]
    },
    {
      "cell_type": "code",
      "metadata": {
        "id": "c_bTQ2ANKhjG",
        "colab_type": "code",
        "colab": {}
      },
      "source": [
        "min_len_sentences_train = min([len(doc) for doc in corpora_train]) #<------- [Parameter]\n",
        "min_len_sentences_test = min([len(doc) for doc in corpora_test]) #<------- [Parameter]"
      ],
      "execution_count": 0,
      "outputs": []
    },
    {
      "cell_type": "code",
      "metadata": {
        "id": "DG6fdraDKjau",
        "colab_type": "code",
        "colab": {
          "base_uri": "https://localhost:8080/",
          "height": 34
        },
        "outputId": "8f2ff01c-1374-465a-ca7c-c847320b1576"
      },
      "source": [
        "min_len_sentences = max(min_len_sentences_train,min_len_sentences_test)\n",
        "print(\"Min. Sentence # words:\",min_len_sentences)"
      ],
      "execution_count": 35,
      "outputs": [
        {
          "output_type": "stream",
          "text": [
            "Mix. Sentence # words: 1\n"
          ],
          "name": "stdout"
        }
      ]
    },
    {
      "cell_type": "code",
      "metadata": {
        "id": "osMqB7LMKlCO",
        "colab_type": "code",
        "colab": {}
      },
      "source": [
        "embed_size = np.size(corpora_train[0][0])"
      ],
      "execution_count": 0,
      "outputs": []
    },
    {
      "cell_type": "markdown",
      "metadata": {
        "id": "yKY-ieldfnVQ",
        "colab_type": "text"
      },
      "source": [
        "### Designing Baseline Architecture"
      ]
    },
    {
      "cell_type": "code",
      "metadata": {
        "id": "zfQ2znRCK0MS",
        "colab_type": "code",
        "colab": {}
      },
      "source": [
        "#BaseLine Architecture <-------\n",
        "embeddigs_cols = embed_size\n",
        "input_sh = (max_len_sentences,embeddigs_cols,1)\n",
        "#Selecting filters? \n",
        "#https://stackoverflow.com/questions/48243360/how-to-determine-the-filter-parameter-in-the-keras-conv2d-function\n",
        "#https://stats.stackexchange.com/questions/196646/what-is-the-significance-of-the-number-of-convolution-filters-in-a-convolutional\n",
        "\n",
        "N_filters = 128 # <-------- [HyperParameter] Powers of 2 Numer of Features\n",
        "K = 2 # <-------- [HyperParameter] Number of Classess"
      ],
      "execution_count": 0,
      "outputs": []
    },
    {
      "cell_type": "code",
      "metadata": {
        "id": "ZpBx4mEgK4oa",
        "colab_type": "code",
        "colab": {
          "base_uri": "https://localhost:8080/",
          "height": 34
        },
        "outputId": "7f560cd1-0ddd-445d-bf57-61897832e267"
      },
      "source": [
        "input_sh"
      ],
      "execution_count": 38,
      "outputs": [
        {
          "output_type": "execute_result",
          "data": {
            "text/plain": [
              "(618, 100, 1)"
            ]
          },
          "metadata": {
            "tags": []
          },
          "execution_count": 38
        }
      ]
    },
    {
      "cell_type": "code",
      "metadata": {
        "id": "glpiGw14K-ch",
        "colab_type": "code",
        "colab": {
          "base_uri": "https://localhost:8080/",
          "height": 122
        },
        "outputId": "32e23066-c2fd-451d-9656-6975beb6c229"
      },
      "source": [
        "gram_input = Input(shape = input_sh)\n",
        "# 1st Convolutional Layer Convolutional Layer (7-gram)\n",
        "conv_1_layer = Conv2D(filters=32, input_shape=input_sh, activation='relu', \n",
        "                      kernel_size=(7,embeddigs_cols), padding='valid')(gram_input)\n",
        "conv_1_layer.shape"
      ],
      "execution_count": 39,
      "outputs": [
        {
          "output_type": "stream",
          "text": [
            "WARNING: Logging before flag parsing goes to stderr.\n",
            "W0905 17:47:34.947229 139878436947840 deprecation.py:506] From /usr/local/lib/python3.6/dist-packages/tensorflow/python/ops/init_ops.py:1251: calling VarianceScaling.__init__ (from tensorflow.python.ops.init_ops) with dtype is deprecated and will be removed in a future version.\n",
            "Instructions for updating:\n",
            "Call initializer instance with the dtype argument instead of passing it to the constructor\n"
          ],
          "name": "stderr"
        },
        {
          "output_type": "execute_result",
          "data": {
            "text/plain": [
              "TensorShape([Dimension(None), Dimension(612), Dimension(1), Dimension(32)])"
            ]
          },
          "metadata": {
            "tags": []
          },
          "execution_count": 39
        }
      ]
    },
    {
      "cell_type": "code",
      "metadata": {
        "id": "CDLlKGWFLBQR",
        "colab_type": "code",
        "colab": {
          "base_uri": "https://localhost:8080/",
          "height": 34
        },
        "outputId": "21426f83-311e-40d2-e163-1de09a6c1f37"
      },
      "source": [
        "# Max Pooling \n",
        "max_1_pooling = MaxPooling2D(pool_size=((max_len_sentences-7+1),1), strides=None, padding='valid')(conv_1_layer)\n",
        "max_1_pooling.shape"
      ],
      "execution_count": 40,
      "outputs": [
        {
          "output_type": "execute_result",
          "data": {
            "text/plain": [
              "TensorShape([Dimension(None), Dimension(1), Dimension(1), Dimension(32)])"
            ]
          },
          "metadata": {
            "tags": []
          },
          "execution_count": 40
        }
      ]
    },
    {
      "cell_type": "code",
      "metadata": {
        "id": "NIPAYP28LDXv",
        "colab_type": "code",
        "colab": {
          "base_uri": "https://localhost:8080/",
          "height": 34
        },
        "outputId": "1e24617f-9be5-41e9-faf7-11fc4f581204"
      },
      "source": [
        "# Fully Connected layer\n",
        "fully_connected_1_gram = Flatten()(max_1_pooling)\n",
        "fully_connected_1_gram.shape"
      ],
      "execution_count": 41,
      "outputs": [
        {
          "output_type": "execute_result",
          "data": {
            "text/plain": [
              "TensorShape([Dimension(None), Dimension(32)])"
            ]
          },
          "metadata": {
            "tags": []
          },
          "execution_count": 41
        }
      ]
    },
    {
      "cell_type": "code",
      "metadata": {
        "id": "YL4Rk9RyLFBF",
        "colab_type": "code",
        "colab": {
          "base_uri": "https://localhost:8080/",
          "height": 34
        },
        "outputId": "c80a8898-d8f7-436c-849a-401f0e737a05"
      },
      "source": [
        "fully_connected_1_gram = Reshape((32, 1, 1))(fully_connected_1_gram)\n",
        "fully_connected_1_gram.shape"
      ],
      "execution_count": 42,
      "outputs": [
        {
          "output_type": "execute_result",
          "data": {
            "text/plain": [
              "TensorShape([Dimension(None), Dimension(32), Dimension(1), Dimension(1)])"
            ]
          },
          "metadata": {
            "tags": []
          },
          "execution_count": 42
        }
      ]
    },
    {
      "cell_type": "code",
      "metadata": {
        "id": "13c97VKNLIDs",
        "colab_type": "code",
        "colab": {
          "base_uri": "https://localhost:8080/",
          "height": 34
        },
        "outputId": "daa22b71-3994-4d3d-e2aa-31dac4d3a07f"
      },
      "source": [
        "# 2nd Convolutional Layer (5-gram)\n",
        "conv_2_layer = Conv2D(filters=64, kernel_size=(5,1), activation='relu', \n",
        "                      padding='valid')(fully_connected_1_gram)\n",
        "conv_2_layer.shape"
      ],
      "execution_count": 43,
      "outputs": [
        {
          "output_type": "execute_result",
          "data": {
            "text/plain": [
              "TensorShape([Dimension(None), Dimension(28), Dimension(1), Dimension(64)])"
            ]
          },
          "metadata": {
            "tags": []
          },
          "execution_count": 43
        }
      ]
    },
    {
      "cell_type": "code",
      "metadata": {
        "id": "FoIm4mTZLKsx",
        "colab_type": "code",
        "colab": {
          "base_uri": "https://localhost:8080/",
          "height": 34
        },
        "outputId": "7b1310c0-5e2d-4ceb-f9e2-3944c6162bbf"
      },
      "source": [
        "max_2_pooling = MaxPooling2D(pool_size=((32-5+1),1), strides=None, padding='valid')(conv_2_layer)\n",
        "max_2_pooling.shape"
      ],
      "execution_count": 44,
      "outputs": [
        {
          "output_type": "execute_result",
          "data": {
            "text/plain": [
              "TensorShape([Dimension(None), Dimension(1), Dimension(1), Dimension(64)])"
            ]
          },
          "metadata": {
            "tags": []
          },
          "execution_count": 44
        }
      ]
    },
    {
      "cell_type": "code",
      "metadata": {
        "id": "3BUO38gRLMoy",
        "colab_type": "code",
        "colab": {
          "base_uri": "https://localhost:8080/",
          "height": 34
        },
        "outputId": "9d497c9c-1e1f-491c-d2f1-0ea6030b9462"
      },
      "source": [
        "# Fully Connected layer\n",
        "fully_connected_2_gram = Flatten()(max_2_pooling)\n",
        "fully_connected_2_gram.shape"
      ],
      "execution_count": 45,
      "outputs": [
        {
          "output_type": "execute_result",
          "data": {
            "text/plain": [
              "TensorShape([Dimension(None), Dimension(64)])"
            ]
          },
          "metadata": {
            "tags": []
          },
          "execution_count": 45
        }
      ]
    },
    {
      "cell_type": "code",
      "metadata": {
        "id": "m3t8vnrrLPDi",
        "colab_type": "code",
        "colab": {
          "base_uri": "https://localhost:8080/",
          "height": 34
        },
        "outputId": "a9464f2a-ae71-4dcf-b2ab-306fc8cbaec8"
      },
      "source": [
        "fully_connected_2_gram = Reshape((64, 1, 1))(fully_connected_2_gram)\n",
        "fully_connected_2_gram.shape"
      ],
      "execution_count": 46,
      "outputs": [
        {
          "output_type": "execute_result",
          "data": {
            "text/plain": [
              "TensorShape([Dimension(None), Dimension(64), Dimension(1), Dimension(1)])"
            ]
          },
          "metadata": {
            "tags": []
          },
          "execution_count": 46
        }
      ]
    },
    {
      "cell_type": "code",
      "metadata": {
        "id": "TRBrLT6hLQ4x",
        "colab_type": "code",
        "colab": {
          "base_uri": "https://localhost:8080/",
          "height": 34
        },
        "outputId": "aa9efea5-1983-4bc4-b6f5-2bd84e25b5f1"
      },
      "source": [
        "# 3rd Convolutional Layer (3-gram)\n",
        "conv_3_layer =  Conv2D(filters=128, kernel_size=(3,1), activation='relu', \n",
        "                      padding='valid')(fully_connected_2_gram)\n",
        "conv_3_layer.shape"
      ],
      "execution_count": 47,
      "outputs": [
        {
          "output_type": "execute_result",
          "data": {
            "text/plain": [
              "TensorShape([Dimension(None), Dimension(62), Dimension(1), Dimension(128)])"
            ]
          },
          "metadata": {
            "tags": []
          },
          "execution_count": 47
        }
      ]
    },
    {
      "cell_type": "code",
      "metadata": {
        "id": "3fqEy0OvLTo3",
        "colab_type": "code",
        "colab": {
          "base_uri": "https://localhost:8080/",
          "height": 34
        },
        "outputId": "6599672b-dd13-47ed-b0b9-e3737456664a"
      },
      "source": [
        "# 4th Convolutional Layer (3-gram)\n",
        "conv_4_layer = Conv2D(filters=128, kernel_size=(3,1), activation='relu', \n",
        "                     padding='valid')(conv_3_layer)\n",
        "conv_4_layer.shape"
      ],
      "execution_count": 48,
      "outputs": [
        {
          "output_type": "execute_result",
          "data": {
            "text/plain": [
              "TensorShape([Dimension(None), Dimension(60), Dimension(1), Dimension(128)])"
            ]
          },
          "metadata": {
            "tags": []
          },
          "execution_count": 48
        }
      ]
    },
    {
      "cell_type": "code",
      "metadata": {
        "id": "wVv4RFv6LYYt",
        "colab_type": "code",
        "colab": {
          "base_uri": "https://localhost:8080/",
          "height": 34
        },
        "outputId": "30eb2c76-c0e0-4153-8428-73f3493d5074"
      },
      "source": [
        "# 5th Convolutional Layer (3-gram)\n",
        "conv_5_layer = Conv2D(filters=64, kernel_size=(3,1), activation='relu', \n",
        "                     padding='valid')(conv_4_layer)\n",
        "conv_5_layer.shape"
      ],
      "execution_count": 49,
      "outputs": [
        {
          "output_type": "execute_result",
          "data": {
            "text/plain": [
              "TensorShape([Dimension(None), Dimension(58), Dimension(1), Dimension(64)])"
            ]
          },
          "metadata": {
            "tags": []
          },
          "execution_count": 49
        }
      ]
    },
    {
      "cell_type": "code",
      "metadata": {
        "id": "l4hqFvdHLaRZ",
        "colab_type": "code",
        "colab": {
          "base_uri": "https://localhost:8080/",
          "height": 34
        },
        "outputId": "579163a8-4e80-42b4-bfad-0d467ac3eb31"
      },
      "source": [
        "# Max Pooling\n",
        "max_5_pooling = MaxPooling2D(pool_size=(58,1), strides=None, padding='valid')(conv_5_layer)\n",
        "max_5_pooling.shape"
      ],
      "execution_count": 50,
      "outputs": [
        {
          "output_type": "execute_result",
          "data": {
            "text/plain": [
              "TensorShape([Dimension(None), Dimension(1), Dimension(1), Dimension(64)])"
            ]
          },
          "metadata": {
            "tags": []
          },
          "execution_count": 50
        }
      ]
    },
    {
      "cell_type": "code",
      "metadata": {
        "id": "Tbgwf1kgLdzW",
        "colab_type": "code",
        "colab": {
          "base_uri": "https://localhost:8080/",
          "height": 34
        },
        "outputId": "3b76a2b2-88a1-42db-d726-4c3c09de755a"
      },
      "source": [
        "# Fully Connected layer\n",
        "fully_connected = Flatten()(max_5_pooling)\n",
        "fully_connected.shape"
      ],
      "execution_count": 51,
      "outputs": [
        {
          "output_type": "execute_result",
          "data": {
            "text/plain": [
              "TensorShape([Dimension(None), Dimension(64)])"
            ]
          },
          "metadata": {
            "tags": []
          },
          "execution_count": 51
        }
      ]
    },
    {
      "cell_type": "code",
      "metadata": {
        "id": "Bc0USw7yLiBk",
        "colab_type": "code",
        "colab": {
          "base_uri": "https://localhost:8080/",
          "height": 34
        },
        "outputId": "f5cbed89-d7a1-4938-c57f-0d40e8971b96"
      },
      "source": [
        "# 1st Fully Connected Layer\n",
        "deep_dense_1_layer = Dense(32, activation='relu')(fully_connected)\n",
        "deep_dense_1_layer = Dropout(0.2)(deep_dense_1_layer) # <-------- [HyperParameter]\n",
        "deep_dense_1_layer.shape"
      ],
      "execution_count": 52,
      "outputs": [
        {
          "output_type": "execute_result",
          "data": {
            "text/plain": [
              "TensorShape([Dimension(None), Dimension(32)])"
            ]
          },
          "metadata": {
            "tags": []
          },
          "execution_count": 52
        }
      ]
    },
    {
      "cell_type": "code",
      "metadata": {
        "id": "cPCwpofQLj5j",
        "colab_type": "code",
        "colab": {
          "base_uri": "https://localhost:8080/",
          "height": 34
        },
        "outputId": "61eda5c0-c42b-4a99-d87a-ffc121e02f00"
      },
      "source": [
        "# 2nd Fully Connected Layer\n",
        "deep_dense_2_layer = Dense(32, activation='relu')(deep_dense_1_layer)\n",
        "deep_dense_2_layer = Dropout(0.2)(deep_dense_2_layer) # <-------- [HyperParameter]\n",
        "deep_dense_2_layer.shape"
      ],
      "execution_count": 53,
      "outputs": [
        {
          "output_type": "execute_result",
          "data": {
            "text/plain": [
              "TensorShape([Dimension(None), Dimension(32)])"
            ]
          },
          "metadata": {
            "tags": []
          },
          "execution_count": 53
        }
      ]
    },
    {
      "cell_type": "code",
      "metadata": {
        "id": "4PK2LvkbLrFJ",
        "colab_type": "code",
        "colab": {
          "base_uri": "https://localhost:8080/",
          "height": 34
        },
        "outputId": "f23d53c1-b4cb-4b1f-9aec-1c4cb69c526d"
      },
      "source": [
        "# 3rd Fully Connected Layer\n",
        "deep_dense_3_layer = Dense(16, activation='relu')(deep_dense_2_layer)\n",
        "deep_dense_3_layer = Dropout(0.2)(deep_dense_3_layer) # <-------- [HyperParameter]\n",
        "deep_dense_3_layer.shape"
      ],
      "execution_count": 54,
      "outputs": [
        {
          "output_type": "execute_result",
          "data": {
            "text/plain": [
              "TensorShape([Dimension(None), Dimension(16)])"
            ]
          },
          "metadata": {
            "tags": []
          },
          "execution_count": 54
        }
      ]
    },
    {
      "cell_type": "code",
      "metadata": {
        "id": "tjjeoJYGLwFp",
        "colab_type": "code",
        "colab": {}
      },
      "source": [
        "predictions = Dense(K, activation='softmax')(deep_dense_3_layer)\n",
        "#Criticality Model\n",
        "criticality_network = Model(inputs=[gram_input],outputs=[predictions]) "
      ],
      "execution_count": 0,
      "outputs": []
    },
    {
      "cell_type": "code",
      "metadata": {
        "id": "wmoUPuPqL2z3",
        "colab_type": "code",
        "colab": {
          "base_uri": "https://localhost:8080/",
          "height": 884
        },
        "outputId": "7c749f96-777c-4cfb-afe0-b364195506d1"
      },
      "source": [
        "print(criticality_network.summary())"
      ],
      "execution_count": 56,
      "outputs": [
        {
          "output_type": "stream",
          "text": [
            "Model: \"model\"\n",
            "_________________________________________________________________\n",
            "Layer (type)                 Output Shape              Param #   \n",
            "=================================================================\n",
            "input_1 (InputLayer)         [(None, 618, 100, 1)]     0         \n",
            "_________________________________________________________________\n",
            "conv2d (Conv2D)              (None, 612, 1, 32)        22432     \n",
            "_________________________________________________________________\n",
            "max_pooling2d (MaxPooling2D) (None, 1, 1, 32)          0         \n",
            "_________________________________________________________________\n",
            "flatten (Flatten)            (None, 32)                0         \n",
            "_________________________________________________________________\n",
            "reshape (Reshape)            (None, 32, 1, 1)          0         \n",
            "_________________________________________________________________\n",
            "conv2d_1 (Conv2D)            (None, 28, 1, 64)         384       \n",
            "_________________________________________________________________\n",
            "max_pooling2d_1 (MaxPooling2 (None, 1, 1, 64)          0         \n",
            "_________________________________________________________________\n",
            "flatten_1 (Flatten)          (None, 64)                0         \n",
            "_________________________________________________________________\n",
            "reshape_1 (Reshape)          (None, 64, 1, 1)          0         \n",
            "_________________________________________________________________\n",
            "conv2d_2 (Conv2D)            (None, 62, 1, 128)        512       \n",
            "_________________________________________________________________\n",
            "conv2d_3 (Conv2D)            (None, 60, 1, 128)        49280     \n",
            "_________________________________________________________________\n",
            "conv2d_4 (Conv2D)            (None, 58, 1, 64)         24640     \n",
            "_________________________________________________________________\n",
            "max_pooling2d_2 (MaxPooling2 (None, 1, 1, 64)          0         \n",
            "_________________________________________________________________\n",
            "flatten_2 (Flatten)          (None, 64)                0         \n",
            "_________________________________________________________________\n",
            "dense (Dense)                (None, 32)                2080      \n",
            "_________________________________________________________________\n",
            "dropout (Dropout)            (None, 32)                0         \n",
            "_________________________________________________________________\n",
            "dense_1 (Dense)              (None, 32)                1056      \n",
            "_________________________________________________________________\n",
            "dropout_1 (Dropout)          (None, 32)                0         \n",
            "_________________________________________________________________\n",
            "dense_2 (Dense)              (None, 16)                528       \n",
            "_________________________________________________________________\n",
            "dropout_2 (Dropout)          (None, 16)                0         \n",
            "_________________________________________________________________\n",
            "dense_3 (Dense)              (None, 2)                 34        \n",
            "=================================================================\n",
            "Total params: 100,946\n",
            "Trainable params: 100,946\n",
            "Non-trainable params: 0\n",
            "_________________________________________________________________\n",
            "None\n"
          ],
          "name": "stdout"
        }
      ]
    },
    {
      "cell_type": "code",
      "metadata": {
        "id": "p1v_kHaUL6mt",
        "colab_type": "code",
        "colab": {}
      },
      "source": [
        "#Seting up the Model\n",
        "criticality_network.compile(optimizer='adam',loss='binary_crossentropy',\n",
        "                                  metrics=['accuracy'])"
      ],
      "execution_count": 0,
      "outputs": []
    },
    {
      "cell_type": "markdown",
      "metadata": {
        "id": "NQwpKXySMGBH",
        "colab_type": "text"
      },
      "source": [
        "### Training the criticality network"
      ]
    },
    {
      "cell_type": "code",
      "metadata": {
        "id": "R-2N8Q80L-Yg",
        "colab_type": "code",
        "colab": {}
      },
      "source": [
        "#Data set organization\n",
        "from tempfile import mkdtemp\n",
        "import os.path as path"
      ],
      "execution_count": 0,
      "outputs": []
    },
    {
      "cell_type": "code",
      "metadata": {
        "id": "_0AY6LJaMRre",
        "colab_type": "code",
        "colab": {}
      },
      "source": [
        "#Memoization \n",
        "file_corpora_train_x = path.join(mkdtemp(), '/content/gdrive/My Drive/Colab Notebooks/secure-req-net/alex-res-adapted-003_temp_corpora_train_x.dat') #Update per experiment\n",
        "file_corpora_test_x = path.join(mkdtemp(), '/content/gdrive/My Drive/Colab Notebooks/secure-req-net/alex-res-adapted-003_temp_corpora_test_x.dat')"
      ],
      "execution_count": 0,
      "outputs": []
    },
    {
      "cell_type": "code",
      "metadata": {
        "id": "KLzqqGd7MUwA",
        "colab_type": "code",
        "colab": {}
      },
      "source": [
        "#Shaping\n",
        "shape_train_x = (len(corpora_train),max_len_sentences,embeddigs_cols,1)\n",
        "shape_test_x = (len(corpora_test),max_len_sentences,embeddigs_cols,1)"
      ],
      "execution_count": 0,
      "outputs": []
    },
    {
      "cell_type": "code",
      "metadata": {
        "id": "NWvQjALqMZL4",
        "colab_type": "code",
        "colab": {}
      },
      "source": [
        "#Data sets\n",
        "corpora_train_x = np.memmap(\n",
        "        filename = file_corpora_train_x, \n",
        "        dtype='float32', \n",
        "        mode='w+', \n",
        "        shape = shape_train_x)"
      ],
      "execution_count": 0,
      "outputs": []
    },
    {
      "cell_type": "code",
      "metadata": {
        "id": "ivCP2HQlMdFQ",
        "colab_type": "code",
        "colab": {}
      },
      "source": [
        "corpora_test_x = np.memmap( #Test Corpora (for future evaluation)\n",
        "        filename = file_corpora_test_x, \n",
        "        dtype='float32', \n",
        "        mode='w+', \n",
        "        shape = shape_test_x)"
      ],
      "execution_count": 0,
      "outputs": []
    },
    {
      "cell_type": "code",
      "metadata": {
        "id": "EZCT_mVRMflg",
        "colab_type": "code",
        "colab": {}
      },
      "source": [
        "target_train_y = np.array(target_train) #Train Target\n",
        "target_test_y = np.array(target_test) #Test Target (for future evaluation)"
      ],
      "execution_count": 0,
      "outputs": []
    },
    {
      "cell_type": "code",
      "metadata": {
        "id": "pmIKpBK-MkkK",
        "colab_type": "code",
        "colab": {
          "base_uri": "https://localhost:8080/",
          "height": 34
        },
        "outputId": "2f06ef40-0a27-4ff7-a3b1-de0f3147c31f"
      },
      "source": [
        "print(corpora_train_x.shape, target_train_y.shape)"
      ],
      "execution_count": 64,
      "outputs": [
        {
          "output_type": "stream",
          "text": [
            "(103867, 618, 100, 1) (103867, 2)\n"
          ],
          "name": "stdout"
        }
      ]
    },
    {
      "cell_type": "code",
      "metadata": {
        "id": "TgDiguWEMnm0",
        "colab_type": "code",
        "colab": {
          "base_uri": "https://localhost:8080/",
          "height": 34
        },
        "outputId": "3fc51011-77f2-4172-a39d-028a7936db81"
      },
      "source": [
        "print(corpora_test_x.shape,target_test_y.shape)"
      ],
      "execution_count": 65,
      "outputs": [
        {
          "output_type": "stream",
          "text": [
            "(11548, 618, 100, 1) (11548, 2)\n"
          ],
          "name": "stdout"
        }
      ]
    },
    {
      "cell_type": "code",
      "metadata": {
        "id": "3gtb-8-VMoYL",
        "colab_type": "code",
        "colab": {}
      },
      "source": [
        "#Reshaping Train Inputs\n",
        "for doc in range(len(corpora_train)):\n",
        "    #print(corpora_train[doc].shape[1])\n",
        "    for words_rows in range(corpora_train[doc].shape[0]):\n",
        "        embed_flatten = np.array(corpora_train[doc][words_rows]).flatten() #<--- Capture doc and word\n",
        "        for embedding_cols in range(embed_flatten.shape[0]):\n",
        "            corpora_train_x[doc,words_rows,embedding_cols,0] = embed_flatten[embedding_cols]"
      ],
      "execution_count": 0,
      "outputs": []
    },
    {
      "cell_type": "code",
      "metadata": {
        "id": "G9hH0IbAMo5L",
        "colab_type": "code",
        "colab": {}
      },
      "source": [
        "#Reshaping Test Inputs (for future evaluation)\n",
        "for doc in range(len(corpora_test)):\n",
        "    for words_rows in range(corpora_test[doc].shape[0]):\n",
        "        embed_flatten = np.array(corpora_test[doc][words_rows]).flatten() #<--- Capture doc and word\n",
        "        for embedding_cols in range(embed_flatten.shape[0]):\n",
        "            corpora_test_x[doc,words_rows,embedding_cols,0] = embed_flatten[embedding_cols]"
      ],
      "execution_count": 0,
      "outputs": []
    },
    {
      "cell_type": "code",
      "metadata": {
        "id": "wgHs7WwRNCNe",
        "colab_type": "code",
        "colab": {}
      },
      "source": [
        "#CheckPoints\n",
        "filepath = \"/content/gdrive/My Drive/Colab Notebooks/secure-req-net/alex-adapted-res-003/best_model.hdf5\""
      ],
      "execution_count": 0,
      "outputs": []
    },
    {
      "cell_type": "code",
      "metadata": {
        "id": "lqB2PbvYNHFV",
        "colab_type": "code",
        "colab": {}
      },
      "source": [
        "es = EarlyStopping(monitor='val_loss', mode='min', verbose=1, patience=20)\n",
        "mc = ModelCheckpoint(filepath, monitor='val_accuracy', mode='max', verbose=1, save_best_only=True)\n",
        "callbacks_list = [es,mc]"
      ],
      "execution_count": 0,
      "outputs": []
    },
    {
      "cell_type": "code",
      "metadata": {
        "id": "30ahQNHeNIxg",
        "colab_type": "code",
        "colab": {
          "base_uri": "https://localhost:8080/",
          "height": 68
        },
        "outputId": "a96bb972-fe28-460d-de1f-8cfc5b5f2888"
      },
      "source": [
        "#Model Fitting\n",
        "history = criticality_network.fit(\n",
        "            x = corpora_train_x, \n",
        "            y = target_train_y,\n",
        "            #batch_size=64,\n",
        "            epochs=20, #5 <------ Hyperparameter\n",
        "            validation_split = 0.2,\n",
        "            callbacks=callbacks_list\n",
        ")"
      ],
      "execution_count": 0,
      "outputs": [
        {
          "output_type": "stream",
          "text": [
            "Train on 83093 samples, validate on 20774 samples\n",
            "Epoch 1/20\n",
            "83072/83093 [============================>.] - ETA: 0s - loss: 0.1462 - acc: 0.9533"
          ],
          "name": "stdout"
        },
        {
          "output_type": "stream",
          "text": [
            "W0905 18:34:46.361673 139878436947840 callbacks.py:989] Can save best model only with val_accuracy available, skipping.\n"
          ],
          "name": "stderr"
        },
        {
          "output_type": "stream",
          "text": [
            "\b\b\b\b\b\b\b\b\b\b\b\b\b\b\b\b\b\b\b\b\b\b\b\b\b\b\b\b\b\b\b\b\b\b\b\b\b\b\b\b\b\b\b\b\b\b\b\b\b\b\b\b\b\b\b\b\b\b\b\b\b\b\b\b\b\b\b\b\b\b\b\b\b\b\b\b\b\b\b\b\b\b\b\r83093/83093 [==============================] - 896s 11ms/sample - loss: 0.1462 - acc: 0.9533 - val_loss: 0.0136 - val_acc: 0.9945\n",
            "Epoch 2/20\n",
            "53312/83093 [==================>...........] - ETA: 5:19 - loss: 0.1237 - acc: 0.9600"
          ],
          "name": "stdout"
        }
      ]
    },
    {
      "cell_type": "code",
      "metadata": {
        "id": "xz8wz1ZPNKmP",
        "colab_type": "code",
        "colab": {}
      },
      "source": [
        "#Saving Training History\n",
        "df_history = pd.DataFrame.from_dict(history.history)\n",
        "df_history.to_csv('alex-adapted-res-003/history_training.csv', encoding='utf-8',index=False)"
      ],
      "execution_count": 0,
      "outputs": []
    },
    {
      "cell_type": "code",
      "metadata": {
        "id": "lmHTkzrZNQB7",
        "colab_type": "code",
        "colab": {}
      },
      "source": [
        "criticality_network.save(filepath)\n",
        "df_history.head()"
      ],
      "execution_count": 0,
      "outputs": []
    },
    {
      "cell_type": "code",
      "metadata": {
        "id": "R2FraZbmNWjH",
        "colab_type": "code",
        "colab": {}
      },
      "source": [
        "#Saving Test Data\n",
        "np.save('alex-adapted-res-003/corpora_test_x.npy',corpora_test_x)\n",
        "np.save('alex-adapted-res-003/target_test_y.npy',target_test_y)"
      ],
      "execution_count": 0,
      "outputs": []
    },
    {
      "cell_type": "markdown",
      "metadata": {
        "id": "M_ZppHO9NcsA",
        "colab_type": "text"
      },
      "source": [
        "### Partial Evaluation\n",
        "To make a deep evaluation, please refer to the \"evaluation\" notebook."
      ]
    },
    {
      "cell_type": "code",
      "metadata": {
        "id": "ngK3GrrRNp_h",
        "colab_type": "code",
        "colab": {}
      },
      "source": [
        "#Evaluation\n",
        "acc = history.history['accuracy']\n",
        "val_acc = history.history['val_accuracy']\n",
        "loss = history.history['loss']\n",
        "val_loss = history.history['val_loss']\n",
        " \n",
        "epochs2 = range(len(acc))\n",
        " \n",
        "plt.plot(epochs2, acc, 'b', label='Training')\n",
        "plt.plot(epochs2, val_acc, 'r', label='Validation')\n",
        "plt.title('Training and validation accuracy')\n",
        "plt.ylabel('acc')\n",
        "plt.xlabel('epoch')\n",
        "plt.legend()\n",
        " \n",
        "plt.figure()\n",
        " \n",
        "plt.plot(epochs2, loss, 'b', label='Training')\n",
        "plt.plot(epochs2, val_loss, 'r', label='Validation')\n",
        "plt.title('Training and validation loss')\n",
        "plt.ylabel('loss')\n",
        "plt.xlabel('epoch')\n",
        "plt.legend()\n",
        " \n",
        "plt.show()"
      ],
      "execution_count": 0,
      "outputs": []
    }
  ]
}