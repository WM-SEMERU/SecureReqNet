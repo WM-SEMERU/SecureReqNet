{
  "nbformat": 4,
  "nbformat_minor": 0,
  "metadata": {
    "kernelspec": {
      "display_name": "Python 3",
      "language": "python",
      "name": "python3"
    },
    "language_info": {
      "codemirror_mode": {
        "name": "ipython",
        "version": 3
      },
      "file_extension": ".py",
      "mimetype": "text/x-python",
      "name": "python",
      "nbconvert_exporter": "python",
      "pygments_lexer": "ipython3",
      "version": "3.6.2"
    },
    "colab": {
      "name": "req-predict-[100embeds]-shallow-E.ipynb",
      "provenance": []
    }
  },
  "cells": [
    {
      "cell_type": "code",
      "metadata": {
        "id": "863o769UPm7J",
        "colab_type": "code",
        "colab": {}
      },
      "source": [
        "#danaderp May6'19\n",
        "#Prediction For Main Issues Data Set"
      ],
      "execution_count": 0,
      "outputs": []
    },
    {
      "cell_type": "code",
      "metadata": {
        "id": "JvPNND47Pm7V",
        "colab_type": "code",
        "colab": {},
        "outputId": "510e3a36-79e1-42dd-9247-2a45e7217d0b"
      },
      "source": [
        "import csv\n",
        "from tensorflow.keras.preprocessing import text\n",
        "from nltk.corpus import gutenberg\n",
        "from string import punctuation\n",
        "from tensorflow.keras.preprocessing.sequence import skipgrams"
      ],
      "execution_count": 0,
      "outputs": [
        {
          "output_type": "stream",
          "text": [
            "/scratch/danaderp/.conda/envs/drmccr_conda/lib/python3.6/site-packages/h5py/__init__.py:34: FutureWarning: Conversion of the second argument of issubdtype from `float` to `np.floating` is deprecated. In future, it will be treated as `np.float64 == np.dtype(float).type`.\n",
            "  from ._conv import register_converters as _register_converters\n"
          ],
          "name": "stderr"
        },
        {
          "output_type": "stream",
          "text": [
            "Limited tf.compat.v2.summary API due to missing TensorBoard installation\n",
            "Limited tf.summary API due to missing TensorBoard installation\n"
          ],
          "name": "stdout"
        }
      ]
    },
    {
      "cell_type": "code",
      "metadata": {
        "id": "el64GldHPm7b",
        "colab_type": "code",
        "colab": {}
      },
      "source": [
        "import pandas as pd\n",
        "import numpy as np\n",
        "import re\n",
        "import nltk\n",
        "import matplotlib.pyplot as plt\n",
        "pd.options.display.max_colwidth = 200\n",
        "%matplotlib inline"
      ],
      "execution_count": 0,
      "outputs": []
    },
    {
      "cell_type": "code",
      "metadata": {
        "id": "UJL-n6UWPm7g",
        "colab_type": "code",
        "colab": {}
      },
      "source": [
        "from nltk.stem.snowball import SnowballStemmer\n",
        "englishStemmer=SnowballStemmer(\"english\")"
      ],
      "execution_count": 0,
      "outputs": []
    },
    {
      "cell_type": "code",
      "metadata": {
        "id": "7cKxzKWGPm7l",
        "colab_type": "code",
        "colab": {}
      },
      "source": [
        "import tensorflow as tf\n",
        "from tensorflow.keras import layers\n",
        "from tensorflow.keras.layers import Dot, Input, Dense, Reshape, LSTM, Conv2D, Flatten, MaxPooling1D, Dropout, MaxPooling2D\n",
        "from tensorflow.keras.layers import Embedding, Multiply, Subtract\n",
        "from tensorflow.keras.models import Sequential, Model\n",
        "from tensorflow.python.keras.layers import Lambda\n",
        "from tensorflow.keras.callbacks import CSVLogger, ModelCheckpoint\n",
        "from tensorflow.keras.callbacks import EarlyStopping"
      ],
      "execution_count": 0,
      "outputs": []
    },
    {
      "cell_type": "code",
      "metadata": {
        "id": "baaCGyvePm7r",
        "colab_type": "code",
        "colab": {}
      },
      "source": [
        "# visualize model structure\n",
        "#from IPython.display import SVG\n",
        "#from keras.utils.vis_utils import model_to_dot\n",
        "from sklearn.metrics.pairwise import euclidean_distances\n",
        "from sklearn.manifold import TSNE"
      ],
      "execution_count": 0,
      "outputs": []
    },
    {
      "cell_type": "code",
      "metadata": {
        "id": "cW0ZX9ERPm7w",
        "colab_type": "code",
        "colab": {}
      },
      "source": [
        "from datasets.read_data import Dynamic_Dataset,Processing_Dataset\n",
        "from vectorize_sentence import Embeddings"
      ],
      "execution_count": 0,
      "outputs": []
    },
    {
      "cell_type": "code",
      "metadata": {
        "id": "lb_CkYrkPm73",
        "colab_type": "code",
        "colab": {}
      },
      "source": [
        "path = \"datasets/augmented_dataset/\"\n",
        "process_unit = Processing_Dataset(path)\n",
        "ground_truth = process_unit.get_ground_truth()"
      ],
      "execution_count": 0,
      "outputs": []
    },
    {
      "cell_type": "code",
      "metadata": {
        "id": "ihX76G8sPm77",
        "colab_type": "code",
        "colab": {}
      },
      "source": [
        "dataset = Dynamic_Dataset(ground_truth, path)"
      ],
      "execution_count": 0,
      "outputs": []
    },
    {
      "cell_type": "code",
      "metadata": {
        "id": "yqeQHRAtPm7_",
        "colab_type": "code",
        "colab": {}
      },
      "source": [
        "test, train = process_unit.get_test_and_training(ground_truth)"
      ],
      "execution_count": 0,
      "outputs": []
    },
    {
      "cell_type": "code",
      "metadata": {
        "id": "SBhrvDTjPm8D",
        "colab_type": "code",
        "colab": {},
        "outputId": "a19326e9-6a4c-4375-9ee6-7ef3064c22be"
      },
      "source": [
        "print(len(test))\n",
        "print(len(train))\n",
        "print(test[0])\n",
        "print(train[0])"
      ],
      "execution_count": 0,
      "outputs": [
        {
          "output_type": "stream",
          "text": [
            "11612\n",
            "104510\n",
            "('(1,0)', 'An elevation of privilege vulnerability in the Android framework (ui framework). Product: Android. Versions: 4.4.4, 5.0.2, 5.1.1, 6.0, 6.0.1, 7.0, 7.1.1, 7.1.2. Android ID: A-35056974.')\n",
            "('(1,0)', 'The currently used Rails version, in the stable branch, is insecure\\n\\nYou should update the Gemfile.lock to hotfix this.\\n\\nhttp://weblog.rubyonrails.org/2014/2/18/Rails_3_2_17_4_0_3_and_4_1_0_beta2_have_been_released/')\n"
          ],
          "name": "stdout"
        }
      ]
    },
    {
      "cell_type": "code",
      "metadata": {
        "id": "XcAxQa-wPm8H",
        "colab_type": "code",
        "colab": {}
      },
      "source": [
        "#Train/Test split verification\n",
        "#for elem in train:\n",
        "#    print(elem[0])"
      ],
      "execution_count": 0,
      "outputs": []
    },
    {
      "cell_type": "code",
      "metadata": {
        "id": "ohgOIp23Pm8L",
        "colab_type": "code",
        "colab": {}
      },
      "source": [
        "#Preprocesing Corpora\n",
        "embeddings = Embeddings()\n",
        "max_words = 5000 #<------- [Parameter]\n",
        "pre_corpora_train = [doc for doc in train if len(doc[1])< max_words]\n",
        "pre_corpora_test = [doc for doc in test if len(doc[1])< max_words]"
      ],
      "execution_count": 0,
      "outputs": []
    },
    {
      "cell_type": "code",
      "metadata": {
        "id": "kvf9hzHrPm8P",
        "colab_type": "code",
        "colab": {},
        "outputId": "f57b7fd4-c618-43e2-ee62-7e1e0f06e6a7"
      },
      "source": [
        "print(len(pre_corpora_train))\n",
        "print(len(pre_corpora_test))"
      ],
      "execution_count": 0,
      "outputs": [
        {
          "output_type": "stream",
          "text": [
            "103876\n",
            "11539\n"
          ],
          "name": "stdout"
        }
      ]
    },
    {
      "cell_type": "code",
      "metadata": {
        "id": "4p5Elrc5Pm8T",
        "colab_type": "code",
        "colab": {}
      },
      "source": [
        ""
      ],
      "execution_count": 0,
      "outputs": []
    },
    {
      "cell_type": "code",
      "metadata": {
        "id": "pMqq97FbPm8X",
        "colab_type": "code",
        "colab": {}
      },
      "source": [
        "embed_path = 'datasets/word_embeddings-embed_size_100-epochs_100.csv'\n",
        "embeddings_dict = embeddings.get_embeddings_dict(embed_path)"
      ],
      "execution_count": 0,
      "outputs": []
    },
    {
      "cell_type": "code",
      "metadata": {
        "id": "bhDbXYBMPm8c",
        "colab_type": "code",
        "colab": {}
      },
      "source": [
        "corpora_train = [embeddings.vectorize(doc[1], embeddings_dict) for doc in pre_corpora_train]#vectorization Inputs\n",
        "corpora_test = [embeddings.vectorize(doc[1], embeddings_dict) for doc in pre_corpora_test]#vectorization"
      ],
      "execution_count": 0,
      "outputs": []
    },
    {
      "cell_type": "code",
      "metadata": {
        "id": "TT25r1nmPm8n",
        "colab_type": "code",
        "colab": {}
      },
      "source": [
        "target_train = [[int(list(doc[0])[1]),int(list(doc[0])[3])] for doc in pre_corpora_train]#vectorization Output\n",
        "target_test = [[int(list(doc[0])[1]),int(list(doc[0])[3])]for doc in pre_corpora_test]#vectorization Output\n",
        "#target_train"
      ],
      "execution_count": 0,
      "outputs": []
    },
    {
      "cell_type": "code",
      "metadata": {
        "id": "iQmXecG8Pm8r",
        "colab_type": "code",
        "colab": {}
      },
      "source": [
        "max_len_sentences_train = max([len(doc) for doc in corpora_train]) #<------- [Parameter]\n",
        "max_len_sentences_test = max([len(doc) for doc in corpora_test]) #<------- [Parameter]"
      ],
      "execution_count": 0,
      "outputs": []
    },
    {
      "cell_type": "code",
      "metadata": {
        "id": "AClpSwpJPm8w",
        "colab_type": "code",
        "colab": {},
        "outputId": "f1d6a486-1bd1-4781-82f8-b07511975428"
      },
      "source": [
        "max_len_sentences = max(max_len_sentences_train,max_len_sentences_test)\n",
        "print(\"Max. Sentence # words:\",max_len_sentences)"
      ],
      "execution_count": 0,
      "outputs": [
        {
          "output_type": "stream",
          "text": [
            "Max. Sentence # words: 618\n"
          ],
          "name": "stdout"
        }
      ]
    },
    {
      "cell_type": "code",
      "metadata": {
        "id": "bImQa9-BPm80",
        "colab_type": "code",
        "colab": {}
      },
      "source": [
        "embed_size = np.size(corpora_train[0][0])"
      ],
      "execution_count": 0,
      "outputs": []
    },
    {
      "cell_type": "code",
      "metadata": {
        "id": "VOg5eMk1Pm83",
        "colab_type": "code",
        "colab": {}
      },
      "source": [
        "#BaseLine Architecture <-------\n",
        "embeddigs_cols = embed_size\n",
        "input_sh = (max_len_sentences,embeddigs_cols,1)\n",
        "#Selecting filters? \n",
        "#https://stackoverflow.com/questions/48243360/how-to-determine-the-filter-parameter-in-the-keras-conv2d-function\n",
        "#https://stats.stackexchange.com/questions/196646/what-is-the-significance-of-the-number-of-convolution-filters-in-a-convolutional\n",
        "\n",
        "N_filters = 128 # <-------- [HyperParameter] Powers of 2 Numer of Features\n",
        "K = 2 # <-------- [HyperParameter] Number of Classess"
      ],
      "execution_count": 0,
      "outputs": []
    },
    {
      "cell_type": "code",
      "metadata": {
        "id": "LZBpV1cuPm87",
        "colab_type": "code",
        "colab": {},
        "outputId": "108f35f7-cbcb-4063-f699-4d99cfc570e1"
      },
      "source": [
        "input_sh"
      ],
      "execution_count": 0,
      "outputs": [
        {
          "output_type": "execute_result",
          "data": {
            "text/plain": [
              "(618, 100, 1)"
            ]
          },
          "metadata": {
            "tags": []
          },
          "execution_count": 21
        }
      ]
    },
    {
      "cell_type": "code",
      "metadata": {
        "id": "tL_tU5dNPm8_",
        "colab_type": "code",
        "colab": {}
      },
      "source": [
        "#baseline_model = Sequential()\n",
        "gram_input = Input(shape = input_sh)"
      ],
      "execution_count": 0,
      "outputs": []
    },
    {
      "cell_type": "code",
      "metadata": {
        "id": "9-vNdvAqPm9H",
        "colab_type": "code",
        "colab": {}
      },
      "source": [
        "# 1st Convolutional Layer (1-gram)\n",
        "conv_filter_1_gram = Conv2D(filters= N_filters, input_shape=input_sh, activation='relu', \n",
        "                       kernel_size=(1,embeddigs_cols), padding='valid',data_format=\"channels_last\")(gram_input)"
      ],
      "execution_count": 0,
      "outputs": []
    },
    {
      "cell_type": "code",
      "metadata": {
        "id": "OFaL7koePm9L",
        "colab_type": "code",
        "colab": {}
      },
      "source": [
        "# 2sd Convolutional Layer (3-gram)\n",
        "conv_filter_3_gram = Conv2D(filters= N_filters, input_shape=input_sh, activation='relu', \n",
        "                       kernel_size=(3,embeddigs_cols), padding='valid')(gram_input)"
      ],
      "execution_count": 0,
      "outputs": []
    },
    {
      "cell_type": "code",
      "metadata": {
        "id": "MmFo4reIPm9O",
        "colab_type": "code",
        "colab": {}
      },
      "source": [
        "# 3rd Convolutional Layer (5-gram)\n",
        "conv_filter_5_gram = Conv2D(filters= N_filters, input_shape=input_sh, activation='relu', \n",
        "                       kernel_size=(5,embeddigs_cols), padding='valid')(gram_input)"
      ],
      "execution_count": 0,
      "outputs": []
    },
    {
      "cell_type": "code",
      "metadata": {
        "id": "JsKO6wgFPm9S",
        "colab_type": "code",
        "colab": {}
      },
      "source": [
        "# Max Pooling Layer\n",
        "max_pool_1_gram = MaxPooling2D(pool_size=((max_len_sentences-1+1), 1), strides=None, padding='valid')(conv_filter_1_gram)\n",
        "max_pool_3_gram = MaxPooling2D(pool_size=((max_len_sentences-3+1), 1), strides=None, padding='valid')(conv_filter_3_gram)\n",
        "max_pool_5_gram = MaxPooling2D(pool_size=((max_len_sentences-5+1), 1), strides=None, padding='valid')(conv_filter_5_gram)"
      ],
      "execution_count": 0,
      "outputs": []
    },
    {
      "cell_type": "code",
      "metadata": {
        "id": "HuENTszvPm9X",
        "colab_type": "code",
        "colab": {}
      },
      "source": [
        "# Fully Connected layer\n",
        "fully_connected_1_gram = Flatten()(max_pool_1_gram)\n",
        "fully_connected_3_gram = Flatten()(max_pool_3_gram)\n",
        "fully_connected_5_gram = Flatten()(max_pool_5_gram)"
      ],
      "execution_count": 0,
      "outputs": []
    },
    {
      "cell_type": "code",
      "metadata": {
        "id": "KHxwwDUePm9b",
        "colab_type": "code",
        "colab": {}
      },
      "source": [
        "merged_vector = layers.concatenate([fully_connected_1_gram, fully_connected_3_gram, \n",
        "                                    fully_connected_5_gram], axis=-1)\n",
        "\n",
        "integration_layer = Dropout(0.2)(merged_vector) # <-------- [HyperParameter]\n",
        "\n",
        "predictions = Dense(K, activation='softmax')(integration_layer)"
      ],
      "execution_count": 0,
      "outputs": []
    },
    {
      "cell_type": "code",
      "metadata": {
        "id": "CuFN3FO1Pm9e",
        "colab_type": "code",
        "colab": {}
      },
      "source": [
        "#Criticality Model\n",
        "criticality_network = Model(inputs=[gram_input],outputs=[predictions]) "
      ],
      "execution_count": 0,
      "outputs": []
    },
    {
      "cell_type": "code",
      "metadata": {
        "id": "FMOROrYKPm9i",
        "colab_type": "code",
        "colab": {},
        "outputId": "afb80ad4-989b-4994-d687-57a4c49d4a54"
      },
      "source": [
        "print(criticality_network.summary())"
      ],
      "execution_count": 0,
      "outputs": [
        {
          "output_type": "stream",
          "text": [
            "Model: \"model\"\n",
            "__________________________________________________________________________________________________\n",
            "Layer (type)                    Output Shape         Param #     Connected to                     \n",
            "==================================================================================================\n",
            "input_1 (InputLayer)            [(None, 618, 100, 1) 0                                            \n",
            "__________________________________________________________________________________________________\n",
            "conv2d (Conv2D)                 (None, 618, 1, 128)  12928       input_1[0][0]                    \n",
            "__________________________________________________________________________________________________\n",
            "conv2d_1 (Conv2D)               (None, 616, 1, 128)  38528       input_1[0][0]                    \n",
            "__________________________________________________________________________________________________\n",
            "conv2d_2 (Conv2D)               (None, 614, 1, 128)  64128       input_1[0][0]                    \n",
            "__________________________________________________________________________________________________\n",
            "max_pooling2d (MaxPooling2D)    (None, 1, 1, 128)    0           conv2d[0][0]                     \n",
            "__________________________________________________________________________________________________\n",
            "max_pooling2d_1 (MaxPooling2D)  (None, 1, 1, 128)    0           conv2d_1[0][0]                   \n",
            "__________________________________________________________________________________________________\n",
            "max_pooling2d_2 (MaxPooling2D)  (None, 1, 1, 128)    0           conv2d_2[0][0]                   \n",
            "__________________________________________________________________________________________________\n",
            "flatten (Flatten)               (None, 128)          0           max_pooling2d[0][0]              \n",
            "__________________________________________________________________________________________________\n",
            "flatten_1 (Flatten)             (None, 128)          0           max_pooling2d_1[0][0]            \n",
            "__________________________________________________________________________________________________\n",
            "flatten_2 (Flatten)             (None, 128)          0           max_pooling2d_2[0][0]            \n",
            "__________________________________________________________________________________________________\n",
            "concatenate (Concatenate)       (None, 384)          0           flatten[0][0]                    \n",
            "                                                                 flatten_1[0][0]                  \n",
            "                                                                 flatten_2[0][0]                  \n",
            "__________________________________________________________________________________________________\n",
            "dropout (Dropout)               (None, 384)          0           concatenate[0][0]                \n",
            "__________________________________________________________________________________________________\n",
            "dense (Dense)                   (None, 2)            770         dropout[0][0]                    \n",
            "==================================================================================================\n",
            "Total params: 116,354\n",
            "Trainable params: 116,354\n",
            "Non-trainable params: 0\n",
            "__________________________________________________________________________________________________\n",
            "None\n"
          ],
          "name": "stdout"
        }
      ]
    },
    {
      "cell_type": "code",
      "metadata": {
        "id": "Kcc7O-QDPm9m",
        "colab_type": "code",
        "colab": {}
      },
      "source": [
        "#Seting up the Model\n",
        "criticality_network.compile(optimizer='adam',loss='binary_crossentropy',\n",
        "                                  metrics=['accuracy'])"
      ],
      "execution_count": 0,
      "outputs": []
    },
    {
      "cell_type": "code",
      "metadata": {
        "id": "D6SUJFbdPm9q",
        "colab_type": "code",
        "colab": {}
      },
      "source": [
        "#Data set organization\n",
        "from tempfile import mkdtemp\n",
        "import os.path as path"
      ],
      "execution_count": 0,
      "outputs": []
    },
    {
      "cell_type": "code",
      "metadata": {
        "id": "py2MlvXgPm9w",
        "colab_type": "code",
        "colab": {}
      },
      "source": [
        "#Memoization \n",
        "file_corpora_train_x = path.join(mkdtemp(), 'e-res_temp_corpora_train_x.dat') #Update per experiment\n",
        "file_corpora_test_x = path.join(mkdtemp(), 'e-res_temp_corpora_test_x.dat')"
      ],
      "execution_count": 0,
      "outputs": []
    },
    {
      "cell_type": "code",
      "metadata": {
        "id": "BuAoRHjCPm90",
        "colab_type": "code",
        "colab": {}
      },
      "source": [
        "#Shaping\n",
        "shape_train_x = (len(corpora_train),max_len_sentences,embeddigs_cols,1)\n",
        "shape_test_x = (len(corpora_test),max_len_sentences,embeddigs_cols,1)"
      ],
      "execution_count": 0,
      "outputs": []
    },
    {
      "cell_type": "code",
      "metadata": {
        "id": "TSbNNi1zPm94",
        "colab_type": "code",
        "colab": {}
      },
      "source": [
        "#Data sets\n",
        "corpora_train_x = np.memmap(\n",
        "        filename = file_corpora_train_x, \n",
        "        dtype='float32', \n",
        "        mode='w+', \n",
        "        shape = shape_train_x)"
      ],
      "execution_count": 0,
      "outputs": []
    },
    {
      "cell_type": "code",
      "metadata": {
        "id": "S7L2DGgCPm99",
        "colab_type": "code",
        "colab": {}
      },
      "source": [
        "corpora_test_x = np.memmap( #Test Corpora (for future evaluation)\n",
        "        filename = file_corpora_test_x, \n",
        "        dtype='float32', \n",
        "        mode='w+', \n",
        "        shape = shape_test_x)"
      ],
      "execution_count": 0,
      "outputs": []
    },
    {
      "cell_type": "code",
      "metadata": {
        "id": "opntveuSPm-D",
        "colab_type": "code",
        "colab": {}
      },
      "source": [
        "target_train_y = np.array(target_train) #Train Target\n",
        "target_test_y = np.array(target_test) #Test Target (for future evaluation)"
      ],
      "execution_count": 0,
      "outputs": []
    },
    {
      "cell_type": "code",
      "metadata": {
        "id": "_Rg1OiV9Pm-H",
        "colab_type": "code",
        "colab": {},
        "outputId": "46560dd1-44c4-4353-c84b-95c32fc43ab1"
      },
      "source": [
        "corpora_train_x.shape"
      ],
      "execution_count": 0,
      "outputs": [
        {
          "output_type": "execute_result",
          "data": {
            "text/plain": [
              "(103876, 618, 100, 1)"
            ]
          },
          "metadata": {
            "tags": []
          },
          "execution_count": 38
        }
      ]
    },
    {
      "cell_type": "code",
      "metadata": {
        "id": "dTuhwQkPPm-L",
        "colab_type": "code",
        "colab": {},
        "outputId": "20ec1b66-53f0-4eb1-8567-2188491c00ab"
      },
      "source": [
        "target_train_y.shape"
      ],
      "execution_count": 0,
      "outputs": [
        {
          "output_type": "execute_result",
          "data": {
            "text/plain": [
              "(103876, 2)"
            ]
          },
          "metadata": {
            "tags": []
          },
          "execution_count": 39
        }
      ]
    },
    {
      "cell_type": "code",
      "metadata": {
        "id": "btV5EUi_Pm-P",
        "colab_type": "code",
        "colab": {},
        "outputId": "33145933-bc34-429f-c5ba-7b69e117e4db"
      },
      "source": [
        "corpora_test_x.shape"
      ],
      "execution_count": 0,
      "outputs": [
        {
          "output_type": "execute_result",
          "data": {
            "text/plain": [
              "(11539, 618, 100, 1)"
            ]
          },
          "metadata": {
            "tags": []
          },
          "execution_count": 40
        }
      ]
    },
    {
      "cell_type": "code",
      "metadata": {
        "id": "nC0fSdtYPm-U",
        "colab_type": "code",
        "colab": {},
        "outputId": "5a95b5cb-154b-4e17-aab0-66ec701a90db"
      },
      "source": [
        "target_test_y.shape"
      ],
      "execution_count": 0,
      "outputs": [
        {
          "output_type": "execute_result",
          "data": {
            "text/plain": [
              "(11539, 2)"
            ]
          },
          "metadata": {
            "tags": []
          },
          "execution_count": 41
        }
      ]
    },
    {
      "cell_type": "code",
      "metadata": {
        "id": "rRV3TaefPm-Y",
        "colab_type": "code",
        "colab": {}
      },
      "source": [
        "#Reshaping Train Inputs\n",
        "for doc in range(len(corpora_train)):\n",
        "    #print(corpora_train[doc].shape[1])\n",
        "    for words_rows in range(corpora_train[doc].shape[0]):\n",
        "        embed_flatten = np.array(corpora_train[doc][words_rows]).flatten() #<--- Capture doc and word\n",
        "        for embedding_cols in range(embed_flatten.shape[0]):\n",
        "            corpora_train_x[doc,words_rows,embedding_cols,0] = embed_flatten[embedding_cols]"
      ],
      "execution_count": 0,
      "outputs": []
    },
    {
      "cell_type": "code",
      "metadata": {
        "id": "NlzkpP85Pm-d",
        "colab_type": "code",
        "colab": {}
      },
      "source": [
        "#Reshaping Test Inputs (for future evaluation)\n",
        "for doc in range(len(corpora_test)):\n",
        "    for words_rows in range(corpora_test[doc].shape[0]):\n",
        "        embed_flatten = np.array(corpora_test[doc][words_rows]).flatten() #<--- Capture doc and word\n",
        "        for embedding_cols in range(embed_flatten.shape[0]):\n",
        "            corpora_test_x[doc,words_rows,embedding_cols,0] = embed_flatten[embedding_cols]"
      ],
      "execution_count": 0,
      "outputs": []
    },
    {
      "cell_type": "code",
      "metadata": {
        "id": "Y7-M9gqDPm-i",
        "colab_type": "code",
        "colab": {}
      },
      "source": [
        "#CheckPoints\n",
        "#csv_logger = CSVLogger(system+'_training.log')\n",
        "filepath = \"e-res/best_model.hdf5\""
      ],
      "execution_count": 0,
      "outputs": []
    },
    {
      "cell_type": "code",
      "metadata": {
        "id": "vadUpvpRPm-l",
        "colab_type": "code",
        "colab": {}
      },
      "source": [
        "es = EarlyStopping(monitor='val_loss', mode='min', verbose=1, patience=100)\n",
        "mc = ModelCheckpoint(filepath, monitor='val_accuracy', mode='max', verbose=1, save_best_only=True)\n",
        "callbacks_list = [es,mc]"
      ],
      "execution_count": 0,
      "outputs": []
    },
    {
      "cell_type": "code",
      "metadata": {
        "id": "LbsRPHMJPm-n",
        "colab_type": "code",
        "colab": {},
        "outputId": "e46108c6-0a13-480d-90d3-f732ab389543"
      },
      "source": [
        "#Model Fitting\n",
        "history = criticality_network.fit(\n",
        "            x = corpora_train_x, \n",
        "            y = target_train_y,\n",
        "            #batch_size=64,\n",
        "            epochs=2000, #5 <------ Hyperparameter\n",
        "            validation_split = 0.2,\n",
        "            callbacks=callbacks_list\n",
        ")"
      ],
      "execution_count": 0,
      "outputs": [
        {
          "output_type": "stream",
          "text": [
            "Train on 83100 samples, validate on 20776 samples\n",
            "Epoch 1/2000\n",
            "83040/83100 [============================>.] - ETA: 0s - loss: 0.1307 - accuracy: 0.9560\n",
            "Epoch 00001: val_accuracy improved from -inf to 0.99884, saving model to e-res/best_model.hdf5\n",
            "83100/83100 [==============================] - 113s 1ms/sample - loss: 0.1308 - accuracy: 0.9560 - val_loss: 0.0035 - val_accuracy: 0.9988\n",
            "Epoch 2/2000\n",
            "83040/83100 [============================>.] - ETA: 0s - loss: 0.1000 - accuracy: 0.9662\n",
            "Epoch 00002: val_accuracy did not improve from 0.99884\n",
            "83100/83100 [==============================] - 122s 1ms/sample - loss: 0.1000 - accuracy: 0.9662 - val_loss: 0.0052 - val_accuracy: 0.9981\n",
            "Epoch 3/2000\n",
            "83072/83100 [============================>.] - ETA: 0s - loss: 0.0873 - accuracy: 0.9706\n",
            "Epoch 00003: val_accuracy did not improve from 0.99884\n",
            "83100/83100 [==============================] - 120s 1ms/sample - loss: 0.0873 - accuracy: 0.9706 - val_loss: 0.0036 - val_accuracy: 0.9987\n",
            "Epoch 4/2000\n",
            "83072/83100 [============================>.] - ETA: 0s - loss: 0.0796 - accuracy: 0.9722\n",
            "Epoch 00004: val_accuracy did not improve from 0.99884\n",
            "83100/83100 [==============================] - 122s 1ms/sample - loss: 0.0795 - accuracy: 0.9722 - val_loss: 0.0057 - val_accuracy: 0.9979\n",
            "Epoch 5/2000\n",
            "83072/83100 [============================>.] - ETA: 0s - loss: 0.0710 - accuracy: 0.9754\n",
            "Epoch 00005: val_accuracy did not improve from 0.99884\n",
            "83100/83100 [==============================] - 128s 2ms/sample - loss: 0.0709 - accuracy: 0.9754 - val_loss: 0.0049 - val_accuracy: 0.9983\n",
            "Epoch 6/2000\n",
            "83040/83100 [============================>.] - ETA: 0s - loss: 0.0644 - accuracy: 0.9773\n",
            "Epoch 00006: val_accuracy did not improve from 0.99884\n",
            "83100/83100 [==============================] - 120s 1ms/sample - loss: 0.0644 - accuracy: 0.9773 - val_loss: 0.0064 - val_accuracy: 0.9974\n",
            "Epoch 7/2000\n",
            "83040/83100 [============================>.] - ETA: 0s - loss: 0.0589 - accuracy: 0.9800\n",
            "Epoch 00007: val_accuracy did not improve from 0.99884\n",
            "83100/83100 [==============================] - 121s 1ms/sample - loss: 0.0589 - accuracy: 0.9800 - val_loss: 0.0076 - val_accuracy: 0.9971\n",
            "Epoch 8/2000\n",
            "83072/83100 [============================>.] - ETA: 0s - loss: 0.0534 - accuracy: 0.9819 ETA: 1s - loss: 0\n",
            "Epoch 00008: val_accuracy did not improve from 0.99884\n",
            "83100/83100 [==============================] - 122s 1ms/sample - loss: 0.0534 - accuracy: 0.9819 - val_loss: 0.0038 - val_accuracy: 0.9985\n",
            "Epoch 9/2000\n",
            "83072/83100 [============================>.] - ETA: 0s - loss: 0.0474 - accuracy: 0.9834\n",
            "Epoch 00009: val_accuracy did not improve from 0.99884\n",
            "83100/83100 [==============================] - 121s 1ms/sample - loss: 0.0474 - accuracy: 0.9834 - val_loss: 0.0040 - val_accuracy: 0.9986\n",
            "Epoch 10/2000\n",
            "83040/83100 [============================>.] - ETA: 0s - loss: 0.0440 - accuracy: 0.9846\n",
            "Epoch 00010: val_accuracy did not improve from 0.99884\n",
            "83100/83100 [==============================] - 120s 1ms/sample - loss: 0.0440 - accuracy: 0.9846 - val_loss: 0.0069 - val_accuracy: 0.9977\n",
            "Epoch 11/2000\n",
            "83072/83100 [============================>.] - ETA: 0s - loss: 0.0422 - accuracy: 0.9860\n",
            "Epoch 00011: val_accuracy did not improve from 0.99884\n",
            "83100/83100 [==============================] - 120s 1ms/sample - loss: 0.0422 - accuracy: 0.9860 - val_loss: 0.0042 - val_accuracy: 0.9987\n",
            "Epoch 12/2000\n",
            "83040/83100 [============================>.] - ETA: 0s - loss: 0.0378 - accuracy: 0.9871\n",
            "Epoch 00012: val_accuracy did not improve from 0.99884\n",
            "83100/83100 [==============================] - 122s 1ms/sample - loss: 0.0378 - accuracy: 0.9871 - val_loss: 0.0057 - val_accuracy: 0.9981\n",
            "Epoch 13/2000\n",
            "83072/83100 [============================>.] - ETA: 0s - loss: 0.0367 - accuracy: 0.9877\n",
            "Epoch 00013: val_accuracy did not improve from 0.99884\n",
            "83100/83100 [==============================] - 120s 1ms/sample - loss: 0.0367 - accuracy: 0.9877 - val_loss: 0.0051 - val_accuracy: 0.9984\n",
            "Epoch 14/2000\n",
            "83072/83100 [============================>.] - ETA: 0s - loss: 0.0353 - accuracy: 0.9886\n",
            "Epoch 00014: val_accuracy did not improve from 0.99884\n",
            "83100/83100 [==============================] - 125s 2ms/sample - loss: 0.0353 - accuracy: 0.9886 - val_loss: 0.0064 - val_accuracy: 0.9981\n",
            "Epoch 15/2000\n",
            "83040/83100 [============================>.] - ETA: 0s - loss: 0.0349 - accuracy: 0.9885\n",
            "Epoch 00015: val_accuracy did not improve from 0.99884\n",
            "83100/83100 [==============================] - 121s 1ms/sample - loss: 0.0350 - accuracy: 0.9884 - val_loss: 0.0050 - val_accuracy: 0.9986\n",
            "Epoch 16/2000\n",
            "83040/83100 [============================>.] - ETA: 0s - loss: 0.0346 - accuracy: 0.9887\n",
            "Epoch 00016: val_accuracy did not improve from 0.99884\n",
            "83100/83100 [==============================] - 121s 1ms/sample - loss: 0.0346 - accuracy: 0.9887 - val_loss: 0.0097 - val_accuracy: 0.9969\n",
            "Epoch 17/2000\n",
            "83040/83100 [============================>.] - ETA: 0s - loss: 0.0285 - accuracy: 0.9906\n",
            "Epoch 00017: val_accuracy did not improve from 0.99884\n",
            "83100/83100 [==============================] - 121s 1ms/sample - loss: 0.0286 - accuracy: 0.9906 - val_loss: 0.0052 - val_accuracy: 0.9986\n",
            "Epoch 18/2000\n",
            "83072/83100 [============================>.] - ETA: 0s - loss: 0.0300 - accuracy: 0.9899\n",
            "Epoch 00018: val_accuracy did not improve from 0.99884\n",
            "83100/83100 [==============================] - 116s 1ms/sample - loss: 0.0299 - accuracy: 0.9899 - val_loss: 0.0047 - val_accuracy: 0.9987\n",
            "Epoch 19/2000\n",
            "83040/83100 [============================>.] - ETA: 0s - loss: 0.0285 - accuracy: 0.9910\n",
            "Epoch 00019: val_accuracy did not improve from 0.99884\n",
            "83100/83100 [==============================] - 117s 1ms/sample - loss: 0.0285 - accuracy: 0.9910 - val_loss: 0.0147 - val_accuracy: 0.9962\n",
            "Epoch 20/2000\n",
            "83072/83100 [============================>.] - ETA: 0s - loss: 0.0265 - accuracy: 0.9913\n",
            "Epoch 00020: val_accuracy did not improve from 0.99884\n",
            "83100/83100 [==============================] - 117s 1ms/sample - loss: 0.0265 - accuracy: 0.9913 - val_loss: 0.0060 - val_accuracy: 0.9983\n",
            "Epoch 21/2000\n",
            "83040/83100 [============================>.] - ETA: 0s - loss: 0.0274 - accuracy: 0.9912\n",
            "Epoch 00021: val_accuracy improved from 0.99884 to 0.99889, saving model to e-res/best_model.hdf5\n",
            "83100/83100 [==============================] - 116s 1ms/sample - loss: 0.0274 - accuracy: 0.9912 - val_loss: 0.0040 - val_accuracy: 0.9989\n",
            "Epoch 22/2000\n",
            "83040/83100 [============================>.] - ETA: 0s - loss: 0.0262 - accuracy: 0.9916 ETA: 1s - loss:\n",
            "Epoch 00022: val_accuracy did not improve from 0.99889\n",
            "83100/83100 [==============================] - 115s 1ms/sample - loss: 0.0262 - accuracy: 0.9916 - val_loss: 0.0043 - val_accuracy: 0.9988\n",
            "Epoch 23/2000\n",
            "83040/83100 [============================>.] - ETA: 0s - loss: 0.0229 - accuracy: 0.9926\n",
            "Epoch 00023: val_accuracy did not improve from 0.99889\n",
            "83100/83100 [==============================] - 117s 1ms/sample - loss: 0.0229 - accuracy: 0.9926 - val_loss: 0.0044 - val_accuracy: 0.9988\n",
            "Epoch 24/2000\n",
            "83040/83100 [============================>.] - ETA: 0s - loss: 0.0235 - accuracy: 0.9925\n",
            "Epoch 00024: val_accuracy did not improve from 0.99889\n",
            "83100/83100 [==============================] - 122s 1ms/sample - loss: 0.0235 - accuracy: 0.9925 - val_loss: 0.0068 - val_accuracy: 0.9982\n",
            "Epoch 25/2000\n",
            "83072/83100 [============================>.] - ETA: 0s - loss: 0.0227 - accuracy: 0.9928\n",
            "Epoch 00025: val_accuracy improved from 0.99889 to 0.99904, saving model to e-res/best_model.hdf5\n",
            "83100/83100 [==============================] - 116s 1ms/sample - loss: 0.0227 - accuracy: 0.9929 - val_loss: 0.0040 - val_accuracy: 0.9990\n",
            "Epoch 26/2000\n",
            "83040/83100 [============================>.] - ETA: 0s - loss: 0.0261 - accuracy: 0.9920\n",
            "Epoch 00026: val_accuracy did not improve from 0.99904\n",
            "83100/83100 [==============================] - 115s 1ms/sample - loss: 0.0260 - accuracy: 0.9920 - val_loss: 0.0073 - val_accuracy: 0.9984\n",
            "Epoch 27/2000\n",
            "83040/83100 [============================>.] - ETA: 0s - loss: 0.0224 - accuracy: 0.9928\n",
            "Epoch 00027: val_accuracy did not improve from 0.99904\n",
            "83100/83100 [==============================] - 115s 1ms/sample - loss: 0.0225 - accuracy: 0.9928 - val_loss: 0.0047 - val_accuracy: 0.9988\n"
          ],
          "name": "stdout"
        },
        {
          "output_type": "stream",
          "text": [
            "Epoch 28/2000\n",
            "83040/83100 [============================>.] - ETA: 0s - loss: 0.0207 - accuracy: 0.9937\n",
            "Epoch 00028: val_accuracy did not improve from 0.99904\n",
            "83100/83100 [==============================] - 116s 1ms/sample - loss: 0.0207 - accuracy: 0.9937 - val_loss: 0.0068 - val_accuracy: 0.9986\n",
            "Epoch 29/2000\n",
            "83072/83100 [============================>.] - ETA: 0s - loss: 0.0230 - accuracy: 0.9930\n",
            "Epoch 00029: val_accuracy did not improve from 0.99904\n",
            "83100/83100 [==============================] - 116s 1ms/sample - loss: 0.0230 - accuracy: 0.9930 - val_loss: 0.0097 - val_accuracy: 0.9977\n",
            "Epoch 30/2000\n",
            "83040/83100 [============================>.] - ETA: 0s - loss: 0.0217 - accuracy: 0.9937\n",
            "Epoch 00030: val_accuracy did not improve from 0.99904\n",
            "83100/83100 [==============================] - 115s 1ms/sample - loss: 0.0217 - accuracy: 0.9937 - val_loss: 0.0105 - val_accuracy: 0.9977\n",
            "Epoch 31/2000\n",
            "83040/83100 [============================>.] - ETA: 0s - loss: 0.0220 - accuracy: 0.9934\n",
            "Epoch 00031: val_accuracy did not improve from 0.99904\n",
            "83100/83100 [==============================] - 116s 1ms/sample - loss: 0.0220 - accuracy: 0.9933 - val_loss: 0.0071 - val_accuracy: 0.9982\n",
            "Epoch 32/2000\n",
            "83072/83100 [============================>.] - ETA: 0s - loss: 0.0212 - accuracy: 0.9933\n",
            "Epoch 00032: val_accuracy did not improve from 0.99904\n",
            "83100/83100 [==============================] - 116s 1ms/sample - loss: 0.0212 - accuracy: 0.9933 - val_loss: 0.0077 - val_accuracy: 0.9985\n",
            "Epoch 33/2000\n",
            "83040/83100 [============================>.] - ETA: 0s - loss: 0.0188 - accuracy: 0.9944\n",
            "Epoch 00033: val_accuracy did not improve from 0.99904\n",
            "83100/83100 [==============================] - 123s 1ms/sample - loss: 0.0188 - accuracy: 0.9944 - val_loss: 0.0084 - val_accuracy: 0.9983\n",
            "Epoch 34/2000\n",
            "83040/83100 [============================>.] - ETA: 0s - loss: 0.0218 - accuracy: 0.9939\n",
            "Epoch 00034: val_accuracy did not improve from 0.99904\n",
            "83100/83100 [==============================] - 115s 1ms/sample - loss: 0.0217 - accuracy: 0.9939 - val_loss: 0.0113 - val_accuracy: 0.9976\n",
            "Epoch 35/2000\n",
            "83040/83100 [============================>.] - ETA: 0s - loss: 0.0196 - accuracy: 0.9943\n",
            "Epoch 00035: val_accuracy did not improve from 0.99904\n",
            "83100/83100 [==============================] - 116s 1ms/sample - loss: 0.0196 - accuracy: 0.9943 - val_loss: 0.0097 - val_accuracy: 0.9980\n",
            "Epoch 36/2000\n",
            "83040/83100 [============================>.] - ETA: 0s - loss: 0.0204 - accuracy: 0.9940\n",
            "Epoch 00036: val_accuracy did not improve from 0.99904\n",
            "83100/83100 [==============================] - 116s 1ms/sample - loss: 0.0204 - accuracy: 0.9940 - val_loss: 0.0062 - val_accuracy: 0.9989\n",
            "Epoch 37/2000\n",
            "83072/83100 [============================>.] - ETA: 0s - loss: 0.0201 - accuracy: 0.9946 ETA: 0s - loss: 0.0201 - accu\n",
            "Epoch 00037: val_accuracy did not improve from 0.99904\n",
            "83100/83100 [==============================] - 116s 1ms/sample - loss: 0.0201 - accuracy: 0.9946 - val_loss: 0.0115 - val_accuracy: 0.9979\n",
            "Epoch 38/2000\n",
            "83072/83100 [============================>.] - ETA: 0s - loss: 0.0180 - accuracy: 0.9945\n",
            "Epoch 00038: val_accuracy did not improve from 0.99904\n",
            "83100/83100 [==============================] - 115s 1ms/sample - loss: 0.0180 - accuracy: 0.9945 - val_loss: 0.0069 - val_accuracy: 0.9984\n",
            "Epoch 39/2000\n",
            "83072/83100 [============================>.] - ETA: 0s - loss: 0.0192 - accuracy: 0.9946\n",
            "Epoch 00039: val_accuracy did not improve from 0.99904\n",
            "83100/83100 [==============================] - 114s 1ms/sample - loss: 0.0193 - accuracy: 0.9946 - val_loss: 0.0110 - val_accuracy: 0.9979\n",
            "Epoch 40/2000\n",
            "83040/83100 [============================>.] - ETA: 0s - loss: 0.0186 - accuracy: 0.9946\n",
            "Epoch 00040: val_accuracy did not improve from 0.99904\n",
            "83100/83100 [==============================] - 117s 1ms/sample - loss: 0.0186 - accuracy: 0.9946 - val_loss: 0.0078 - val_accuracy: 0.9983\n",
            "Epoch 41/2000\n",
            "83040/83100 [============================>.] - ETA: 0s - loss: 0.0183 - accuracy: 0.9948\n",
            "Epoch 00041: val_accuracy did not improve from 0.99904\n",
            "83100/83100 [==============================] - 117s 1ms/sample - loss: 0.0183 - accuracy: 0.9948 - val_loss: 0.0090 - val_accuracy: 0.9983\n",
            "Epoch 42/2000\n",
            "83072/83100 [============================>.] - ETA: 0s - loss: 0.0176 - accuracy: 0.9949\n",
            "Epoch 00042: val_accuracy did not improve from 0.99904\n",
            "83100/83100 [==============================] - 115s 1ms/sample - loss: 0.0176 - accuracy: 0.9949 - val_loss: 0.0073 - val_accuracy: 0.9983\n",
            "Epoch 43/2000\n",
            "83040/83100 [============================>.] - ETA: 0s - loss: 0.0176 - accuracy: 0.9947\n",
            "Epoch 00043: val_accuracy did not improve from 0.99904\n",
            "83100/83100 [==============================] - 120s 1ms/sample - loss: 0.0176 - accuracy: 0.9947 - val_loss: 0.0044 - val_accuracy: 0.9989\n",
            "Epoch 44/2000\n",
            "83072/83100 [============================>.] - ETA: 0s - loss: 0.0182 - accuracy: 0.9951\n",
            "Epoch 00044: val_accuracy did not improve from 0.99904\n",
            "83100/83100 [==============================] - 114s 1ms/sample - loss: 0.0182 - accuracy: 0.9950 - val_loss: 0.0064 - val_accuracy: 0.9985\n",
            "Epoch 45/2000\n",
            "83040/83100 [============================>.] - ETA: 0s - loss: 0.0165 - accuracy: 0.9955\n",
            "Epoch 00045: val_accuracy did not improve from 0.99904\n",
            "83100/83100 [==============================] - 117s 1ms/sample - loss: 0.0165 - accuracy: 0.9955 - val_loss: 0.0137 - val_accuracy: 0.9974\n",
            "Epoch 46/2000\n",
            "83040/83100 [============================>.] - ETA: 0s - loss: 0.0180 - accuracy: 0.9948 ETA: 1s - l\n",
            "Epoch 00046: val_accuracy did not improve from 0.99904\n",
            "83100/83100 [==============================] - 115s 1ms/sample - loss: 0.0180 - accuracy: 0.9948 - val_loss: 0.0095 - val_accuracy: 0.9984\n",
            "Epoch 47/2000\n",
            "83072/83100 [============================>.] - ETA: 0s - loss: 0.0171 - accuracy: 0.9952\n",
            "Epoch 00047: val_accuracy did not improve from 0.99904\n",
            "83100/83100 [==============================] - 116s 1ms/sample - loss: 0.0171 - accuracy: 0.9952 - val_loss: 0.0127 - val_accuracy: 0.9976\n",
            "Epoch 48/2000\n",
            "83072/83100 [============================>.] - ETA: 0s - loss: 0.0195 - accuracy: 0.9949\n",
            "Epoch 00048: val_accuracy did not improve from 0.99904\n",
            "83100/83100 [==============================] - 117s 1ms/sample - loss: 0.0195 - accuracy: 0.9949 - val_loss: 0.0089 - val_accuracy: 0.9982\n",
            "Epoch 49/2000\n",
            "83072/83100 [============================>.] - ETA: 0s - loss: 0.0162 - accuracy: 0.9952\n",
            "Epoch 00049: val_accuracy did not improve from 0.99904\n",
            "83100/83100 [==============================] - 117s 1ms/sample - loss: 0.0162 - accuracy: 0.9952 - val_loss: 0.0092 - val_accuracy: 0.9980\n",
            "Epoch 50/2000\n",
            "83040/83100 [============================>.] - ETA: 0s - loss: 0.0154 - accuracy: 0.9956\n",
            "Epoch 00050: val_accuracy did not improve from 0.99904\n",
            "83100/83100 [==============================] - 115s 1ms/sample - loss: 0.0154 - accuracy: 0.9956 - val_loss: 0.0094 - val_accuracy: 0.9983\n",
            "Epoch 51/2000\n",
            "83072/83100 [============================>.] - ETA: 0s - loss: 0.0156 - accuracy: 0.9958\n",
            "Epoch 00051: val_accuracy did not improve from 0.99904\n",
            "83100/83100 [==============================] - 115s 1ms/sample - loss: 0.0156 - accuracy: 0.9958 - val_loss: 0.0068 - val_accuracy: 0.9988\n",
            "Epoch 52/2000\n",
            "83072/83100 [============================>.] - ETA: 0s - loss: 0.0175 - accuracy: 0.9950\n",
            "Epoch 00052: val_accuracy did not improve from 0.99904\n",
            "83100/83100 [==============================] - 121s 1ms/sample - loss: 0.0175 - accuracy: 0.9950 - val_loss: 0.0073 - val_accuracy: 0.9984\n",
            "Epoch 53/2000\n",
            "83040/83100 [============================>.] - ETA: 0s - loss: 0.0161 - accuracy: 0.9956\n",
            "Epoch 00053: val_accuracy did not improve from 0.99904\n",
            "83100/83100 [==============================] - 116s 1ms/sample - loss: 0.0161 - accuracy: 0.9956 - val_loss: 0.0072 - val_accuracy: 0.9986\n",
            "Epoch 54/2000\n",
            "83040/83100 [============================>.] - ETA: 0s - loss: 0.0159 - accuracy: 0.9955\n",
            "Epoch 00054: val_accuracy did not improve from 0.99904\n",
            "83100/83100 [==============================] - 115s 1ms/sample - loss: 0.0159 - accuracy: 0.9955 - val_loss: 0.0134 - val_accuracy: 0.9976\n",
            "Epoch 55/2000\n",
            "83072/83100 [============================>.] - ETA: 0s - loss: 0.0166 - accuracy: 0.9955\n",
            "Epoch 00055: val_accuracy did not improve from 0.99904\n",
            "83100/83100 [==============================] - 115s 1ms/sample - loss: 0.0166 - accuracy: 0.9955 - val_loss: 0.0103 - val_accuracy: 0.9982\n"
          ],
          "name": "stdout"
        },
        {
          "output_type": "stream",
          "text": [
            "Epoch 56/2000\n",
            "83072/83100 [============================>.] - ETA: 0s - loss: 0.0146 - accuracy: 0.9957\n",
            "Epoch 00056: val_accuracy did not improve from 0.99904\n",
            "83100/83100 [==============================] - 116s 1ms/sample - loss: 0.0146 - accuracy: 0.9957 - val_loss: 0.0078 - val_accuracy: 0.9987\n",
            "Epoch 57/2000\n",
            "83072/83100 [============================>.] - ETA: 0s - loss: 0.0169 - accuracy: 0.9957\n",
            "Epoch 00057: val_accuracy did not improve from 0.99904\n",
            "83100/83100 [==============================] - 116s 1ms/sample - loss: 0.0169 - accuracy: 0.9957 - val_loss: 0.0100 - val_accuracy: 0.9981\n",
            "Epoch 58/2000\n",
            "83040/83100 [============================>.] - ETA: 0s - loss: 0.0161 - accuracy: 0.9956\n",
            "Epoch 00058: val_accuracy did not improve from 0.99904\n",
            "83100/83100 [==============================] - 113s 1ms/sample - loss: 0.0161 - accuracy: 0.9956 - val_loss: 0.0054 - val_accuracy: 0.9987\n",
            "Epoch 59/2000\n",
            "83040/83100 [============================>.] - ETA: 0s - loss: 0.0153 - accuracy: 0.9957\n",
            "Epoch 00059: val_accuracy did not improve from 0.99904\n",
            "83100/83100 [==============================] - 116s 1ms/sample - loss: 0.0153 - accuracy: 0.9957 - val_loss: 0.0136 - val_accuracy: 0.9976\n",
            "Epoch 60/2000\n",
            "83072/83100 [============================>.] - ETA: 0s - loss: 0.0152 - accuracy: 0.9961\n",
            "Epoch 00060: val_accuracy did not improve from 0.99904\n",
            "83100/83100 [==============================] - 116s 1ms/sample - loss: 0.0152 - accuracy: 0.9961 - val_loss: 0.0107 - val_accuracy: 0.9981\n",
            "Epoch 61/2000\n",
            "83040/83100 [============================>.] - ETA: 0s - loss: 0.0164 - accuracy: 0.9959\n",
            "Epoch 00061: val_accuracy did not improve from 0.99904\n",
            "83100/83100 [==============================] - 116s 1ms/sample - loss: 0.0164 - accuracy: 0.9959 - val_loss: 0.0162 - val_accuracy: 0.9972\n",
            "Epoch 62/2000\n",
            "83072/83100 [============================>.] - ETA: 0s - loss: 0.0144 - accuracy: 0.9964\n",
            "Epoch 00062: val_accuracy did not improve from 0.99904\n",
            "83100/83100 [==============================] - 120s 1ms/sample - loss: 0.0144 - accuracy: 0.9964 - val_loss: 0.0077 - val_accuracy: 0.9988\n",
            "Epoch 63/2000\n",
            "83072/83100 [============================>.] - ETA: 0s - loss: 0.0153 - accuracy: 0.9960\n",
            "Epoch 00063: val_accuracy did not improve from 0.99904\n",
            "83100/83100 [==============================] - 115s 1ms/sample - loss: 0.0153 - accuracy: 0.9960 - val_loss: 0.0081 - val_accuracy: 0.9987\n",
            "Epoch 64/2000\n",
            "83072/83100 [============================>.] - ETA: 0s - loss: 0.0142 - accuracy: 0.9962\n",
            "Epoch 00064: val_accuracy did not improve from 0.99904\n",
            "83100/83100 [==============================] - 114s 1ms/sample - loss: 0.0142 - accuracy: 0.9962 - val_loss: 0.0091 - val_accuracy: 0.9985\n",
            "Epoch 65/2000\n",
            "83040/83100 [============================>.] - ETA: 0s - loss: 0.0146 - accuracy: 0.9961\n",
            "Epoch 00065: val_accuracy did not improve from 0.99904\n",
            "83100/83100 [==============================] - 116s 1ms/sample - loss: 0.0146 - accuracy: 0.9961 - val_loss: 0.0088 - val_accuracy: 0.9988\n",
            "Epoch 66/2000\n",
            "83072/83100 [============================>.] - ETA: 0s - loss: 0.0136 - accuracy: 0.9964\n",
            "Epoch 00066: val_accuracy did not improve from 0.99904\n",
            "83100/83100 [==============================] - 114s 1ms/sample - loss: 0.0136 - accuracy: 0.9965 - val_loss: 0.0103 - val_accuracy: 0.9982\n",
            "Epoch 67/2000\n",
            "83072/83100 [============================>.] - ETA: 0s - loss: 0.0151 - accuracy: 0.9962\n",
            "Epoch 00067: val_accuracy did not improve from 0.99904\n",
            "83100/83100 [==============================] - 116s 1ms/sample - loss: 0.0151 - accuracy: 0.9962 - val_loss: 0.0108 - val_accuracy: 0.9985\n",
            "Epoch 68/2000\n",
            "83072/83100 [============================>.] - ETA: 0s - loss: 0.0140 - accuracy: 0.9963\n",
            "Epoch 00068: val_accuracy did not improve from 0.99904\n",
            "83100/83100 [==============================] - 114s 1ms/sample - loss: 0.0140 - accuracy: 0.9963 - val_loss: 0.0097 - val_accuracy: 0.9985\n",
            "Epoch 69/2000\n",
            "83040/83100 [============================>.] - ETA: 0s - loss: 0.0151 - accuracy: 0.9963\n",
            "Epoch 00069: val_accuracy did not improve from 0.99904\n",
            "83100/83100 [==============================] - 116s 1ms/sample - loss: 0.0151 - accuracy: 0.9963 - val_loss: 0.0139 - val_accuracy: 0.9980\n",
            "Epoch 70/2000\n",
            "83072/83100 [============================>.] - ETA: 0s - loss: 0.0169 - accuracy: 0.9960\n",
            "Epoch 00070: val_accuracy did not improve from 0.99904\n",
            "83100/83100 [==============================] - 113s 1ms/sample - loss: 0.0169 - accuracy: 0.9960 - val_loss: 0.0095 - val_accuracy: 0.9986\n",
            "Epoch 71/2000\n",
            "83040/83100 [============================>.] - ETA: 0s - loss: 0.0130 - accuracy: 0.9967\n",
            "Epoch 00071: val_accuracy did not improve from 0.99904\n",
            "83100/83100 [==============================] - 116s 1ms/sample - loss: 0.0132 - accuracy: 0.9967 - val_loss: 0.0159 - val_accuracy: 0.9974\n",
            "Epoch 72/2000\n",
            "83072/83100 [============================>.] - ETA: 0s - loss: 0.0132 - accuracy: 0.9966\n",
            "Epoch 00072: val_accuracy did not improve from 0.99904\n",
            "83100/83100 [==============================] - 120s 1ms/sample - loss: 0.0132 - accuracy: 0.9966 - val_loss: 0.0148 - val_accuracy: 0.9978\n",
            "Epoch 73/2000\n",
            "83040/83100 [============================>.] - ETA: 0s - loss: 0.0137 - accuracy: 0.9964\n",
            "Epoch 00073: val_accuracy did not improve from 0.99904\n",
            "83100/83100 [==============================] - 114s 1ms/sample - loss: 0.0137 - accuracy: 0.9964 - val_loss: 0.0110 - val_accuracy: 0.9985\n",
            "Epoch 74/2000\n",
            "83040/83100 [============================>.] - ETA: 0s - loss: 0.0152 - accuracy: 0.9964\n",
            "Epoch 00074: val_accuracy did not improve from 0.99904\n",
            "83100/83100 [==============================] - 116s 1ms/sample - loss: 0.0154 - accuracy: 0.9964 - val_loss: 0.0106 - val_accuracy: 0.9984\n",
            "Epoch 75/2000\n",
            "83072/83100 [============================>.] - ETA: 0s - loss: 0.0115 - accuracy: 0.9969\n",
            "Epoch 00075: val_accuracy did not improve from 0.99904\n",
            "83100/83100 [==============================] - 115s 1ms/sample - loss: 0.0115 - accuracy: 0.9969 - val_loss: 0.0137 - val_accuracy: 0.9982\n",
            "Epoch 76/2000\n",
            "83040/83100 [============================>.] - ETA: 0s - loss: 0.0160 - accuracy: 0.9962\n",
            "Epoch 00076: val_accuracy did not improve from 0.99904\n",
            "83100/83100 [==============================] - 116s 1ms/sample - loss: 0.0160 - accuracy: 0.9962 - val_loss: 0.0211 - val_accuracy: 0.9969\n",
            "Epoch 77/2000\n",
            "83072/83100 [============================>.] - ETA: 0s - loss: 0.0134 - accuracy: 0.9966\n",
            "Epoch 00077: val_accuracy did not improve from 0.99904\n",
            "83100/83100 [==============================] - 113s 1ms/sample - loss: 0.0134 - accuracy: 0.9966 - val_loss: 0.0124 - val_accuracy: 0.9983\n",
            "Epoch 78/2000\n",
            "83040/83100 [============================>.] - ETA: 0s - loss: 0.0131 - accuracy: 0.9967\n",
            "Epoch 00078: val_accuracy did not improve from 0.99904\n",
            "83100/83100 [==============================] - 113s 1ms/sample - loss: 0.0131 - accuracy: 0.9967 - val_loss: 0.0101 - val_accuracy: 0.9988\n",
            "Epoch 79/2000\n",
            "83072/83100 [============================>.] - ETA: 0s - loss: 0.0155 - accuracy: 0.9964\n",
            "Epoch 00079: val_accuracy did not improve from 0.99904\n",
            "83100/83100 [==============================] - 114s 1ms/sample - loss: 0.0155 - accuracy: 0.9964 - val_loss: 0.0134 - val_accuracy: 0.9981\n",
            "Epoch 80/2000\n",
            "83072/83100 [============================>.] - ETA: 0s - loss: 0.0134 - accuracy: 0.9968\n",
            "Epoch 00080: val_accuracy did not improve from 0.99904\n",
            "83100/83100 [==============================] - 113s 1ms/sample - loss: 0.0135 - accuracy: 0.9968 - val_loss: 0.0128 - val_accuracy: 0.9983\n",
            "Epoch 81/2000\n",
            "83072/83100 [============================>.] - ETA: 0s - loss: 0.0147 - accuracy: 0.9965\n",
            "Epoch 00081: val_accuracy did not improve from 0.99904\n",
            "83100/83100 [==============================] - 118s 1ms/sample - loss: 0.0148 - accuracy: 0.9965 - val_loss: 0.0140 - val_accuracy: 0.9982\n",
            "Epoch 82/2000\n",
            "83040/83100 [============================>.] - ETA: 0s - loss: 0.0156 - accuracy: 0.9966\n",
            "Epoch 00082: val_accuracy did not improve from 0.99904\n",
            "83100/83100 [==============================] - 115s 1ms/sample - loss: 0.0156 - accuracy: 0.9966 - val_loss: 0.0109 - val_accuracy: 0.9985\n",
            "Epoch 83/2000\n",
            "83040/83100 [============================>.] - ETA: 0s - loss: 0.0130 - accuracy: 0.9967\n",
            "Epoch 00083: val_accuracy did not improve from 0.99904\n",
            "83100/83100 [==============================] - 114s 1ms/sample - loss: 0.0130 - accuracy: 0.9967 - val_loss: 0.0144 - val_accuracy: 0.9981\n"
          ],
          "name": "stdout"
        },
        {
          "output_type": "stream",
          "text": [
            "Epoch 84/2000\n",
            "83072/83100 [============================>.] - ETA: 0s - loss: 0.0143 - accuracy: 0.9967\n",
            "Epoch 00084: val_accuracy did not improve from 0.99904\n",
            "83100/83100 [==============================] - 113s 1ms/sample - loss: 0.0145 - accuracy: 0.9967 - val_loss: 0.0149 - val_accuracy: 0.9981\n",
            "Epoch 85/2000\n",
            "83040/83100 [============================>.] - ETA: 0s - loss: 0.0144 - accuracy: 0.9966\n",
            "Epoch 00085: val_accuracy did not improve from 0.99904\n",
            "83100/83100 [==============================] - 109s 1ms/sample - loss: 0.0144 - accuracy: 0.9966 - val_loss: 0.0161 - val_accuracy: 0.9975\n",
            "Epoch 86/2000\n",
            "83072/83100 [============================>.] - ETA: 0s - loss: 0.0134 - accuracy: 0.9970\n",
            "Epoch 00086: val_accuracy did not improve from 0.99904\n",
            "83100/83100 [==============================] - 113s 1ms/sample - loss: 0.0134 - accuracy: 0.9970 - val_loss: 0.0161 - val_accuracy: 0.9977\n",
            "Epoch 87/2000\n",
            "83072/83100 [============================>.] - ETA: 0s - loss: 0.0137 - accuracy: 0.9967\n",
            "Epoch 00087: val_accuracy did not improve from 0.99904\n",
            "83100/83100 [==============================] - 116s 1ms/sample - loss: 0.0137 - accuracy: 0.9968 - val_loss: 0.0116 - val_accuracy: 0.9985\n",
            "Epoch 88/2000\n",
            "83040/83100 [============================>.] - ETA: 0s - loss: 0.0136 - accuracy: 0.9968\n",
            "Epoch 00088: val_accuracy did not improve from 0.99904\n",
            "83100/83100 [==============================] - 114s 1ms/sample - loss: 0.0136 - accuracy: 0.9968 - val_loss: 0.0157 - val_accuracy: 0.9981\n",
            "Epoch 89/2000\n",
            "83072/83100 [============================>.] - ETA: 0s - loss: 0.0155 - accuracy: 0.9970\n",
            "Epoch 00089: val_accuracy did not improve from 0.99904\n",
            "83100/83100 [==============================] - 114s 1ms/sample - loss: 0.0155 - accuracy: 0.9970 - val_loss: 0.0112 - val_accuracy: 0.9985\n",
            "Epoch 90/2000\n",
            "83072/83100 [============================>.] - ETA: 0s - loss: 0.0140 - accuracy: 0.9968\n",
            "Epoch 00090: val_accuracy did not improve from 0.99904\n",
            "83100/83100 [==============================] - 112s 1ms/sample - loss: 0.0140 - accuracy: 0.9968 - val_loss: 0.0175 - val_accuracy: 0.9977\n",
            "Epoch 91/2000\n",
            "83072/83100 [============================>.] - ETA: 0s - loss: 0.0133 - accuracy: 0.9970\n",
            "Epoch 00091: val_accuracy did not improve from 0.99904\n",
            "83100/83100 [==============================] - 121s 1ms/sample - loss: 0.0133 - accuracy: 0.9970 - val_loss: 0.0127 - val_accuracy: 0.9982\n",
            "Epoch 92/2000\n",
            "83072/83100 [============================>.] - ETA: 0s - loss: 0.0137 - accuracy: 0.9970\n",
            "Epoch 00092: val_accuracy did not improve from 0.99904\n",
            "83100/83100 [==============================] - 115s 1ms/sample - loss: 0.0137 - accuracy: 0.9970 - val_loss: 0.0116 - val_accuracy: 0.9981\n",
            "Epoch 93/2000\n",
            "83040/83100 [============================>.] - ETA: 0s - loss: 0.0134 - accuracy: 0.9971\n",
            "Epoch 00093: val_accuracy did not improve from 0.99904\n",
            "83100/83100 [==============================] - 113s 1ms/sample - loss: 0.0134 - accuracy: 0.9971 - val_loss: 0.0165 - val_accuracy: 0.9978\n",
            "Epoch 94/2000\n",
            "83072/83100 [============================>.] - ETA: 0s - loss: 0.0131 - accuracy: 0.9970\n",
            "Epoch 00094: val_accuracy did not improve from 0.99904\n",
            "83100/83100 [==============================] - 115s 1ms/sample - loss: 0.0131 - accuracy: 0.9970 - val_loss: 0.0142 - val_accuracy: 0.9980\n",
            "Epoch 95/2000\n",
            "83040/83100 [============================>.] - ETA: 0s - loss: 0.0133 - accuracy: 0.9970\n",
            "Epoch 00095: val_accuracy did not improve from 0.99904\n",
            "83100/83100 [==============================] - 111s 1ms/sample - loss: 0.0133 - accuracy: 0.9970 - val_loss: 0.0174 - val_accuracy: 0.9979\n",
            "Epoch 96/2000\n",
            "83072/83100 [============================>.] - ETA: 0s - loss: 0.0106 - accuracy: 0.9976\n",
            "Epoch 00096: val_accuracy did not improve from 0.99904\n",
            "83100/83100 [==============================] - 114s 1ms/sample - loss: 0.0106 - accuracy: 0.9976 - val_loss: 0.0122 - val_accuracy: 0.9983\n",
            "Epoch 97/2000\n",
            "83040/83100 [============================>.] - ETA: 0s - loss: 0.0141 - accuracy: 0.9967\n",
            "Epoch 00097: val_accuracy did not improve from 0.99904\n",
            "83100/83100 [==============================] - 114s 1ms/sample - loss: 0.0141 - accuracy: 0.9967 - val_loss: 0.0146 - val_accuracy: 0.9981\n",
            "Epoch 98/2000\n",
            "83072/83100 [============================>.] - ETA: 0s - loss: 0.0125 - accuracy: 0.9972\n",
            "Epoch 00098: val_accuracy did not improve from 0.99904\n",
            "83100/83100 [==============================] - 110s 1ms/sample - loss: 0.0125 - accuracy: 0.9971 - val_loss: 0.0186 - val_accuracy: 0.9977\n",
            "Epoch 99/2000\n",
            "83040/83100 [============================>.] - ETA: 0s - loss: 0.0134 - accuracy: 0.9971\n",
            "Epoch 00099: val_accuracy did not improve from 0.99904\n",
            "83100/83100 [==============================] - 114s 1ms/sample - loss: 0.0134 - accuracy: 0.9971 - val_loss: 0.0229 - val_accuracy: 0.9971\n",
            "Epoch 100/2000\n",
            "83072/83100 [============================>.] - ETA: 0s - loss: 0.0144 - accuracy: 0.9970\n",
            "Epoch 00100: val_accuracy did not improve from 0.99904\n",
            "83100/83100 [==============================] - 115s 1ms/sample - loss: 0.0144 - accuracy: 0.9970 - val_loss: 0.0118 - val_accuracy: 0.9986\n",
            "Epoch 101/2000\n",
            "83072/83100 [============================>.] - ETA: 0s - loss: 0.0128 - accuracy: 0.9973\n",
            "Epoch 00101: val_accuracy did not improve from 0.99904\n",
            "83100/83100 [==============================] - 115s 1ms/sample - loss: 0.0128 - accuracy: 0.9973 - val_loss: 0.0211 - val_accuracy: 0.9973\n",
            "Epoch 00101: early stopping\n"
          ],
          "name": "stdout"
        }
      ]
    },
    {
      "cell_type": "code",
      "metadata": {
        "id": "qizorKf5Pm-u",
        "colab_type": "code",
        "colab": {}
      },
      "source": [
        "#Saving Training History\n",
        "df_history = pd.DataFrame.from_dict(history.history)\n",
        "df_history.to_csv('e-res/history_training.csv', encoding='utf-8',index=False)"
      ],
      "execution_count": 0,
      "outputs": []
    },
    {
      "cell_type": "code",
      "metadata": {
        "id": "rCCoefs0Pm-z",
        "colab_type": "code",
        "colab": {},
        "outputId": "b0befbdc-6adf-487a-c039-89b2c4d741fc"
      },
      "source": [
        "df_history.head()"
      ],
      "execution_count": 0,
      "outputs": [
        {
          "output_type": "execute_result",
          "data": {
            "text/html": [
              "<div>\n",
              "<style>\n",
              "    .dataframe thead tr:only-child th {\n",
              "        text-align: right;\n",
              "    }\n",
              "\n",
              "    .dataframe thead th {\n",
              "        text-align: left;\n",
              "    }\n",
              "\n",
              "    .dataframe tbody tr th {\n",
              "        vertical-align: top;\n",
              "    }\n",
              "</style>\n",
              "<table border=\"1\" class=\"dataframe\">\n",
              "  <thead>\n",
              "    <tr style=\"text-align: right;\">\n",
              "      <th></th>\n",
              "      <th>accuracy</th>\n",
              "      <th>loss</th>\n",
              "      <th>val_accuracy</th>\n",
              "      <th>val_loss</th>\n",
              "    </tr>\n",
              "  </thead>\n",
              "  <tbody>\n",
              "    <tr>\n",
              "      <th>0</th>\n",
              "      <td>0.955993</td>\n",
              "      <td>0.130766</td>\n",
              "      <td>0.998845</td>\n",
              "      <td>0.003467</td>\n",
              "    </tr>\n",
              "    <tr>\n",
              "      <th>1</th>\n",
              "      <td>0.966173</td>\n",
              "      <td>0.099961</td>\n",
              "      <td>0.998123</td>\n",
              "      <td>0.005184</td>\n",
              "    </tr>\n",
              "    <tr>\n",
              "      <th>2</th>\n",
              "      <td>0.970638</td>\n",
              "      <td>0.087270</td>\n",
              "      <td>0.998652</td>\n",
              "      <td>0.003626</td>\n",
              "    </tr>\n",
              "    <tr>\n",
              "      <th>3</th>\n",
              "      <td>0.972238</td>\n",
              "      <td>0.079534</td>\n",
              "      <td>0.997930</td>\n",
              "      <td>0.005712</td>\n",
              "    </tr>\n",
              "    <tr>\n",
              "      <th>4</th>\n",
              "      <td>0.975439</td>\n",
              "      <td>0.070949</td>\n",
              "      <td>0.998267</td>\n",
              "      <td>0.004923</td>\n",
              "    </tr>\n",
              "  </tbody>\n",
              "</table>\n",
              "</div>"
            ],
            "text/plain": [
              "   accuracy      loss  val_accuracy  val_loss\n",
              "0  0.955993  0.130766      0.998845  0.003467\n",
              "1  0.966173  0.099961      0.998123  0.005184\n",
              "2  0.970638  0.087270      0.998652  0.003626\n",
              "3  0.972238  0.079534      0.997930  0.005712\n",
              "4  0.975439  0.070949      0.998267  0.004923"
            ]
          },
          "metadata": {
            "tags": []
          },
          "execution_count": 49
        }
      ]
    },
    {
      "cell_type": "code",
      "metadata": {
        "id": "kwORCfknPm-6",
        "colab_type": "code",
        "colab": {}
      },
      "source": [
        "#Saving Test Data\n",
        "np.save('e-res/corpora_test_x.npy',corpora_test_x)"
      ],
      "execution_count": 0,
      "outputs": []
    },
    {
      "cell_type": "code",
      "metadata": {
        "id": "4RyXz2laPm--",
        "colab_type": "code",
        "colab": {}
      },
      "source": [
        "np.save('e-res/target_test_y.npy',target_test_y)"
      ],
      "execution_count": 0,
      "outputs": []
    },
    {
      "cell_type": "code",
      "metadata": {
        "id": "OhpZ6gR-Pm_D",
        "colab_type": "code",
        "colab": {},
        "outputId": "79523326-7e8d-4f1a-91c9-5b80f74d9ee0"
      },
      "source": [
        "#Evaluation\n",
        "acc = history.history['accuracy']\n",
        "val_acc = history.history['val_accuracy']\n",
        "loss = history.history['loss']\n",
        "val_loss = history.history['val_loss']\n",
        " \n",
        "epochs2 = range(len(acc))\n",
        " \n",
        "plt.plot(epochs2, acc, 'b', label='Training')\n",
        "plt.plot(epochs2, val_acc, 'r', label='Validation')\n",
        "plt.title('Training and validation accuracy')\n",
        "plt.ylabel('acc')\n",
        "plt.xlabel('epoch')\n",
        "plt.legend()\n",
        " \n",
        "plt.figure()\n",
        " \n",
        "plt.plot(epochs2, loss, 'b', label='Training')\n",
        "plt.plot(epochs2, val_loss, 'r', label='Validation')\n",
        "plt.title('Training and validation loss')\n",
        "plt.ylabel('loss')\n",
        "plt.xlabel('epoch')\n",
        "plt.legend()\n",
        " \n",
        "plt.show()"
      ],
      "execution_count": 0,
      "outputs": [
        {
          "output_type": "display_data",
          "data": {
            "image/png": "[encoded data removed]",
            "text/plain": [
              "<matplotlib.figure.Figure at 0x7fb6242ee400>"
            ]
          },
          "metadata": {
            "tags": []
          }
        },
        {
          "output_type": "display_data",
          "data": {
            "image/png": "[encoded data removed]",
            "text/plain": [
              "<matplotlib.figure.Figure at 0x7fb724863c50>"
            ]
          },
          "metadata": {
            "tags": []
          }
        }
      ]
    },
    {
      "cell_type": "code",
      "metadata": {
        "id": "de7A7huePm_J",
        "colab_type": "code",
        "colab": {}
      },
      "source": [
        "from sklearn.metrics import average_precision_score,precision_recall_curve\n",
        "from sklearn.utils.fixes import signature\n",
        "from sklearn.metrics import roc_curve\n",
        "from sklearn.metrics import roc_auc_score"
      ],
      "execution_count": 0,
      "outputs": []
    },
    {
      "cell_type": "code",
      "metadata": {
        "id": "ezsu4H3XPm_N",
        "colab_type": "code",
        "colab": {}
      },
      "source": [
        "from tensorflow.keras.models import load_model"
      ],
      "execution_count": 0,
      "outputs": []
    },
    {
      "cell_type": "code",
      "metadata": {
        "id": "fdfyKDQoPm_Q",
        "colab_type": "code",
        "colab": {}
      },
      "source": [
        "path = 'e-res/best_model.hdf5'\n",
        "criticality_network_load = load_model(path) #<----- The Model"
      ],
      "execution_count": 0,
      "outputs": []
    },
    {
      "cell_type": "code",
      "metadata": {
        "id": "ToHgXK2dPm_W",
        "colab_type": "code",
        "colab": {}
      },
      "source": [
        "np_target_test_y = np.load('e-res/target_test_y.npy')\n",
        "np_corpora_test_x = np.load('e-res/corpora_test_x.npy')"
      ],
      "execution_count": 0,
      "outputs": []
    },
    {
      "cell_type": "code",
      "metadata": {
        "id": "HnZiM2L1Pm_a",
        "colab_type": "code",
        "colab": {},
        "outputId": "16c1965d-eb8a-450d-e7cb-7b70ef24cf16"
      },
      "source": [
        "score = criticality_network_load.evaluate(np_corpora_test_x, np_target_test_y, verbose=1)"
      ],
      "execution_count": 0,
      "outputs": [
        {
          "output_type": "stream",
          "text": [
            "11539/11539 [==============================] - 3s 247us/sample - loss: 0.1313 - accuracy: 0.9736\n"
          ],
          "name": "stdout"
        }
      ]
    },
    {
      "cell_type": "code",
      "metadata": {
        "id": "YDyfzjdUPm_f",
        "colab_type": "code",
        "colab": {},
        "outputId": "120b5fd8-ca7b-4215-acce-41afd32c6bf6"
      },
      "source": [
        "print('Test loss:', score[0])\n",
        "print('Test accuracy:', score[1])"
      ],
      "execution_count": 0,
      "outputs": [
        {
          "output_type": "stream",
          "text": [
            "Test loss: 0.13130904127952253\n",
            "Test accuracy: 0.9735679\n"
          ],
          "name": "stdout"
        }
      ]
    },
    {
      "cell_type": "code",
      "metadata": {
        "id": "vn8p7tZrPm_h",
        "colab_type": "code",
        "colab": {},
        "outputId": "fa18f5c2-9cf5-4ec5-9685-c5ea78e3a802"
      },
      "source": [
        "history_predict = criticality_network_load.predict(x=np_corpora_test_x)\n",
        "history_predict"
      ],
      "execution_count": 0,
      "outputs": [
        {
          "output_type": "execute_result",
          "data": {
            "text/plain": [
              "array([[1.0000000e+00, 9.7539722e-17],\n",
              "       [9.3283859e-07, 9.9999905e-01],\n",
              "       [1.0000000e+00, 2.0519539e-29],\n",
              "       ...,\n",
              "       [2.1023639e-04, 9.9978977e-01],\n",
              "       [9.9999917e-01, 7.8283227e-07],\n",
              "       [5.1913088e-07, 9.9999952e-01]], dtype=float32)"
            ]
          },
          "metadata": {
            "tags": []
          },
          "execution_count": 60
        }
      ]
    },
    {
      "cell_type": "code",
      "metadata": {
        "id": "ANDvy-SGPm_l",
        "colab_type": "code",
        "colab": {}
      },
      "source": [
        "inferred_data = pd.DataFrame(history_predict,columns=list('AB'))\n",
        "target_data = pd.DataFrame(np_target_test_y,columns=list('LN'))\n",
        "data = target_data.join(inferred_data)"
      ],
      "execution_count": 0,
      "outputs": []
    },
    {
      "cell_type": "code",
      "metadata": {
        "id": "mOm2BcLvPm_n",
        "colab_type": "code",
        "colab": {},
        "outputId": "cdb86d26-9b8a-46d5-8365-1d17ae605bd6"
      },
      "source": [
        "data.head()"
      ],
      "execution_count": 0,
      "outputs": [
        {
          "output_type": "execute_result",
          "data": {
            "text/html": [
              "<div>\n",
              "<style>\n",
              "    .dataframe thead tr:only-child th {\n",
              "        text-align: right;\n",
              "    }\n",
              "\n",
              "    .dataframe thead th {\n",
              "        text-align: left;\n",
              "    }\n",
              "\n",
              "    .dataframe tbody tr th {\n",
              "        vertical-align: top;\n",
              "    }\n",
              "</style>\n",
              "<table border=\"1\" class=\"dataframe\">\n",
              "  <thead>\n",
              "    <tr style=\"text-align: right;\">\n",
              "      <th></th>\n",
              "      <th>L</th>\n",
              "      <th>N</th>\n",
              "      <th>A</th>\n",
              "      <th>B</th>\n",
              "    </tr>\n",
              "  </thead>\n",
              "  <tbody>\n",
              "    <tr>\n",
              "      <th>0</th>\n",
              "      <td>1</td>\n",
              "      <td>0</td>\n",
              "      <td>1.000000e+00</td>\n",
              "      <td>9.753972e-17</td>\n",
              "    </tr>\n",
              "    <tr>\n",
              "      <th>1</th>\n",
              "      <td>0</td>\n",
              "      <td>1</td>\n",
              "      <td>9.328386e-07</td>\n",
              "      <td>9.999990e-01</td>\n",
              "    </tr>\n",
              "    <tr>\n",
              "      <th>2</th>\n",
              "      <td>1</td>\n",
              "      <td>0</td>\n",
              "      <td>1.000000e+00</td>\n",
              "      <td>2.051954e-29</td>\n",
              "    </tr>\n",
              "    <tr>\n",
              "      <th>3</th>\n",
              "      <td>0</td>\n",
              "      <td>1</td>\n",
              "      <td>1.231208e-04</td>\n",
              "      <td>9.998769e-01</td>\n",
              "    </tr>\n",
              "    <tr>\n",
              "      <th>4</th>\n",
              "      <td>1</td>\n",
              "      <td>0</td>\n",
              "      <td>1.000000e+00</td>\n",
              "      <td>3.948549e-15</td>\n",
              "    </tr>\n",
              "  </tbody>\n",
              "</table>\n",
              "</div>"
            ],
            "text/plain": [
              "   L  N             A             B\n",
              "0  1  0  1.000000e+00  9.753972e-17\n",
              "1  0  1  9.328386e-07  9.999990e-01\n",
              "2  1  0  1.000000e+00  2.051954e-29\n",
              "3  0  1  1.231208e-04  9.998769e-01\n",
              "4  1  0  1.000000e+00  3.948549e-15"
            ]
          },
          "metadata": {
            "tags": []
          },
          "execution_count": 62
        }
      ]
    },
    {
      "cell_type": "code",
      "metadata": {
        "id": "NUC2y8_iPm_q",
        "colab_type": "code",
        "colab": {}
      },
      "source": [
        "y_true = list(data['L'])\n",
        "y_score= list(data['A'])\n",
        "average_precision = average_precision_score(y_true, y_score)"
      ],
      "execution_count": 0,
      "outputs": []
    },
    {
      "cell_type": "code",
      "metadata": {
        "id": "4Xpv2lrdPm_t",
        "colab_type": "code",
        "colab": {},
        "outputId": "ceb25fad-32e8-4d3b-8be6-f92a736bf553"
      },
      "source": [
        "print('Average precision-recall score: {0:0.2f}'.format(average_precision))"
      ],
      "execution_count": 0,
      "outputs": [
        {
          "output_type": "stream",
          "text": [
            "Average precision-recall score: 1.00\n"
          ],
          "name": "stdout"
        }
      ]
    },
    {
      "cell_type": "code",
      "metadata": {
        "id": "AJgJykCkPm_w",
        "colab_type": "code",
        "colab": {}
      },
      "source": [
        "precision, recall, thresholds = precision_recall_curve(y_true, y_score)"
      ],
      "execution_count": 0,
      "outputs": []
    },
    {
      "cell_type": "code",
      "metadata": {
        "id": "Rppc6pmrPm_y",
        "colab_type": "code",
        "colab": {},
        "outputId": "50660c68-a5ab-46c7-ae59-47cc4d4259b0"
      },
      "source": [
        "# In matplotlib < 1.5, plt.fill_between does not have a 'step' argument\n",
        "step_kwargs = ({'step': 'post'}\n",
        "               if 'step' in signature(plt.fill_between).parameters\n",
        "               else {})\n",
        "plt.step(recall, precision, color='b', alpha=0.2,\n",
        "         where='post')\n",
        "plt.fill_between(recall, precision, alpha=0.2, color='b', **step_kwargs)\n",
        "\n",
        "plt.xlabel('Recall')\n",
        "plt.ylabel('Precision')\n",
        "plt.ylim([0.0, 1.05])\n",
        "plt.xlim([0.0, 1.0])\n",
        "plt.title('2-class Precision-Recall curve: AP={0:0.2f}'.format(\n",
        "          average_precision))"
      ],
      "execution_count": 0,
      "outputs": [
        {
          "output_type": "execute_result",
          "data": {
            "text/plain": [
              "<matplotlib.text.Text at 0x7fb5b4192208>"
            ]
          },
          "metadata": {
            "tags": []
          },
          "execution_count": 67
        },
        {
          "output_type": "display_data",
          "data": {
            "image/png": "[encoded data removed]",
            "text/plain": [
              "<matplotlib.figure.Figure at 0x7fb5b41db5f8>"
            ]
          },
          "metadata": {
            "tags": []
          }
        }
      ]
    },
    {
      "cell_type": "code",
      "metadata": {
        "id": "SINX99F5Pm_1",
        "colab_type": "code",
        "colab": {},
        "outputId": "ef4a19eb-ace0-41ba-9540-e52922c297f6"
      },
      "source": [
        "#ROC Curve (all our samples are balanced)\n",
        "auc = roc_auc_score(y_true, y_score)\n",
        "print('AUC: %.3f' % auc)"
      ],
      "execution_count": 0,
      "outputs": [
        {
          "output_type": "stream",
          "text": [
            "AUC: 0.995\n"
          ],
          "name": "stdout"
        }
      ]
    },
    {
      "cell_type": "code",
      "metadata": {
        "id": "Dr8BQPAYPm_7",
        "colab_type": "code",
        "colab": {}
      },
      "source": [
        ""
      ],
      "execution_count": 0,
      "outputs": []
    }
  ]
}