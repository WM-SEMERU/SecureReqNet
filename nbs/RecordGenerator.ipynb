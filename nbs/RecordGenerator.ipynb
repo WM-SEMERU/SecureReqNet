{
 "cells": [
  {
   "cell_type": "code",
   "execution_count": null,
   "metadata": {},
   "outputs": [],
   "source": [
    "import tensorflow as tf\n",
    "import numpy as np\n"
   ]
  },
  {
   "cell_type": "code",
   "execution_count": null,
   "metadata": {},
   "outputs": [],
   "source": [
    "corpora_test_x = np.load('../08_test/corpora_test_x.npy')\n",
    "target_test_y = np.load('../08_test/target_test_y.npy')"
   ]
  },
  {
   "cell_type": "code",
   "execution_count": null,
   "metadata": {},
   "outputs": [
    {
     "data": {
      "text/plain": [
       "(11544, 618, 100, 1)"
      ]
     },
     "execution_count": null,
     "metadata": {},
     "output_type": "execute_result"
    }
   ],
   "source": [
    "corpora_test_x.shape"
   ]
  },
  {
   "cell_type": "code",
   "execution_count": null,
   "metadata": {},
   "outputs": [
    {
     "data": {
      "text/plain": [
       "(11544, 2)"
      ]
     },
     "execution_count": null,
     "metadata": {},
     "output_type": "execute_result"
    }
   ],
   "source": [
    "target_test_y.shape"
   ]
  },
  {
   "cell_type": "code",
   "execution_count": null,
   "metadata": {},
   "outputs": [
    {
     "name": "stdout",
     "output_type": "stream",
     "text": [
      "[1 0]\n"
     ]
    }
   ],
   "source": [
    "print(target_test_y[0])"
   ]
  },
  {
   "cell_type": "code",
   "execution_count": null,
   "metadata": {},
   "outputs": [],
   "source": [
    "# Number of samples to write to the record\n",
    "n_samples = 2\n",
    "\n",
    "# Slice data to get number of examples\n",
    "x = corpora_test_x[0:n_samples]\n",
    "y = target_test_y[0:n_samples]\n",
    "\n",
    "# Reshape data into 1d array\n",
    "x = np.reshape(x, [n_samples*618*100*1,])\n",
    "y = np.reshape(y, [n_samples*2,])\n",
    "\n",
    "output_filename = \"testdata.tfrecord\"\n",
    "\n",
    "writer = tf.io.TFRecordWriter(output_filename)\n",
    "\n",
    "def float_feature(value):\n",
    "    return tf.train.Feature(float_list=tf.train.FloatList(value=value))\n",
    "\n",
    "def int64_feature(value):\n",
    "    return tf.train.Feature(int64_list=tf.train.Int64List(value=value))\n",
    "\n",
    "# Features to be stored in the tf record\n",
    "feature_dict = {\n",
    "    'x': float_feature(x),\n",
    "    'y': int64_feature(y),\n",
    "    'numberOfSamples': int64_feature([n_samples])\n",
    "}\n",
    "\n",
    "example = tf.train.Example(features=tf.train.Features(feature=feature_dict))\n",
    "\n",
    "writer.write(example.SerializeToString())\n",
    "writer.close()"
   ]
  },
  {
   "cell_type": "code",
   "execution_count": null,
   "metadata": {},
   "outputs": [],
   "source": [
    "def float_feature(value):\n",
    "    return tf.train.Feature(float_list=tf.train.FloatList(value=value))\n",
    "\n",
    "def int64_feature(value):\n",
    "    return tf.train.Feature(int64_list=tf.train.Int64List(value=value))\n",
    "\n",
    "\n",
    "n_samples = 1\n",
    "for i in range(10):\n",
    "    x = corpora_test_x[i]\n",
    "    y = target_test_y[i]\n",
    "\n",
    "    # Reshape data into 1d array\n",
    "    x = np.reshape(x, [n_samples*618*100*1,])\n",
    "    y = np.reshape(y, [n_samples*2,])\n",
    "\n",
    "    output_filename = \"../data/records/record\" + str(i) + \".tfrecord\"\n",
    "\n",
    "    writer = tf.io.TFRecordWriter(output_filename)\n",
    "\n",
    "\n",
    "    # Features to be stored in the tf record\n",
    "    feature_dict = {\n",
    "        'x': float_feature(x),\n",
    "        'y': int64_feature(y),\n",
    "        'numberOfSamples': int64_feature([n_samples])\n",
    "    }\n",
    "\n",
    "    example = tf.train.Example(features=tf.train.Features(feature=feature_dict))\n",
    "\n",
    "    writer.write(example.SerializeToString())\n",
    "    writer.close()"
   ]
  },
  {
   "cell_type": "code",
   "execution_count": null,
   "metadata": {},
   "outputs": [],
   "source": []
  }
 ],
 "metadata": {
  "kernelspec": {
   "display_name": "Python 3",
   "language": "python",
   "name": "python3"
  }
 },
 "nbformat": 4,
 "nbformat_minor": 4
}
